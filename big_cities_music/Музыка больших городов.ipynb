{
 "cells": [
  {
   "cell_type": "markdown",
   "metadata": {
    "deletable": false,
    "editable": false,
    "id": "E0vqbgi9ay0H"
   },
   "source": [
    "# Яндекс Музыка"
   ]
  },
  {
   "cell_type": "markdown",
   "metadata": {
    "deletable": false,
    "editable": false,
    "id": "VUC88oWjTJw2"
   },
   "source": [
    "Сравнение Москвы и Петербурга окружено мифами. Например:\n",
    " * Москва — мегаполис, подчинённый жёсткому ритму рабочей недели;\n",
    " * Петербург — культурная столица, со своими вкусами.\n",
    "\n",
    "На данных Яндекс Музыки вы сравните поведение пользователей двух столиц.\n",
    "\n",
    "**Цель исследования** — проверьте три гипотезы:\n",
    "1. Активность пользователей зависит от дня недели. Причём в Москве и Петербурге это проявляется по-разному.\n",
    "2. В понедельник утром в Москве преобладают одни жанры, а в Петербурге — другие. Так же и вечером пятницы преобладают разные жанры — в зависимости от города. \n",
    "3. Москва и Петербург предпочитают разные жанры музыки. В Москве чаще слушают поп-музыку, в Петербурге — русский рэп.\n",
    "\n",
    "**Ход исследования**\n",
    "\n",
    "Данные о поведении пользователей вы получите из файла `yandex_music_project.csv`. О качестве данных ничего не известно. Поэтому перед проверкой гипотез понадобится обзор данных. \n",
    "\n",
    "Вы проверите данные на ошибки и оцените их влияние на исследование. Затем, на этапе предобработки вы поищете возможность исправить самые критичные ошибки данных.\n",
    " \n",
    "Таким образом, исследование пройдёт в три этапа:\n",
    " 1. Обзор данных.\n",
    " 2. Предобработка данных.\n",
    " 3. Проверка гипотез.\n",
    "\n"
   ]
  },
  {
   "cell_type": "markdown",
   "metadata": {
    "deletable": false,
    "editable": false,
    "id": "Ml1hmfXC_Zcs"
   },
   "source": [
    "## Обзор данных\n",
    "\n",
    "Составьте первое представление о данных Яндекс Музыки.\n",
    "\n",
    "\n"
   ]
  },
  {
   "cell_type": "markdown",
   "metadata": {
    "deletable": false,
    "editable": false,
    "id": "57eAOGIz_Zcs",
    "tags": [
     "start_task"
    ]
   },
   "source": [
    "**Задание 1**\n",
    "\n",
    "Основной инструмент аналитика — `pandas`. Импортируйте эту библиотеку."
   ]
  },
  {
   "cell_type": "code",
   "execution_count": 1,
   "metadata": {
    "ExecuteTime": {
     "end_time": "2023-10-11T23:00:34.898037Z",
     "start_time": "2023-10-11T23:00:31.121673Z"
    },
    "deletable": false,
    "id": "AXN7PHPN_Zcs"
   },
   "outputs": [],
   "source": [
    "import pandas as pd # импорт библиотеки pandas"
   ]
  },
  {
   "cell_type": "markdown",
   "metadata": {
    "deletable": false,
    "editable": false,
    "id": "SG23P8tt_Zcs",
    "tags": [
     "start_task"
    ]
   },
   "source": [
    "**Задание 2**\n",
    "\n",
    "Прочитайте файл `yandex_music_project.csv` из папки `/datasets` и сохраните его в переменной `df`:"
   ]
  },
  {
   "cell_type": "markdown",
   "metadata": {
    "ExecuteTime": {
     "end_time": "2023-10-11T23:10:06.357159Z",
     "start_time": "2023-10-11T23:10:04.282207Z"
    },
    "deletable": false,
    "id": "fFVu7vqh_Zct"
   },
   "source": [
    "Здесь происходит чтение и загрузка датасета\n",
    "(удален согласно политике конфиденциальности ЯП)\n"
   ]
  },
  {
   "cell_type": "markdown",
   "metadata": {
    "deletable": false,
    "editable": false,
    "id": "rDoOMd3uTqnZ",
    "tags": [
     "start_task"
    ]
   },
   "source": [
    "**Задание 3**\n",
    "\n",
    "\n",
    "Выведите на экран первые десять строк таблицы:"
   ]
  },
  {
   "cell_type": "code",
   "execution_count": 7,
   "metadata": {
    "ExecuteTime": {
     "end_time": "2023-10-11T23:10:35.002068Z",
     "start_time": "2023-10-11T23:10:34.990456Z"
    },
    "deletable": false,
    "id": "oWTVX3gW_Zct"
   },
   "outputs": [
    {
     "name": "stdout",
     "output_type": "stream",
     "text": [
      "     userID                        Track            artist   genre  \\\n",
      "0  FFB692EC            Kamigata To Boots  The Mass Missile    rock   \n",
      "1  55204538  Delayed Because of Accident  Andreas Rönnberg    rock   \n",
      "2    20EC38            Funiculì funiculà       Mario Lanza     pop   \n",
      "3  A3DD03C9        Dragons in the Sunset        Fire + Ice    folk   \n",
      "4  E2DC1FAE                  Soul People        Space Echo   dance   \n",
      "5  842029A1                    Преданная         IMPERVTOR  rusrap   \n",
      "6  4CB90AA5                         True      Roman Messer   dance   \n",
      "7  F03E1C1F             Feeling This Way   Polina Griffith   dance   \n",
      "8  8FA1D3BE     И вновь продолжается бой               NaN  ruspop   \n",
      "9  E772D5C0                    Pessimist               NaN   dance   \n",
      "\n",
      "             City        time        Day  \n",
      "0  Saint-Petersburg  20:28:33  Wednesday  \n",
      "1            Moscow  14:07:09     Friday  \n",
      "2  Saint-Petersburg  20:58:07  Wednesday  \n",
      "3  Saint-Petersburg  08:37:09     Monday  \n",
      "4            Moscow  08:34:34     Monday  \n",
      "5  Saint-Petersburg  13:09:41     Friday  \n",
      "6            Moscow  13:00:07  Wednesday  \n",
      "7            Moscow  20:47:49  Wednesday  \n",
      "8            Moscow  09:17:40     Friday  \n",
      "9  Saint-Petersburg  21:20:49  Wednesday  \n"
     ]
    }
   ],
   "source": [
    "# получение первых 10 строк таблицы df\n",
    "print(df.head(10))"
   ]
  },
  {
   "cell_type": "markdown",
   "metadata": {
    "deletable": false,
    "editable": false,
    "id": "EO73Kwic_Zct",
    "tags": [
     "start_task"
    ]
   },
   "source": [
    "**Задание 4**\n",
    "\n",
    "\n",
    "Одной командой получить общую информацию о таблице c помощью метода `info()`:"
   ]
  },
  {
   "cell_type": "code",
   "execution_count": 8,
   "metadata": {
    "ExecuteTime": {
     "end_time": "2023-10-11T23:10:49.594096Z",
     "start_time": "2023-10-11T23:10:49.442880Z"
    },
    "deletable": false,
    "id": "DSf2kIb-_Zct"
   },
   "outputs": [
    {
     "name": "stdout",
     "output_type": "stream",
     "text": [
      "<class 'pandas.core.frame.DataFrame'>\n",
      "RangeIndex: 65079 entries, 0 to 65078\n",
      "Data columns (total 7 columns):\n",
      " #   Column    Non-Null Count  Dtype \n",
      "---  ------    --------------  ----- \n",
      " 0     userID  65079 non-null  object\n",
      " 1   Track     63848 non-null  object\n",
      " 2   artist    57876 non-null  object\n",
      " 3   genre     63881 non-null  object\n",
      " 4     City    65079 non-null  object\n",
      " 5   time      65079 non-null  object\n",
      " 6   Day       65079 non-null  object\n",
      "dtypes: object(7)\n",
      "memory usage: 3.5+ MB\n"
     ]
    }
   ],
   "source": [
    "# получение общей информации о данных в таблице df\n",
    "df.info()"
   ]
  },
  {
   "cell_type": "markdown",
   "metadata": {
    "deletable": false,
    "editable": false,
    "id": "TaQ2Iwbr_Zct"
   },
   "source": [
    "Итак, в таблице семь столбцов. Тип данных во всех столбцах — `object`.\n",
    "\n",
    "Согласно документации к данным:\n",
    "* `userID` — идентификатор пользователя;\n",
    "* `Track` — название трека;  \n",
    "* `artist` — имя исполнителя;\n",
    "* `genre` — название жанра;\n",
    "* `City` — город пользователя;\n",
    "* `time` — время начала прослушивания;\n",
    "* `Day` — день недели.\n",
    "\n",
    "Количество значений в столбцах различается. Значит, в данных есть пропущенные значения."
   ]
  },
  {
   "cell_type": "markdown",
   "metadata": {
    "deletable": false,
    "editable": false,
    "id": "rAfziTBDmf2h",
    "tags": [
     "start_task"
    ]
   },
   "source": [
    "**Задание 5**\n",
    "\n",
    "**Вопрос со свободной формой ответа**\n",
    "\n",
    "В названиях колонок видны нарушения стиля:\n",
    "* Строчные буквы сочетаются с прописными.\n",
    "* Встречаются пробелы.\n",
    "\n",
    "Какое третье нарушение?"
   ]
  },
  {
   "cell_type": "markdown",
   "metadata": {
    "ExecuteTime": {
     "end_time": "2023-10-11T23:00:35.715842Z",
     "start_time": "2023-10-11T23:00:35.715842Z"
    },
    "id": "jD8EXEIvmf2h"
   },
   "source": [
    "Ответ: третьим нарушением является то, что к `userID` не применен змеиный регистр, надо `user_id`\n"
   ]
  },
  {
   "cell_type": "markdown",
   "metadata": {
    "deletable": false,
    "editable": false,
    "id": "MCB6-dXG_Zct"
   },
   "source": [
    "**Выводы**\n",
    "\n",
    "В каждой строке таблицы — данные о прослушанном треке. Часть колонок описывает саму композицию: название, исполнителя и жанр. Остальные данные рассказывают о пользователе: из какого он города, когда он слушал музыку. \n",
    "\n",
    "Предварительно можно утверждать, что данных достаточно для проверки гипотез. Но встречаются пропуски в данных, а в названиях колонок — расхождения с хорошим стилем.\n",
    "\n",
    "Чтобы двигаться дальше, нужно устранить проблемы в данных."
   ]
  },
  {
   "cell_type": "markdown",
   "metadata": {
    "deletable": false,
    "editable": false,
    "id": "SjYF6Ub9_Zct"
   },
   "source": [
    "## Предобработка данных\n",
    "Исправьте стиль в заголовках столбцов, исключите пропуски. Затем проверьте данные на дубликаты."
   ]
  },
  {
   "cell_type": "markdown",
   "metadata": {
    "deletable": false,
    "editable": false,
    "id": "dIaKXr29_Zct",
    "tags": [
     "start_task"
    ]
   },
   "source": [
    "### Стиль заголовков\n",
    "\n",
    "**Задание 6**\n",
    "\n",
    "Выведите на экран названия столбцов:"
   ]
  },
  {
   "cell_type": "code",
   "execution_count": 10,
   "metadata": {
    "ExecuteTime": {
     "end_time": "2023-10-11T23:13:28.170832Z",
     "start_time": "2023-10-11T23:13:28.156028Z"
    },
    "deletable": false,
    "id": "oKOTdF_Q_Zct",
    "scrolled": true
   },
   "outputs": [
    {
     "name": "stdout",
     "output_type": "stream",
     "text": [
      "Index(['  userID', 'Track', 'artist', 'genre', '  City  ', 'time', 'Day'], dtype='object')\n"
     ]
    }
   ],
   "source": [
    "# перечень названий столбцов таблицы df\n",
    "print(df.columns)"
   ]
  },
  {
   "cell_type": "markdown",
   "metadata": {
    "deletable": false,
    "editable": false,
    "id": "zj5534cv_Zct",
    "tags": [
     "start_task"
    ]
   },
   "source": [
    "**Задание 7**\n",
    "\n",
    "\n",
    "Приведите названия в соответствие с хорошим стилем:\n",
    "* несколько слов в названии запишите в «змеином_регистре»,\n",
    "* все символы сделайте строчными,\n",
    "* устраните пробелы.\n",
    "\n",
    "Для этого переименуйте колонки так:\n",
    "* `'  userID'` → `'user_id'`;\n",
    "* `'Track'` → `'track'`;\n",
    "* `'  City  '` → `'city'`;\n",
    "* `'Day'` → `'day'`."
   ]
  },
  {
   "cell_type": "code",
   "execution_count": 11,
   "metadata": {
    "ExecuteTime": {
     "end_time": "2023-10-11T23:13:56.782228Z",
     "start_time": "2023-10-11T23:13:56.766825Z"
    },
    "deletable": false,
    "id": "ISlFqs5y_Zct"
   },
   "outputs": [],
   "source": [
    "# переименование столбцов\n",
    "df = df.rename(columns = {'  userID': 'user_id', 'Track': 'track', '  City  ': 'city', 'Day': 'day' })\n"
   ]
  },
  {
   "cell_type": "markdown",
   "metadata": {
    "deletable": false,
    "editable": false,
    "id": "1dqbh00J_Zct",
    "tags": [
     "start_task"
    ]
   },
   "source": [
    "**Задание 8**\n",
    "\n",
    "\n",
    "Проверьте результат. Для этого ещё раз выведите на экран названия столбцов:"
   ]
  },
  {
   "cell_type": "code",
   "execution_count": 12,
   "metadata": {
    "ExecuteTime": {
     "end_time": "2023-10-11T23:14:06.937353Z",
     "start_time": "2023-10-11T23:14:06.932479Z"
    },
    "deletable": false,
    "id": "d4NOAmTW_Zct"
   },
   "outputs": [
    {
     "name": "stdout",
     "output_type": "stream",
     "text": [
      "Index(['user_id', 'track', 'artist', 'genre', 'city', 'time', 'day'], dtype='object')\n"
     ]
    }
   ],
   "source": [
    "# проверка результатов - перечень названий столбцов\n",
    "print(df.columns)"
   ]
  },
  {
   "cell_type": "markdown",
   "metadata": {
    "deletable": false,
    "editable": false,
    "id": "5ISfbcfY_Zct",
    "tags": [
     "start_task"
    ]
   },
   "source": [
    "### Пропуски значений\n",
    "\n",
    "**Задание 9**\n",
    "\n",
    "Сначала посчитайте, сколько в таблице пропущенных значений. Для этого достаточно двух методов `pandas`:"
   ]
  },
  {
   "cell_type": "code",
   "execution_count": 13,
   "metadata": {
    "ExecuteTime": {
     "end_time": "2023-10-11T23:14:24.295742Z",
     "start_time": "2023-10-11T23:14:24.151186Z"
    },
    "deletable": false,
    "id": "RskX29qr_Zct"
   },
   "outputs": [
    {
     "data": {
      "text/plain": [
       "user_id       0\n",
       "track      1231\n",
       "artist     7203\n",
       "genre      1198\n",
       "city          0\n",
       "time          0\n",
       "day           0\n",
       "dtype: int64"
      ]
     },
     "execution_count": 13,
     "metadata": {},
     "output_type": "execute_result"
    }
   ],
   "source": [
    "# подсчёт пропусков\n",
    "df.isna().sum()"
   ]
  },
  {
   "cell_type": "markdown",
   "metadata": {
    "deletable": false,
    "editable": false,
    "id": "qubhgnlO_Zct"
   },
   "source": [
    "Не все пропущенные значения влияют на исследование. Так в `track` и `artist` пропуски не важны для вашей работы. Достаточно заменить их явными обозначениями.\n",
    "\n",
    "Но пропуски в `genre` могут помешать сравнению музыкальных вкусов в Москве и Санкт-Петербурге. На практике было бы правильно установить причину пропусков и восстановить данные. Такой возможности нет в учебном проекте. Придётся:\n",
    "* заполнить и эти пропуски явными обозначениями;\n",
    "* оценить, насколько они повредят расчётам. "
   ]
  },
  {
   "cell_type": "markdown",
   "metadata": {
    "deletable": false,
    "editable": false,
    "id": "fSv2laPA_Zct",
    "tags": [
     "start_task"
    ]
   },
   "source": [
    "**Задание 10**\n",
    "\n",
    "Замените пропущенные значения в столбцах `track`, `artist` и `genre` на строку `'unknown'`. Для этого создайте список `columns_to_replace`, переберите его элементы циклом `for` и для каждого столбца выполните замену пропущенных значений:"
   ]
  },
  {
   "cell_type": "code",
   "execution_count": 15,
   "metadata": {
    "ExecuteTime": {
     "end_time": "2023-10-11T23:14:49.758824Z",
     "start_time": "2023-10-11T23:14:49.724236Z"
    },
    "deletable": false,
    "id": "KplB5qWs_Zct"
   },
   "outputs": [],
   "source": [
    "# перебор названий столбцов в цикле и замена пропущенных значений на 'unknown':\n",
    "\n",
    "columns_to_replace = ['track', 'artist', 'genre']\n",
    "for column in columns_to_replace:\n",
    "    df[column] = df[column].fillna('unknown')\n",
    "        "
   ]
  },
  {
   "cell_type": "markdown",
   "metadata": {
    "deletable": false,
    "editable": false,
    "id": "Ilsm-MZo_Zct",
    "tags": [
     "start_task"
    ]
   },
   "source": [
    "**Задание 11**\n",
    "\n",
    "Убедитесь, что в таблице не осталось пропусков. Для этого ещё раз посчитайте пропущенные значения."
   ]
  },
  {
   "cell_type": "code",
   "execution_count": 18,
   "metadata": {
    "ExecuteTime": {
     "end_time": "2023-10-11T23:16:11.004593Z",
     "start_time": "2023-10-11T23:16:10.866412Z"
    },
    "deletable": false,
    "id": "Tq4nYRX4_Zct"
   },
   "outputs": [
    {
     "data": {
      "text/plain": [
       "user_id    0\n",
       "track      0\n",
       "artist     0\n",
       "genre      0\n",
       "city       0\n",
       "time       0\n",
       "day        0\n",
       "dtype: int64"
      ]
     },
     "execution_count": 18,
     "metadata": {},
     "output_type": "execute_result"
    }
   ],
   "source": [
    "# подсчёт пропусков\n",
    "df.isna().sum()"
   ]
  },
  {
   "cell_type": "markdown",
   "metadata": {
    "deletable": false,
    "editable": false,
    "id": "BWKRtBJ3_Zct",
    "tags": [
     "start_task"
    ]
   },
   "source": [
    "### Дубликаты\n",
    "\n",
    "**Задание 12**\n",
    "\n",
    "Посчитайте явные дубликаты в таблице одной командой:"
   ]
  },
  {
   "cell_type": "code",
   "execution_count": 19,
   "metadata": {
    "ExecuteTime": {
     "end_time": "2023-10-11T23:16:30.321157Z",
     "start_time": "2023-10-11T23:16:30.217312Z"
    },
    "deletable": false,
    "id": "36eES_S0_Zct"
   },
   "outputs": [
    {
     "data": {
      "text/plain": [
       "3826"
      ]
     },
     "execution_count": 19,
     "metadata": {},
     "output_type": "execute_result"
    }
   ],
   "source": [
    "# подсчёт явных дубликатов:\n",
    "df.duplicated().sum()"
   ]
  },
  {
   "cell_type": "markdown",
   "metadata": {
    "deletable": false,
    "editable": false,
    "id": "Ot25h6XR_Zct",
    "tags": [
     "start_task"
    ]
   },
   "source": [
    "**Задание 13**\n",
    "\n",
    "Вызовите специальный метод `pandas`, чтобы удалить явные дубликаты:"
   ]
  },
  {
   "cell_type": "code",
   "execution_count": 20,
   "metadata": {
    "ExecuteTime": {
     "end_time": "2023-10-11T23:16:46.211193Z",
     "start_time": "2023-10-11T23:16:46.092949Z"
    },
    "deletable": false,
    "id": "exFHq6tt_Zct"
   },
   "outputs": [],
   "source": [
    "# удаление явных дубликатов:\n",
    "df = df.drop_duplicates()"
   ]
  },
  {
   "cell_type": "markdown",
   "metadata": {
    "deletable": false,
    "editable": false,
    "id": "Im2YwBEG_Zct",
    "tags": [
     "start_task"
    ]
   },
   "source": [
    "**Задание 14**\n",
    "\n",
    "Ещё раз посчитайте явные дубликаты в таблице — убедитесь, что полностью от них избавились:"
   ]
  },
  {
   "cell_type": "code",
   "execution_count": 21,
   "metadata": {
    "ExecuteTime": {
     "end_time": "2023-10-11T23:16:57.058737Z",
     "start_time": "2023-10-11T23:16:56.938890Z"
    },
    "deletable": false,
    "id": "-8PuNWQ0_Zct"
   },
   "outputs": [
    {
     "data": {
      "text/plain": [
       "0"
      ]
     },
     "execution_count": 21,
     "metadata": {},
     "output_type": "execute_result"
    }
   ],
   "source": [
    "# проверка на отсутствие дубликатов:\n",
    "df.duplicated().sum()"
   ]
  },
  {
   "cell_type": "markdown",
   "metadata": {
    "deletable": false,
    "editable": false,
    "id": "QlFBsxAr_Zct"
   },
   "source": [
    "Теперь избавьтесь от неявных дубликатов в колонке `genre`. Например, название одного и того же жанра может быть записано немного по-разному. Такие ошибки тоже повлияют на результат исследования."
   ]
  },
  {
   "cell_type": "markdown",
   "metadata": {
    "deletable": false,
    "editable": false,
    "id": "eSjWwsOh_Zct",
    "tags": [
     "start_task"
    ]
   },
   "source": [
    "**Задание 15**\n",
    "\n",
    "Выведите на экран список уникальных названий жанров, отсортированный в алфавитном порядке. Для этого:\n",
    "1. извлеките нужный столбец датафрейма; \n",
    "2. примените к нему метод сортировки;\n",
    "3. для отсортированного столбца вызовите метод, который вернёт уникальные значения из столбца."
   ]
  },
  {
   "cell_type": "code",
   "execution_count": 22,
   "metadata": {
    "ExecuteTime": {
     "end_time": "2023-10-11T23:17:13.027039Z",
     "start_time": "2023-10-11T23:17:12.941545Z"
    },
    "deletable": false,
    "id": "JIUcqzZN_Zct"
   },
   "outputs": [
    {
     "name": "stdout",
     "output_type": "stream",
     "text": [
      "['acid' 'acoustic' 'action' 'adult' 'africa' 'afrikaans' 'alternative'\n",
      " 'alternativepunk' 'ambient' 'americana' 'animated' 'anime' 'arabesk'\n",
      " 'arabic' 'arena' 'argentinetango' 'art' 'audiobook' 'author' 'avantgarde'\n",
      " 'axé' 'baile' 'balkan' 'beats' 'bigroom' 'black' 'bluegrass' 'blues'\n",
      " 'bollywood' 'bossa' 'brazilian' 'breakbeat' 'breaks' 'broadway'\n",
      " 'cantautori' 'cantopop' 'canzone' 'caribbean' 'caucasian' 'celtic'\n",
      " 'chamber' 'chanson' 'children' 'chill' 'chinese' 'choral' 'christian'\n",
      " 'christmas' 'classical' 'classicmetal' 'club' 'colombian' 'comedy'\n",
      " 'conjazz' 'contemporary' 'country' 'cuban' 'dance' 'dancehall' 'dancepop'\n",
      " 'dark' 'death' 'deep' 'deutschrock' 'deutschspr' 'dirty' 'disco' 'dnb'\n",
      " 'documentary' 'downbeat' 'downtempo' 'drum' 'dub' 'dubstep' 'eastern'\n",
      " 'easy' 'electronic' 'electropop' 'emo' 'entehno' 'epicmetal' 'estrada'\n",
      " 'ethnic' 'eurofolk' 'european' 'experimental' 'extrememetal' 'fado'\n",
      " 'fairytail' 'film' 'fitness' 'flamenco' 'folk' 'folklore' 'folkmetal'\n",
      " 'folkrock' 'folktronica' 'forró' 'frankreich' 'französisch' 'french'\n",
      " 'funk' 'future' 'gangsta' 'garage' 'german' 'ghazal' 'gitarre' 'glitch'\n",
      " 'gospel' 'gothic' 'grime' 'grunge' 'gypsy' 'handsup' \"hard'n'heavy\"\n",
      " 'hardcore' 'hardstyle' 'hardtechno' 'hip' 'hip-hop' 'hiphop' 'historisch'\n",
      " 'holiday' 'hop' 'horror' 'house' 'hymn' 'idm' 'independent' 'indian'\n",
      " 'indie' 'indipop' 'industrial' 'inspirational' 'instrumental'\n",
      " 'international' 'irish' 'jam' 'japanese' 'jazz' 'jewish' 'jpop' 'jungle'\n",
      " 'k-pop' 'karadeniz' 'karaoke' 'kayokyoku' 'korean' 'laiko' 'latin'\n",
      " 'latino' 'leftfield' 'local' 'lounge' 'loungeelectronic' 'lovers'\n",
      " 'malaysian' 'mandopop' 'marschmusik' 'meditative' 'mediterranean'\n",
      " 'melodic' 'metal' 'metalcore' 'mexican' 'middle' 'minimal'\n",
      " 'miscellaneous' 'modern' 'mood' 'mpb' 'muslim' 'native' 'neoklassik'\n",
      " 'neue' 'new' 'newage' 'newwave' 'nu' 'nujazz' 'numetal' 'oceania' 'old'\n",
      " 'opera' 'orchestral' 'other' 'piano' 'podcasts' 'pop' 'popdance'\n",
      " 'popelectronic' 'popeurodance' 'poprussian' 'post' 'posthardcore'\n",
      " 'postrock' 'power' 'progmetal' 'progressive' 'psychedelic' 'punjabi'\n",
      " 'punk' 'quebecois' 'ragga' 'ram' 'rancheras' 'rap' 'rave' 'reggae'\n",
      " 'reggaeton' 'regional' 'relax' 'religious' 'retro' 'rhythm' 'rnb' 'rnr'\n",
      " 'rock' 'rockabilly' 'rockalternative' 'rockindie' 'rockother' 'romance'\n",
      " 'roots' 'ruspop' 'rusrap' 'rusrock' 'russian' 'salsa' 'samba' 'scenic'\n",
      " 'schlager' 'self' 'sertanejo' 'shanson' 'shoegazing' 'showtunes' 'singer'\n",
      " 'ska' 'skarock' 'slow' 'smooth' 'soft' 'soul' 'soulful' 'sound'\n",
      " 'soundtrack' 'southern' 'specialty' 'speech' 'spiritual' 'sport'\n",
      " 'stonerrock' 'surf' 'swing' 'synthpop' 'synthrock' 'sängerportrait'\n",
      " 'tango' 'tanzorchester' 'taraftar' 'tatar' 'tech' 'techno' 'teen'\n",
      " 'thrash' 'top' 'traditional' 'tradjazz' 'trance' 'tribal' 'trip'\n",
      " 'triphop' 'tropical' 'türk' 'türkçe' 'ukrrock' 'unknown' 'urban' 'uzbek'\n",
      " 'variété' 'vi' 'videogame' 'vocal' 'western' 'world' 'worldbeat' 'ïîï'\n",
      " 'электроника']\n"
     ]
    }
   ],
   "source": [
    " # Просмотр уникальных названий жанров:\n",
    "print(df['genre'].sort_values().unique())\n",
    "  "
   ]
  },
  {
   "cell_type": "markdown",
   "metadata": {
    "deletable": false,
    "editable": false,
    "id": "qej-Qmuo_Zct",
    "tags": [
     "start_task"
    ]
   },
   "source": [
    "**Задание 16**\n",
    "\n",
    "Просмотрите список и найдите неявные дубликаты названия `hiphop`. Это могут быть названия с ошибками или альтернативные названия того же жанра.\n",
    "\n",
    "Вы увидите следующие неявные дубликаты:\n",
    "* *hip*,\n",
    "* *hop*,\n",
    "* *hip-hop*.\n",
    "\n",
    "Чтобы очистить от них таблицу используйте метод `replace()` с двумя аргументами: списком строк-дубликатов (включащий *hip*, *hop* и *hip-hop*) и строкой с правильным значением. Вам нужно исправить колонку `genre` в таблице `df`: заменить каждое значение из списка дубликатов на верное. Вместо `hip`, `hop` и `hip-hop` в таблице должно быть значение `hiphop`:"
   ]
  },
  {
   "cell_type": "code",
   "execution_count": 24,
   "metadata": {
    "ExecuteTime": {
     "end_time": "2023-10-11T23:17:42.535124Z",
     "start_time": "2023-10-11T23:17:42.508052Z"
    },
    "deletable": false,
    "id": "ErNDkmns_Zct"
   },
   "outputs": [],
   "source": [
    "# Устранение неявных дубликатов:\n",
    "\n",
    "duplicates = ['hip', 'hop', 'hip-hop']\n",
    "df['genre'] = df['genre'].replace(duplicates, 'hiphop')"
   ]
  },
  {
   "cell_type": "markdown",
   "metadata": {
    "deletable": false,
    "editable": false,
    "id": "zQKF16_RG15m",
    "tags": [
     "start_task"
    ]
   },
   "source": [
    "**Задание 17**\n",
    "\n",
    "Проверьте, что заменили неправильные названия:\n",
    "\n",
    "*   hip,\n",
    "*   hop,\n",
    "*   hip-hop.\n",
    "\n",
    "Выведите отсортированный список уникальных значений столбца `genre`:"
   ]
  },
  {
   "cell_type": "code",
   "execution_count": 25,
   "metadata": {
    "ExecuteTime": {
     "end_time": "2023-10-11T23:17:54.245077Z",
     "start_time": "2023-10-11T23:17:54.152391Z"
    },
    "deletable": false,
    "id": "wvixALnFG15m"
   },
   "outputs": [
    {
     "name": "stdout",
     "output_type": "stream",
     "text": [
      "['acid' 'acoustic' 'action' 'adult' 'africa' 'afrikaans' 'alternative'\n",
      " 'alternativepunk' 'ambient' 'americana' 'animated' 'anime' 'arabesk'\n",
      " 'arabic' 'arena' 'argentinetango' 'art' 'audiobook' 'author' 'avantgarde'\n",
      " 'axé' 'baile' 'balkan' 'beats' 'bigroom' 'black' 'bluegrass' 'blues'\n",
      " 'bollywood' 'bossa' 'brazilian' 'breakbeat' 'breaks' 'broadway'\n",
      " 'cantautori' 'cantopop' 'canzone' 'caribbean' 'caucasian' 'celtic'\n",
      " 'chamber' 'chanson' 'children' 'chill' 'chinese' 'choral' 'christian'\n",
      " 'christmas' 'classical' 'classicmetal' 'club' 'colombian' 'comedy'\n",
      " 'conjazz' 'contemporary' 'country' 'cuban' 'dance' 'dancehall' 'dancepop'\n",
      " 'dark' 'death' 'deep' 'deutschrock' 'deutschspr' 'dirty' 'disco' 'dnb'\n",
      " 'documentary' 'downbeat' 'downtempo' 'drum' 'dub' 'dubstep' 'eastern'\n",
      " 'easy' 'electronic' 'electropop' 'emo' 'entehno' 'epicmetal' 'estrada'\n",
      " 'ethnic' 'eurofolk' 'european' 'experimental' 'extrememetal' 'fado'\n",
      " 'fairytail' 'film' 'fitness' 'flamenco' 'folk' 'folklore' 'folkmetal'\n",
      " 'folkrock' 'folktronica' 'forró' 'frankreich' 'französisch' 'french'\n",
      " 'funk' 'future' 'gangsta' 'garage' 'german' 'ghazal' 'gitarre' 'glitch'\n",
      " 'gospel' 'gothic' 'grime' 'grunge' 'gypsy' 'handsup' \"hard'n'heavy\"\n",
      " 'hardcore' 'hardstyle' 'hardtechno' 'hiphop' 'historisch' 'holiday'\n",
      " 'horror' 'house' 'hymn' 'idm' 'independent' 'indian' 'indie' 'indipop'\n",
      " 'industrial' 'inspirational' 'instrumental' 'international' 'irish' 'jam'\n",
      " 'japanese' 'jazz' 'jewish' 'jpop' 'jungle' 'k-pop' 'karadeniz' 'karaoke'\n",
      " 'kayokyoku' 'korean' 'laiko' 'latin' 'latino' 'leftfield' 'local'\n",
      " 'lounge' 'loungeelectronic' 'lovers' 'malaysian' 'mandopop' 'marschmusik'\n",
      " 'meditative' 'mediterranean' 'melodic' 'metal' 'metalcore' 'mexican'\n",
      " 'middle' 'minimal' 'miscellaneous' 'modern' 'mood' 'mpb' 'muslim'\n",
      " 'native' 'neoklassik' 'neue' 'new' 'newage' 'newwave' 'nu' 'nujazz'\n",
      " 'numetal' 'oceania' 'old' 'opera' 'orchestral' 'other' 'piano' 'podcasts'\n",
      " 'pop' 'popdance' 'popelectronic' 'popeurodance' 'poprussian' 'post'\n",
      " 'posthardcore' 'postrock' 'power' 'progmetal' 'progressive' 'psychedelic'\n",
      " 'punjabi' 'punk' 'quebecois' 'ragga' 'ram' 'rancheras' 'rap' 'rave'\n",
      " 'reggae' 'reggaeton' 'regional' 'relax' 'religious' 'retro' 'rhythm'\n",
      " 'rnb' 'rnr' 'rock' 'rockabilly' 'rockalternative' 'rockindie' 'rockother'\n",
      " 'romance' 'roots' 'ruspop' 'rusrap' 'rusrock' 'russian' 'salsa' 'samba'\n",
      " 'scenic' 'schlager' 'self' 'sertanejo' 'shanson' 'shoegazing' 'showtunes'\n",
      " 'singer' 'ska' 'skarock' 'slow' 'smooth' 'soft' 'soul' 'soulful' 'sound'\n",
      " 'soundtrack' 'southern' 'specialty' 'speech' 'spiritual' 'sport'\n",
      " 'stonerrock' 'surf' 'swing' 'synthpop' 'synthrock' 'sängerportrait'\n",
      " 'tango' 'tanzorchester' 'taraftar' 'tatar' 'tech' 'techno' 'teen'\n",
      " 'thrash' 'top' 'traditional' 'tradjazz' 'trance' 'tribal' 'trip'\n",
      " 'triphop' 'tropical' 'türk' 'türkçe' 'ukrrock' 'unknown' 'urban' 'uzbek'\n",
      " 'variété' 'vi' 'videogame' 'vocal' 'western' 'world' 'worldbeat' 'ïîï'\n",
      " 'электроника']\n"
     ]
    }
   ],
   "source": [
    "# Проверка на неявные дубликаты:\n",
    "\n",
    "print(df['genre'].sort_values().unique())"
   ]
  },
  {
   "cell_type": "markdown",
   "metadata": {
    "deletable": false,
    "editable": false,
    "id": "jz6a9-7HQUDd"
   },
   "source": [
    "**Выводы**\n",
    "\n",
    "Предобработка обнаружила три проблемы в данных:\n",
    "\n",
    "- нарушения в стиле заголовков,\n",
    "- пропущенные значения,\n",
    "- дубликаты — явные и неявные.\n",
    "\n",
    "Вы исправили заголовки, чтобы упростить работу с таблицей. Без дубликатов исследование станет более точным.\n",
    "\n",
    "Пропущенные значения вы заменили на `'unknown'`. Ещё предстоит увидеть, не повредят ли исследованию пропуски в колонке `genre`.\n",
    "\n",
    "Теперь можно перейти к проверке гипотез. "
   ]
  },
  {
   "cell_type": "markdown",
   "metadata": {
    "deletable": false,
    "editable": false,
    "id": "WttZHXH0SqKk"
   },
   "source": [
    "## Проверка гипотез"
   ]
  },
  {
   "cell_type": "markdown",
   "metadata": {
    "deletable": false,
    "editable": false,
    "id": "Im936VVi_Zcu"
   },
   "source": [
    "### Сравнение поведения пользователей двух столиц"
   ]
  },
  {
   "cell_type": "markdown",
   "metadata": {
    "deletable": false,
    "editable": false,
    "id": "nwt_MuaL_Zcu"
   },
   "source": [
    "Первая гипотеза утверждает, что пользователи по-разному слушают музыку в Москве и Санкт-Петербурге. Проверьте это предположение по данным о трёх днях недели — понедельнике, среде и пятнице. Для этого:\n",
    "\n",
    "* Разделите пользователей Москвы и Санкт-Петербурга.\n",
    "* Сравните, сколько треков послушала каждая группа пользователей в понедельник, среду и пятницу.\n"
   ]
  },
  {
   "cell_type": "markdown",
   "metadata": {
    "deletable": false,
    "editable": false,
    "id": "8Dw_YMmT_Zcu",
    "tags": [
     "start_task"
    ]
   },
   "source": [
    "**Задание 18**\n",
    "\n",
    "Для тренировки сначала выполните каждый из расчётов по отдельности. \n",
    "\n",
    "Оцените активность пользователей в каждом городе. Сгруппируйте данные по городу и посчитайте прослушивания в каждой группе.\n",
    "\n"
   ]
  },
  {
   "cell_type": "code",
   "execution_count": 27,
   "metadata": {
    "ExecuteTime": {
     "end_time": "2023-10-11T23:18:50.631347Z",
     "start_time": "2023-10-11T23:18:50.602738Z"
    },
    "deletable": false,
    "id": "0_Qs96oh_Zcu"
   },
   "outputs": [
    {
     "name": "stdout",
     "output_type": "stream",
     "text": [
      "city\n",
      "Moscow              42741\n",
      "Saint-Petersburg    18512\n",
      "Name: user_id, dtype: int64\n"
     ]
    }
   ],
   "source": [
    "# подсчёт прослушиваний в каждом городе:\n",
    "\n",
    "print(df.groupby('city')['user_id'].count())"
   ]
  },
  {
   "cell_type": "markdown",
   "metadata": {
    "deletable": false,
    "editable": false,
    "id": "dzli3w8o_Zcu",
    "tags": [
     "start_task"
    ]
   },
   "source": [
    "В Москве прослушиваний больше, чем в Петербурге. Из этого не следует, что московские пользователи чаще слушают музыку. Просто самих пользователей в Москве больше.\n",
    "\n",
    "**Задание 19**\n",
    "\n",
    "Теперь сгруппируйте данные по дню недели и посчитайте прослушивания в понедельник, среду и пятницу. Учтите, что в данных есть информация о прослушиваниях только за эти дни.\n"
   ]
  },
  {
   "cell_type": "code",
   "execution_count": 29,
   "metadata": {
    "ExecuteTime": {
     "end_time": "2023-10-11T23:19:17.081317Z",
     "start_time": "2023-10-11T23:19:17.055024Z"
    },
    "deletable": false,
    "id": "uZMKjiJz_Zcu"
   },
   "outputs": [
    {
     "name": "stdout",
     "output_type": "stream",
     "text": [
      "day\n",
      "Friday       21840\n",
      "Monday       21354\n",
      "Wednesday    18059\n",
      "Name: user_id, dtype: int64\n"
     ]
    }
   ],
   "source": [
    "# подсчёт прослушиваний в каждый из трёх дней:\n",
    "\n",
    "print(df.groupby('day')['user_id'].count())"
   ]
  },
  {
   "cell_type": "markdown",
   "metadata": {
    "deletable": false,
    "editable": false,
    "id": "cC2tNrlL_Zcu"
   },
   "source": [
    "В среднем пользователи из двух городов менее активны по средам. Но картина может измениться, если рассмотреть каждый город в отдельности."
   ]
  },
  {
   "cell_type": "markdown",
   "metadata": {
    "deletable": false,
    "editable": false,
    "id": "POzs8bGa_Zcu",
    "tags": [
     "start_task"
    ]
   },
   "source": [
    "**Задание 20**\n",
    "\n",
    "\n",
    "Вы видели, как работает группировка по городу и по дням недели. Теперь напишите функцию, которая объединит два эти расчёта.\n",
    "\n",
    "Создайте функцию `number_tracks()`, которая посчитает прослушивания для заданного дня и города. Ей понадобятся два параметра:\n",
    "* день недели,\n",
    "* название города.\n",
    "\n",
    "В функции сохраните в переменную строки исходной таблицы, у которых значение:\n",
    "  * в колонке `day` равно параметру `day`,\n",
    "  * в колонке `city` равно параметру `city`.\n",
    "\n",
    "Для этого примените последовательную фильтрацию с логической индексацией (или сложные логические выражения в одну строку, если вы уже знакомы с ними).\n",
    "\n",
    "Затем посчитайте значения в столбце `user_id` получившейся таблицы. Результат сохраните в новую переменную. Верните эту переменную из функции."
   ]
  },
  {
   "cell_type": "code",
   "execution_count": 31,
   "metadata": {
    "ExecuteTime": {
     "end_time": "2023-10-11T23:19:59.015363Z",
     "start_time": "2023-10-11T23:19:59.006051Z"
    },
    "deletable": false,
    "id": "Nz3GdQB1_Zcu"
   },
   "outputs": [],
   "source": [
    "def number_tracks(day, city):\n",
    "    track_list = df[df['day'] == day] # <создание функции number_tracks()>\n",
    "    track_list = track_list[track_list['city'] == city]# Объявляется функция с двумя параметрами: day, city.\n",
    "    track_list_count = track_list['user_id'].count()\n",
    "    return track_list_count\n",
    "\n",
    "   \n",
    " # В переменной track_list сохраняются те строки таблицы df, для которых \n",
    "# значение в столбце 'day' равно параметру day и одновременно значение\n",
    "# в столбце 'city' равно параметру city (используйте последовательную фильтрацию\n",
    "# с помощью логической индексации или сложные логические выражения в одну строку, если вы уже знакомы с ними).\n",
    "# В переменной track_list_count сохраняется число значений столбца 'user_id',\n",
    "# рассчитанное методом count() для таблицы track_list.\n",
    "# Функция возвращает число - значение track_list_count.\n",
    "\n",
    "# Функция для подсчёта прослушиваний для конкретного города и дня.\n",
    "# С помощью последовательной фильтрации с логической индексацией она \n",
    "# сначала получит из исходной таблицы строки с нужным днём,\n",
    "# затем из результата отфильтрует строки с нужным городом,\n",
    "# методом count() посчитает количество значений в колонке user_id. \n",
    "# Это количество функция вернёт в качестве результата"
   ]
  },
  {
   "cell_type": "markdown",
   "metadata": {
    "deletable": false,
    "editable": false,
    "id": "ytf7xFrFJQ2r",
    "tags": [
     "start_task"
    ]
   },
   "source": [
    "**Задание 21**\n",
    "\n",
    "Вызовите `number_tracks()` шесть раз, меняя значение параметров — так, чтобы получить данные для каждого города в каждый из трёх дней."
   ]
  },
  {
   "cell_type": "code",
   "execution_count": 32,
   "metadata": {
    "ExecuteTime": {
     "end_time": "2023-10-11T23:20:03.810434Z",
     "start_time": "2023-10-11T23:20:03.745583Z"
    },
    "deletable": false,
    "id": "rJcRATNQ_Zcu"
   },
   "outputs": [
    {
     "data": {
      "text/plain": [
       "15740"
      ]
     },
     "execution_count": 32,
     "metadata": {},
     "output_type": "execute_result"
    }
   ],
   "source": [
    "# количество прослушиваний в Москве по понедельникам:\n",
    "\n",
    "number_tracks('Monday', 'Moscow')"
   ]
  },
  {
   "cell_type": "code",
   "execution_count": 33,
   "metadata": {
    "ExecuteTime": {
     "end_time": "2023-10-11T23:20:18.679760Z",
     "start_time": "2023-10-11T23:20:18.640985Z"
    },
    "deletable": false,
    "id": "hq_ncZ5T_Zcu"
   },
   "outputs": [
    {
     "data": {
      "text/plain": [
       "5614"
      ]
     },
     "execution_count": 33,
     "metadata": {},
     "output_type": "execute_result"
    }
   ],
   "source": [
    "# количество прослушиваний в Санкт-Петербурге по понедельникам:\n",
    "\n",
    "number_tracks('Monday', 'Saint-Petersburg')"
   ]
  },
  {
   "cell_type": "code",
   "execution_count": 34,
   "metadata": {
    "ExecuteTime": {
     "end_time": "2023-10-11T23:20:28.111043Z",
     "start_time": "2023-10-11T23:20:28.069017Z"
    },
    "deletable": false,
    "id": "_NTy2VPU_Zcu"
   },
   "outputs": [
    {
     "data": {
      "text/plain": [
       "11056"
      ]
     },
     "execution_count": 34,
     "metadata": {},
     "output_type": "execute_result"
    }
   ],
   "source": [
    "# количество прослушиваний в Москве по средам:\n",
    "\n",
    "number_tracks('Wednesday', 'Moscow')"
   ]
  },
  {
   "cell_type": "code",
   "execution_count": 35,
   "metadata": {
    "ExecuteTime": {
     "end_time": "2023-10-11T23:20:38.283642Z",
     "start_time": "2023-10-11T23:20:38.244380Z"
    },
    "deletable": false,
    "id": "j2y3TAwo_Zcu"
   },
   "outputs": [
    {
     "data": {
      "text/plain": [
       "7003"
      ]
     },
     "execution_count": 35,
     "metadata": {},
     "output_type": "execute_result"
    }
   ],
   "source": [
    "# количество прослушиваний в Санкт-Петербурге по средам:\n",
    "\n",
    "number_tracks('Wednesday', 'Saint-Petersburg')"
   ]
  },
  {
   "cell_type": "code",
   "execution_count": 36,
   "metadata": {
    "ExecuteTime": {
     "end_time": "2023-10-11T23:20:50.338589Z",
     "start_time": "2023-10-11T23:20:50.307805Z"
    },
    "deletable": false,
    "id": "vYDw5u_K_Zcu"
   },
   "outputs": [
    {
     "data": {
      "text/plain": [
       "15945"
      ]
     },
     "execution_count": 36,
     "metadata": {},
     "output_type": "execute_result"
    }
   ],
   "source": [
    "# количество прослушиваний в Москве по пятницам:\n",
    "\n",
    "number_tracks('Friday', 'Moscow')"
   ]
  },
  {
   "cell_type": "code",
   "execution_count": 37,
   "metadata": {
    "ExecuteTime": {
     "end_time": "2023-10-11T23:20:58.596926Z",
     "start_time": "2023-10-11T23:20:58.559637Z"
    },
    "deletable": false,
    "id": "8_yzFtW3_Zcu"
   },
   "outputs": [
    {
     "data": {
      "text/plain": [
       "5895"
      ]
     },
     "execution_count": 37,
     "metadata": {},
     "output_type": "execute_result"
    }
   ],
   "source": [
    "# количество прослушиваний в Санкт-Петербурге по пятницам:\n",
    "\n",
    "number_tracks('Friday', 'Saint-Petersburg')"
   ]
  },
  {
   "cell_type": "markdown",
   "metadata": {
    "deletable": false,
    "editable": false,
    "id": "7QXffbO-_Zcu",
    "tags": [
     "start_task"
    ]
   },
   "source": [
    "**Задание 22**\n",
    "\n",
    "Создайте c помощью конструктора `pd.DataFrame` таблицу, где\n",
    "* названия колонок — `['city', 'monday', 'wednesday', 'friday']`;\n",
    "* данные — результаты, которые вы получили с помощью `number_tracks`."
   ]
  },
  {
   "cell_type": "code",
   "execution_count": 38,
   "metadata": {
    "ExecuteTime": {
     "end_time": "2023-10-11T23:21:23.581996Z",
     "start_time": "2023-10-11T23:21:23.551841Z"
    },
    "deletable": false,
    "id": "APAcLpOr_Zcu"
   },
   "outputs": [
    {
     "data": {
      "text/html": [
       "<div>\n",
       "<style scoped>\n",
       "    .dataframe tbody tr th:only-of-type {\n",
       "        vertical-align: middle;\n",
       "    }\n",
       "\n",
       "    .dataframe tbody tr th {\n",
       "        vertical-align: top;\n",
       "    }\n",
       "\n",
       "    .dataframe thead th {\n",
       "        text-align: right;\n",
       "    }\n",
       "</style>\n",
       "<table border=\"1\" class=\"dataframe\">\n",
       "  <thead>\n",
       "    <tr style=\"text-align: right;\">\n",
       "      <th></th>\n",
       "      <th>city</th>\n",
       "      <th>monday</th>\n",
       "      <th>wednesday</th>\n",
       "      <th>friday</th>\n",
       "    </tr>\n",
       "  </thead>\n",
       "  <tbody>\n",
       "    <tr>\n",
       "      <th>0</th>\n",
       "      <td>Москва</td>\n",
       "      <td>15740</td>\n",
       "      <td>11056</td>\n",
       "      <td>15945</td>\n",
       "    </tr>\n",
       "    <tr>\n",
       "      <th>1</th>\n",
       "      <td>Санкт-Петербург</td>\n",
       "      <td>5614</td>\n",
       "      <td>7003</td>\n",
       "      <td>5895</td>\n",
       "    </tr>\n",
       "  </tbody>\n",
       "</table>\n",
       "</div>"
      ],
      "text/plain": [
       "              city  monday  wednesday  friday\n",
       "0           Москва   15740      11056   15945\n",
       "1  Санкт-Петербург    5614       7003    5895"
      ]
     },
     "execution_count": 38,
     "metadata": {},
     "output_type": "execute_result"
    }
   ],
   "source": [
    "# Таблица с результатами:\n",
    "\n",
    "info = pd.DataFrame(data=[['Москва', 15740, 11056, 15945], ['Санкт-Петербург', 5614, 7003, 5895]],\n",
    "                    columns = ['city', 'monday', 'wednesday', 'friday'])\n",
    "info"
   ]
  },
  {
   "cell_type": "markdown",
   "metadata": {
    "deletable": false,
    "editable": false,
    "id": "-EgPIHYu_Zcu"
   },
   "source": [
    "**Выводы**\n",
    "\n",
    "Данные показывают разницу поведения пользователей:\n",
    "\n",
    "- В Москве пик прослушиваний приходится на понедельник и пятницу, а в среду заметен спад.\n",
    "- В Петербурге, наоборот, больше слушают музыку по средам. Активность в понедельник и пятницу здесь почти в равной мере уступает среде.\n",
    "\n",
    "Значит, данные говорят в пользу первой гипотезы."
   ]
  },
  {
   "cell_type": "markdown",
   "metadata": {
    "deletable": false,
    "editable": false,
    "id": "atZAxtq4_Zcu"
   },
   "source": [
    "### Музыка в начале и в конце недели"
   ]
  },
  {
   "cell_type": "markdown",
   "metadata": {
    "deletable": false,
    "editable": false,
    "id": "eXrQqXFH_Zcu"
   },
   "source": [
    "Согласно второй гипотезе, утром в понедельник в Москве преобладают одни жанры, а в Петербурге — другие. Так же и вечером пятницы преобладают разные жанры — в зависимости от города."
   ]
  },
  {
   "cell_type": "markdown",
   "metadata": {
    "deletable": false,
    "editable": false,
    "id": "S8UcW6Hw_Zcu",
    "tags": [
     "start_task"
    ]
   },
   "source": [
    "**Задание 23**\n",
    "\n",
    "Сохраните таблицы с данными в две переменные:\n",
    "* по Москве — в `moscow_general`;\n",
    "* по Санкт-Петербургу — в `spb_general`."
   ]
  },
  {
   "cell_type": "code",
   "execution_count": 40,
   "metadata": {
    "ExecuteTime": {
     "end_time": "2023-10-11T23:22:07.405590Z",
     "start_time": "2023-10-11T23:22:07.382169Z"
    },
    "deletable": false,
    "id": "qeaFfM_P_Zcu"
   },
   "outputs": [],
   "source": [
    "# получение таблицы moscow_general из тех строк таблицы df, \n",
    "# для которых значение в столбце 'city' равно 'Moscow':\n",
    "\n",
    "moscow_general = df[df['city'] == 'Moscow'] \n"
   ]
  },
  {
   "cell_type": "code",
   "execution_count": 42,
   "metadata": {
    "ExecuteTime": {
     "end_time": "2023-10-11T23:22:29.774371Z",
     "start_time": "2023-10-11T23:22:29.745997Z"
    },
    "deletable": false,
    "id": "ORaVRKto_Zcu"
   },
   "outputs": [],
   "source": [
    "# получение таблицы spb_general из тех строк таблицы df,\n",
    "# для которых значение в столбце 'city' равно 'Saint-Petersburg':\n",
    "\n",
    "spb_general = df[df['city'] == 'Saint-Petersburg']\n"
   ]
  },
  {
   "cell_type": "markdown",
   "metadata": {
    "deletable": false,
    "editable": false,
    "id": "MEJV-CX2_Zcu",
    "tags": [
     "start_task"
    ]
   },
   "source": [
    "**Задание 24**\n",
    "\n",
    "Создайте функцию `genre_weekday()` с четырьмя параметрами:\n",
    "* таблица (датафрейм) с данными,\n",
    "* день недели,\n",
    "* начальная временная метка в формате 'hh:mm', \n",
    "* последняя временная метка в формате 'hh:mm'.\n",
    "\n",
    "Функция должна вернуть информацию о топ-10 жанров тех треков, которые прослушивали в указанный день, в промежутке между двумя отметками времени."
   ]
  },
  {
   "cell_type": "code",
   "execution_count": 43,
   "metadata": {
    "ExecuteTime": {
     "end_time": "2023-10-11T23:22:44.320113Z",
     "start_time": "2023-10-11T23:22:44.303680Z"
    },
    "deletable": false,
    "id": "laJT9BYl_Zcu"
   },
   "outputs": [],
   "source": [
    "# Объявление функции genre_weekday() с параметрами table, day, time1, time2,\n",
    "# которая возвращает информацию о самых популярных жанрах в указанный день в\n",
    "# заданное время:\n",
    "# 1) в переменную genre_df сохраняются те строки переданного датафрейма table, для\n",
    "#    которых одновременно:\n",
    "#    - значение в столбце day равно значению аргумента day\n",
    "#    - значение в столбце time больше значения аргумента time1\n",
    "#    - значение в столбце time меньше значения аргумента time2\n",
    "#    Используйте последовательную фильтрацию с помощью логической индексации.\n",
    "# 2) сгруппировать датафрейм genre_df по столбцу genre, взять один из его\n",
    "#    столбцов и посчитать методом count() количество записей для каждого из\n",
    "#    присутствующих жанров, получившийся Series записать в переменную\n",
    "#    genre_df_count\n",
    "# 3) отсортировать genre_df_count по убыванию встречаемости и сохранить\n",
    "#    в переменную genre_df_sorted\n",
    "# 4) вернуть Series из 10 первых значений genre_df_sorted, это будут топ-10\n",
    "#    популярных жанров (в указанный день, в заданное время)\n",
    "\n",
    "def genre_weekday(df, day, time1, time2):\n",
    "    # последовательная фильтрация\n",
    "    # оставляем в genre_df только те строки df, у которых день равен day\n",
    "    genre_df = df[df['day'] == day]# ваш код здесь\n",
    "    # оставляем в genre_df только те строки genre_df, у которых время меньше time2\n",
    "    genre_df = genre_df[genre_df['time'] < time2]# ваш код здесь\n",
    "    # оставляем в genre_df только те строки genre_df, у которых время больше time1\n",
    "    genre_df = genre_df[genre_df['time'] > time1] # ваш код здесь\n",
    "    # сгруппируем отфильтрованный датафрейм по столбцу с названиями жанров, возьмём столбец genre и посчитаем кол-во строк для каждого жанра методом count()\n",
    "    genre_df_grouped = genre_df.groupby('genre')['genre'].count()# ваш код здесь\n",
    "    # отсортируем результат по убыванию (чтобы в начале Series оказались самые популярные жанры)\n",
    "    genre_df_sorted = genre_df_grouped.sort_values(ascending = False)# ваш код здесь\n",
    "    # вернём Series с 10 самыми популярными жанрами в указанный отрезок времени заданного дня\n",
    "    return genre_df_sorted[:10]"
   ]
  },
  {
   "cell_type": "markdown",
   "metadata": {
    "deletable": false,
    "editable": false,
    "id": "la2s2_PF_Zcu",
    "tags": [
     "start_task"
    ]
   },
   "source": [
    "**Задание 25**\n",
    "\n",
    "\n",
    "Cравните результаты функции `genre_weekday()` для Москвы и Санкт-Петербурга в понедельник утром (с 7:00 до 11:00) и в пятницу вечером (с 17:00 до 23:00):"
   ]
  },
  {
   "cell_type": "code",
   "execution_count": 45,
   "metadata": {
    "ExecuteTime": {
     "end_time": "2023-10-11T23:23:20.479630Z",
     "start_time": "2023-10-11T23:23:20.439293Z"
    },
    "deletable": false,
    "id": "yz7itPUQ_Zcu"
   },
   "outputs": [
    {
     "data": {
      "text/plain": [
       "genre\n",
       "pop            781\n",
       "dance          549\n",
       "electronic     480\n",
       "rock           474\n",
       "hiphop         286\n",
       "ruspop         186\n",
       "world          181\n",
       "rusrap         175\n",
       "alternative    164\n",
       "unknown        161\n",
       "Name: genre, dtype: int64"
      ]
     },
     "execution_count": 45,
     "metadata": {},
     "output_type": "execute_result"
    }
   ],
   "source": [
    "# вызов функции для утра понедельника в Москве (вместо df — таблица moscow_general)\n",
    "# объекты, хранящие время, являются строками и сравниваются как строки\n",
    "# пример вызова: genre_weekday(moscow_general, 'Monday', '07:00', '11:00'):\n",
    "\n",
    "genre_weekday(moscow_general, 'Monday', '07:00', '11:00' )"
   ]
  },
  {
   "cell_type": "code",
   "execution_count": 48,
   "metadata": {
    "ExecuteTime": {
     "end_time": "2023-10-11T23:23:43.114537Z",
     "start_time": "2023-10-11T23:23:43.084654Z"
    },
    "deletable": false,
    "id": "kwUcHPdy_Zcu",
    "scrolled": true
   },
   "outputs": [
    {
     "data": {
      "text/plain": [
       "genre\n",
       "pop            218\n",
       "dance          182\n",
       "rock           162\n",
       "electronic     147\n",
       "hiphop          80\n",
       "ruspop          64\n",
       "alternative     58\n",
       "rusrap          55\n",
       "jazz            44\n",
       "classical       40\n",
       "Name: genre, dtype: int64"
      ]
     },
     "execution_count": 48,
     "metadata": {},
     "output_type": "execute_result"
    }
   ],
   "source": [
    "# вызов функции для утра понедельника в Петербурге (вместо df — таблица spb_general):\n",
    "\n",
    "genre_weekday(spb_general, 'Monday', '07:00', '11:00')"
   ]
  },
  {
   "cell_type": "code",
   "execution_count": 47,
   "metadata": {
    "ExecuteTime": {
     "end_time": "2023-10-11T23:23:39.866469Z",
     "start_time": "2023-10-11T23:23:39.835341Z"
    },
    "deletable": false,
    "id": "EzXVRE1o_Zcu"
   },
   "outputs": [
    {
     "data": {
      "text/plain": [
       "genre\n",
       "pop            713\n",
       "rock           517\n",
       "dance          495\n",
       "electronic     482\n",
       "hiphop         273\n",
       "world          208\n",
       "ruspop         170\n",
       "alternative    163\n",
       "classical      163\n",
       "rusrap         142\n",
       "Name: genre, dtype: int64"
      ]
     },
     "execution_count": 47,
     "metadata": {},
     "output_type": "execute_result"
    }
   ],
   "source": [
    "# вызов функции для вечера пятницы в Москве:\n",
    "\n",
    "genre_weekday(moscow_general, 'Friday', '17:00', '23:00')"
   ]
  },
  {
   "cell_type": "code",
   "execution_count": 49,
   "metadata": {
    "ExecuteTime": {
     "end_time": "2023-10-11T23:23:54.738240Z",
     "start_time": "2023-10-11T23:23:54.715747Z"
    },
    "deletable": false,
    "id": "JZaEKu5v_Zcu"
   },
   "outputs": [
    {
     "data": {
      "text/plain": [
       "genre\n",
       "pop            256\n",
       "electronic     216\n",
       "rock           216\n",
       "dance          210\n",
       "hiphop          97\n",
       "alternative     63\n",
       "jazz            61\n",
       "classical       60\n",
       "rusrap          59\n",
       "world           54\n",
       "Name: genre, dtype: int64"
      ]
     },
     "execution_count": 49,
     "metadata": {},
     "output_type": "execute_result"
    }
   ],
   "source": [
    "# вызов функции для вечера пятницы в Петербурге:\n",
    "\n",
    "genre_weekday(spb_general, 'Friday', '17:00', '23:00')"
   ]
  },
  {
   "cell_type": "markdown",
   "metadata": {
    "deletable": false,
    "editable": false,
    "id": "wrCe4MNX_Zcu"
   },
   "source": [
    "**Выводы**\n",
    "\n",
    "Если сравнить топ-10 жанров в понедельник утром, можно сделать такие выводы:\n",
    "\n",
    "1. В Москве и Петербурге слушают похожую музыку. Единственное отличие — в московский рейтинг вошёл жанр “world”, а в петербургский — джаз и классика.\n",
    "\n",
    "2. В Москве пропущенных значений оказалось так много, что значение `'unknown'` заняло десятое место среди самых популярных жанров. Значит, пропущенные значения занимают существенную долю в данных и угрожают достоверности исследования.\n",
    "\n",
    "Вечер пятницы не меняет эту картину. Некоторые жанры поднимаются немного выше, другие спускаются, но в целом топ-10 остаётся тем же самым.\n",
    "\n",
    "Таким образом, вторая гипотеза подтвердилась лишь частично:\n",
    "* Пользователи слушают похожую музыку в начале недели и в конце.\n",
    "* Разница между Москвой и Петербургом не слишком выражена. В Москве чаще слушают русскую популярную музыку, в Петербурге — джаз.\n",
    "\n",
    "Однако пропуски в данных ставят под сомнение этот результат. В Москве их так много, что рейтинг топ-10 мог бы выглядеть иначе, если бы не утерянные  данные о жанрах."
   ]
  },
  {
   "cell_type": "markdown",
   "metadata": {
    "deletable": false,
    "editable": false,
    "id": "JolODAqr_Zcu"
   },
   "source": [
    "### Жанровые предпочтения в Москве и Петербурге\n",
    "\n",
    "Гипотеза: Петербург — столица рэпа, музыку этого жанра там слушают чаще, чем в Москве.  А Москва — город контрастов, в котором, тем не менее, преобладает поп-музыка."
   ]
  },
  {
   "cell_type": "markdown",
   "metadata": {
    "deletable": false,
    "editable": false,
    "id": "DlegSvaT_Zcu",
    "tags": [
     "start_task"
    ]
   },
   "source": [
    "**Задание 26**\n",
    "\n",
    "Сгруппируйте таблицу `moscow_general` по жанру и посчитайте прослушивания треков каждого жанра методом `count()`. Затем отсортируйте результат в порядке убывания и сохраните его в таблице `moscow_genres`."
   ]
  },
  {
   "cell_type": "code",
   "execution_count": 50,
   "metadata": {
    "ExecuteTime": {
     "end_time": "2023-10-11T23:24:34.839443Z",
     "start_time": "2023-10-11T23:24:34.808884Z"
    },
    "deletable": false,
    "id": "r19lIPke_Zcu"
   },
   "outputs": [
    {
     "data": {
      "text/plain": [
       "genre\n",
       "pop            5892\n",
       "dance          4435\n",
       "rock           3965\n",
       "electronic     3786\n",
       "hiphop         2096\n",
       "               ... \n",
       "neoklassik        1\n",
       "mood              1\n",
       "metalcore         1\n",
       "marschmusik       1\n",
       "ïîï               1\n",
       "Name: genre, Length: 267, dtype: int64"
      ]
     },
     "execution_count": 50,
     "metadata": {},
     "output_type": "execute_result"
    }
   ],
   "source": [
    "# одной строкой: группировка таблицы moscow_general по столбцу 'genre',  moscow_genres\n",
    "# подсчёт числа значений 'genre' в этой группировке методом count(),\n",
    "# сортировка получившегося Series в порядке убывания и сохранение в moscow_genres:\n",
    "\n",
    "moscow_genres = moscow_general.groupby('genre')['genre'].count().sort_values(ascending=False) \n",
    "moscow_genres"
   ]
  },
  {
   "cell_type": "markdown",
   "metadata": {
    "deletable": false,
    "editable": false,
    "id": "6kMuomxTiIr8",
    "tags": [
     "start_task"
    ]
   },
   "source": [
    "**Задание 27**\n",
    "\n",
    "Выведите на экран первые десять строк `moscow_genres`:"
   ]
  },
  {
   "cell_type": "code",
   "execution_count": 51,
   "metadata": {
    "ExecuteTime": {
     "end_time": "2023-10-11T23:24:46.098152Z",
     "start_time": "2023-10-11T23:24:46.086013Z"
    },
    "deletable": false,
    "id": "WhCSooF8_Zcv"
   },
   "outputs": [
    {
     "data": {
      "text/plain": [
       "genre\n",
       "pop            5892\n",
       "dance          4435\n",
       "rock           3965\n",
       "electronic     3786\n",
       "hiphop         2096\n",
       "classical      1616\n",
       "world          1432\n",
       "alternative    1379\n",
       "ruspop         1372\n",
       "rusrap         1161\n",
       "Name: genre, dtype: int64"
      ]
     },
     "execution_count": 51,
     "metadata": {},
     "output_type": "execute_result"
    }
   ],
   "source": [
    "# просмотр первых 10 строк moscow_genres:\n",
    "\n",
    "moscow_genres[0:10]"
   ]
  },
  {
   "cell_type": "markdown",
   "metadata": {
    "deletable": false,
    "editable": false,
    "id": "cnPG2vnN_Zcv",
    "tags": [
     "start_task"
    ]
   },
   "source": [
    "**Задание 28**\n",
    "\n",
    "\n",
    "Теперь повторите то же и для Петербурга.\n",
    "\n",
    "Сгруппируйте таблицу `spb_general` по жанру. Посчитайте прослушивания треков каждого жанра. Результат отсортируйте в порядке убывания и сохраните в таблице `spb_genres`:\n"
   ]
  },
  {
   "cell_type": "code",
   "execution_count": 53,
   "metadata": {
    "ExecuteTime": {
     "end_time": "2023-10-11T23:26:43.816738Z",
     "start_time": "2023-10-11T23:26:43.795590Z"
    },
    "deletable": false,
    "id": "gluLIpE7_Zcv"
   },
   "outputs": [],
   "source": [
    "# spb_genres  одной строкой: группировка таблицы spb_general по столбцу 'genre', \n",
    "# подсчёт числа значений 'genre' в этой группировке методом count(),\n",
    "# сортировка получившегося Series в порядке убывания и сохранение в spb_genres:\n",
    "\n",
    "spb_genres = spb_general.groupby('genre')['genre'].count().sort_values(ascending = False)\n",
    " "
   ]
  },
  {
   "cell_type": "markdown",
   "metadata": {
    "deletable": false,
    "editable": false,
    "id": "5Doha_ODgyQ8",
    "tags": [
     "start_task"
    ]
   },
   "source": [
    "**Задание 29**\n",
    "\n",
    "Выведите на экран первые десять строк `spb_genres`:"
   ]
  },
  {
   "cell_type": "code",
   "execution_count": 54,
   "metadata": {
    "ExecuteTime": {
     "end_time": "2023-10-11T23:26:54.264407Z",
     "start_time": "2023-10-11T23:26:54.245480Z"
    },
    "deletable": false,
    "id": "uaGJHjVU_Zcv"
   },
   "outputs": [
    {
     "data": {
      "text/plain": [
       "genre\n",
       "pop            2431\n",
       "dance          1932\n",
       "rock           1879\n",
       "electronic     1736\n",
       "hiphop          960\n",
       "alternative     649\n",
       "classical       646\n",
       "rusrap          564\n",
       "ruspop          538\n",
       "world           515\n",
       "Name: genre, dtype: int64"
      ]
     },
     "execution_count": 54,
     "metadata": {},
     "output_type": "execute_result"
    }
   ],
   "source": [
    "# просмотр первых 10 строк spb_genres:\n",
    "\n",
    "spb_genres[0:10]"
   ]
  },
  {
   "cell_type": "markdown",
   "metadata": {
    "deletable": false,
    "editable": false,
    "id": "RY51YJYu_Zcv"
   },
   "source": [
    "**Выводы**"
   ]
  },
  {
   "cell_type": "markdown",
   "metadata": {
    "deletable": false,
    "editable": false,
    "id": "nVhnJEm__Zcv"
   },
   "source": [
    "Гипотеза частично подтвердилась:\n",
    "* Поп-музыка — самый популярный жанр в Москве, как и предполагала гипотеза. Более того, в топ-10 жанров встречается близкий жанр — русская популярная музыка.\n",
    "* Вопреки ожиданиям, рэп одинаково популярен в Москве и Петербурге. \n"
   ]
  },
  {
   "cell_type": "markdown",
   "metadata": {
    "deletable": false,
    "editable": false,
    "id": "ykKQ0N65_Zcv"
   },
   "source": [
    "## Итоги исследования"
   ]
  },
  {
   "cell_type": "markdown",
   "metadata": {
    "deletable": false,
    "editable": false,
    "id": "tjUwbHb3_Zcv"
   },
   "source": [
    "Вы проверили три гипотезы и установили:\n",
    "\n",
    "1. День недели по-разному влияет на активность пользователей в Москве и Петербурге. \n",
    "\n",
    "Первая гипотеза полностью подтвердилась.\n",
    "\n",
    "2. Музыкальные предпочтения не сильно меняются в течение недели — будь то Москва или Петербург. Небольшие различия заметны в начале недели, по понедельникам:\n",
    "* в Москве слушают музыку жанра “world”,\n",
    "* в Петербурге — джаз и классику.\n",
    "\n",
    "Таким образом, вторая гипотеза подтвердилась лишь отчасти. Этот результат мог оказаться иным, если бы не пропуски в данных.\n",
    "\n",
    "3. Во вкусах пользователей Москвы и Петербурга больше общего чем различий. Вопреки ожиданиям, предпочтения жанров в Петербурге напоминают московские.\n",
    "\n",
    "Третья гипотеза не подтвердилась. Если различия в предпочтениях и существуют, на основной массе пользователей они незаметны.\n",
    "\n",
    "**На практике исследования содержат проверки статистических гипотез.**\n",
    "Из данных одного сервиса не всегда можно сделать вывод о всех жителях города.\n",
    "Проверки статистических гипотез покажут, насколько они достоверны, исходя из имеющихся данных. \n",
    "С методами проверок гипотез вы ещё познакомитесь в следующих темах."
   ]
  },
  {
   "cell_type": "code",
   "execution_count": null,
   "metadata": {},
   "outputs": [],
   "source": []
  }
 ],
 "metadata": {
  "ExecuteTimeLog": [
   {
    "duration": 398,
    "start_time": "2022-10-05T11:42:20.294Z"
   },
   {
    "duration": 448,
    "start_time": "2022-10-05T11:43:21.943Z"
   },
   {
    "duration": 8,
    "start_time": "2022-10-05T11:43:54.907Z"
   },
   {
    "duration": 27,
    "start_time": "2022-10-05T11:44:21.105Z"
   },
   {
    "duration": 2,
    "start_time": "2022-10-05T11:48:19.126Z"
   },
   {
    "duration": 42,
    "start_time": "2022-10-06T13:24:11.633Z"
   },
   {
    "duration": 6,
    "start_time": "2022-10-06T13:28:51.987Z"
   },
   {
    "duration": 5,
    "start_time": "2022-10-06T13:28:55.320Z"
   },
   {
    "duration": 6,
    "start_time": "2022-10-06T13:32:06.044Z"
   },
   {
    "duration": 41,
    "start_time": "2022-10-06T13:55:20.861Z"
   },
   {
    "duration": 5,
    "start_time": "2022-10-06T13:55:23.308Z"
   },
   {
    "duration": 5,
    "start_time": "2022-10-06T13:58:04.328Z"
   },
   {
    "duration": 6,
    "start_time": "2022-10-06T14:01:59.001Z"
   },
   {
    "duration": 5,
    "start_time": "2022-10-06T14:03:12.854Z"
   },
   {
    "duration": 6,
    "start_time": "2022-10-06T14:04:57.595Z"
   },
   {
    "duration": 6,
    "start_time": "2022-10-06T14:55:01.953Z"
   },
   {
    "duration": 6,
    "start_time": "2022-10-06T15:19:14.564Z"
   },
   {
    "duration": 6,
    "start_time": "2022-10-06T15:20:04.963Z"
   },
   {
    "duration": 6,
    "start_time": "2022-10-06T15:20:13.322Z"
   },
   {
    "duration": 2,
    "start_time": "2022-10-07T12:15:55.135Z"
   },
   {
    "duration": 150,
    "start_time": "2022-10-07T12:16:04.134Z"
   },
   {
    "duration": 6,
    "start_time": "2022-10-07T12:16:13.133Z"
   },
   {
    "duration": 24,
    "start_time": "2022-10-07T12:16:19.466Z"
   },
   {
    "duration": 3,
    "start_time": "2022-10-07T12:16:25.403Z"
   },
   {
    "duration": 12,
    "start_time": "2022-10-07T12:16:31.510Z"
   },
   {
    "duration": 3,
    "start_time": "2022-10-07T12:16:34.825Z"
   },
   {
    "duration": 21,
    "start_time": "2022-10-07T12:16:38.551Z"
   },
   {
    "duration": 15,
    "start_time": "2022-10-07T12:16:42.262Z"
   },
   {
    "duration": 21,
    "start_time": "2022-10-07T12:16:45.814Z"
   },
   {
    "duration": 58,
    "start_time": "2022-10-07T12:16:51.819Z"
   },
   {
    "duration": 150,
    "start_time": "2022-10-07T12:17:40.248Z"
   },
   {
    "duration": 6,
    "start_time": "2022-10-07T12:17:46.218Z"
   },
   {
    "duration": 23,
    "start_time": "2022-10-07T12:17:50.035Z"
   },
   {
    "duration": 2,
    "start_time": "2022-10-07T12:17:56.603Z"
   },
   {
    "duration": 3,
    "start_time": "2022-10-07T12:18:03.633Z"
   },
   {
    "duration": 25,
    "start_time": "2022-10-07T12:18:21.876Z"
   },
   {
    "duration": 1355,
    "start_time": "2022-10-07T12:18:55.403Z"
   },
   {
    "duration": 9,
    "start_time": "2022-10-07T12:19:08.289Z"
   },
   {
    "duration": 3,
    "start_time": "2022-10-07T12:19:15.120Z"
   },
   {
    "duration": 19,
    "start_time": "2022-10-07T12:19:18.893Z"
   },
   {
    "duration": 15,
    "start_time": "2022-10-07T12:19:22.707Z"
   },
   {
    "duration": 20,
    "start_time": "2022-10-07T12:19:26.013Z"
   },
   {
    "duration": 61,
    "start_time": "2022-10-07T12:19:29.358Z"
   },
   {
    "duration": 65,
    "start_time": "2022-10-07T12:49:32.688Z"
   },
   {
    "duration": 69,
    "start_time": "2022-10-07T12:50:13.083Z"
   },
   {
    "duration": 59,
    "start_time": "2022-10-07T12:52:33.546Z"
   },
   {
    "duration": 78,
    "start_time": "2022-10-07T12:56:41.030Z"
   },
   {
    "duration": 67,
    "start_time": "2022-10-07T12:57:30.331Z"
   },
   {
    "duration": 57,
    "start_time": "2022-10-07T12:58:06.643Z"
   },
   {
    "duration": 57,
    "start_time": "2022-10-07T12:58:47.094Z"
   },
   {
    "duration": 57,
    "start_time": "2022-10-07T12:59:20.047Z"
   },
   {
    "duration": 2,
    "start_time": "2022-10-07T12:59:33.600Z"
   },
   {
    "duration": 58,
    "start_time": "2022-10-07T13:00:12.173Z"
   },
   {
    "duration": 2,
    "start_time": "2022-10-07T13:00:49.276Z"
   },
   {
    "duration": 2,
    "start_time": "2022-10-07T13:00:55.007Z"
   },
   {
    "duration": 66,
    "start_time": "2022-10-07T13:07:55.602Z"
   },
   {
    "duration": 57,
    "start_time": "2022-10-07T13:08:31.676Z"
   },
   {
    "duration": 42,
    "start_time": "2022-10-10T10:49:36.755Z"
   },
   {
    "duration": 47,
    "start_time": "2022-10-10T10:49:57.547Z"
   },
   {
    "duration": 2,
    "start_time": "2022-10-10T10:50:05.387Z"
   },
   {
    "duration": 6,
    "start_time": "2022-10-10T11:49:17.075Z"
   },
   {
    "duration": 39,
    "start_time": "2022-10-10T11:49:34.934Z"
   },
   {
    "duration": 57,
    "start_time": "2022-10-10T11:49:41.400Z"
   },
   {
    "duration": 6,
    "start_time": "2022-10-10T11:51:18.293Z"
   },
   {
    "duration": 6,
    "start_time": "2022-10-10T11:51:21.791Z"
   },
   {
    "duration": 6,
    "start_time": "2022-10-10T11:51:46.058Z"
   },
   {
    "duration": 415,
    "start_time": "2022-10-10T11:51:56.498Z"
   },
   {
    "duration": 2,
    "start_time": "2022-10-10T11:51:59.765Z"
   },
   {
    "duration": 216,
    "start_time": "2022-10-10T11:52:04.565Z"
   },
   {
    "duration": 9,
    "start_time": "2022-10-10T11:52:07.662Z"
   },
   {
    "duration": 27,
    "start_time": "2022-10-10T11:52:14.027Z"
   },
   {
    "duration": 2,
    "start_time": "2022-10-10T11:52:21.827Z"
   },
   {
    "duration": 4,
    "start_time": "2022-10-10T11:52:25.502Z"
   },
   {
    "duration": 12,
    "start_time": "2022-10-10T11:52:29.173Z"
   },
   {
    "duration": 3,
    "start_time": "2022-10-10T11:52:34.331Z"
   },
   {
    "duration": 25,
    "start_time": "2022-10-10T11:52:38.061Z"
   },
   {
    "duration": 15,
    "start_time": "2022-10-10T11:52:41.473Z"
   },
   {
    "duration": 21,
    "start_time": "2022-10-10T11:52:45.290Z"
   },
   {
    "duration": 64,
    "start_time": "2022-10-10T11:52:48.841Z"
   },
   {
    "duration": 70,
    "start_time": "2022-10-10T11:52:51.696Z"
   },
   {
    "duration": 59,
    "start_time": "2022-10-10T11:52:56.099Z"
   },
   {
    "duration": 31,
    "start_time": "2022-10-10T11:53:00.542Z"
   },
   {
    "duration": 60,
    "start_time": "2022-10-10T11:53:04.406Z"
   },
   {
    "duration": 47,
    "start_time": "2022-10-10T12:02:20.916Z"
   },
   {
    "duration": 44,
    "start_time": "2022-10-10T12:02:24.301Z"
   },
   {
    "duration": 84,
    "start_time": "2022-10-10T12:04:21.395Z"
   },
   {
    "duration": 10,
    "start_time": "2022-10-10T12:04:33.848Z"
   },
   {
    "duration": 10,
    "start_time": "2022-10-10T12:04:36.347Z"
   },
   {
    "duration": 7,
    "start_time": "2022-10-10T12:04:59.074Z"
   },
   {
    "duration": 53,
    "start_time": "2022-10-10T12:06:02.715Z"
   },
   {
    "duration": 7,
    "start_time": "2022-10-10T12:07:37.399Z"
   },
   {
    "duration": 8,
    "start_time": "2022-10-10T12:07:39.634Z"
   },
   {
    "duration": 7,
    "start_time": "2022-10-10T12:08:19.194Z"
   },
   {
    "duration": 7,
    "start_time": "2022-10-10T12:08:21.750Z"
   },
   {
    "duration": 46,
    "start_time": "2022-10-10T12:09:57.818Z"
   },
   {
    "duration": 6,
    "start_time": "2022-10-10T12:11:05.369Z"
   },
   {
    "duration": 6,
    "start_time": "2022-10-10T12:11:11.821Z"
   },
   {
    "duration": 8,
    "start_time": "2022-10-10T12:11:56.070Z"
   },
   {
    "duration": 6,
    "start_time": "2022-10-10T12:12:31.508Z"
   },
   {
    "duration": 3,
    "start_time": "2022-10-10T12:17:10.267Z"
   },
   {
    "duration": 154,
    "start_time": "2022-10-10T12:17:13.843Z"
   },
   {
    "duration": 169,
    "start_time": "2022-10-10T12:17:25.550Z"
   },
   {
    "duration": 61,
    "start_time": "2022-10-10T12:17:30.926Z"
   },
   {
    "duration": 54,
    "start_time": "2022-10-10T12:17:34.577Z"
   },
   {
    "duration": 50,
    "start_time": "2022-10-10T12:17:38.880Z"
   },
   {
    "duration": 7,
    "start_time": "2022-10-10T12:19:25.984Z"
   },
   {
    "duration": 6,
    "start_time": "2022-10-10T12:19:28.286Z"
   },
   {
    "duration": 8,
    "start_time": "2022-10-10T12:26:53.268Z"
   },
   {
    "duration": 36,
    "start_time": "2022-10-10T12:34:31.840Z"
   },
   {
    "duration": 36,
    "start_time": "2022-10-10T12:34:37.632Z"
   },
   {
    "duration": 36,
    "start_time": "2022-10-10T12:34:41.347Z"
   },
   {
    "duration": 40,
    "start_time": "2022-10-10T12:35:14.449Z"
   },
   {
    "duration": 2,
    "start_time": "2022-10-10T12:36:15.771Z"
   },
   {
    "duration": 43,
    "start_time": "2022-10-10T12:37:13.854Z"
   },
   {
    "duration": 10,
    "start_time": "2022-10-10T13:04:26.936Z"
   },
   {
    "duration": 5,
    "start_time": "2022-10-10T13:05:33.170Z"
   },
   {
    "duration": 39,
    "start_time": "2022-10-10T13:07:28.513Z"
   },
   {
    "duration": 1505,
    "start_time": "2022-10-10T13:29:48.534Z"
   },
   {
    "duration": 9,
    "start_time": "2022-10-10T13:34:09.227Z"
   },
   {
    "duration": 10,
    "start_time": "2022-10-10T13:34:11.887Z"
   },
   {
    "duration": 2,
    "start_time": "2022-10-10T13:38:31.920Z"
   },
   {
    "duration": 25,
    "start_time": "2022-10-10T14:03:06.446Z"
   },
   {
    "duration": 10,
    "start_time": "2022-10-10T14:04:19.122Z"
   },
   {
    "duration": 9,
    "start_time": "2022-10-10T14:04:21.273Z"
   },
   {
    "duration": 13,
    "start_time": "2022-10-10T14:23:48.656Z"
   },
   {
    "duration": 10,
    "start_time": "2022-10-10T14:23:51.567Z"
   },
   {
    "duration": 10,
    "start_time": "2022-10-10T14:25:39.719Z"
   },
   {
    "duration": 2,
    "start_time": "2022-10-10T14:26:57.186Z"
   },
   {
    "duration": 9,
    "start_time": "2022-10-10T14:30:18.472Z"
   },
   {
    "duration": 10,
    "start_time": "2022-10-10T14:30:24.797Z"
   },
   {
    "duration": 9,
    "start_time": "2022-10-10T14:30:47.074Z"
   },
   {
    "duration": 9,
    "start_time": "2022-10-10T14:31:40.655Z"
   },
   {
    "duration": 2,
    "start_time": "2022-10-10T14:33:15.332Z"
   },
   {
    "duration": 2,
    "start_time": "2022-10-10T14:33:49.760Z"
   },
   {
    "duration": 140,
    "start_time": "2022-10-10T14:33:52.359Z"
   },
   {
    "duration": 7,
    "start_time": "2022-10-10T14:33:55.457Z"
   },
   {
    "duration": 25,
    "start_time": "2022-10-10T14:33:58.316Z"
   },
   {
    "duration": 3,
    "start_time": "2022-10-10T14:34:02.519Z"
   },
   {
    "duration": 3,
    "start_time": "2022-10-10T14:34:06.464Z"
   },
   {
    "duration": 8,
    "start_time": "2022-10-10T14:34:12.567Z"
   },
   {
    "duration": 3,
    "start_time": "2022-10-10T14:34:14.611Z"
   },
   {
    "duration": 22,
    "start_time": "2022-10-10T14:34:17.444Z"
   },
   {
    "duration": 15,
    "start_time": "2022-10-10T14:34:20.560Z"
   },
   {
    "duration": 21,
    "start_time": "2022-10-10T14:34:23.966Z"
   },
   {
    "duration": 59,
    "start_time": "2022-10-10T14:34:27.347Z"
   },
   {
    "duration": 62,
    "start_time": "2022-10-10T14:34:29.542Z"
   },
   {
    "duration": 55,
    "start_time": "2022-10-10T14:34:32.078Z"
   },
   {
    "duration": 37,
    "start_time": "2022-10-10T14:34:36.696Z"
   },
   {
    "duration": 10,
    "start_time": "2022-10-10T14:34:42.184Z"
   },
   {
    "duration": 11,
    "start_time": "2022-10-10T14:34:44.408Z"
   },
   {
    "duration": 39,
    "start_time": "2022-10-10T14:34:49.069Z"
   },
   {
    "duration": 11,
    "start_time": "2022-10-10T14:36:16.522Z"
   },
   {
    "duration": 10,
    "start_time": "2022-10-10T14:42:37.312Z"
   },
   {
    "duration": 7,
    "start_time": "2022-10-10T14:43:39.113Z"
   },
   {
    "duration": 3,
    "start_time": "2022-10-10T14:44:19.620Z"
   },
   {
    "duration": 12,
    "start_time": "2022-10-10T14:45:24.457Z"
   },
   {
    "duration": 51,
    "start_time": "2022-10-10T18:35:45.990Z"
   },
   {
    "duration": 8,
    "start_time": "2022-10-10T20:45:43.644Z"
   },
   {
    "duration": 44,
    "start_time": "2022-10-10T20:47:50.889Z"
   },
   {
    "duration": 7,
    "start_time": "2022-10-10T20:48:15.798Z"
   },
   {
    "duration": 6,
    "start_time": "2022-10-10T20:49:13.716Z"
   },
   {
    "duration": 7,
    "start_time": "2022-10-10T20:50:24.798Z"
   },
   {
    "duration": 6,
    "start_time": "2022-10-10T20:50:34.896Z"
   },
   {
    "duration": 6,
    "start_time": "2022-10-10T20:50:36.966Z"
   },
   {
    "duration": 2,
    "start_time": "2022-10-10T20:50:44.839Z"
   },
   {
    "duration": 7,
    "start_time": "2022-10-10T20:54:58.553Z"
   },
   {
    "duration": 8,
    "start_time": "2022-10-10T20:55:09.853Z"
   },
   {
    "duration": 357,
    "start_time": "2022-10-10T20:55:23.467Z"
   },
   {
    "duration": 293,
    "start_time": "2022-10-10T20:55:26.074Z"
   },
   {
    "duration": 8,
    "start_time": "2022-10-10T20:55:29.542Z"
   },
   {
    "duration": 30,
    "start_time": "2022-10-10T20:55:33.072Z"
   },
   {
    "duration": 3,
    "start_time": "2022-10-10T20:55:39.027Z"
   },
   {
    "duration": 4,
    "start_time": "2022-10-10T20:55:42.701Z"
   },
   {
    "duration": 15,
    "start_time": "2022-10-10T20:55:46.873Z"
   },
   {
    "duration": 3,
    "start_time": "2022-10-10T20:55:49.423Z"
   },
   {
    "duration": 29,
    "start_time": "2022-10-10T20:55:53.151Z"
   },
   {
    "duration": 18,
    "start_time": "2022-10-10T20:55:56.635Z"
   },
   {
    "duration": 24,
    "start_time": "2022-10-10T20:55:59.101Z"
   },
   {
    "duration": 63,
    "start_time": "2022-10-10T20:56:01.507Z"
   },
   {
    "duration": 64,
    "start_time": "2022-10-10T20:56:03.486Z"
   },
   {
    "duration": 57,
    "start_time": "2022-10-10T20:56:05.709Z"
   },
   {
    "duration": 37,
    "start_time": "2022-10-10T20:56:09.369Z"
   },
   {
    "duration": 37,
    "start_time": "2022-10-10T20:56:14.975Z"
   },
   {
    "duration": 10,
    "start_time": "2022-10-10T20:56:19.776Z"
   },
   {
    "duration": 36,
    "start_time": "2022-10-10T20:56:25.518Z"
   },
   {
    "duration": 11,
    "start_time": "2022-10-10T20:56:31.585Z"
   },
   {
    "duration": 10,
    "start_time": "2022-10-10T20:56:35.472Z"
   },
   {
    "duration": 3,
    "start_time": "2022-10-10T20:56:38.956Z"
   },
   {
    "duration": 17,
    "start_time": "2022-10-10T20:56:43.945Z"
   },
   {
    "duration": 16,
    "start_time": "2022-10-10T20:57:02.221Z"
   },
   {
    "duration": 14,
    "start_time": "2022-10-10T20:58:16.535Z"
   },
   {
    "duration": 15,
    "start_time": "2022-10-10T20:58:18.686Z"
   },
   {
    "duration": 17,
    "start_time": "2022-10-10T20:58:21.051Z"
   },
   {
    "duration": 14,
    "start_time": "2022-10-10T20:58:23.469Z"
   },
   {
    "duration": 35,
    "start_time": "2022-10-10T21:08:04.792Z"
   },
   {
    "duration": 10,
    "start_time": "2022-10-10T21:09:54.609Z"
   },
   {
    "duration": 3,
    "start_time": "2022-10-10T21:10:03.962Z"
   },
   {
    "duration": 9,
    "start_time": "2022-10-10T21:43:50.076Z"
   },
   {
    "duration": 10,
    "start_time": "2022-10-10T21:43:53.203Z"
   },
   {
    "duration": 180,
    "start_time": "2022-10-10T22:18:01.920Z"
   },
   {
    "duration": 241,
    "start_time": "2022-10-10T22:19:25.043Z"
   },
   {
    "duration": 2,
    "start_time": "2022-10-10T22:20:58.337Z"
   },
   {
    "duration": 11,
    "start_time": "2022-10-10T22:22:40.351Z"
   },
   {
    "duration": 14,
    "start_time": "2022-10-10T22:22:43.876Z"
   },
   {
    "duration": 11,
    "start_time": "2022-10-10T22:22:46.246Z"
   },
   {
    "duration": 6,
    "start_time": "2022-10-10T22:48:43.337Z"
   },
   {
    "duration": 17,
    "start_time": "2022-10-10T22:52:54.488Z"
   },
   {
    "duration": 11,
    "start_time": "2022-10-10T22:54:20.509Z"
   },
   {
    "duration": 20,
    "start_time": "2022-10-10T22:55:18.188Z"
   },
   {
    "duration": 11,
    "start_time": "2022-10-10T22:56:04.059Z"
   },
   {
    "duration": 27,
    "start_time": "2022-10-10T23:24:01.625Z"
   },
   {
    "duration": 23,
    "start_time": "2022-10-10T23:25:33.763Z"
   },
   {
    "duration": 24,
    "start_time": "2022-10-10T23:25:35.915Z"
   },
   {
    "duration": 24,
    "start_time": "2022-10-10T23:26:50.478Z"
   },
   {
    "duration": 5,
    "start_time": "2022-10-10T23:28:37.809Z"
   },
   {
    "duration": 10,
    "start_time": "2022-10-10T23:34:34.997Z"
   },
   {
    "duration": 13,
    "start_time": "2022-10-10T23:35:09.746Z"
   },
   {
    "duration": 8,
    "start_time": "2022-10-10T23:38:25.332Z"
   },
   {
    "duration": 8,
    "start_time": "2022-10-10T23:38:47.468Z"
   },
   {
    "duration": 8,
    "start_time": "2022-10-10T23:38:56.076Z"
   },
   {
    "duration": 11,
    "start_time": "2022-10-10T23:39:42.924Z"
   },
   {
    "duration": 26,
    "start_time": "2022-10-10T23:40:53.241Z"
   },
   {
    "duration": 9,
    "start_time": "2022-10-10T23:41:52.469Z"
   },
   {
    "duration": 8,
    "start_time": "2022-10-10T23:44:25.800Z"
   },
   {
    "duration": 9,
    "start_time": "2022-10-10T23:44:27.841Z"
   },
   {
    "duration": 9,
    "start_time": "2022-10-10T23:44:56.538Z"
   },
   {
    "duration": 9,
    "start_time": "2022-10-10T23:45:00.406Z"
   },
   {
    "duration": 8,
    "start_time": "2022-10-10T23:45:22.992Z"
   },
   {
    "duration": 10,
    "start_time": "2022-10-10T23:45:36.739Z"
   },
   {
    "duration": 8,
    "start_time": "2022-10-10T23:45:39.915Z"
   },
   {
    "duration": 3,
    "start_time": "2022-10-10T23:46:06.493Z"
   },
   {
    "duration": 8,
    "start_time": "2022-10-10T23:46:12.604Z"
   },
   {
    "duration": 7,
    "start_time": "2022-10-10T23:48:06.494Z"
   },
   {
    "duration": 3,
    "start_time": "2022-10-10T23:48:31.205Z"
   },
   {
    "duration": 8,
    "start_time": "2022-10-10T23:48:51.285Z"
   },
   {
    "duration": 9,
    "start_time": "2022-10-10T23:53:46.224Z"
   },
   {
    "duration": 711,
    "start_time": "2022-10-10T23:54:35.248Z"
   },
   {
    "duration": 8,
    "start_time": "2022-10-10T23:58:48.598Z"
   },
   {
    "duration": 8,
    "start_time": "2022-10-10T23:58:59.572Z"
   },
   {
    "duration": 9,
    "start_time": "2022-10-10T23:59:01.384Z"
   },
   {
    "duration": 8,
    "start_time": "2022-10-11T00:00:09.801Z"
   },
   {
    "duration": 8,
    "start_time": "2022-10-11T00:00:26.674Z"
   },
   {
    "duration": 3,
    "start_time": "2022-10-11T00:00:46.247Z"
   },
   {
    "duration": 159,
    "start_time": "2022-10-11T00:00:48.577Z"
   },
   {
    "duration": 6,
    "start_time": "2022-10-11T00:00:51.531Z"
   },
   {
    "duration": 29,
    "start_time": "2022-10-11T00:00:54.253Z"
   },
   {
    "duration": 4,
    "start_time": "2022-10-11T00:00:59.609Z"
   },
   {
    "duration": 8,
    "start_time": "2022-10-11T00:01:02.515Z"
   },
   {
    "duration": 4,
    "start_time": "2022-10-11T00:01:04.645Z"
   },
   {
    "duration": 26,
    "start_time": "2022-10-11T00:01:07.231Z"
   },
   {
    "duration": 17,
    "start_time": "2022-10-11T00:01:10.553Z"
   },
   {
    "duration": 24,
    "start_time": "2022-10-11T00:01:13.085Z"
   },
   {
    "duration": 60,
    "start_time": "2022-10-11T00:01:15.924Z"
   },
   {
    "duration": 65,
    "start_time": "2022-10-11T00:01:18.235Z"
   },
   {
    "duration": 52,
    "start_time": "2022-10-11T00:01:21.021Z"
   },
   {
    "duration": 35,
    "start_time": "2022-10-11T00:01:24.492Z"
   },
   {
    "duration": 11,
    "start_time": "2022-10-11T00:01:29.704Z"
   },
   {
    "duration": 36,
    "start_time": "2022-10-11T00:01:31.975Z"
   },
   {
    "duration": 11,
    "start_time": "2022-10-11T00:01:36.608Z"
   },
   {
    "duration": 11,
    "start_time": "2022-10-11T00:01:39.217Z"
   },
   {
    "duration": 4,
    "start_time": "2022-10-11T00:01:43.354Z"
   },
   {
    "duration": 16,
    "start_time": "2022-10-11T00:01:47.680Z"
   },
   {
    "duration": 16,
    "start_time": "2022-10-11T00:01:54.397Z"
   },
   {
    "duration": 16,
    "start_time": "2022-10-11T00:01:56.727Z"
   },
   {
    "duration": 18,
    "start_time": "2022-10-11T00:01:59.033Z"
   },
   {
    "duration": 17,
    "start_time": "2022-10-11T00:02:00.745Z"
   },
   {
    "duration": 16,
    "start_time": "2022-10-11T00:02:02.825Z"
   },
   {
    "duration": 20,
    "start_time": "2022-10-11T00:02:06.265Z"
   },
   {
    "duration": 8,
    "start_time": "2022-10-11T00:02:10.387Z"
   },
   {
    "duration": 13,
    "start_time": "2022-10-11T00:02:14.011Z"
   },
   {
    "duration": 9,
    "start_time": "2022-10-11T00:02:17.269Z"
   },
   {
    "duration": 5,
    "start_time": "2022-10-11T00:02:21.109Z"
   },
   {
    "duration": 16,
    "start_time": "2022-10-11T00:02:24.352Z"
   },
   {
    "duration": 11,
    "start_time": "2022-10-11T00:02:31.165Z"
   },
   {
    "duration": 17,
    "start_time": "2022-10-11T00:02:33.600Z"
   },
   {
    "duration": 12,
    "start_time": "2022-10-11T00:02:35.689Z"
   },
   {
    "duration": 8,
    "start_time": "2022-10-11T00:02:40.341Z"
   },
   {
    "duration": 6,
    "start_time": "2022-10-11T00:02:46.274Z"
   },
   {
    "duration": 8,
    "start_time": "2022-10-11T00:02:52.670Z"
   },
   {
    "duration": 51,
    "start_time": "2022-10-11T00:03:14.377Z"
   },
   {
    "duration": 45,
    "start_time": "2022-10-11T00:03:16.423Z"
   },
   {
    "duration": 8,
    "start_time": "2022-10-11T00:03:24.580Z"
   },
   {
    "duration": 11,
    "start_time": "2022-10-11T00:03:44.314Z"
   },
   {
    "duration": 8,
    "start_time": "2022-10-11T00:04:02.709Z"
   },
   {
    "duration": 4,
    "start_time": "2022-10-11T00:04:47.907Z"
   },
   {
    "duration": 54,
    "start_time": "2022-10-13T13:31:19.231Z"
   },
   {
    "duration": 370,
    "start_time": "2022-10-13T13:31:25.751Z"
   },
   {
    "duration": 3,
    "start_time": "2022-10-13T13:31:27.951Z"
   },
   {
    "duration": 1290,
    "start_time": "2022-10-13T13:31:32.491Z"
   },
   {
    "duration": 609,
    "start_time": "2022-10-13T13:31:36.728Z"
   },
   {
    "duration": 636,
    "start_time": "2022-10-13T14:15:17.861Z"
   },
   {
    "duration": 3,
    "start_time": "2022-10-13T14:15:22.453Z"
   },
   {
    "duration": 581,
    "start_time": "2022-10-13T14:15:25.059Z"
   },
   {
    "duration": 50,
    "start_time": "2022-11-03T14:16:37.441Z"
   },
   {
    "duration": 429,
    "start_time": "2022-11-03T14:16:40.640Z"
   },
   {
    "duration": 793,
    "start_time": "2022-11-03T14:16:41.071Z"
   },
   {
    "duration": 12,
    "start_time": "2022-11-03T14:16:41.867Z"
   },
   {
    "duration": 49,
    "start_time": "2022-11-03T14:16:41.880Z"
   },
   {
    "duration": 3,
    "start_time": "2022-11-03T14:16:41.931Z"
   },
   {
    "duration": 13,
    "start_time": "2022-11-03T14:16:41.935Z"
   },
   {
    "duration": 26,
    "start_time": "2022-11-03T14:16:41.950Z"
   },
   {
    "duration": 13,
    "start_time": "2022-11-03T14:16:41.977Z"
   },
   {
    "duration": 30,
    "start_time": "2022-11-03T14:16:41.992Z"
   },
   {
    "duration": 17,
    "start_time": "2022-11-03T14:16:42.023Z"
   },
   {
    "duration": 24,
    "start_time": "2022-11-03T14:16:42.042Z"
   },
   {
    "duration": 66,
    "start_time": "2022-11-03T14:16:42.067Z"
   },
   {
    "duration": 81,
    "start_time": "2022-11-03T14:16:42.134Z"
   },
   {
    "duration": 75,
    "start_time": "2022-11-03T14:16:42.218Z"
   },
   {
    "duration": 37,
    "start_time": "2022-11-03T14:16:42.294Z"
   },
   {
    "duration": 25,
    "start_time": "2022-11-03T14:16:42.333Z"
   },
   {
    "duration": 35,
    "start_time": "2022-11-03T14:16:42.359Z"
   },
   {
    "duration": 12,
    "start_time": "2022-11-03T14:16:42.395Z"
   },
   {
    "duration": 16,
    "start_time": "2022-11-03T14:16:42.408Z"
   },
   {
    "duration": 4,
    "start_time": "2022-11-03T14:16:42.426Z"
   },
   {
    "duration": 31,
    "start_time": "2022-11-03T14:16:42.453Z"
   },
   {
    "duration": 15,
    "start_time": "2022-11-03T14:16:42.486Z"
   },
   {
    "duration": 27,
    "start_time": "2022-11-03T14:16:42.503Z"
   },
   {
    "duration": 18,
    "start_time": "2022-11-03T14:16:42.532Z"
   },
   {
    "duration": 18,
    "start_time": "2022-11-03T14:16:42.553Z"
   },
   {
    "duration": 14,
    "start_time": "2022-11-03T14:16:42.573Z"
   },
   {
    "duration": 12,
    "start_time": "2022-11-03T14:16:42.589Z"
   },
   {
    "duration": 20,
    "start_time": "2022-11-03T14:16:42.603Z"
   },
   {
    "duration": 29,
    "start_time": "2022-11-03T14:16:42.625Z"
   },
   {
    "duration": 6,
    "start_time": "2022-11-03T14:16:42.656Z"
   },
   {
    "duration": 26,
    "start_time": "2022-11-03T14:16:42.664Z"
   },
   {
    "duration": 12,
    "start_time": "2022-11-03T14:16:42.691Z"
   },
   {
    "duration": 20,
    "start_time": "2022-11-03T14:16:42.705Z"
   },
   {
    "duration": 36,
    "start_time": "2022-11-03T14:16:42.727Z"
   },
   {
    "duration": 11,
    "start_time": "2022-11-03T14:16:42.764Z"
   },
   {
    "duration": 6,
    "start_time": "2022-11-03T14:16:42.777Z"
   },
   {
    "duration": 24,
    "start_time": "2022-11-03T14:16:42.785Z"
   },
   {
    "duration": 5,
    "start_time": "2022-11-03T14:16:42.811Z"
   },
   {
    "duration": 581,
    "start_time": "2022-11-03T14:19:42.516Z"
   }
  ],
  "colab": {
   "collapsed_sections": [
    "E0vqbgi9ay0H",
    "VUC88oWjTJw2"
   ],
   "name": "automatization_template_upd4.ipynb",
   "provenance": []
  },
  "kernelspec": {
   "display_name": "Python 3 (ipykernel)",
   "language": "python",
   "name": "python3"
  },
  "language_info": {
   "codemirror_mode": {
    "name": "ipython",
    "version": 3
   },
   "file_extension": ".py",
   "mimetype": "text/x-python",
   "name": "python",
   "nbconvert_exporter": "python",
   "pygments_lexer": "ipython3",
   "version": "3.9.12"
  },
  "toc": {
   "base_numbering": 1,
   "nav_menu": {
    "height": "215px",
    "width": "403px"
   },
   "number_sections": true,
   "sideBar": true,
   "skip_h1_title": true,
   "title_cell": "Table of Contents",
   "title_sidebar": "Contents",
   "toc_cell": false,
   "toc_position": {
    "height": "calc(100% - 180px)",
    "left": "10px",
    "top": "150px",
    "width": "285.825px"
   },
   "toc_section_display": true,
   "toc_window_display": false
  }
 },
 "nbformat": 4,
 "nbformat_minor": 1
}
