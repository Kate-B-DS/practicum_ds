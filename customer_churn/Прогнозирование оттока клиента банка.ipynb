{
 "cells": [
  {
   "cell_type": "markdown",
   "id": "e65ccd7e",
   "metadata": {
    "toc": true
   },
   "source": [
    "<h1>Содержание<span class=\"tocSkip\"></span></h1>\n",
    "<div class=\"toc\"><ul class=\"toc-item\"><li><span><a href=\"#Подготовка-данных\" data-toc-modified-id=\"Подготовка-данных-1\"><span class=\"toc-item-num\">1&nbsp;&nbsp;</span>Подготовка данных</a></span></li><li><span><a href=\"#Исследование-задачи\" data-toc-modified-id=\"Исследование-задачи-2\"><span class=\"toc-item-num\">2&nbsp;&nbsp;</span>Исследование задачи</a></span><ul class=\"toc-item\"><li><span><a href=\"#Исследование-баланса-классов-и-разбиение-данных-на-выборки\" data-toc-modified-id=\"Исследование-баланса-классов-и-разбиение-данных-на-выборки-2.1\"><span class=\"toc-item-num\">2.1&nbsp;&nbsp;</span>Исследование баланса классов и разбиение данных на выборки</a></span></li><li><span><a href=\"#Выбор-лучшей-модели-без-учета-дисбаланса-классов\" data-toc-modified-id=\"Выбор-лучшей-модели-без-учета-дисбаланса-классов-2.2\"><span class=\"toc-item-num\">2.2&nbsp;&nbsp;</span>Выбор лучшей модели без учета дисбаланса классов</a></span></li></ul></li><li><span><a href=\"#Борьба-с-дисбалансом\" data-toc-modified-id=\"Борьба-с-дисбалансом-3\"><span class=\"toc-item-num\">3&nbsp;&nbsp;</span>Борьба с дисбалансом</a></span><ul class=\"toc-item\"><li><span><a href=\"#Применение-гиперпараметра-'class_weight=balanced'\" data-toc-modified-id=\"Применение-гиперпараметра-'class_weight=balanced'-3.1\"><span class=\"toc-item-num\">3.1&nbsp;&nbsp;</span>Применение гиперпараметра 'class_weight=balanced'</a></span></li><li><span><a href=\"#Применение-методики-'upsampling'\" data-toc-modified-id=\"Применение-методики-'upsampling'-3.2\"><span class=\"toc-item-num\">3.2&nbsp;&nbsp;</span>Применение методики 'upsampling'</a></span></li><li><span><a href=\"#Применение-методики-'downsampling'\" data-toc-modified-id=\"Применение-методики-'downsampling'-3.3\"><span class=\"toc-item-num\">3.3&nbsp;&nbsp;</span>Применение методики 'downsampling'</a></span></li></ul></li><li><span><a href=\"#Тестирование\" data-toc-modified-id=\"Тестирование-4\"><span class=\"toc-item-num\">4&nbsp;&nbsp;</span>Тестирование</a></span></li><li><span><a href=\"#Общий-вывод\" data-toc-modified-id=\"Общий-вывод-5\"><span class=\"toc-item-num\">5&nbsp;&nbsp;</span>Общий вывод</a></span></li></ul></div>"
   ]
  },
  {
   "cell_type": "markdown",
   "id": "069d5a7a",
   "metadata": {},
   "source": [
    "# Исследование оттока клиента банка \n",
    "\n"
   ]
  },
  {
   "cell_type": "raw",
   "id": "370be5ba",
   "metadata": {},
   "source": [
    "Из «Бета-Банка» стали уходить клиенты. Каждый месяц. Немного, но заметно. Банковские маркетологи посчитали: сохранять текущих клиентов дешевле, чем привлекать новых.\n",
    "\n",
    "Нужно спрогнозировать, уйдёт клиент из банка в ближайшее время или нет. \n",
    "Т.е. в данном проекте целевой признак-категориальный, перед нами задача бинарной классификации. Модель будет обучаться с \"учителем\".\n",
    "\n",
    "Нам предоставлены исторические данные о поведении клиентов и расторжении договоров с банком.\n",
    "\n",
    "Нужно построить модель с предельно большим значением F1-меры. Данную метрику нужно довести до 0.59. \n",
    "А также проверить F1-меру на тестовой выборке.\n",
    "\n",
    "И дополнительно измерить AUC-ROC, сравнивая её значение с F1-мерой."
   ]
  },
  {
   "cell_type": "markdown",
   "id": "819b1856",
   "metadata": {},
   "source": [
    "## Подготовка данных "
   ]
  },
  {
   "cell_type": "code",
   "execution_count": null,
   "id": "dc7aa9f8",
   "metadata": {
    "ExecuteTime": {
     "end_time": "2023-10-15T14:48:59.195768Z",
     "start_time": "2023-10-15T14:48:54.438687Z"
    }
   },
   "outputs": [],
   "source": [
    "# Импортирум датасет и все необходимые модули для исследования\n",
    "\n",
    "!pip install scikit-learn==1.1.3\n",
    "\n",
    "import pandas as pd\n",
    "import numpy as np\n",
    "from sklearn.linear_model import LogisticRegression\n",
    "from sklearn.tree import DecisionTreeClassifier\n",
    "from sklearn.ensemble import RandomForestClassifier\n",
    "from sklearn.model_selection import train_test_split\n",
    "from sklearn.preprocessing import StandardScaler, OneHotEncoder\n",
    "from sklearn.metrics import accuracy_score, f1_score, roc_auc_score, roc_curve\n",
    "from sklearn.utils import shuffle\n",
    "import matplotlib.pyplot as plt\n",
    "from sklearn.model_selection import GridSearchCV\n",
    "import warnings\n",
    "warnings.filterwarnings(\"ignore\")"
   ]
  },
  {
   "cell_type": "markdown",
   "id": "658ef40c",
   "metadata": {
    "ExecuteTime": {
     "end_time": "2023-10-15T14:48:59.195768Z",
     "start_time": "2023-10-15T14:48:54.438687Z"
    }
   },
   "source": [
    "Импорт рабочего датасета скрыт в соответствии с политикой конфиденциальности ЯП."
   ]
  },
  {
   "cell_type": "code",
   "execution_count": 2,
   "id": "4b7909fe",
   "metadata": {
    "ExecuteTime": {
     "end_time": "2023-10-15T14:48:59.227689Z",
     "start_time": "2023-10-15T14:48:59.197109Z"
    }
   },
   "outputs": [
    {
     "name": "stdout",
     "output_type": "stream",
     "text": [
      "<class 'pandas.core.frame.DataFrame'>\n",
      "RangeIndex: 10000 entries, 0 to 9999\n",
      "Data columns (total 14 columns):\n",
      " #   Column           Non-Null Count  Dtype  \n",
      "---  ------           --------------  -----  \n",
      " 0   RowNumber        10000 non-null  int64  \n",
      " 1   CustomerId       10000 non-null  int64  \n",
      " 2   Surname          10000 non-null  object \n",
      " 3   CreditScore      10000 non-null  int64  \n",
      " 4   Geography        10000 non-null  object \n",
      " 5   Gender           10000 non-null  object \n",
      " 6   Age              10000 non-null  int64  \n",
      " 7   Tenure           9091 non-null   float64\n",
      " 8   Balance          10000 non-null  float64\n",
      " 9   NumOfProducts    10000 non-null  int64  \n",
      " 10  HasCrCard        10000 non-null  int64  \n",
      " 11  IsActiveMember   10000 non-null  int64  \n",
      " 12  EstimatedSalary  10000 non-null  float64\n",
      " 13  Exited           10000 non-null  int64  \n",
      "dtypes: float64(3), int64(8), object(3)\n",
      "memory usage: 1.1+ MB\n",
      "None\n",
      "\n",
      "Количесвто явных дубликатов: 0\n",
      "\n",
      "Количесвто пропусков: RowNumber            0\n",
      "CustomerId           0\n",
      "Surname              0\n",
      "CreditScore          0\n",
      "Geography            0\n",
      "Gender               0\n",
      "Age                  0\n",
      "Tenure             909\n",
      "Balance              0\n",
      "NumOfProducts        0\n",
      "HasCrCard            0\n",
      "IsActiveMember       0\n",
      "EstimatedSalary      0\n",
      "Exited               0\n",
      "dtype: int64\n"
     ]
    }
   ],
   "source": [
    "#Проверим данные на наличие/отсутствие пропусков и явных дубликатов:\n",
    "print(df.info())\n",
    "print()\n",
    "print('Количесвто явных дубликатов:', df.duplicated().sum())\n",
    "print()\n",
    "print('Количесвто пропусков:', df.isna().sum())\n"
   ]
  },
  {
   "cell_type": "code",
   "execution_count": 3,
   "id": "f7c43d4e",
   "metadata": {
    "ExecuteTime": {
     "end_time": "2023-10-15T14:48:59.243505Z",
     "start_time": "2023-10-15T14:48:59.229689Z"
    }
   },
   "outputs": [
    {
     "name": "stdout",
     "output_type": "stream",
     "text": [
      "   RowNumber  CustomerId   Surname  CreditScore Geography  Gender  Age  \\\n",
      "0          1    15634602  Hargrave          619    France  Female   42   \n",
      "1          2    15647311      Hill          608     Spain  Female   41   \n",
      "2          3    15619304      Onio          502    France  Female   42   \n",
      "3          4    15701354      Boni          699    France  Female   39   \n",
      "4          5    15737888  Mitchell          850     Spain  Female   43   \n",
      "\n",
      "   Tenure    Balance  NumOfProducts  HasCrCard  IsActiveMember  \\\n",
      "0     2.0       0.00              1          1               1   \n",
      "1     1.0   83807.86              1          0               1   \n",
      "2     8.0  159660.80              3          1               0   \n",
      "3     1.0       0.00              2          0               0   \n",
      "4     2.0  125510.82              1          1               1   \n",
      "\n",
      "   EstimatedSalary  Exited  \n",
      "0        101348.88       1  \n",
      "1        112542.58       0  \n",
      "2        113931.57       1  \n",
      "3         93826.63       0  \n",
      "4         79084.10       0  \n"
     ]
    }
   ],
   "source": [
    "print(df.head()) #Общая структура датасета"
   ]
  },
  {
   "cell_type": "markdown",
   "id": "54e8d355",
   "metadata": {},
   "source": [
    " **В данных есть пропуски в 10% датасета( в столбце `Tenure`) и отсутствуют явные дубликаты**\n"
   ]
  },
  {
   "cell_type": "code",
   "execution_count": 4,
   "id": "dd796462",
   "metadata": {
    "ExecuteTime": {
     "end_time": "2023-10-15T14:48:59.259505Z",
     "start_time": "2023-10-15T14:48:59.244508Z"
    }
   },
   "outputs": [
    {
     "name": "stdout",
     "output_type": "stream",
     "text": [
      "Кол-во пропусков в столбце Tenure: =  0\n"
     ]
    }
   ],
   "source": [
    "#Обработка пропусков в столбце `tenure`\n",
    "#Заполним пропуски медианой\n",
    "df['Tenure'] = df['Tenure'].fillna(df['Tenure'].median())\n",
    "print(\"Кол-во пропусков в столбце Tenure: = \", df['Tenure'].isna().sum())"
   ]
  },
  {
   "cell_type": "code",
   "execution_count": 5,
   "id": "6264b1bc",
   "metadata": {
    "ExecuteTime": {
     "end_time": "2023-10-15T14:48:59.274936Z",
     "start_time": "2023-10-15T14:48:59.262511Z"
    },
    "scrolled": true
   },
   "outputs": [],
   "source": [
    "#В данных есть столбцы, которые не влияют на результат исcледования, но могут повлиять на то,\n",
    "#как модель будет обучаться и потом строить прогнозы. Удалим такие столбцы:\n",
    "df = df.drop(['RowNumber', 'CustomerId', 'Surname'], axis=1)\n"
   ]
  },
  {
   "cell_type": "code",
   "execution_count": 6,
   "id": "40dfc8cd",
   "metadata": {
    "ExecuteTime": {
     "end_time": "2023-10-15T14:48:59.306112Z",
     "start_time": "2023-10-15T14:48:59.275936Z"
    },
    "scrolled": false
   },
   "outputs": [
    {
     "data": {
      "text/html": [
       "<div>\n",
       "<style scoped>\n",
       "    .dataframe tbody tr th:only-of-type {\n",
       "        vertical-align: middle;\n",
       "    }\n",
       "\n",
       "    .dataframe tbody tr th {\n",
       "        vertical-align: top;\n",
       "    }\n",
       "\n",
       "    .dataframe thead th {\n",
       "        text-align: right;\n",
       "    }\n",
       "</style>\n",
       "<table border=\"1\" class=\"dataframe\">\n",
       "  <thead>\n",
       "    <tr style=\"text-align: right;\">\n",
       "      <th></th>\n",
       "      <th>CreditScore</th>\n",
       "      <th>Geography</th>\n",
       "      <th>Gender</th>\n",
       "      <th>Age</th>\n",
       "      <th>Tenure</th>\n",
       "      <th>Balance</th>\n",
       "      <th>NumOfProducts</th>\n",
       "      <th>HasCrCard</th>\n",
       "      <th>IsActiveMember</th>\n",
       "      <th>EstimatedSalary</th>\n",
       "      <th>Exited</th>\n",
       "    </tr>\n",
       "  </thead>\n",
       "  <tbody>\n",
       "    <tr>\n",
       "      <th>0</th>\n",
       "      <td>619</td>\n",
       "      <td>France</td>\n",
       "      <td>Female</td>\n",
       "      <td>42</td>\n",
       "      <td>2.0</td>\n",
       "      <td>0.00</td>\n",
       "      <td>1</td>\n",
       "      <td>1</td>\n",
       "      <td>1</td>\n",
       "      <td>101348.88</td>\n",
       "      <td>1</td>\n",
       "    </tr>\n",
       "    <tr>\n",
       "      <th>1</th>\n",
       "      <td>608</td>\n",
       "      <td>Spain</td>\n",
       "      <td>Female</td>\n",
       "      <td>41</td>\n",
       "      <td>1.0</td>\n",
       "      <td>83807.86</td>\n",
       "      <td>1</td>\n",
       "      <td>0</td>\n",
       "      <td>1</td>\n",
       "      <td>112542.58</td>\n",
       "      <td>0</td>\n",
       "    </tr>\n",
       "    <tr>\n",
       "      <th>2</th>\n",
       "      <td>502</td>\n",
       "      <td>France</td>\n",
       "      <td>Female</td>\n",
       "      <td>42</td>\n",
       "      <td>8.0</td>\n",
       "      <td>159660.80</td>\n",
       "      <td>3</td>\n",
       "      <td>1</td>\n",
       "      <td>0</td>\n",
       "      <td>113931.57</td>\n",
       "      <td>1</td>\n",
       "    </tr>\n",
       "    <tr>\n",
       "      <th>3</th>\n",
       "      <td>699</td>\n",
       "      <td>France</td>\n",
       "      <td>Female</td>\n",
       "      <td>39</td>\n",
       "      <td>1.0</td>\n",
       "      <td>0.00</td>\n",
       "      <td>2</td>\n",
       "      <td>0</td>\n",
       "      <td>0</td>\n",
       "      <td>93826.63</td>\n",
       "      <td>0</td>\n",
       "    </tr>\n",
       "    <tr>\n",
       "      <th>4</th>\n",
       "      <td>850</td>\n",
       "      <td>Spain</td>\n",
       "      <td>Female</td>\n",
       "      <td>43</td>\n",
       "      <td>2.0</td>\n",
       "      <td>125510.82</td>\n",
       "      <td>1</td>\n",
       "      <td>1</td>\n",
       "      <td>1</td>\n",
       "      <td>79084.10</td>\n",
       "      <td>0</td>\n",
       "    </tr>\n",
       "    <tr>\n",
       "      <th>5</th>\n",
       "      <td>645</td>\n",
       "      <td>Spain</td>\n",
       "      <td>Male</td>\n",
       "      <td>44</td>\n",
       "      <td>8.0</td>\n",
       "      <td>113755.78</td>\n",
       "      <td>2</td>\n",
       "      <td>1</td>\n",
       "      <td>0</td>\n",
       "      <td>149756.71</td>\n",
       "      <td>1</td>\n",
       "    </tr>\n",
       "    <tr>\n",
       "      <th>6</th>\n",
       "      <td>822</td>\n",
       "      <td>France</td>\n",
       "      <td>Male</td>\n",
       "      <td>50</td>\n",
       "      <td>7.0</td>\n",
       "      <td>0.00</td>\n",
       "      <td>2</td>\n",
       "      <td>1</td>\n",
       "      <td>1</td>\n",
       "      <td>10062.80</td>\n",
       "      <td>0</td>\n",
       "    </tr>\n",
       "    <tr>\n",
       "      <th>7</th>\n",
       "      <td>376</td>\n",
       "      <td>Germany</td>\n",
       "      <td>Female</td>\n",
       "      <td>29</td>\n",
       "      <td>4.0</td>\n",
       "      <td>115046.74</td>\n",
       "      <td>4</td>\n",
       "      <td>1</td>\n",
       "      <td>0</td>\n",
       "      <td>119346.88</td>\n",
       "      <td>1</td>\n",
       "    </tr>\n",
       "    <tr>\n",
       "      <th>8</th>\n",
       "      <td>501</td>\n",
       "      <td>France</td>\n",
       "      <td>Male</td>\n",
       "      <td>44</td>\n",
       "      <td>4.0</td>\n",
       "      <td>142051.07</td>\n",
       "      <td>2</td>\n",
       "      <td>0</td>\n",
       "      <td>1</td>\n",
       "      <td>74940.50</td>\n",
       "      <td>0</td>\n",
       "    </tr>\n",
       "    <tr>\n",
       "      <th>9</th>\n",
       "      <td>684</td>\n",
       "      <td>France</td>\n",
       "      <td>Male</td>\n",
       "      <td>27</td>\n",
       "      <td>2.0</td>\n",
       "      <td>134603.88</td>\n",
       "      <td>1</td>\n",
       "      <td>1</td>\n",
       "      <td>1</td>\n",
       "      <td>71725.73</td>\n",
       "      <td>0</td>\n",
       "    </tr>\n",
       "  </tbody>\n",
       "</table>\n",
       "</div>"
      ],
      "text/plain": [
       "   CreditScore Geography  Gender  Age  Tenure    Balance  NumOfProducts  \\\n",
       "0          619    France  Female   42     2.0       0.00              1   \n",
       "1          608     Spain  Female   41     1.0   83807.86              1   \n",
       "2          502    France  Female   42     8.0  159660.80              3   \n",
       "3          699    France  Female   39     1.0       0.00              2   \n",
       "4          850     Spain  Female   43     2.0  125510.82              1   \n",
       "5          645     Spain    Male   44     8.0  113755.78              2   \n",
       "6          822    France    Male   50     7.0       0.00              2   \n",
       "7          376   Germany  Female   29     4.0  115046.74              4   \n",
       "8          501    France    Male   44     4.0  142051.07              2   \n",
       "9          684    France    Male   27     2.0  134603.88              1   \n",
       "\n",
       "   HasCrCard  IsActiveMember  EstimatedSalary  Exited  \n",
       "0          1               1        101348.88       1  \n",
       "1          0               1        112542.58       0  \n",
       "2          1               0        113931.57       1  \n",
       "3          0               0         93826.63       0  \n",
       "4          1               1         79084.10       0  \n",
       "5          1               0        149756.71       1  \n",
       "6          1               1         10062.80       0  \n",
       "7          1               0        119346.88       1  \n",
       "8          0               1         74940.50       0  \n",
       "9          1               1         71725.73       0  "
      ]
     },
     "execution_count": 6,
     "metadata": {},
     "output_type": "execute_result"
    }
   ],
   "source": [
    "df.head(10)\n"
   ]
  },
  {
   "cell_type": "markdown",
   "id": "6fe1f983",
   "metadata": {},
   "source": [
    "**Вывод:  \n",
    "Загрузили и исследовали данные, проверили на наличие явных дубликатов и пропусков.  \n",
    "Устранили пропуски. Удалили признаки, необязательные для работы предсказательной модели.  \n",
    "Данные готовы для дальнейшей работы.**"
   ]
  },
  {
   "cell_type": "markdown",
   "id": "333e4491",
   "metadata": {},
   "source": [
    "## Исследование задачи"
   ]
  },
  {
   "cell_type": "markdown",
   "id": "aca40689",
   "metadata": {},
   "source": [
    "### Исследование баланса классов и разбиение данных на выборки"
   ]
  },
  {
   "cell_type": "code",
   "execution_count": 7,
   "id": "d90c62bd",
   "metadata": {
    "ExecuteTime": {
     "end_time": "2023-10-15T14:48:59.321112Z",
     "start_time": "2023-10-15T14:48:59.308113Z"
    }
   },
   "outputs": [
    {
     "data": {
      "text/plain": [
       "0    0.7963\n",
       "1    0.2037\n",
       "Name: Exited, dtype: float64"
      ]
     },
     "execution_count": 7,
     "metadata": {},
     "output_type": "execute_result"
    }
   ],
   "source": [
    "#Исследование дисбаланса классов в целевом признаке:\n",
    "df.Exited.value_counts(normalize = True)"
   ]
  },
  {
   "cell_type": "markdown",
   "id": "b33785a3",
   "metadata": {},
   "source": [
    "Соотношение классов 0/1 равно 4:1."
   ]
  },
  {
   "cell_type": "markdown",
   "id": "30f92f10",
   "metadata": {},
   "source": [
    "**Видим, что процент ухода из банка составляет около 20%, в  то время как оставшихся клиентов 80%. Дисбаланс классов довольно сильный**.\n"
   ]
  },
  {
   "cell_type": "code",
   "execution_count": 8,
   "id": "d492a397",
   "metadata": {
    "ExecuteTime": {
     "end_time": "2023-10-15T14:48:59.352085Z",
     "start_time": "2023-10-15T14:48:59.323157Z"
    },
    "scrolled": true
   },
   "outputs": [
    {
     "name": "stdout",
     "output_type": "stream",
     "text": [
      "Размер тренировочной выборки = 60%\n",
      "Размер валидационной выборки = 20%\n",
      "Размер тестовой выборки = 20%\n"
     ]
    }
   ],
   "source": [
    "#Разобьем данные на выборки:\n",
    "features = df.drop('Exited', axis=1)\n",
    "target = df['Exited']\n",
    "\n",
    "features_train, features_middle, target_train, target_middle = train_test_split(\n",
    "    features, target, test_size=0.4, random_state=12345)\n",
    "\n",
    "\n",
    "features_valid, features_test, target_valid, target_test = train_test_split(\n",
    "features_middle, target_middle, test_size=0.5, random_state=12345)\n",
    "\n",
    "#Проверим размер выборок:\n",
    "print(f'Размер тренировочной выборки = {features_train.shape[0]/len(df):.0%}')\n",
    "print(f'Размер валидационной выборки = {features_valid.shape[0]/len(df):.0%}')\n",
    "print(f'Размер тестовой выборки = {features_test.shape[0]/len(df):.0%}')"
   ]
  },
  {
   "cell_type": "code",
   "execution_count": 9,
   "id": "098dd9ab",
   "metadata": {
    "ExecuteTime": {
     "end_time": "2023-10-15T14:48:59.382203Z",
     "start_time": "2023-10-15T14:48:59.356085Z"
    }
   },
   "outputs": [
    {
     "data": {
      "text/html": [
       "<div>\n",
       "<style scoped>\n",
       "    .dataframe tbody tr th:only-of-type {\n",
       "        vertical-align: middle;\n",
       "    }\n",
       "\n",
       "    .dataframe tbody tr th {\n",
       "        vertical-align: top;\n",
       "    }\n",
       "\n",
       "    .dataframe thead th {\n",
       "        text-align: right;\n",
       "    }\n",
       "</style>\n",
       "<table border=\"1\" class=\"dataframe\">\n",
       "  <thead>\n",
       "    <tr style=\"text-align: right;\">\n",
       "      <th></th>\n",
       "      <th>Geography_Germany</th>\n",
       "      <th>Geography_Spain</th>\n",
       "      <th>Gender_Male</th>\n",
       "      <th>CreditScore</th>\n",
       "      <th>Age</th>\n",
       "      <th>Tenure</th>\n",
       "      <th>Balance</th>\n",
       "      <th>NumOfProducts</th>\n",
       "      <th>HasCrCard</th>\n",
       "      <th>IsActiveMember</th>\n",
       "      <th>EstimatedSalary</th>\n",
       "    </tr>\n",
       "  </thead>\n",
       "  <tbody>\n",
       "    <tr>\n",
       "      <th>0</th>\n",
       "      <td>0.0</td>\n",
       "      <td>1.0</td>\n",
       "      <td>1.0</td>\n",
       "      <td>567</td>\n",
       "      <td>35</td>\n",
       "      <td>8.0</td>\n",
       "      <td>153137.74</td>\n",
       "      <td>1</td>\n",
       "      <td>1</td>\n",
       "      <td>0</td>\n",
       "      <td>88659.07</td>\n",
       "    </tr>\n",
       "    <tr>\n",
       "      <th>1</th>\n",
       "      <td>0.0</td>\n",
       "      <td>0.0</td>\n",
       "      <td>0.0</td>\n",
       "      <td>711</td>\n",
       "      <td>37</td>\n",
       "      <td>8.0</td>\n",
       "      <td>113899.92</td>\n",
       "      <td>1</td>\n",
       "      <td>0</td>\n",
       "      <td>0</td>\n",
       "      <td>80215.20</td>\n",
       "    </tr>\n",
       "    <tr>\n",
       "      <th>2</th>\n",
       "      <td>1.0</td>\n",
       "      <td>0.0</td>\n",
       "      <td>1.0</td>\n",
       "      <td>850</td>\n",
       "      <td>44</td>\n",
       "      <td>3.0</td>\n",
       "      <td>140393.65</td>\n",
       "      <td>2</td>\n",
       "      <td>0</td>\n",
       "      <td>1</td>\n",
       "      <td>186285.52</td>\n",
       "    </tr>\n",
       "    <tr>\n",
       "      <th>3</th>\n",
       "      <td>0.0</td>\n",
       "      <td>0.0</td>\n",
       "      <td>1.0</td>\n",
       "      <td>512</td>\n",
       "      <td>24</td>\n",
       "      <td>6.0</td>\n",
       "      <td>0.00</td>\n",
       "      <td>2</td>\n",
       "      <td>1</td>\n",
       "      <td>0</td>\n",
       "      <td>37654.31</td>\n",
       "    </tr>\n",
       "    <tr>\n",
       "      <th>4</th>\n",
       "      <td>1.0</td>\n",
       "      <td>0.0</td>\n",
       "      <td>0.0</td>\n",
       "      <td>665</td>\n",
       "      <td>27</td>\n",
       "      <td>2.0</td>\n",
       "      <td>147435.96</td>\n",
       "      <td>1</td>\n",
       "      <td>0</td>\n",
       "      <td>0</td>\n",
       "      <td>187508.06</td>\n",
       "    </tr>\n",
       "  </tbody>\n",
       "</table>\n",
       "</div>"
      ],
      "text/plain": [
       "   Geography_Germany  Geography_Spain  Gender_Male  CreditScore  Age  Tenure  \\\n",
       "0                0.0              1.0          1.0          567   35     8.0   \n",
       "1                0.0              0.0          0.0          711   37     8.0   \n",
       "2                1.0              0.0          1.0          850   44     3.0   \n",
       "3                0.0              0.0          1.0          512   24     6.0   \n",
       "4                1.0              0.0          0.0          665   27     2.0   \n",
       "\n",
       "     Balance  NumOfProducts  HasCrCard  IsActiveMember  EstimatedSalary  \n",
       "0  153137.74              1          1               0         88659.07  \n",
       "1  113899.92              1          0               0         80215.20  \n",
       "2  140393.65              2          0               1        186285.52  \n",
       "3       0.00              2          1               0         37654.31  \n",
       "4  147435.96              1          0               0        187508.06  "
      ]
     },
     "metadata": {},
     "output_type": "display_data"
    }
   ],
   "source": [
    "#Т.к. в датасете содержатся не только численные признаки, применим прямое кодирование\n",
    "#к категориальным признакам для каждой из выборок:\n",
    "\n",
    "#Выборка features_train:\n",
    "cols = ['Geography', 'Gender'] #названия столбцов, кот.надо привести к численному представлению:\n",
    "\n",
    "enc = OneHotEncoder(drop='first', handle_unknown='ignore', sparse=False) #Создали объект энкодера.\n",
    "\n",
    "#Cоздание DF из энкодированных данных:                 \n",
    "features_train_enc = pd.DataFrame(data=enc.fit_transform(features_train[cols]),\n",
    "                                  columns=enc.get_feature_names_out(cols)) \n",
    "\n",
    "#Сбросим индекс у исходного датасета:\n",
    "features_train = features_train.reset_index(drop=True)\n",
    "target_train = target_train.reset_index(drop=True)\n",
    "\n",
    "#Объединим датафрейм с преобразованными столбцами с исходным: \n",
    "new_features_train = pd.concat([features_train_enc, features_train], axis=1)\n",
    " \n",
    "#Уберем категориальные столбцы из нового датафрейма:\n",
    "new_features_train.drop(cols, axis=1, inplace=True) \n",
    "\n",
    "#Выведем несколько строк для контроля:\n",
    "display(new_features_train.head(5))\n"
   ]
  },
  {
   "cell_type": "code",
   "execution_count": 10,
   "id": "88d5fb99",
   "metadata": {
    "ExecuteTime": {
     "end_time": "2023-10-15T14:48:59.413203Z",
     "start_time": "2023-10-15T14:48:59.383203Z"
    },
    "scrolled": false
   },
   "outputs": [
    {
     "data": {
      "text/html": [
       "<div>\n",
       "<style scoped>\n",
       "    .dataframe tbody tr th:only-of-type {\n",
       "        vertical-align: middle;\n",
       "    }\n",
       "\n",
       "    .dataframe tbody tr th {\n",
       "        vertical-align: top;\n",
       "    }\n",
       "\n",
       "    .dataframe thead th {\n",
       "        text-align: right;\n",
       "    }\n",
       "</style>\n",
       "<table border=\"1\" class=\"dataframe\">\n",
       "  <thead>\n",
       "    <tr style=\"text-align: right;\">\n",
       "      <th></th>\n",
       "      <th>Geography_Germany</th>\n",
       "      <th>Geography_Spain</th>\n",
       "      <th>Gender_Male</th>\n",
       "      <th>CreditScore</th>\n",
       "      <th>Age</th>\n",
       "      <th>Tenure</th>\n",
       "      <th>Balance</th>\n",
       "      <th>NumOfProducts</th>\n",
       "      <th>HasCrCard</th>\n",
       "      <th>IsActiveMember</th>\n",
       "      <th>EstimatedSalary</th>\n",
       "    </tr>\n",
       "  </thead>\n",
       "  <tbody>\n",
       "    <tr>\n",
       "      <th>0</th>\n",
       "      <td>0.0</td>\n",
       "      <td>0.0</td>\n",
       "      <td>0.0</td>\n",
       "      <td>585</td>\n",
       "      <td>35</td>\n",
       "      <td>2.0</td>\n",
       "      <td>0.00</td>\n",
       "      <td>2</td>\n",
       "      <td>1</td>\n",
       "      <td>0</td>\n",
       "      <td>98621.04</td>\n",
       "    </tr>\n",
       "    <tr>\n",
       "      <th>1</th>\n",
       "      <td>0.0</td>\n",
       "      <td>0.0</td>\n",
       "      <td>0.0</td>\n",
       "      <td>625</td>\n",
       "      <td>45</td>\n",
       "      <td>3.0</td>\n",
       "      <td>0.00</td>\n",
       "      <td>1</td>\n",
       "      <td>1</td>\n",
       "      <td>1</td>\n",
       "      <td>184474.15</td>\n",
       "    </tr>\n",
       "    <tr>\n",
       "      <th>2</th>\n",
       "      <td>1.0</td>\n",
       "      <td>0.0</td>\n",
       "      <td>1.0</td>\n",
       "      <td>667</td>\n",
       "      <td>32</td>\n",
       "      <td>0.0</td>\n",
       "      <td>103846.65</td>\n",
       "      <td>1</td>\n",
       "      <td>1</td>\n",
       "      <td>0</td>\n",
       "      <td>20560.69</td>\n",
       "    </tr>\n",
       "    <tr>\n",
       "      <th>3</th>\n",
       "      <td>0.0</td>\n",
       "      <td>1.0</td>\n",
       "      <td>0.0</td>\n",
       "      <td>568</td>\n",
       "      <td>36</td>\n",
       "      <td>10.0</td>\n",
       "      <td>153610.61</td>\n",
       "      <td>1</td>\n",
       "      <td>1</td>\n",
       "      <td>1</td>\n",
       "      <td>54083.80</td>\n",
       "    </tr>\n",
       "    <tr>\n",
       "      <th>4</th>\n",
       "      <td>0.0</td>\n",
       "      <td>1.0</td>\n",
       "      <td>1.0</td>\n",
       "      <td>606</td>\n",
       "      <td>42</td>\n",
       "      <td>10.0</td>\n",
       "      <td>0.00</td>\n",
       "      <td>2</td>\n",
       "      <td>1</td>\n",
       "      <td>0</td>\n",
       "      <td>177938.52</td>\n",
       "    </tr>\n",
       "  </tbody>\n",
       "</table>\n",
       "</div>"
      ],
      "text/plain": [
       "   Geography_Germany  Geography_Spain  Gender_Male  CreditScore  Age  Tenure  \\\n",
       "0                0.0              0.0          0.0          585   35     2.0   \n",
       "1                0.0              0.0          0.0          625   45     3.0   \n",
       "2                1.0              0.0          1.0          667   32     0.0   \n",
       "3                0.0              1.0          0.0          568   36    10.0   \n",
       "4                0.0              1.0          1.0          606   42    10.0   \n",
       "\n",
       "     Balance  NumOfProducts  HasCrCard  IsActiveMember  EstimatedSalary  \n",
       "0       0.00              2          1               0         98621.04  \n",
       "1       0.00              1          1               1        184474.15  \n",
       "2  103846.65              1          1               0         20560.69  \n",
       "3  153610.61              1          1               1         54083.80  \n",
       "4       0.00              2          1               0        177938.52  "
      ]
     },
     "metadata": {},
     "output_type": "display_data"
    }
   ],
   "source": [
    "#Выборка features_valid:\n",
    "\n",
    "#Cоздание объекта DF:\n",
    "features_valid_enc = pd.DataFrame(data=enc.transform(features_valid[cols]),\n",
    "                                  columns=enc.get_feature_names_out(cols))\n",
    "\n",
    "#Сброс индекса у исходного датафрейма:\n",
    "features_valid = features_valid.reset_index(drop=True)\n",
    "target_valid = target_valid.reset_index(drop=True)\n",
    "\n",
    "#Объединение датафреймов\n",
    "new_features_valid = pd.concat([features_valid_enc, features_valid], axis=1)\n",
    "\n",
    "#Уберем категориальные столбцы из нового датафрейма\n",
    "new_features_valid.drop(cols, axis=1, inplace=True) \n",
    "\n",
    "#Выведем несколько строк для контроля:\n",
    "display(new_features_valid.head(5))\n"
   ]
  },
  {
   "cell_type": "code",
   "execution_count": 11,
   "id": "3bc1ed6e",
   "metadata": {
    "ExecuteTime": {
     "end_time": "2023-10-15T14:48:59.444202Z",
     "start_time": "2023-10-15T14:48:59.415203Z"
    }
   },
   "outputs": [
    {
     "data": {
      "text/html": [
       "<div>\n",
       "<style scoped>\n",
       "    .dataframe tbody tr th:only-of-type {\n",
       "        vertical-align: middle;\n",
       "    }\n",
       "\n",
       "    .dataframe tbody tr th {\n",
       "        vertical-align: top;\n",
       "    }\n",
       "\n",
       "    .dataframe thead th {\n",
       "        text-align: right;\n",
       "    }\n",
       "</style>\n",
       "<table border=\"1\" class=\"dataframe\">\n",
       "  <thead>\n",
       "    <tr style=\"text-align: right;\">\n",
       "      <th></th>\n",
       "      <th>Geography_Germany</th>\n",
       "      <th>Geography_Spain</th>\n",
       "      <th>Gender_Male</th>\n",
       "      <th>CreditScore</th>\n",
       "      <th>Age</th>\n",
       "      <th>Tenure</th>\n",
       "      <th>Balance</th>\n",
       "      <th>NumOfProducts</th>\n",
       "      <th>HasCrCard</th>\n",
       "      <th>IsActiveMember</th>\n",
       "      <th>EstimatedSalary</th>\n",
       "    </tr>\n",
       "  </thead>\n",
       "  <tbody>\n",
       "    <tr>\n",
       "      <th>0</th>\n",
       "      <td>0.0</td>\n",
       "      <td>0.0</td>\n",
       "      <td>1.0</td>\n",
       "      <td>438</td>\n",
       "      <td>38</td>\n",
       "      <td>2.0</td>\n",
       "      <td>0.00</td>\n",
       "      <td>2</td>\n",
       "      <td>1</td>\n",
       "      <td>0</td>\n",
       "      <td>136859.55</td>\n",
       "    </tr>\n",
       "    <tr>\n",
       "      <th>1</th>\n",
       "      <td>0.0</td>\n",
       "      <td>0.0</td>\n",
       "      <td>0.0</td>\n",
       "      <td>644</td>\n",
       "      <td>39</td>\n",
       "      <td>9.0</td>\n",
       "      <td>0.00</td>\n",
       "      <td>1</td>\n",
       "      <td>1</td>\n",
       "      <td>0</td>\n",
       "      <td>3740.93</td>\n",
       "    </tr>\n",
       "    <tr>\n",
       "      <th>2</th>\n",
       "      <td>0.0</td>\n",
       "      <td>1.0</td>\n",
       "      <td>1.0</td>\n",
       "      <td>564</td>\n",
       "      <td>31</td>\n",
       "      <td>5.0</td>\n",
       "      <td>121461.87</td>\n",
       "      <td>1</td>\n",
       "      <td>1</td>\n",
       "      <td>1</td>\n",
       "      <td>20432.09</td>\n",
       "    </tr>\n",
       "    <tr>\n",
       "      <th>3</th>\n",
       "      <td>0.0</td>\n",
       "      <td>1.0</td>\n",
       "      <td>1.0</td>\n",
       "      <td>628</td>\n",
       "      <td>40</td>\n",
       "      <td>10.0</td>\n",
       "      <td>0.00</td>\n",
       "      <td>2</td>\n",
       "      <td>1</td>\n",
       "      <td>0</td>\n",
       "      <td>103832.58</td>\n",
       "    </tr>\n",
       "    <tr>\n",
       "      <th>4</th>\n",
       "      <td>0.0</td>\n",
       "      <td>0.0</td>\n",
       "      <td>1.0</td>\n",
       "      <td>728</td>\n",
       "      <td>30</td>\n",
       "      <td>10.0</td>\n",
       "      <td>114835.43</td>\n",
       "      <td>1</td>\n",
       "      <td>0</td>\n",
       "      <td>1</td>\n",
       "      <td>37662.49</td>\n",
       "    </tr>\n",
       "  </tbody>\n",
       "</table>\n",
       "</div>"
      ],
      "text/plain": [
       "   Geography_Germany  Geography_Spain  Gender_Male  CreditScore  Age  Tenure  \\\n",
       "0                0.0              0.0          1.0          438   38     2.0   \n",
       "1                0.0              0.0          0.0          644   39     9.0   \n",
       "2                0.0              1.0          1.0          564   31     5.0   \n",
       "3                0.0              1.0          1.0          628   40    10.0   \n",
       "4                0.0              0.0          1.0          728   30    10.0   \n",
       "\n",
       "     Balance  NumOfProducts  HasCrCard  IsActiveMember  EstimatedSalary  \n",
       "0       0.00              2          1               0        136859.55  \n",
       "1       0.00              1          1               0          3740.93  \n",
       "2  121461.87              1          1               1         20432.09  \n",
       "3       0.00              2          1               0        103832.58  \n",
       "4  114835.43              1          0               1         37662.49  "
      ]
     },
     "metadata": {},
     "output_type": "display_data"
    }
   ],
   "source": [
    "#Выборка features_test:\n",
    "\n",
    "#Cоздание объекта DF:\n",
    "features_test_enc = pd.DataFrame(data=enc.transform(features_test[cols]),\n",
    "                                  columns=enc.get_feature_names_out(cols))\n",
    "\n",
    "#Сброс индекса у исходного датафрейма:\n",
    "features_test = features_test.reset_index(drop=True)\n",
    "target_test = target_test.reset_index(drop=True)\n",
    "\n",
    "#Объединение датафреймов\n",
    "new_features_test = pd.concat([features_test_enc, features_test], axis=1)\n",
    "\n",
    "#Уберем категориальные столбцы из нового датафрейма\n",
    "new_features_test.drop(cols, axis=1, inplace=True) \n",
    "\n",
    "#Выведем несколько строк для контроля:\n",
    "display(new_features_test.head(5))"
   ]
  },
  {
   "cell_type": "code",
   "execution_count": 12,
   "id": "3bf967fc",
   "metadata": {
    "ExecuteTime": {
     "end_time": "2023-10-15T14:48:59.475203Z",
     "start_time": "2023-10-15T14:48:59.446203Z"
    },
    "scrolled": false
   },
   "outputs": [
    {
     "name": "stdout",
     "output_type": "stream",
     "text": [
      "   Geography_Germany  Geography_Spain  Gender_Male  CreditScore       Age  \\\n",
      "0                0.0              0.0          0.0    -0.699824 -0.373192   \n",
      "1                0.0              0.0          0.0    -0.284431  0.575842   \n",
      "2                1.0              0.0          1.0     0.151731 -0.657902   \n",
      "3                0.0              1.0          0.0    -0.876366 -0.278288   \n",
      "4                0.0              1.0          1.0    -0.481743  0.291132   \n",
      "\n",
      "     Tenure   Balance  NumOfProducts  HasCrCard  IsActiveMember  \\\n",
      "0 -1.101690 -1.233163       0.830152          1               0   \n",
      "1 -0.737696 -1.233163      -0.891560          1               1   \n",
      "2 -1.829679  0.438711      -0.891560          1               0   \n",
      "3  1.810266  1.239884      -0.891560          1               1   \n",
      "4  1.810266 -1.233163       0.830152          1               0   \n",
      "\n",
      "   EstimatedSalary  \n",
      "0        -0.015173  \n",
      "1         1.471724  \n",
      "2        -1.367107  \n",
      "3        -0.786517  \n",
      "4         1.358533  \n"
     ]
    }
   ],
   "source": [
    "#Приведем небинарные числовые признаки к одному масштабу для дальнейшей работы с моделями Логистической регрессии:\n",
    "#Создадим независимые копии выборок для Логистической регрессии:\n",
    "\n",
    "new_features_train_scaled = new_features_train.copy()\n",
    "new_features_valid_scaled = new_features_valid.copy()\n",
    "\n",
    "\n",
    "numeric = ['CreditScore', 'Age', 'Tenure', 'Balance','NumOfProducts', 'EstimatedSalary']\n",
    "\n",
    "sc = StandardScaler() #Объект StandardScaler\n",
    "\n",
    "sc.fit(new_features_train_scaled[numeric])#Настроим на выборке после ohe\n",
    "\n",
    "new_features_train_scaled[numeric] = sc.fit_transform(new_features_train_scaled[numeric])\n",
    "\n",
    "new_features_valid_scaled[numeric] = sc.transform(new_features_valid_scaled[numeric])\n",
    "\n",
    "print(new_features_valid_scaled.head(5))"
   ]
  },
  {
   "cell_type": "markdown",
   "id": "04ed5faf",
   "metadata": {},
   "source": [
    "**Вывод:  \n",
    "Разбили данные на выборки и проверили их размерность. Доли размеров train/valid/test 3:1:1.  \n",
    "Осуществили кодирование категориальных признаков, привели к одному масштабу числовы признаки для работы с Логистической регрессией и создали новые датафреймы c численным представлением категориальных признаков, готовые для работы с моделями.**"
   ]
  },
  {
   "cell_type": "markdown",
   "id": "2135e6dd",
   "metadata": {},
   "source": [
    "### Выбор лучшей модели без учета дисбаланса классов"
   ]
  },
  {
   "cell_type": "code",
   "execution_count": 13,
   "id": "6d1c85cc",
   "metadata": {
    "ExecuteTime": {
     "end_time": "2023-10-15T14:48:59.507205Z",
     "start_time": "2023-10-15T14:48:59.477202Z"
    }
   },
   "outputs": [
    {
     "name": "stdout",
     "output_type": "stream",
     "text": [
      "accuracy Логистической регрессии на валидационной выборке составляет 0.802\n"
     ]
    }
   ],
   "source": [
    "#Исследуем модель Логистической регрессии:\n",
    "model_lr = LogisticRegression(random_state = 12345, solver='liblinear', max_iter=100)\n",
    "model_lr.fit(new_features_train_scaled, target_train)\n",
    "new_valid_predictions = model_lr.predict(new_features_valid_scaled)\n",
    "accuracy = accuracy_score(target_valid, new_valid_predictions)\n",
    "\n",
    "print('accuracy Логистической регрессии на валидационной выборке составляет', accuracy)\n"
   ]
  },
  {
   "cell_type": "code",
   "execution_count": 14,
   "id": "2a13ce9a",
   "metadata": {
    "ExecuteTime": {
     "end_time": "2023-10-15T14:48:59.522350Z",
     "start_time": "2023-10-15T14:48:59.509347Z"
    }
   },
   "outputs": [
    {
     "name": "stdout",
     "output_type": "stream",
     "text": [
      "accuracy случайной модели на валидационной выборке составляет 0.791\n"
     ]
    }
   ],
   "source": [
    "#Проверим accuracy случайной модели Логистической регрессии:\n",
    "target_pred_constant_lr = pd.Series(0, index=target_valid.index)\n",
    "accuracy_const_lr = accuracy_score(target_valid, target_pred_constant_lr)\n",
    "print('accuracy случайной модели на валидационной выборке составляет', accuracy_const_lr)\n"
   ]
  },
  {
   "cell_type": "code",
   "execution_count": 15,
   "id": "3b05813d",
   "metadata": {
    "ExecuteTime": {
     "end_time": "2023-10-15T14:48:59.537426Z",
     "start_time": "2023-10-15T14:48:59.524347Z"
    }
   },
   "outputs": [
    {
     "name": "stdout",
     "output_type": "stream",
     "text": [
      "f1_score_lr =  0.33\n"
     ]
    }
   ],
   "source": [
    "#Модель адекватна, найдем для нее f1_score:\n",
    "f1_score_lr = f1_score(target_valid, new_valid_predictions)\n",
    "print('f1_score_lr = ',round(f1_score_lr, 2))\n"
   ]
  },
  {
   "cell_type": "code",
   "execution_count": 16,
   "id": "ef7a9691",
   "metadata": {
    "ExecuteTime": {
     "end_time": "2023-10-15T14:48:59.648647Z",
     "start_time": "2023-10-15T14:48:59.539350Z"
    }
   },
   "outputs": [
    {
     "name": "stdout",
     "output_type": "stream",
     "text": [
      "Лучшая модель: DecisionTreeClassifier(max_depth=6, random_state=12345), c лучшей accuracy: 0.858\n"
     ]
    }
   ],
   "source": [
    "#Исследуем модель Решающего дерева:\n",
    "#Подберем оптимальную глубину:\n",
    "\n",
    "best_model_dt=None\n",
    "best_accuracy=0\n",
    "\n",
    "for depth in range(1, 9):\n",
    "    model_dt = DecisionTreeClassifier(random_state=12345, max_depth = depth)\n",
    "    model_dt.fit(new_features_train, target_train)\n",
    "    predictions_valid = model_dt.predict(new_features_valid)\n",
    "    accuracy = accuracy_score(target_valid, predictions_valid) \n",
    "    \n",
    "    if accuracy > best_accuracy:\n",
    "        best_accuracy = accuracy\n",
    "        best_model_dt = model_dt\n",
    "        \n",
    "print(f'Лучшая модель: {best_model_dt}, c лучшей accuracy: {best_accuracy}')\n"
   ]
  },
  {
   "cell_type": "code",
   "execution_count": 17,
   "id": "171c713b",
   "metadata": {
    "ExecuteTime": {
     "end_time": "2023-10-15T14:48:59.664654Z",
     "start_time": "2023-10-15T14:48:59.650570Z"
    }
   },
   "outputs": [
    {
     "name": "stdout",
     "output_type": "stream",
     "text": [
      "accuracy случайной модели на валидационной выборке составляет 0.791\n"
     ]
    }
   ],
   "source": [
    "#Проверим accuracy случайной модели Решающего дерева:\n",
    "target_pred_constant_dt = pd.Series(0, index=target_valid.index)\n",
    "accuracy_const_dt = accuracy_score(target_valid, target_pred_constant_dt)\n",
    "\n",
    "print('accuracy случайной модели на валидационной выборке составляет', accuracy_const_dt)\n"
   ]
  },
  {
   "cell_type": "markdown",
   "id": "502e2c0f",
   "metadata": {},
   "source": [
    "**Модель прошла проверку на адекватность, однако качество обученной модели не сильно выше качества случайной.\n",
    "Найдём для нее *f1-меру*.** "
   ]
  },
  {
   "cell_type": "code",
   "execution_count": 18,
   "id": "73f355f6",
   "metadata": {
    "ExecuteTime": {
     "end_time": "2023-10-15T14:48:59.696648Z",
     "start_time": "2023-10-15T14:48:59.666569Z"
    }
   },
   "outputs": [
    {
     "name": "stdout",
     "output_type": "stream",
     "text": [
      "f1-мера для лучшей модели решающего дерева = 0.5683890577507599\n"
     ]
    }
   ],
   "source": [
    "#Модель Решающего дерева:\n",
    "\n",
    "best_model_dt = DecisionTreeClassifier(max_depth=6, random_state=12345)\n",
    "best_model_dt.fit(new_features_train, target_train)\n",
    "best_model_dt_predictions = best_model_dt.predict(new_features_valid)\n",
    " \n",
    "print('f1-мера для лучшей модели решающего дерева =', f1_score(target_valid, best_model_dt_predictions)) "
   ]
  },
  {
   "cell_type": "markdown",
   "id": "ab25e670",
   "metadata": {},
   "source": [
    "**F1-мера меньше единицы --> данная модель плохо предсказывает положительный класс, это может быть связано с сильным дисбалансом классов в target-признаке.  \n",
    "Продолжим поиски оптимальной модели.**"
   ]
  },
  {
   "cell_type": "code",
   "execution_count": 19,
   "id": "8fec9e5a",
   "metadata": {
    "ExecuteTime": {
     "end_time": "2023-10-15T14:49:12.102324Z",
     "start_time": "2023-10-15T14:48:59.698646Z"
    },
    "scrolled": true
   },
   "outputs": [
    {
     "name": "stdout",
     "output_type": "stream",
     "text": [
      "Лучшая модель RandomForestClassifier(max_depth=15, n_estimators=11, random_state=12345)| Лучшая f1_score = 0.6187050359712231\n"
     ]
    }
   ],
   "source": [
    "# Случайный лес помогает улучшить результат предсказания и избежать переобучения\n",
    "# Обучим модели случайного леса с количеством деревьев от 1 до 10:\n",
    "# При max_depth от 1 до 10:\n",
    "\n",
    "best_model_rf = None\n",
    "\n",
    "#Будем сразу искать f1-меру, т.к. на примере решающего дерева эта метрика оказалась более говорящей о качестве модели.\n",
    "best_f1_rf = 0\n",
    "\n",
    "for est in range(1, 20):\n",
    "    for depth in range(1, 20):\n",
    "        #Инициализируем модель случайного леса:\n",
    "        model_rf = RandomForestClassifier(random_state=12345, max_depth=depth, n_estimators=est)\n",
    "        #Обучим на тренировочной выборке:\n",
    "        model_rf.fit(new_features_train, target_train)\n",
    "        predictions_rf = model_rf.predict(new_features_valid)\n",
    "        f1_rf = f1_score(target_valid, predictions_rf)\n",
    "        \n",
    "        if f1_rf > best_f1_rf:\n",
    "            best_f1_rf = f1_rf\n",
    "            best_model_rf = model_rf\n",
    "            \n",
    "print(f'Лучшая модель {best_model_rf}| Лучшая f1_score = {best_f1_rf}')  \n"
   ]
  },
  {
   "cell_type": "code",
   "execution_count": 20,
   "id": "dc007228",
   "metadata": {
    "ExecuteTime": {
     "end_time": "2023-10-15T14:49:12.118325Z",
     "start_time": "2023-10-15T14:49:12.104324Z"
    }
   },
   "outputs": [
    {
     "name": "stdout",
     "output_type": "stream",
     "text": [
      "Метрика Roc-Auc = 0.8345146353413704\n"
     ]
    }
   ],
   "source": [
    "#Найдем Auc-Roc лучшей модели без учета дисбаланса\n",
    "\n",
    "probabilities_valid = best_model_rf.predict_proba(new_features_valid)\n",
    "probabilities_one_valid = probabilities_valid[:, 1]\n",
    "\n",
    "auc_roc = roc_auc_score(target_valid, probabilities_one_valid)\n",
    "\n",
    "print(f'Метрика Roc-Auc = {auc_roc}')"
   ]
  },
  {
   "cell_type": "markdown",
   "id": "c31b69f1",
   "metadata": {},
   "source": [
    "**Вывод:  \n",
    "В ходе исследования задачи на несбалансированной выборке выяснили, что лучшей моделью является модель Случайного леса, с *F1-мерой* = 0.618, и метрикой AUC_ROC = 0.834  \n",
    "Однако такая величина нас не устраивает, поэтому продолжим работу с данными, применив их улучшение.**"
   ]
  },
  {
   "cell_type": "markdown",
   "id": "00627b5f",
   "metadata": {},
   "source": [
    "## Борьба с дисбалансом"
   ]
  },
  {
   "cell_type": "markdown",
   "id": "068c88a5",
   "metadata": {},
   "source": [
    "**В пункте 2 исследования мы увидели, что дисбаланс классов в данных сильно влияет на обучение и конечный\n",
    "результат работы модели. Поэтому применим несколько способов борьбы с ним и посмотрим, как улучшатся показатели.**\n"
   ]
  },
  {
   "cell_type": "markdown",
   "id": "9540e7f9",
   "metadata": {},
   "source": [
    "### Применение гиперпараметра 'class_weight=balanced'"
   ]
  },
  {
   "cell_type": "code",
   "execution_count": 21,
   "id": "3c4b5309",
   "metadata": {
    "ExecuteTime": {
     "end_time": "2023-10-15T14:49:12.150398Z",
     "start_time": "2023-10-15T14:49:12.120325Z"
    }
   },
   "outputs": [
    {
     "name": "stdout",
     "output_type": "stream",
     "text": [
      "F1-score модели Логистической регрессии: 0.49\n"
     ]
    }
   ],
   "source": [
    "#Придадим объектам редкого класса больший вес:\n",
    "\n",
    "#модель Логистической регрессии:\n",
    "model_lr_1 = LogisticRegression(random_state=12345, solver='liblinear', class_weight='balanced')\n",
    "model_lr_1.fit(new_features_train_scaled, target_train)\n",
    "predicted_valid = model_lr_1.predict(new_features_valid_scaled)\n",
    "print('F1-score модели Логистической регрессии:',round(f1_score(target_valid, predicted_valid), 2))"
   ]
  },
  {
   "cell_type": "code",
   "execution_count": 22,
   "id": "bd8ebad0",
   "metadata": {
    "ExecuteTime": {
     "end_time": "2023-10-15T14:49:14.009129Z",
     "start_time": "2023-10-15T14:49:12.152326Z"
    },
    "scrolled": true
   },
   "outputs": [
    {
     "name": "stdout",
     "output_type": "stream",
     "text": [
      "\n",
      "Лучшая модель DecisionTreeClassifier(class_weight='balanced', max_depth=5, random_state=12345)\n",
      "имеет F1-score: 0.5963791267305644\n",
      "\n",
      "Лучшая модель RandomForestClassifier(class_weight='balanced', max_depth=6, n_estimators=7,\n",
      "                       random_state=12345)\n",
      "имеет F1-score: 0.6217821782178219\n"
     ]
    }
   ],
   "source": [
    "#найдем лучшую модель Решающего дерева при сбалансированных классах:\n",
    "best_model = None\n",
    "f1_dt1=0\n",
    "for depth in range(1, 11):\n",
    "    model_dt_1 = DecisionTreeClassifier(max_depth=depth, random_state=12345, class_weight='balanced')\n",
    "    model_dt_1.fit(new_features_train, target_train)\n",
    "    predicted_valid_dt_1 = model_dt_1.predict(new_features_valid)\n",
    "    f1_score_dt_1 = f1_score(target_valid, predicted_valid_dt_1)\n",
    "    \n",
    "    if f1_score_dt_1 > f1_dt1:\n",
    "        f1_dt1 = f1_score_dt_1\n",
    "        best_model = model_dt_1\n",
    "print()    \n",
    "print(f'Лучшая модель {best_model}\\nимеет F1-score: {f1_dt1}')\n",
    "\n",
    "#найдем лучшую модель Случайного леса:\n",
    "\n",
    "best_model = None\n",
    "f1_rf1 = 0\n",
    "\n",
    "for est in range(1, 11):\n",
    "    for depth in range(1, 11):\n",
    "        model_rf_1 = RandomForestClassifier(random_state=12345, n_estimators=est, max_depth=depth, class_weight='balanced')\n",
    "        model_rf_1.fit(new_features_train, target_train)\n",
    "        predicted_valid_rf_1 = model_rf_1.predict(new_features_valid)\n",
    "        f1_score_rf_1 = f1_score(target_valid, predicted_valid_rf_1)\n",
    "        \n",
    "        if f1_score_rf_1 > f1_rf1:\n",
    "            f1_rf1 = f1_score_rf_1\n",
    "            best_model = model_rf_1\n",
    "print()            \n",
    "print(f'Лучшая модель {best_model}\\nимеет F1-score: {f1_rf1}')           \n",
    "        "
   ]
  },
  {
   "cell_type": "code",
   "execution_count": 23,
   "id": "e25d1b40",
   "metadata": {
    "ExecuteTime": {
     "end_time": "2023-10-15T14:49:14.025129Z",
     "start_time": "2023-10-15T14:49:14.010145Z"
    }
   },
   "outputs": [
    {
     "name": "stdout",
     "output_type": "stream",
     "text": [
      "Метрика Roc-Auc = 0.8470215159781997\n"
     ]
    }
   ],
   "source": [
    "#Опредлим AUC-ROC для лучшей модели(случайного леса):\n",
    "\n",
    "probabilities_valid = best_model.predict_proba(new_features_valid)\n",
    "probabilities_one_valid = probabilities_valid[:, 1]\n",
    "\n",
    "auc_roc = roc_auc_score(target_valid, probabilities_one_valid)\n",
    "\n",
    "print(f'Метрика Roc-Auc = {auc_roc}')\n"
   ]
  },
  {
   "cell_type": "markdown",
   "id": "a52a3303",
   "metadata": {},
   "source": [
    "**Вывод:      \n",
    "Лучшей моделью по-прежнему остается модель Случайного леса c *f1-мерой* = 0.622, и метрикой AUC_ROC = 0.847**\n"
   ]
  },
  {
   "cell_type": "markdown",
   "id": "19cf9a14",
   "metadata": {},
   "source": [
    "### Применение методики 'upsampling'"
   ]
  },
  {
   "cell_type": "code",
   "execution_count": 24,
   "id": "b4fcea30",
   "metadata": {
    "ExecuteTime": {
     "end_time": "2023-10-15T14:49:14.040504Z",
     "start_time": "2023-10-15T14:49:14.027136Z"
    }
   },
   "outputs": [],
   "source": [
    "#Применим технику увеличения выборки:\n",
    "\n",
    "#Создадим функцию upsample:\n",
    "def upsample(features, target, repeat):\n",
    "    \n",
    "    features_zeros = features[target == 0]\n",
    "    features_ones = features[target == 1]\n",
    "    target_zeros = target[target == 0]\n",
    "    target_ones = target[target == 1]\n",
    "    \n",
    "    features_upsampled = pd.concat([features_zeros] + [features_ones] * repeat)\n",
    "    target_upsampled = pd.concat([target_zeros] + [target_ones] * repeat)\n",
    "    \n",
    "    features_upsampled, target_upsampled = shuffle(\n",
    "        features_upsampled, target_upsampled, random_state=12345)\n",
    "    \n",
    "    return features_upsampled, target_upsampled"
   ]
  },
  {
   "cell_type": "code",
   "execution_count": 25,
   "id": "aaa38c66",
   "metadata": {
    "ExecuteTime": {
     "end_time": "2023-10-15T14:49:14.070318Z",
     "start_time": "2023-10-15T14:49:14.042623Z"
    }
   },
   "outputs": [
    {
     "name": "stdout",
     "output_type": "stream",
     "text": [
      "0    0.501043\n",
      "1    0.498957\n",
      "Name: Exited, dtype: float64\n",
      "\n",
      "0    0.501043\n",
      "1    0.498957\n",
      "Name: Exited, dtype: float64\n"
     ]
    }
   ],
   "source": [
    "#Класс 0 относится к классу 1 как 4:1.Т.е для устранения дисбаланса увеличим в 4 раза кол-во элементов класса 1:\n",
    "features_upsampled, target_upsampled = upsample(new_features_train, target_train, 4)\n",
    "\n",
    "#То же для Логистической регрессии:\n",
    "features_upsampled_scaled, target_upsampled_scaled = upsample(new_features_train_scaled, target_train, 4)\n",
    "\n",
    "#Проверим дисбаланс:\n",
    "print(target_upsampled.value_counts(normalize=True))\n",
    "print()\n",
    "print(target_upsampled_scaled.value_counts(normalize=True))"
   ]
  },
  {
   "cell_type": "code",
   "execution_count": 26,
   "id": "24713d43",
   "metadata": {
    "ExecuteTime": {
     "end_time": "2023-10-15T14:49:16.610273Z",
     "start_time": "2023-10-15T14:49:14.072388Z"
    }
   },
   "outputs": [
    {
     "name": "stdout",
     "output_type": "stream",
     "text": [
      "F1-score модели Логистической регрессии: 0.4888507718696398\n",
      "\n",
      "Лучшая модель DecisionTreeClassifier(max_depth=5, random_state=12345)\n",
      "имеет F1-score: 0.5963791267305644\n",
      "\n",
      "Лучшая модель RandomForestClassifier(max_depth=10, n_estimators=10, random_state=12345)\n",
      "имеет F1-score: 0.6163793103448275\n"
     ]
    }
   ],
   "source": [
    "#модель Логистической регрессии:\n",
    "model_lr_2 = LogisticRegression(random_state=12345, solver='liblinear')\n",
    "model_lr_2.fit(features_upsampled_scaled, target_upsampled_scaled)\n",
    "predicted_valid_lr_2 = model_lr_2.predict(new_features_valid_scaled)\n",
    "print('F1-score модели Логистической регрессии:', f1_score(target_valid, predicted_valid_lr_2))\n",
    "print()\n",
    "\n",
    "#модель Решающего дерева:\n",
    "best_model = None\n",
    "f1_dt2=0\n",
    "\n",
    "for depth in range(1, 15):\n",
    "    model_dt_2 = DecisionTreeClassifier(max_depth=depth, random_state=12345)\n",
    "    model_dt_2.fit(features_upsampled, target_upsampled)\n",
    "    predicted_valid_dt_2 = model_dt_2.predict(new_features_valid)\n",
    "    f1_score_dt_2 = f1_score(target_valid, predicted_valid_dt_2)\n",
    "    \n",
    "    if f1_score_dt_2 > f1_dt2:\n",
    "        f1_dt2 = f1_score_dt_2\n",
    "        best_model = model_dt_2\n",
    "    \n",
    "print(f'Лучшая модель {best_model}\\nимеет F1-score: {f1_dt2}')\n",
    "print()\n",
    "\n",
    "#модель Случайного леса:\n",
    "best_model = None\n",
    "f1_rf2 = 0\n",
    "\n",
    "for est in range(1, 11):\n",
    "    for depth in range(1, 11):\n",
    "        model_rf_2 = RandomForestClassifier(random_state=12345, n_estimators=est, max_depth=depth)\n",
    "        model_rf_2.fit(features_upsampled, target_upsampled)\n",
    "        predicted_valid_rf_2 = model_rf_2.predict(new_features_valid)\n",
    "        f1_score_rf_2 = f1_score(target_valid, predicted_valid_rf_2)\n",
    "        \n",
    "        if f1_score_rf_2 > f1_rf2:\n",
    "            f1_rf2 = f1_score_rf_2\n",
    "            best_model = model_rf_2\n",
    "            \n",
    "print(f'Лучшая модель {best_model}\\nимеет F1-score: {f1_rf2}')\n",
    "    "
   ]
  },
  {
   "cell_type": "code",
   "execution_count": 27,
   "id": "be5226dc",
   "metadata": {
    "ExecuteTime": {
     "end_time": "2023-10-15T14:49:16.625262Z",
     "start_time": "2023-10-15T14:49:16.613194Z"
    }
   },
   "outputs": [
    {
     "name": "stdout",
     "output_type": "stream",
     "text": [
      "Метрика Roc-Auc = 0.8460771296705157\n"
     ]
    }
   ],
   "source": [
    "#Опредлим AUC-ROC для лучшей модели(случайного леса):\n",
    "\n",
    "probabilities_valid = best_model.predict_proba(new_features_valid)\n",
    "probabilities_one_valid = probabilities_valid[:, 1]\n",
    "\n",
    "auc_roc = roc_auc_score(target_valid, probabilities_one_valid)\n",
    "\n",
    "print(f'Метрика Roc-Auc = {auc_roc}')"
   ]
  },
  {
   "cell_type": "markdown",
   "id": "4d81dfc8",
   "metadata": {},
   "source": [
    "**Вывод: По сравнению с балансировкой классов, применение *upsampling* увеличило *f1-меру* для всех моделей.  \n",
    "Наилучшая *f1-мера* по-прежнему у модели Случайного леса и составляет 0.616, а AUC-ROC = 0.846.** "
   ]
  },
  {
   "cell_type": "markdown",
   "id": "8262644a",
   "metadata": {},
   "source": [
    "### Применение методики 'downsampling'"
   ]
  },
  {
   "cell_type": "code",
   "execution_count": 28,
   "id": "72ad6fde",
   "metadata": {
    "ExecuteTime": {
     "end_time": "2023-10-15T14:49:16.641193Z",
     "start_time": "2023-10-15T14:49:16.627194Z"
    }
   },
   "outputs": [],
   "source": [
    "#Применим технику уменьшения выборки:\n",
    "#Создадим функцию downsample:\n",
    "\n",
    "def downsample(features, target, fraction):\n",
    "    features_zeros = features[target == 0]\n",
    "    target_zeros = target[target == 0]\n",
    "    features_ones = features[target == 1]\n",
    "    target_ones = target[target == 1]\n",
    "    \n",
    "    features_downsampled = pd.concat(\n",
    "        [features_zeros.sample(frac=fraction, random_state=12345)] + [features_ones])\n",
    "    target_downsampled = pd.concat(\n",
    "        [target_zeros.sample(frac=fraction, random_state=12345)] + [target_ones])\n",
    "    \n",
    "    features_downsampled, target_downsampled = shuffle(\n",
    "        features_downsampled, target_downsampled, random_state=12345)\n",
    "    \n",
    "    return features_downsampled, target_downsampled\n"
   ]
  },
  {
   "cell_type": "code",
   "execution_count": 29,
   "id": "2e816ff3",
   "metadata": {
    "ExecuteTime": {
     "end_time": "2023-10-15T14:49:16.671195Z",
     "start_time": "2023-10-15T14:49:16.643193Z"
    }
   },
   "outputs": [
    {
     "name": "stdout",
     "output_type": "stream",
     "text": [
      "0    0.501043\n",
      "1    0.498957\n",
      "Name: Exited, dtype: float64\n",
      "\n",
      "0    0.501043\n",
      "1    0.498957\n",
      "Name: Exited, dtype: float64\n"
     ]
    }
   ],
   "source": [
    "#Уменьшим в 4 раза кол-во элементов отрицательного класса:\n",
    "features_downsampled, target_downsampled = downsample(new_features_train, target_train, 0.25)\n",
    "\n",
    "#То же для Логистической регрессии:\n",
    "features_downsampled_scaled, target_downsampled_scaled = downsample(new_features_train_scaled, target_train, 0.25)\n",
    "\n",
    "#Проверим дисбаланс:\n",
    "print(target_downsampled.value_counts(normalize=True))\n",
    "print()\n",
    "print(target_downsampled_scaled.value_counts(normalize=True))\n"
   ]
  },
  {
   "cell_type": "code",
   "execution_count": 30,
   "id": "f23a2360",
   "metadata": {
    "ExecuteTime": {
     "end_time": "2023-10-15T14:49:21.268008Z",
     "start_time": "2023-10-15T14:49:16.673194Z"
    }
   },
   "outputs": [
    {
     "name": "stdout",
     "output_type": "stream",
     "text": [
      "F1-score модели Логистической регрессии: 0.48406546080964685\n",
      "\n",
      "Лучшая модель DecisionTreeClassifier(max_depth=5, random_state=12345)\n",
      "имеет F1-score: 0.5928934010152282\n",
      "\n",
      "Лучшая модель RandomForestClassifier(max_depth=6, n_estimators=12, random_state=12345)\n",
      "имеет F1-score: 0.6053130929791272\n"
     ]
    }
   ],
   "source": [
    "#модель Логистической регрессии: \n",
    "model_lr_3 = LogisticRegression(random_state=12345, solver='liblinear')\n",
    "model_lr_3.fit(features_downsampled_scaled, target_downsampled_scaled)\n",
    "predicted_valid_lr_3 = model_lr_3.predict(new_features_valid_scaled)\n",
    "print('F1-score модели Логистической регрессии:', f1_score(target_valid, predicted_valid_lr_3))\n",
    "print()\n",
    "\n",
    "#модель Решающего дерева:\n",
    "best_model = None\n",
    "f1_dt3 = 0\n",
    "\n",
    "for depth in range(1, 11):\n",
    "    model_dt_3 = DecisionTreeClassifier(max_depth=depth, random_state=12345)\n",
    "    model_dt_3.fit(features_downsampled, target_downsampled)\n",
    "    predicted_valid_dt_3 = model_dt_3.predict(new_features_valid)\n",
    "    f1_score_dt_3 = f1_score(target_valid, predicted_valid_dt_3)\n",
    "\n",
    "    if f1_score_dt_3 > f1_dt3:\n",
    "        f1_dt3 = f1_score_dt_3\n",
    "        best_model = model_dt_3\n",
    "        \n",
    "print(f'Лучшая модель {best_model}\\nимеет F1-score: {f1_dt3}')\n",
    "print()        \n",
    "\n",
    "#модель Случайного леса:\n",
    "best_model = None\n",
    "f1_rf3 = 0\n",
    "\n",
    "for est in range(1, 15):\n",
    "    for depth in range(1, 21):\n",
    "        model_rf_3 = RandomForestClassifier(random_state=12345, n_estimators=est, max_depth=depth)\n",
    "        model_rf_3.fit(features_downsampled, target_downsampled)\n",
    "        predicted_valid_rf_3 = model_rf_3.predict(new_features_valid)\n",
    "        f1_score_rf_3 = f1_score(target_valid, predicted_valid_rf_3)\n",
    "\n",
    "        if f1_score_rf_3 > f1_rf3:\n",
    "            f1_rf3 = f1_score_rf_3\n",
    "            best_model = model_rf_3\n",
    "            \n",
    "print(f'Лучшая модель {best_model}\\nимеет F1-score: {f1_rf3}')"
   ]
  },
  {
   "cell_type": "code",
   "execution_count": 31,
   "id": "3c736284",
   "metadata": {
    "ExecuteTime": {
     "end_time": "2023-10-15T14:49:21.283995Z",
     "start_time": "2023-10-15T14:49:21.269994Z"
    }
   },
   "outputs": [
    {
     "name": "stdout",
     "output_type": "stream",
     "text": [
      "Метрика Roc-Auc = 0.8459425413896768\n"
     ]
    }
   ],
   "source": [
    "#Найдем ROC-AUC для лучшей модели при применении downsample:\n",
    "probabilities_valid = best_model.predict_proba(new_features_valid)\n",
    "probabilities_one_valid = probabilities_valid[:, 1]\n",
    "\n",
    "auc_roc = roc_auc_score(target_valid, probabilities_one_valid)\n",
    "\n",
    "print(f'Метрика Roc-Auc = {auc_roc}')\n"
   ]
  },
  {
   "cell_type": "markdown",
   "id": "e72cca80",
   "metadata": {},
   "source": [
    "**Вывод:  \n",
    "При уменьшении выборки наилучший f1_score = 0.605 у модели Случайного леса.  \n",
    "Метрика ROC-AUC=0.847 у модели Случайного леса.**\n"
   ]
  },
  {
   "cell_type": "markdown",
   "id": "83ebded2",
   "metadata": {},
   "source": [
    "**Общий вывод:  \n",
    "  На сбалансированных данных лучший f1_score = 0,622 оказался у модели Случайного леса при применении параметра 'class_weight=balanced'.  \n",
    "    При этом лучшая метрика AUC-ROC = 0,846.**"
   ]
  },
  {
   "cell_type": "markdown",
   "id": "f226e6ce",
   "metadata": {},
   "source": [
    "## Тестирование"
   ]
  },
  {
   "cell_type": "code",
   "execution_count": 32,
   "id": "fed336b2",
   "metadata": {
    "ExecuteTime": {
     "end_time": "2023-10-15T14:49:21.332068Z",
     "start_time": "2023-10-15T14:49:21.284993Z"
    }
   },
   "outputs": [
    {
     "name": "stdout",
     "output_type": "stream",
     "text": [
      "F1_score лучшей модели на тестовой выборке=0.587192118226601\n",
      "\n",
      "AUC_ROC лучшей модели на тестовой выборке=0.8414231768432446\n"
     ]
    }
   ],
   "source": [
    "#Построим график ROC-кривой для лучшей модели Случайного леса из методики class_weight=balanced\n",
    "#и исследуем метрику AUC-ROC для тестовой выборки:\n",
    "#Чем выше находится кривая ROC, тем лучше модель предскажет класс 1.\n",
    "\n",
    "best_model_rf = RandomForestClassifier(class_weight='balanced', max_depth=6, n_estimators=7,\n",
    "                       random_state=12345)\n",
    "\n",
    "#Обучение модели на тренировочной выборке\n",
    "best_model_rf.fit(new_features_train, target_train)\n",
    "\n",
    "#F1-score:\n",
    "predicted_test_best_model_rf = best_model_rf.predict(new_features_test)\n",
    "F1 = f1_score(target_test, predicted_test_best_model_rf)\n",
    "print(f'F1_score лучшей модели на тестовой выборке={F1}')\n",
    "print()\n",
    "\n",
    "#AUC-ROC:\n",
    "probabilities_test = best_model_rf.predict_proba(new_features_test)\n",
    "probabilities_one_test = probabilities_test[:, 1]\n",
    "AUC_ROC = roc_auc_score(target_test, probabilities_one_test)\n",
    "print(f'AUC_ROC лучшей модели на тестовой выборке={AUC_ROC}')\n"
   ]
  },
  {
   "cell_type": "markdown",
   "id": "33f62b3f",
   "metadata": {},
   "source": [
    "**F1-score на тестовой выборке меньше минимально требуемого 0.59, поэтому улучшим гиперпараметры модели случайного леса на \n",
    "валидационных данных, применив \"поиск по сетке\".**\n",
    "\n"
   ]
  },
  {
   "cell_type": "code",
   "execution_count": 33,
   "id": "72cf3e9d",
   "metadata": {
    "ExecuteTime": {
     "end_time": "2023-10-15T14:49:21.347815Z",
     "start_time": "2023-10-15T14:49:21.334103Z"
    }
   },
   "outputs": [],
   "source": [
    "#Создадим словарь с гиперпараметрами:\n",
    "\n",
    "grid_space={'max_depth':np.arange(2, 20, 2),\n",
    "                'n_estimators':np.arange(1, 20, 2),\n",
    "                'criterion':['gini', 'entropy'],\n",
    "                'class_weight': ['balanced']\n",
    "           }"
   ]
  },
  {
   "cell_type": "code",
   "execution_count": 40,
   "id": "403b9924",
   "metadata": {
    "ExecuteTime": {
     "end_time": "2023-10-15T14:57:38.845284Z",
     "start_time": "2023-10-15T14:57:09.112076Z"
    }
   },
   "outputs": [],
   "source": [
    "#запустим поиск по сетке:\n",
    "#инициализируем модель случайного леса \n",
    "#на предоставленных данных:\n",
    "\n",
    "rf = RandomForestClassifier(random_state=12345)\n",
    "\n",
    "grid = GridSearchCV(\n",
    "    estimator = rf,\n",
    "    param_grid=grid_space,\n",
    "    cv=5, \n",
    "    scoring='f1')\n",
    "\n",
    "model_grid = grid.fit(new_features_train, target_train)"
   ]
  },
  {
   "cell_type": "code",
   "execution_count": 42,
   "id": "5ff87983",
   "metadata": {
    "ExecuteTime": {
     "end_time": "2023-10-15T14:58:46.829912Z",
     "start_time": "2023-10-15T14:58:46.813911Z"
    }
   },
   "outputs": [
    {
     "name": "stdout",
     "output_type": "stream",
     "text": [
      "Лучшие гиперпараметры: {'class_weight': 'balanced', 'criterion': 'gini', 'max_depth': 8, 'n_estimators': 19}\n",
      "\n",
      "Лучший f1-score: 0.61\n"
     ]
    }
   ],
   "source": [
    "#Найдем лучшие гиперпараметры:\n",
    "\n",
    "print('Лучшие гиперпараметры: '+ str(model_grid.best_params_))\n",
    "print()\n",
    "print('Лучший f1-score: '+ str(round(model_grid.best_score_, 2)))"
   ]
  },
  {
   "cell_type": "code",
   "execution_count": 45,
   "id": "4f8bd470",
   "metadata": {
    "ExecuteTime": {
     "end_time": "2023-10-15T15:01:13.301992Z",
     "start_time": "2023-10-15T15:01:13.273992Z"
    }
   },
   "outputs": [
    {
     "name": "stdout",
     "output_type": "stream",
     "text": [
      "F1_score лучшей модели на тестовой выборке=0.6\n",
      "\n",
      "ROC_auc: 0.85\n"
     ]
    }
   ],
   "source": [
    "# обучим модель Случайного леса с лучшими гиперпараметрами и с параметром class_weight = 'balanced'. \n",
    "# pасчитаем метрики на тестовой выборке:\n",
    "\n",
    "#F1-score:\n",
    "predicted_test_model_grid = model_grid.predict(new_features_test)\n",
    "F1 = round(f1_score(target_test, predicted_test_model_grid), 2)\n",
    "print(f'F1_score лучшей модели на тестовой выборке={F1}')\n",
    "print()\n",
    "\n",
    "#AUC-ROC:\n",
    "probabilities_test = model_grid.predict_proba(new_features_test)\n",
    "probabilities_one_test = probabilities_test[:, 1]\n",
    "AUC_ROC = roc_auc_score(target_test, probabilities_one_test)\n",
    "\n",
    "print(\"ROC_auc:\", round(AUC_ROC, 2))\n"
   ]
  },
  {
   "cell_type": "code",
   "execution_count": 37,
   "id": "bd2fba42",
   "metadata": {
    "ExecuteTime": {
     "end_time": "2023-10-15T14:49:51.549949Z",
     "start_time": "2023-10-15T14:49:51.409874Z"
    }
   },
   "outputs": [
    {
     "data": {
      "image/png": "[encoded data removed]",
      "text/plain": [
       "<Figure size 432x288 with 1 Axes>"
      ]
     },
     "metadata": {
      "needs_background": "light"
     },
     "output_type": "display_data"
    }
   ],
   "source": [
    "#Построим график AUC-ROC:\n",
    "fpr, tpr, thresholds = roc_curve(target_test, probabilities_one_test)\n",
    "plt.figure()\n",
    "plt.plot(fpr, tpr)\n",
    "plt.xlim([0.0, 1.0])\n",
    "plt.ylim([0.0, 1.0])\n",
    "plt.xlabel('False Positive Rate')\n",
    "plt.ylabel('True Positive Rate')\n",
    "plt.title('ROC-кривая')\n",
    "\n",
    "# ROC-кривая случайной модели (оранжевая прямая)\n",
    "plt.plot([0, 1], [0, 1], linestyle='--')\n",
    "\n",
    "plt.show()"
   ]
  },
  {
   "cell_type": "code",
   "execution_count": 38,
   "id": "224e8a52",
   "metadata": {
    "ExecuteTime": {
     "end_time": "2023-10-15T14:49:51.564791Z",
     "start_time": "2023-10-15T14:49:51.552790Z"
    },
    "scrolled": false
   },
   "outputs": [
    {
     "data": {
      "text/html": [
       "<div>\n",
       "<style scoped>\n",
       "    .dataframe tbody tr th:only-of-type {\n",
       "        vertical-align: middle;\n",
       "    }\n",
       "\n",
       "    .dataframe tbody tr th {\n",
       "        vertical-align: top;\n",
       "    }\n",
       "\n",
       "    .dataframe thead th {\n",
       "        text-align: right;\n",
       "    }\n",
       "</style>\n",
       "<table border=\"1\" class=\"dataframe\">\n",
       "  <thead>\n",
       "    <tr style=\"text-align: right;\">\n",
       "      <th></th>\n",
       "      <th>feature</th>\n",
       "      <th>importance</th>\n",
       "    </tr>\n",
       "  </thead>\n",
       "  <tbody>\n",
       "    <tr>\n",
       "      <th>0</th>\n",
       "      <td>Age</td>\n",
       "      <td>0.412253</td>\n",
       "    </tr>\n",
       "    <tr>\n",
       "      <th>1</th>\n",
       "      <td>NumOfProducts</td>\n",
       "      <td>0.295169</td>\n",
       "    </tr>\n",
       "    <tr>\n",
       "      <th>2</th>\n",
       "      <td>IsActiveMember</td>\n",
       "      <td>0.073875</td>\n",
       "    </tr>\n",
       "    <tr>\n",
       "      <th>3</th>\n",
       "      <td>Balance</td>\n",
       "      <td>0.061835</td>\n",
       "    </tr>\n",
       "    <tr>\n",
       "      <th>4</th>\n",
       "      <td>Geography_Germany</td>\n",
       "      <td>0.049630</td>\n",
       "    </tr>\n",
       "    <tr>\n",
       "      <th>5</th>\n",
       "      <td>Gender_Male</td>\n",
       "      <td>0.033337</td>\n",
       "    </tr>\n",
       "    <tr>\n",
       "      <th>6</th>\n",
       "      <td>EstimatedSalary</td>\n",
       "      <td>0.033209</td>\n",
       "    </tr>\n",
       "    <tr>\n",
       "      <th>7</th>\n",
       "      <td>CreditScore</td>\n",
       "      <td>0.024167</td>\n",
       "    </tr>\n",
       "    <tr>\n",
       "      <th>8</th>\n",
       "      <td>Tenure</td>\n",
       "      <td>0.012194</td>\n",
       "    </tr>\n",
       "    <tr>\n",
       "      <th>9</th>\n",
       "      <td>HasCrCard</td>\n",
       "      <td>0.003121</td>\n",
       "    </tr>\n",
       "  </tbody>\n",
       "</table>\n",
       "</div>"
      ],
      "text/plain": [
       "             feature  importance\n",
       "0                Age    0.412253\n",
       "1      NumOfProducts    0.295169\n",
       "2     IsActiveMember    0.073875\n",
       "3            Balance    0.061835\n",
       "4  Geography_Germany    0.049630\n",
       "5        Gender_Male    0.033337\n",
       "6    EstimatedSalary    0.033209\n",
       "7        CreditScore    0.024167\n",
       "8             Tenure    0.012194\n",
       "9          HasCrCard    0.003121"
      ]
     },
     "execution_count": 38,
     "metadata": {},
     "output_type": "execute_result"
    }
   ],
   "source": [
    "#Визуально изобразим важность признаков в тестовой выборке.\n",
    "\n",
    "#Извлечем важность признаков лучшей модели с помощью метода `feature_importances_`:\n",
    "importances = best_model_rf.feature_importances_\n",
    "\n",
    "#Создание листа с колонками \n",
    "feature_list = list(new_features_test.columns)\n",
    "\n",
    "#Создадим датафрейм важностью признаков:\n",
    "feature_results = pd.DataFrame({'feature': feature_list,'importance': importances})\n",
    "\n",
    "#Выведем первые 10 признаков по важности\n",
    "feature_results = feature_results.sort_values('importance', ascending = False).reset_index(drop=True)\n",
    "\n",
    "feature_results.head(10)"
   ]
  },
  {
   "cell_type": "code",
   "execution_count": 39,
   "id": "cc5bd39d",
   "metadata": {
    "ExecuteTime": {
     "end_time": "2023-10-15T14:49:51.735650Z",
     "start_time": "2023-10-15T14:49:51.566789Z"
    }
   },
   "outputs": [
    {
     "data": {
      "text/plain": [
       "<AxesSubplot: >"
      ]
     },
     "execution_count": 39,
     "metadata": {},
     "output_type": "execute_result"
    },
    {
     "data": {
      "image/png": "[encoded data removed]",
      "text/plain": [
       "<Figure size 432x288 with 1 Axes>"
      ]
     },
     "metadata": {
      "needs_background": "light"
     },
     "output_type": "display_data"
    }
   ],
   "source": [
    "#Визуально изобразим важность признаков:\n",
    "feature_results.plot(kind='bar')"
   ]
  },
  {
   "cell_type": "markdown",
   "id": "ed1c922b",
   "metadata": {},
   "source": [
    "**Видно, что самым важным индикатором класса в `Tenure` является возраст клиента и количество продуктов банка,  \n",
    "которыми он пользуется.**"
   ]
  },
  {
   "cell_type": "markdown",
   "id": "272da735",
   "metadata": {},
   "source": [
    "## Общий вывод"
   ]
  },
  {
   "cell_type": "markdown",
   "id": "551ef9b5",
   "metadata": {},
   "source": [
    "В ходе поиска лучшей модели для предсказания оттока клиентов из банка, была проведена следующая работа:\n",
    "\n",
    "- Датасет исследован на пропуски и дубликаты, пропуски устранены.\n",
    "- Удалены лишние для работы признаки `RowNumber`, `CustomerId`, `Surname`.\n",
    "- Исследован баланс классов в целевом признаке. Выявлен дисбаланс.\n",
    "- Выборка разбита на тренировочную, валидационную и тестовую в соотношении 3:1:1.\n",
    "- Задача исследована на выборке без учета дисбаланса и показала результаты близкие к результатам случайной модели.\n",
    "- Для устранения дисбаланса применены три методики: `upsampling`, `downsampling`, и применение гиперпараметра `class_weight='balanced'` внутри моделей.\n",
    "- В результате лучшим вариантом оказалось использование гиперпараметра class_weight='balanced' внутри моделей.\n",
    "- Однако метрика лучшей модели Случайного леса F1-score на тестовой выборке не достигла требуемой 0,59, поэтому поторебовался поиск лучших гиперпараметров с помощью `GridSearchCV`:\n",
    "  - Лучшие гиперпараметры: {'class_weight': 'balanced', 'criterion': 'gini', 'max_depth': 8, 'n_estimators': 19}\n",
    "  - Лучший f1-score =  0.61.\n",
    "- На тестовой выборке лучшая модель Случайного леса с подобранными \"по сетке\" гиперпараметрами показала следующие результаты:\n",
    " - F1_score = 0.6\n",
    " - ROC_auc = 0.85\n",
    "- Дополнительно построен график ROC-AUC, и показана важность признаков: самыми важными оказался возраст клиентов и кол-во продуктов, которые клиент приобрел ранее.\n"
   ]
  }
 ],
 "metadata": {
  "ExecuteTimeLog": [
   {
    "duration": 3140,
    "start_time": "2023-03-14T07:24:16.013Z"
   },
   {
    "duration": 22,
    "start_time": "2023-03-14T07:24:19.155Z"
   },
   {
    "duration": 8,
    "start_time": "2023-03-14T07:24:19.178Z"
   },
   {
    "duration": 7,
    "start_time": "2023-03-14T07:24:19.187Z"
   },
   {
    "duration": 15,
    "start_time": "2023-03-14T07:24:19.197Z"
   },
   {
    "duration": 21,
    "start_time": "2023-03-14T07:24:19.213Z"
   },
   {
    "duration": 7,
    "start_time": "2023-03-14T07:24:19.235Z"
   },
   {
    "duration": 16,
    "start_time": "2023-03-14T07:24:19.243Z"
   },
   {
    "duration": 127,
    "start_time": "2023-03-14T07:24:19.260Z"
   },
   {
    "duration": 0,
    "start_time": "2023-03-14T07:24:19.388Z"
   },
   {
    "duration": 0,
    "start_time": "2023-03-14T07:24:19.389Z"
   },
   {
    "duration": 18,
    "start_time": "2023-03-14T07:25:47.427Z"
   },
   {
    "duration": 24,
    "start_time": "2023-03-14T07:28:08.666Z"
   },
   {
    "duration": 13,
    "start_time": "2023-03-14T07:28:20.141Z"
   },
   {
    "duration": 9819,
    "start_time": "2023-03-22T20:51:04.785Z"
   },
   {
    "duration": 28,
    "start_time": "2023-03-22T20:51:14.606Z"
   },
   {
    "duration": 10,
    "start_time": "2023-03-22T20:51:14.636Z"
   },
   {
    "duration": 7,
    "start_time": "2023-03-22T20:51:14.648Z"
   },
   {
    "duration": 7,
    "start_time": "2023-03-22T20:51:14.657Z"
   },
   {
    "duration": 21,
    "start_time": "2023-03-22T20:51:14.665Z"
   },
   {
    "duration": 8,
    "start_time": "2023-03-22T20:51:14.688Z"
   },
   {
    "duration": 15,
    "start_time": "2023-03-22T20:51:14.698Z"
   },
   {
    "duration": 49,
    "start_time": "2023-03-22T20:51:14.715Z"
   },
   {
    "duration": 28,
    "start_time": "2023-03-22T20:51:14.766Z"
   },
   {
    "duration": 21,
    "start_time": "2023-03-22T20:51:14.796Z"
   },
   {
    "duration": 66,
    "start_time": "2023-03-22T20:51:14.819Z"
   },
   {
    "duration": 79,
    "start_time": "2023-03-22T20:51:14.886Z"
   },
   {
    "duration": 103,
    "start_time": "2023-03-22T20:51:14.969Z"
   },
   {
    "duration": 6,
    "start_time": "2023-03-22T20:51:15.077Z"
   },
   {
    "duration": 131,
    "start_time": "2023-03-22T20:51:15.085Z"
   },
   {
    "duration": 6,
    "start_time": "2023-03-22T20:51:15.218Z"
   },
   {
    "duration": 22,
    "start_time": "2023-03-22T20:51:15.225Z"
   },
   {
    "duration": 2844,
    "start_time": "2023-03-22T20:51:15.249Z"
   },
   {
    "duration": 8,
    "start_time": "2023-03-22T20:51:18.095Z"
   },
   {
    "duration": 60,
    "start_time": "2023-03-22T20:51:18.104Z"
   },
   {
    "duration": 3515,
    "start_time": "2023-03-22T20:51:18.168Z"
   },
   {
    "duration": 11,
    "start_time": "2023-03-22T20:51:21.684Z"
   },
   {
    "duration": 12,
    "start_time": "2023-03-22T20:51:21.696Z"
   },
   {
    "duration": 20,
    "start_time": "2023-03-22T20:51:21.709Z"
   },
   {
    "duration": 4300,
    "start_time": "2023-03-22T20:51:21.731Z"
   },
   {
    "duration": 12,
    "start_time": "2023-03-22T20:51:26.033Z"
   },
   {
    "duration": 19,
    "start_time": "2023-03-22T20:51:26.047Z"
   },
   {
    "duration": 24,
    "start_time": "2023-03-22T20:51:26.069Z"
   },
   {
    "duration": 8593,
    "start_time": "2023-03-22T20:51:26.094Z"
   },
   {
    "duration": 12,
    "start_time": "2023-03-22T20:51:34.689Z"
   },
   {
    "duration": 44,
    "start_time": "2023-03-22T20:51:34.702Z"
   },
   {
    "duration": 137,
    "start_time": "2023-03-22T20:51:34.762Z"
   },
   {
    "duration": 11,
    "start_time": "2023-03-22T20:51:34.901Z"
   },
   {
    "duration": 189,
    "start_time": "2023-03-22T20:51:34.913Z"
   },
   {
    "duration": 22,
    "start_time": "2023-03-22T20:51:39.479Z"
   }
  ],
  "kernelspec": {
   "display_name": "Python 3 (ipykernel)",
   "language": "python",
   "name": "python3"
  },
  "language_info": {
   "codemirror_mode": {
    "name": "ipython",
    "version": 3
   },
   "file_extension": ".py",
   "mimetype": "text/x-python",
   "name": "python",
   "nbconvert_exporter": "python",
   "pygments_lexer": "ipython3",
   "version": "3.9.12"
  },
  "toc": {
   "base_numbering": 1,
   "nav_menu": {},
   "number_sections": true,
   "sideBar": true,
   "skip_h1_title": true,
   "title_cell": "Содержание",
   "title_sidebar": "Contents",
   "toc_cell": true,
   "toc_position": {
    "height": "calc(100% - 180px)",
    "left": "10px",
    "top": "150px",
    "width": "207.16px"
   },
   "toc_section_display": true,
   "toc_window_display": true
  }
 },
 "nbformat": 4,
 "nbformat_minor": 5
}
