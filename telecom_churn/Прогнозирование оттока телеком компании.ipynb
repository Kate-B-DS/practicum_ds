{
 "cells": [
  {
   "cell_type": "markdown",
   "id": "e0cb68da",
   "metadata": {
    "toc": true
   },
   "source": [
    "<h1>Содержание<span class=\"tocSkip\"></span></h1>\n",
    "<div class=\"toc\"><ul class=\"toc-item\"><li><span><a href=\"#Предварительный-анализ-данных\" data-toc-modified-id=\"Предварительный-анализ-данных-1\"><span class=\"toc-item-num\">1&nbsp;&nbsp;</span>Предварительный анализ данных</a></span></li><li><span><a href=\"#Предобработка-данных\" data-toc-modified-id=\"Предобработка-данных-2\"><span class=\"toc-item-num\">2&nbsp;&nbsp;</span>Предобработка данных</a></span></li><li><span><a href=\"#Исследовательский-анализ-данных\" data-toc-modified-id=\"Исследовательский-анализ-данных-3\"><span class=\"toc-item-num\">3&nbsp;&nbsp;</span>Исследовательский анализ данных</a></span><ul class=\"toc-item\"><li><span><a href=\"#исследование-признаков\" data-toc-modified-id=\"исследование-признаков-3.1\"><span class=\"toc-item-num\">3.1&nbsp;&nbsp;</span>исследование признаков</a></span></li><li><span><a href=\"#изучение-распределения-признаков-для-ушедших-и-оставшихся-клиентов\" data-toc-modified-id=\"изучение-распределения-признаков-для-ушедших-и-оставшихся-клиентов-3.2\"><span class=\"toc-item-num\">3.2&nbsp;&nbsp;</span>изучение распределения признаков для ушедших и оставшихся клиентов</a></span></li><li><span><a href=\"#изучение-корреляции-признаков-библиотекой-phik:\" data-toc-modified-id=\"изучение-корреляции-признаков-библиотекой-phik:-3.3\"><span class=\"toc-item-num\">3.3&nbsp;&nbsp;</span>изучение корреляции признаков библиотекой phik:</a></span></li></ul></li><li><span><a href=\"#Обучение-моделей\" data-toc-modified-id=\"Обучение-моделей-4\"><span class=\"toc-item-num\">4&nbsp;&nbsp;</span>Обучение моделей</a></span><ul class=\"toc-item\"><li><span><a href=\"#кодирование-признаков\" data-toc-modified-id=\"кодирование-признаков-4.1\"><span class=\"toc-item-num\">4.1&nbsp;&nbsp;</span>кодирование признаков</a></span></li><li><span><a href=\"#модель-LogisticRegression\" data-toc-modified-id=\"модель-LogisticRegression-4.2\"><span class=\"toc-item-num\">4.2&nbsp;&nbsp;</span>модель LogisticRegression</a></span></li><li><span><a href=\"#модель-CatBoostClassifier\" data-toc-modified-id=\"модель-CatBoostClassifier-4.3\"><span class=\"toc-item-num\">4.3&nbsp;&nbsp;</span>модель CatBoostClassifier</a></span></li><li><span><a href=\"#модель-LightGBMClassifier\" data-toc-modified-id=\"модель-LightGBMClassifier-4.4\"><span class=\"toc-item-num\">4.4&nbsp;&nbsp;</span>модель LightGBMClassifier</a></span></li><li><span><a href=\"#модель-RandomForestClassifier\" data-toc-modified-id=\"модель-RandomForestClassifier-4.5\"><span class=\"toc-item-num\">4.5&nbsp;&nbsp;</span>модель RandomForestClassifier</a></span></li><li><span><a href=\"#сводная-таблица-целевой-метрики-auc-roc-по-каждой-модели\" data-toc-modified-id=\"сводная-таблица-целевой-метрики-auc-roc-по-каждой-модели-4.6\"><span class=\"toc-item-num\">4.6&nbsp;&nbsp;</span>сводная таблица целевой метрики auc-roc по каждой модели</a></span></li></ul></li><li><span><a href=\"#Тестирование-лучшей-модели-CatBoostClassifier\" data-toc-modified-id=\"Тестирование-лучшей-модели-CatBoostClassifier-5\"><span class=\"toc-item-num\">5&nbsp;&nbsp;</span>Тестирование лучшей модели CatBoostClassifier</a></span></li><li><span><a href=\"#Общий-вывод\" data-toc-modified-id=\"Общий-вывод-6\"><span class=\"toc-item-num\">6&nbsp;&nbsp;</span>Общий вывод</a></span></li><li><span><a href=\"#Отчет\" data-toc-modified-id=\"Отчет-7\"><span class=\"toc-item-num\">7&nbsp;&nbsp;</span>Отчет</a></span></li></ul></div>"
   ]
  },
  {
   "cell_type": "markdown",
   "id": "573d929e",
   "metadata": {},
   "source": [
    "# Прогнозирование оттока телеком компании\n"
   ]
  },
  {
   "cell_type": "markdown",
   "id": "8b49ced5",
   "metadata": {},
   "source": [
    "Описание проекта:</br>\n",
    "**_В данном проекте предлагается решить задачу оттока клиентов у оператора мобильной связи «Ниединогоразрыва.ком».\n",
    "Данные для исследования представлены в виде 4-ех .csv-файлов с информацией о самом клиенте, его выборе тарифного плана интернета и телефонии, информацией о договорах.</br>_**\n",
    "\n",
    "Цель проекта:</br>___\n",
    "создать классическую модель машинного обучения для предсказания того, уйдет клиент или останется и предложить ему в случае предсказанного ухода некоторые бонусы, которые побудят его не менять мобильного оператора.</br> \n",
    "Здесь будет решаться задача бинарной классификации, где таргетный признак 1 будет означать, что клиент собирается уйти, а 0 - соответственно означать, что клиент лоялен.___"
   ]
  },
  {
   "cell_type": "markdown",
   "id": "9f41e4ad",
   "metadata": {},
   "source": [
    "# План проекта\n",
    "1) Предварительный анализ данных:\n",
    " - загрузить библиотеки для работы и датасеты\n",
    " - изучить структуру данных методами describe(), info()\n",
    " - построить гистрограммы численных признаков и выявить некоторые закономерности/зависимости\n",
    " - сделать вывод \n",
    " \n",
    "2) Предобработка данных:\n",
    " - устранить проблемы в данных\n",
    " - объединить все датасеты в общий\n",
    " \n",
    "3) Исследовательский анализ данных:\n",
    " - удалить лишние признаки и создать новые (3...5 новых фичей)\n",
    " - cравнить распределения признаков для ушедших и оставшихся клиентов\n",
    " - исследовать корреляцию фичей посредством библиотеки phik и удалить сильно коррелированные признаки\n",
    " \n",
    " \n",
    " \n",
    "4) Обучение моделей:\n",
    " - разделить датасет на трейновую и тестовую выборки: test_size = 0.25(строгое условие)\n",
    " - сделать кодирование  OneHotEncoder категориальных признаков\n",
    " - кодирование только после разделения на train и test, чтобы не было утечки в данных\n",
    " \n",
    " - обучить модели LightGBMClassifier, LogisticRegression, CatBoostClassifier\n",
    " - добиться целевой метрики AUC-ROC >= 0.85\n",
    " - выполнить кросс-валидацию на трейновой выборке и выбрать лучшую модель\n",
    " - сделать тестирование лучшей модели с ее гиперпараметрами на тестовой выборке.\n",
    "\n",
    "5) Общий вывод.\n",
    "\n"
   ]
  },
  {
   "cell_type": "markdown",
   "id": "db8d2ad9",
   "metadata": {},
   "source": [
    "# Вопросы и комментарии Тимлиду\n",
    "\n",
    "1) Почему баланс классов лучше делать внутри моделей?"
   ]
  },
  {
   "cell_type": "markdown",
   "id": "0a1425e4",
   "metadata": {},
   "source": [
    "### Предварительный анализ данных"
   ]
  },
  {
   "cell_type": "code",
   "execution_count": 1,
   "id": "25b23a47",
   "metadata": {
    "ExecuteTime": {
     "end_time": "2023-10-08T20:16:33.460303Z",
     "start_time": "2023-10-08T20:16:15.631079Z"
    }
   },
   "outputs": [],
   "source": [
    "%%capture --no-display\n",
    "# импортируем библиотеки для работы:\n",
    "\n",
    " \n",
    "!pip install scikit-learn==1.1.3\n",
    "!pip install pandas-profiling\n",
    "!pip install skimpy\n",
    "!pip install catboost\n",
    "!pip install phik\n",
    "!pip install category_encoders\n",
    "\n",
    "\n",
    "import pandas as pd\n",
    "import numpy as np\n",
    "import seaborn as sns\n",
    "import phik\n",
    "\n",
    "\n",
    "import matplotlib.pyplot as plt\n",
    "from sklearn.metrics import roc_auc_score, roc_curve, ConfusionMatrixDisplay   \n",
    "from sklearn.compose import make_column_transformer\n",
    "\n",
    "\n",
    "from sklearn.model_selection import RandomizedSearchCV, train_test_split\n",
    "from sklearn.preprocessing import OneHotEncoder, StandardScaler\n",
    "    \n",
    "\n",
    "from sklearn.ensemble import RandomForestClassifier\n",
    "from catboost import CatBoostClassifier\n",
    "from sklearn.linear_model import LogisticRegression\n",
    "from lightgbm import LGBMClassifier\n",
    "from sklearn.pipeline import Pipeline, FeatureUnion, make_pipeline\n",
    "\n",
    "import warnings\n",
    "warnings.filterwarnings(\"ignore\")\n",
    "\n",
    "NJOBS = -1 # для одновременной работы всех ядер процессора при обучении моделей (для увеличения скорости)\n",
    "RANDOM_STATE = 250923\n",
    "data_load = '2020-02-01' # данные актуальны на 1 февраля 2020 года.\n",
    "ITERATIONS = 10 #grid search iteration"
   ]
  },
  {
   "cell_type": "markdown",
   "id": "2f858a97",
   "metadata": {
    "ExecuteTime": {
     "end_time": "2023-10-08T20:16:33.507844Z",
     "start_time": "2023-10-08T20:16:33.461729Z"
    }
   },
   "source": [
    "Импорт рабочих датасетов не показан в связи с политикой конфидениальности ЯП."
   ]
  },
  {
   "cell_type": "markdown",
   "id": "25fcedbc",
   "metadata": {
    "ExecuteTime": {
     "end_time": "2023-09-26T20:00:14.309839Z",
     "start_time": "2023-09-26T20:00:14.297839Z"
    },
    "scrolled": true
   },
   "source": [
    "информация о телефонии:"
   ]
  },
  {
   "cell_type": "code",
   "execution_count": 3,
   "id": "f2611155",
   "metadata": {
    "ExecuteTime": {
     "end_time": "2023-10-08T20:16:33.539118Z",
     "start_time": "2023-10-08T20:16:33.509701Z"
    },
    "scrolled": false
   },
   "outputs": [
    {
     "data": {
      "text/html": [
       "<div>\n",
       "<style scoped>\n",
       "    .dataframe tbody tr th:only-of-type {\n",
       "        vertical-align: middle;\n",
       "    }\n",
       "\n",
       "    .dataframe tbody tr th {\n",
       "        vertical-align: top;\n",
       "    }\n",
       "\n",
       "    .dataframe thead th {\n",
       "        text-align: right;\n",
       "    }\n",
       "</style>\n",
       "<table border=\"1\" class=\"dataframe\">\n",
       "  <thead>\n",
       "    <tr style=\"text-align: right;\">\n",
       "      <th></th>\n",
       "      <th>customerID</th>\n",
       "      <th>MultipleLines</th>\n",
       "    </tr>\n",
       "  </thead>\n",
       "  <tbody>\n",
       "    <tr>\n",
       "      <th>count</th>\n",
       "      <td>6361</td>\n",
       "      <td>6361</td>\n",
       "    </tr>\n",
       "    <tr>\n",
       "      <th>unique</th>\n",
       "      <td>6361</td>\n",
       "      <td>2</td>\n",
       "    </tr>\n",
       "    <tr>\n",
       "      <th>top</th>\n",
       "      <td>5575-GNVDE</td>\n",
       "      <td>No</td>\n",
       "    </tr>\n",
       "    <tr>\n",
       "      <th>freq</th>\n",
       "      <td>1</td>\n",
       "      <td>3390</td>\n",
       "    </tr>\n",
       "  </tbody>\n",
       "</table>\n",
       "</div>"
      ],
      "text/plain": [
       "        customerID MultipleLines\n",
       "count         6361          6361\n",
       "unique        6361             2\n",
       "top     5575-GNVDE            No\n",
       "freq             1          3390"
      ]
     },
     "execution_count": 3,
     "metadata": {},
     "output_type": "execute_result"
    }
   ],
   "source": [
    "data_phone.describe()"
   ]
  },
  {
   "cell_type": "markdown",
   "id": "f37a626e",
   "metadata": {
    "ExecuteTime": {
     "end_time": "2023-09-26T20:00:14.325939Z",
     "start_time": "2023-09-26T20:00:14.310839Z"
    }
   },
   "source": [
    " первые строки `data_phone`:"
   ]
  },
  {
   "cell_type": "code",
   "execution_count": 4,
   "id": "60f6df5c",
   "metadata": {
    "ExecuteTime": {
     "end_time": "2023-10-08T20:16:33.554578Z",
     "start_time": "2023-10-08T20:16:33.540112Z"
    },
    "scrolled": true
   },
   "outputs": [
    {
     "data": {
      "text/html": [
       "<div>\n",
       "<style scoped>\n",
       "    .dataframe tbody tr th:only-of-type {\n",
       "        vertical-align: middle;\n",
       "    }\n",
       "\n",
       "    .dataframe tbody tr th {\n",
       "        vertical-align: top;\n",
       "    }\n",
       "\n",
       "    .dataframe thead th {\n",
       "        text-align: right;\n",
       "    }\n",
       "</style>\n",
       "<table border=\"1\" class=\"dataframe\">\n",
       "  <thead>\n",
       "    <tr style=\"text-align: right;\">\n",
       "      <th></th>\n",
       "      <th>customerID</th>\n",
       "      <th>MultipleLines</th>\n",
       "    </tr>\n",
       "  </thead>\n",
       "  <tbody>\n",
       "    <tr>\n",
       "      <th>0</th>\n",
       "      <td>5575-GNVDE</td>\n",
       "      <td>No</td>\n",
       "    </tr>\n",
       "    <tr>\n",
       "      <th>1</th>\n",
       "      <td>3668-QPYBK</td>\n",
       "      <td>No</td>\n",
       "    </tr>\n",
       "    <tr>\n",
       "      <th>2</th>\n",
       "      <td>9237-HQITU</td>\n",
       "      <td>No</td>\n",
       "    </tr>\n",
       "    <tr>\n",
       "      <th>3</th>\n",
       "      <td>9305-CDSKC</td>\n",
       "      <td>Yes</td>\n",
       "    </tr>\n",
       "    <tr>\n",
       "      <th>4</th>\n",
       "      <td>1452-KIOVK</td>\n",
       "      <td>Yes</td>\n",
       "    </tr>\n",
       "  </tbody>\n",
       "</table>\n",
       "</div>"
      ],
      "text/plain": [
       "   customerID MultipleLines\n",
       "0  5575-GNVDE            No\n",
       "1  3668-QPYBK            No\n",
       "2  9237-HQITU            No\n",
       "3  9305-CDSKC           Yes\n",
       "4  1452-KIOVK           Yes"
      ]
     },
     "execution_count": 4,
     "metadata": {},
     "output_type": "execute_result"
    }
   ],
   "source": [
    "data_phone.head()"
   ]
  },
  {
   "cell_type": "markdown",
   "id": "696b1661",
   "metadata": {
    "ExecuteTime": {
     "end_time": "2023-09-26T20:00:14.341840Z",
     "start_time": "2023-09-26T20:00:14.330845Z"
    }
   },
   "source": [
    "кол-во пропусков:"
   ]
  },
  {
   "cell_type": "code",
   "execution_count": 5,
   "id": "fc719d2e",
   "metadata": {
    "ExecuteTime": {
     "end_time": "2023-10-08T20:16:33.569776Z",
     "start_time": "2023-10-08T20:16:33.555805Z"
    }
   },
   "outputs": [
    {
     "data": {
      "text/plain": [
       "customerID       0\n",
       "MultipleLines    0\n",
       "dtype: int64"
      ]
     },
     "execution_count": 5,
     "metadata": {},
     "output_type": "execute_result"
    }
   ],
   "source": [
    "data_phone.isnull().sum()"
   ]
  },
  {
   "cell_type": "markdown",
   "id": "bad3a44c",
   "metadata": {},
   "source": [
    "проверка на явные дубликаты `data_phone`:"
   ]
  },
  {
   "cell_type": "code",
   "execution_count": 6,
   "id": "507e474a",
   "metadata": {
    "ExecuteTime": {
     "end_time": "2023-10-08T20:16:33.585729Z",
     "start_time": "2023-10-08T20:16:33.571875Z"
    }
   },
   "outputs": [
    {
     "data": {
      "text/plain": [
       "0"
      ]
     },
     "execution_count": 6,
     "metadata": {},
     "output_type": "execute_result"
    }
   ],
   "source": [
    "data_phone.duplicated().sum()"
   ]
  },
  {
   "cell_type": "markdown",
   "id": "dc7b2845",
   "metadata": {
    "ExecuteTime": {
     "end_time": "2023-09-26T20:00:14.406017Z",
     "start_time": "2023-09-26T20:00:14.363939Z"
    }
   },
   "source": [
    "информация об интернет-услугах:\n",
    "    "
   ]
  },
  {
   "cell_type": "code",
   "execution_count": 7,
   "id": "f9fde83f",
   "metadata": {
    "ExecuteTime": {
     "end_time": "2023-10-08T20:16:33.617248Z",
     "start_time": "2023-10-08T20:16:33.587728Z"
    }
   },
   "outputs": [
    {
     "data": {
      "text/html": [
       "<div>\n",
       "<style scoped>\n",
       "    .dataframe tbody tr th:only-of-type {\n",
       "        vertical-align: middle;\n",
       "    }\n",
       "\n",
       "    .dataframe tbody tr th {\n",
       "        vertical-align: top;\n",
       "    }\n",
       "\n",
       "    .dataframe thead th {\n",
       "        text-align: right;\n",
       "    }\n",
       "</style>\n",
       "<table border=\"1\" class=\"dataframe\">\n",
       "  <thead>\n",
       "    <tr style=\"text-align: right;\">\n",
       "      <th></th>\n",
       "      <th>customerID</th>\n",
       "      <th>InternetService</th>\n",
       "      <th>OnlineSecurity</th>\n",
       "      <th>OnlineBackup</th>\n",
       "      <th>DeviceProtection</th>\n",
       "      <th>TechSupport</th>\n",
       "      <th>StreamingTV</th>\n",
       "      <th>StreamingMovies</th>\n",
       "    </tr>\n",
       "  </thead>\n",
       "  <tbody>\n",
       "    <tr>\n",
       "      <th>count</th>\n",
       "      <td>5517</td>\n",
       "      <td>5517</td>\n",
       "      <td>5517</td>\n",
       "      <td>5517</td>\n",
       "      <td>5517</td>\n",
       "      <td>5517</td>\n",
       "      <td>5517</td>\n",
       "      <td>5517</td>\n",
       "    </tr>\n",
       "    <tr>\n",
       "      <th>unique</th>\n",
       "      <td>5517</td>\n",
       "      <td>2</td>\n",
       "      <td>2</td>\n",
       "      <td>2</td>\n",
       "      <td>2</td>\n",
       "      <td>2</td>\n",
       "      <td>2</td>\n",
       "      <td>2</td>\n",
       "    </tr>\n",
       "    <tr>\n",
       "      <th>top</th>\n",
       "      <td>7590-VHVEG</td>\n",
       "      <td>Fiber optic</td>\n",
       "      <td>No</td>\n",
       "      <td>No</td>\n",
       "      <td>No</td>\n",
       "      <td>No</td>\n",
       "      <td>No</td>\n",
       "      <td>No</td>\n",
       "    </tr>\n",
       "    <tr>\n",
       "      <th>freq</th>\n",
       "      <td>1</td>\n",
       "      <td>3096</td>\n",
       "      <td>3498</td>\n",
       "      <td>3088</td>\n",
       "      <td>3095</td>\n",
       "      <td>3473</td>\n",
       "      <td>2810</td>\n",
       "      <td>2785</td>\n",
       "    </tr>\n",
       "  </tbody>\n",
       "</table>\n",
       "</div>"
      ],
      "text/plain": [
       "        customerID InternetService OnlineSecurity OnlineBackup  \\\n",
       "count         5517            5517           5517         5517   \n",
       "unique        5517               2              2            2   \n",
       "top     7590-VHVEG     Fiber optic             No           No   \n",
       "freq             1            3096           3498         3088   \n",
       "\n",
       "       DeviceProtection TechSupport StreamingTV StreamingMovies  \n",
       "count              5517        5517        5517            5517  \n",
       "unique                2           2           2               2  \n",
       "top                  No          No          No              No  \n",
       "freq               3095        3473        2810            2785  "
      ]
     },
     "execution_count": 7,
     "metadata": {},
     "output_type": "execute_result"
    }
   ],
   "source": [
    "data_internet.describe()   "
   ]
  },
  {
   "cell_type": "markdown",
   "id": "3a72299d",
   "metadata": {},
   "source": [
    "первые строки датасета `data_internet`:"
   ]
  },
  {
   "cell_type": "code",
   "execution_count": 8,
   "id": "754a8fb4",
   "metadata": {
    "ExecuteTime": {
     "end_time": "2023-10-08T20:16:33.648272Z",
     "start_time": "2023-10-08T20:16:33.619249Z"
    },
    "scrolled": true
   },
   "outputs": [
    {
     "data": {
      "text/html": [
       "<div>\n",
       "<style scoped>\n",
       "    .dataframe tbody tr th:only-of-type {\n",
       "        vertical-align: middle;\n",
       "    }\n",
       "\n",
       "    .dataframe tbody tr th {\n",
       "        vertical-align: top;\n",
       "    }\n",
       "\n",
       "    .dataframe thead th {\n",
       "        text-align: right;\n",
       "    }\n",
       "</style>\n",
       "<table border=\"1\" class=\"dataframe\">\n",
       "  <thead>\n",
       "    <tr style=\"text-align: right;\">\n",
       "      <th></th>\n",
       "      <th>customerID</th>\n",
       "      <th>InternetService</th>\n",
       "      <th>OnlineSecurity</th>\n",
       "      <th>OnlineBackup</th>\n",
       "      <th>DeviceProtection</th>\n",
       "      <th>TechSupport</th>\n",
       "      <th>StreamingTV</th>\n",
       "      <th>StreamingMovies</th>\n",
       "    </tr>\n",
       "  </thead>\n",
       "  <tbody>\n",
       "    <tr>\n",
       "      <th>0</th>\n",
       "      <td>7590-VHVEG</td>\n",
       "      <td>DSL</td>\n",
       "      <td>No</td>\n",
       "      <td>Yes</td>\n",
       "      <td>No</td>\n",
       "      <td>No</td>\n",
       "      <td>No</td>\n",
       "      <td>No</td>\n",
       "    </tr>\n",
       "    <tr>\n",
       "      <th>1</th>\n",
       "      <td>5575-GNVDE</td>\n",
       "      <td>DSL</td>\n",
       "      <td>Yes</td>\n",
       "      <td>No</td>\n",
       "      <td>Yes</td>\n",
       "      <td>No</td>\n",
       "      <td>No</td>\n",
       "      <td>No</td>\n",
       "    </tr>\n",
       "    <tr>\n",
       "      <th>2</th>\n",
       "      <td>3668-QPYBK</td>\n",
       "      <td>DSL</td>\n",
       "      <td>Yes</td>\n",
       "      <td>Yes</td>\n",
       "      <td>No</td>\n",
       "      <td>No</td>\n",
       "      <td>No</td>\n",
       "      <td>No</td>\n",
       "    </tr>\n",
       "    <tr>\n",
       "      <th>3</th>\n",
       "      <td>7795-CFOCW</td>\n",
       "      <td>DSL</td>\n",
       "      <td>Yes</td>\n",
       "      <td>No</td>\n",
       "      <td>Yes</td>\n",
       "      <td>Yes</td>\n",
       "      <td>No</td>\n",
       "      <td>No</td>\n",
       "    </tr>\n",
       "    <tr>\n",
       "      <th>4</th>\n",
       "      <td>9237-HQITU</td>\n",
       "      <td>Fiber optic</td>\n",
       "      <td>No</td>\n",
       "      <td>No</td>\n",
       "      <td>No</td>\n",
       "      <td>No</td>\n",
       "      <td>No</td>\n",
       "      <td>No</td>\n",
       "    </tr>\n",
       "  </tbody>\n",
       "</table>\n",
       "</div>"
      ],
      "text/plain": [
       "   customerID InternetService OnlineSecurity OnlineBackup DeviceProtection  \\\n",
       "0  7590-VHVEG             DSL             No          Yes               No   \n",
       "1  5575-GNVDE             DSL            Yes           No              Yes   \n",
       "2  3668-QPYBK             DSL            Yes          Yes               No   \n",
       "3  7795-CFOCW             DSL            Yes           No              Yes   \n",
       "4  9237-HQITU     Fiber optic             No           No               No   \n",
       "\n",
       "  TechSupport StreamingTV StreamingMovies  \n",
       "0          No          No              No  \n",
       "1          No          No              No  \n",
       "2          No          No              No  \n",
       "3         Yes          No              No  \n",
       "4          No          No              No  "
      ]
     },
     "execution_count": 8,
     "metadata": {},
     "output_type": "execute_result"
    }
   ],
   "source": [
    "data_internet.head()  "
   ]
  },
  {
   "cell_type": "markdown",
   "id": "6d30de67",
   "metadata": {},
   "source": [
    "проверка на пропуски `data_internet`:"
   ]
  },
  {
   "cell_type": "code",
   "execution_count": 9,
   "id": "dc140845",
   "metadata": {
    "ExecuteTime": {
     "end_time": "2023-10-08T20:16:33.679694Z",
     "start_time": "2023-10-08T20:16:33.653271Z"
    },
    "scrolled": true
   },
   "outputs": [
    {
     "data": {
      "text/plain": [
       "customerID          0\n",
       "InternetService     0\n",
       "OnlineSecurity      0\n",
       "OnlineBackup        0\n",
       "DeviceProtection    0\n",
       "TechSupport         0\n",
       "StreamingTV         0\n",
       "StreamingMovies     0\n",
       "dtype: int64"
      ]
     },
     "execution_count": 9,
     "metadata": {},
     "output_type": "execute_result"
    }
   ],
   "source": [
    "data_internet.isnull().sum()"
   ]
  },
  {
   "cell_type": "markdown",
   "id": "18280c44",
   "metadata": {},
   "source": [
    "проверка на дубликаты `data_internet`:"
   ]
  },
  {
   "cell_type": "code",
   "execution_count": 10,
   "id": "a4703d69",
   "metadata": {
    "ExecuteTime": {
     "end_time": "2023-10-08T20:16:33.710983Z",
     "start_time": "2023-10-08T20:16:33.681695Z"
    }
   },
   "outputs": [
    {
     "data": {
      "text/plain": [
       "0"
      ]
     },
     "execution_count": 10,
     "metadata": {},
     "output_type": "execute_result"
    }
   ],
   "source": [
    "data_internet.duplicated().sum()"
   ]
  },
  {
   "cell_type": "code",
   "execution_count": 11,
   "id": "ee7ec88b",
   "metadata": {
    "ExecuteTime": {
     "end_time": "2023-10-08T20:16:33.742101Z",
     "start_time": "2023-10-08T20:16:33.713774Z"
    }
   },
   "outputs": [
    {
     "data": {
      "text/html": [
       "<div>\n",
       "<style scoped>\n",
       "    .dataframe tbody tr th:only-of-type {\n",
       "        vertical-align: middle;\n",
       "    }\n",
       "\n",
       "    .dataframe tbody tr th {\n",
       "        vertical-align: top;\n",
       "    }\n",
       "\n",
       "    .dataframe thead th {\n",
       "        text-align: right;\n",
       "    }\n",
       "</style>\n",
       "<table border=\"1\" class=\"dataframe\">\n",
       "  <thead>\n",
       "    <tr style=\"text-align: right;\">\n",
       "      <th></th>\n",
       "      <th>SeniorCitizen</th>\n",
       "    </tr>\n",
       "  </thead>\n",
       "  <tbody>\n",
       "    <tr>\n",
       "      <th>count</th>\n",
       "      <td>7043.000000</td>\n",
       "    </tr>\n",
       "    <tr>\n",
       "      <th>mean</th>\n",
       "      <td>0.162147</td>\n",
       "    </tr>\n",
       "    <tr>\n",
       "      <th>std</th>\n",
       "      <td>0.368612</td>\n",
       "    </tr>\n",
       "    <tr>\n",
       "      <th>min</th>\n",
       "      <td>0.000000</td>\n",
       "    </tr>\n",
       "    <tr>\n",
       "      <th>25%</th>\n",
       "      <td>0.000000</td>\n",
       "    </tr>\n",
       "    <tr>\n",
       "      <th>50%</th>\n",
       "      <td>0.000000</td>\n",
       "    </tr>\n",
       "    <tr>\n",
       "      <th>75%</th>\n",
       "      <td>0.000000</td>\n",
       "    </tr>\n",
       "    <tr>\n",
       "      <th>max</th>\n",
       "      <td>1.000000</td>\n",
       "    </tr>\n",
       "  </tbody>\n",
       "</table>\n",
       "</div>"
      ],
      "text/plain": [
       "       SeniorCitizen\n",
       "count    7043.000000\n",
       "mean        0.162147\n",
       "std         0.368612\n",
       "min         0.000000\n",
       "25%         0.000000\n",
       "50%         0.000000\n",
       "75%         0.000000\n",
       "max         1.000000"
      ]
     },
     "execution_count": 11,
     "metadata": {},
     "output_type": "execute_result"
    }
   ],
   "source": [
    "data_personal.describe()"
   ]
  },
  {
   "cell_type": "code",
   "execution_count": 12,
   "id": "d1bb6d40",
   "metadata": {
    "ExecuteTime": {
     "end_time": "2023-10-08T20:16:33.756965Z",
     "start_time": "2023-10-08T20:16:33.743101Z"
    },
    "scrolled": true
   },
   "outputs": [
    {
     "data": {
      "text/html": [
       "<div>\n",
       "<style scoped>\n",
       "    .dataframe tbody tr th:only-of-type {\n",
       "        vertical-align: middle;\n",
       "    }\n",
       "\n",
       "    .dataframe tbody tr th {\n",
       "        vertical-align: top;\n",
       "    }\n",
       "\n",
       "    .dataframe thead th {\n",
       "        text-align: right;\n",
       "    }\n",
       "</style>\n",
       "<table border=\"1\" class=\"dataframe\">\n",
       "  <thead>\n",
       "    <tr style=\"text-align: right;\">\n",
       "      <th></th>\n",
       "      <th>customerID</th>\n",
       "      <th>gender</th>\n",
       "      <th>SeniorCitizen</th>\n",
       "      <th>Partner</th>\n",
       "      <th>Dependents</th>\n",
       "    </tr>\n",
       "  </thead>\n",
       "  <tbody>\n",
       "    <tr>\n",
       "      <th>0</th>\n",
       "      <td>7590-VHVEG</td>\n",
       "      <td>Female</td>\n",
       "      <td>0</td>\n",
       "      <td>Yes</td>\n",
       "      <td>No</td>\n",
       "    </tr>\n",
       "    <tr>\n",
       "      <th>1</th>\n",
       "      <td>5575-GNVDE</td>\n",
       "      <td>Male</td>\n",
       "      <td>0</td>\n",
       "      <td>No</td>\n",
       "      <td>No</td>\n",
       "    </tr>\n",
       "    <tr>\n",
       "      <th>2</th>\n",
       "      <td>3668-QPYBK</td>\n",
       "      <td>Male</td>\n",
       "      <td>0</td>\n",
       "      <td>No</td>\n",
       "      <td>No</td>\n",
       "    </tr>\n",
       "    <tr>\n",
       "      <th>3</th>\n",
       "      <td>7795-CFOCW</td>\n",
       "      <td>Male</td>\n",
       "      <td>0</td>\n",
       "      <td>No</td>\n",
       "      <td>No</td>\n",
       "    </tr>\n",
       "    <tr>\n",
       "      <th>4</th>\n",
       "      <td>9237-HQITU</td>\n",
       "      <td>Female</td>\n",
       "      <td>0</td>\n",
       "      <td>No</td>\n",
       "      <td>No</td>\n",
       "    </tr>\n",
       "    <tr>\n",
       "      <th>5</th>\n",
       "      <td>9305-CDSKC</td>\n",
       "      <td>Female</td>\n",
       "      <td>0</td>\n",
       "      <td>No</td>\n",
       "      <td>No</td>\n",
       "    </tr>\n",
       "    <tr>\n",
       "      <th>6</th>\n",
       "      <td>1452-KIOVK</td>\n",
       "      <td>Male</td>\n",
       "      <td>0</td>\n",
       "      <td>No</td>\n",
       "      <td>Yes</td>\n",
       "    </tr>\n",
       "    <tr>\n",
       "      <th>7</th>\n",
       "      <td>6713-OKOMC</td>\n",
       "      <td>Female</td>\n",
       "      <td>0</td>\n",
       "      <td>No</td>\n",
       "      <td>No</td>\n",
       "    </tr>\n",
       "    <tr>\n",
       "      <th>8</th>\n",
       "      <td>7892-POOKP</td>\n",
       "      <td>Female</td>\n",
       "      <td>0</td>\n",
       "      <td>Yes</td>\n",
       "      <td>No</td>\n",
       "    </tr>\n",
       "    <tr>\n",
       "      <th>9</th>\n",
       "      <td>6388-TABGU</td>\n",
       "      <td>Male</td>\n",
       "      <td>0</td>\n",
       "      <td>No</td>\n",
       "      <td>Yes</td>\n",
       "    </tr>\n",
       "  </tbody>\n",
       "</table>\n",
       "</div>"
      ],
      "text/plain": [
       "   customerID  gender  SeniorCitizen Partner Dependents\n",
       "0  7590-VHVEG  Female              0     Yes         No\n",
       "1  5575-GNVDE    Male              0      No         No\n",
       "2  3668-QPYBK    Male              0      No         No\n",
       "3  7795-CFOCW    Male              0      No         No\n",
       "4  9237-HQITU  Female              0      No         No\n",
       "5  9305-CDSKC  Female              0      No         No\n",
       "6  1452-KIOVK    Male              0      No        Yes\n",
       "7  6713-OKOMC  Female              0      No         No\n",
       "8  7892-POOKP  Female              0     Yes         No\n",
       "9  6388-TABGU    Male              0      No        Yes"
      ]
     },
     "execution_count": 12,
     "metadata": {},
     "output_type": "execute_result"
    }
   ],
   "source": [
    "data_personal.head(10)"
   ]
  },
  {
   "cell_type": "code",
   "execution_count": 13,
   "id": "7812c2fd",
   "metadata": {
    "ExecuteTime": {
     "end_time": "2023-10-08T20:16:33.772908Z",
     "start_time": "2023-10-08T20:16:33.758890Z"
    }
   },
   "outputs": [
    {
     "data": {
      "text/plain": [
       "customerID       0\n",
       "gender           0\n",
       "SeniorCitizen    0\n",
       "Partner          0\n",
       "Dependents       0\n",
       "dtype: int64"
      ]
     },
     "execution_count": 13,
     "metadata": {},
     "output_type": "execute_result"
    }
   ],
   "source": [
    "data_personal.isnull().sum()"
   ]
  },
  {
   "cell_type": "code",
   "execution_count": 14,
   "id": "80bf3e12",
   "metadata": {
    "ExecuteTime": {
     "end_time": "2023-10-08T20:16:33.804600Z",
     "start_time": "2023-10-08T20:16:33.776619Z"
    }
   },
   "outputs": [
    {
     "data": {
      "text/plain": [
       "0"
      ]
     },
     "execution_count": 14,
     "metadata": {},
     "output_type": "execute_result"
    }
   ],
   "source": [
    "data_personal.duplicated().sum()"
   ]
  },
  {
   "cell_type": "code",
   "execution_count": 15,
   "id": "1ab579d9",
   "metadata": {
    "ExecuteTime": {
     "end_time": "2023-10-08T20:16:33.836489Z",
     "start_time": "2023-10-08T20:16:33.807676Z"
    }
   },
   "outputs": [
    {
     "data": {
      "text/html": [
       "<div>\n",
       "<style scoped>\n",
       "    .dataframe tbody tr th:only-of-type {\n",
       "        vertical-align: middle;\n",
       "    }\n",
       "\n",
       "    .dataframe tbody tr th {\n",
       "        vertical-align: top;\n",
       "    }\n",
       "\n",
       "    .dataframe thead th {\n",
       "        text-align: right;\n",
       "    }\n",
       "</style>\n",
       "<table border=\"1\" class=\"dataframe\">\n",
       "  <thead>\n",
       "    <tr style=\"text-align: right;\">\n",
       "      <th></th>\n",
       "      <th>MonthlyCharges</th>\n",
       "    </tr>\n",
       "  </thead>\n",
       "  <tbody>\n",
       "    <tr>\n",
       "      <th>count</th>\n",
       "      <td>7043.000000</td>\n",
       "    </tr>\n",
       "    <tr>\n",
       "      <th>mean</th>\n",
       "      <td>64.761692</td>\n",
       "    </tr>\n",
       "    <tr>\n",
       "      <th>std</th>\n",
       "      <td>30.090047</td>\n",
       "    </tr>\n",
       "    <tr>\n",
       "      <th>min</th>\n",
       "      <td>18.250000</td>\n",
       "    </tr>\n",
       "    <tr>\n",
       "      <th>25%</th>\n",
       "      <td>35.500000</td>\n",
       "    </tr>\n",
       "    <tr>\n",
       "      <th>50%</th>\n",
       "      <td>70.350000</td>\n",
       "    </tr>\n",
       "    <tr>\n",
       "      <th>75%</th>\n",
       "      <td>89.850000</td>\n",
       "    </tr>\n",
       "    <tr>\n",
       "      <th>max</th>\n",
       "      <td>118.750000</td>\n",
       "    </tr>\n",
       "  </tbody>\n",
       "</table>\n",
       "</div>"
      ],
      "text/plain": [
       "       MonthlyCharges\n",
       "count     7043.000000\n",
       "mean        64.761692\n",
       "std         30.090047\n",
       "min         18.250000\n",
       "25%         35.500000\n",
       "50%         70.350000\n",
       "75%         89.850000\n",
       "max        118.750000"
      ]
     },
     "execution_count": 15,
     "metadata": {},
     "output_type": "execute_result"
    }
   ],
   "source": [
    "data_contract.describe()"
   ]
  },
  {
   "cell_type": "code",
   "execution_count": 16,
   "id": "13ca9638",
   "metadata": {
    "ExecuteTime": {
     "end_time": "2023-10-08T20:16:33.868629Z",
     "start_time": "2023-10-08T20:16:33.839489Z"
    },
    "scrolled": true
   },
   "outputs": [
    {
     "data": {
      "text/html": [
       "<div>\n",
       "<style scoped>\n",
       "    .dataframe tbody tr th:only-of-type {\n",
       "        vertical-align: middle;\n",
       "    }\n",
       "\n",
       "    .dataframe tbody tr th {\n",
       "        vertical-align: top;\n",
       "    }\n",
       "\n",
       "    .dataframe thead th {\n",
       "        text-align: right;\n",
       "    }\n",
       "</style>\n",
       "<table border=\"1\" class=\"dataframe\">\n",
       "  <thead>\n",
       "    <tr style=\"text-align: right;\">\n",
       "      <th></th>\n",
       "      <th>customerID</th>\n",
       "      <th>BeginDate</th>\n",
       "      <th>EndDate</th>\n",
       "      <th>Type</th>\n",
       "      <th>PaperlessBilling</th>\n",
       "      <th>PaymentMethod</th>\n",
       "      <th>MonthlyCharges</th>\n",
       "      <th>TotalCharges</th>\n",
       "    </tr>\n",
       "  </thead>\n",
       "  <tbody>\n",
       "    <tr>\n",
       "      <th>0</th>\n",
       "      <td>7590-VHVEG</td>\n",
       "      <td>2020-01-01</td>\n",
       "      <td>No</td>\n",
       "      <td>Month-to-month</td>\n",
       "      <td>Yes</td>\n",
       "      <td>Electronic check</td>\n",
       "      <td>29.85</td>\n",
       "      <td>31.04</td>\n",
       "    </tr>\n",
       "    <tr>\n",
       "      <th>1</th>\n",
       "      <td>5575-GNVDE</td>\n",
       "      <td>2017-04-01</td>\n",
       "      <td>No</td>\n",
       "      <td>One year</td>\n",
       "      <td>No</td>\n",
       "      <td>Mailed check</td>\n",
       "      <td>56.95</td>\n",
       "      <td>2071.84</td>\n",
       "    </tr>\n",
       "    <tr>\n",
       "      <th>2</th>\n",
       "      <td>3668-QPYBK</td>\n",
       "      <td>2019-10-01</td>\n",
       "      <td>No</td>\n",
       "      <td>Month-to-month</td>\n",
       "      <td>Yes</td>\n",
       "      <td>Mailed check</td>\n",
       "      <td>53.85</td>\n",
       "      <td>226.17</td>\n",
       "    </tr>\n",
       "    <tr>\n",
       "      <th>3</th>\n",
       "      <td>7795-CFOCW</td>\n",
       "      <td>2016-05-01</td>\n",
       "      <td>No</td>\n",
       "      <td>One year</td>\n",
       "      <td>No</td>\n",
       "      <td>Bank transfer (automatic)</td>\n",
       "      <td>42.30</td>\n",
       "      <td>1960.6</td>\n",
       "    </tr>\n",
       "    <tr>\n",
       "      <th>4</th>\n",
       "      <td>9237-HQITU</td>\n",
       "      <td>2019-09-01</td>\n",
       "      <td>No</td>\n",
       "      <td>Month-to-month</td>\n",
       "      <td>Yes</td>\n",
       "      <td>Electronic check</td>\n",
       "      <td>70.70</td>\n",
       "      <td>353.5</td>\n",
       "    </tr>\n",
       "  </tbody>\n",
       "</table>\n",
       "</div>"
      ],
      "text/plain": [
       "   customerID   BeginDate EndDate            Type PaperlessBilling  \\\n",
       "0  7590-VHVEG  2020-01-01      No  Month-to-month              Yes   \n",
       "1  5575-GNVDE  2017-04-01      No        One year               No   \n",
       "2  3668-QPYBK  2019-10-01      No  Month-to-month              Yes   \n",
       "3  7795-CFOCW  2016-05-01      No        One year               No   \n",
       "4  9237-HQITU  2019-09-01      No  Month-to-month              Yes   \n",
       "\n",
       "               PaymentMethod  MonthlyCharges TotalCharges  \n",
       "0           Electronic check           29.85        31.04  \n",
       "1               Mailed check           56.95      2071.84  \n",
       "2               Mailed check           53.85       226.17  \n",
       "3  Bank transfer (automatic)           42.30       1960.6  \n",
       "4           Electronic check           70.70        353.5  "
      ]
     },
     "execution_count": 16,
     "metadata": {},
     "output_type": "execute_result"
    }
   ],
   "source": [
    "data_contract.head()"
   ]
  },
  {
   "cell_type": "code",
   "execution_count": 17,
   "id": "2023ad93",
   "metadata": {
    "ExecuteTime": {
     "end_time": "2023-10-08T20:16:33.900559Z",
     "start_time": "2023-10-08T20:16:33.870563Z"
    },
    "scrolled": true
   },
   "outputs": [
    {
     "data": {
      "text/plain": [
       "customerID          0\n",
       "BeginDate           0\n",
       "EndDate             0\n",
       "Type                0\n",
       "PaperlessBilling    0\n",
       "PaymentMethod       0\n",
       "MonthlyCharges      0\n",
       "TotalCharges        0\n",
       "dtype: int64"
      ]
     },
     "execution_count": 17,
     "metadata": {},
     "output_type": "execute_result"
    }
   ],
   "source": [
    "data_contract.isnull().sum()"
   ]
  },
  {
   "cell_type": "code",
   "execution_count": 18,
   "id": "9df0cfcc",
   "metadata": {
    "ExecuteTime": {
     "end_time": "2023-10-08T20:16:33.932013Z",
     "start_time": "2023-10-08T20:16:33.902552Z"
    }
   },
   "outputs": [
    {
     "data": {
      "text/plain": [
       "0"
      ]
     },
     "execution_count": 18,
     "metadata": {},
     "output_type": "execute_result"
    }
   ],
   "source": [
    "data_contract.duplicated().sum()"
   ]
  },
  {
   "cell_type": "markdown",
   "id": "af63d983",
   "metadata": {
    "ExecuteTime": {
     "end_time": "2023-09-26T13:09:47.201347Z",
     "start_time": "2023-09-26T13:09:47.184175Z"
    }
   },
   "source": [
    "**Вывод:**\n",
    "\n",
    " - кол-во признаков в датасетах варьируется от 1 до 8\n",
    " - у всех общий признак, по которому далее будем объединять customerID\n",
    " - признаки разные: числовые и категориальные\n",
    " - в данных отсутствуют пропуски и явные дубликаты\n",
    " - видно, что требуется дальнейшая предобработка"
   ]
  },
  {
   "cell_type": "markdown",
   "id": "bbc93b43",
   "metadata": {},
   "source": [
    "### Предобработка данных"
   ]
  },
  {
   "cell_type": "markdown",
   "id": "55386a93",
   "metadata": {},
   "source": [
    "Объединим все датасеты в один:"
   ]
  },
  {
   "cell_type": "code",
   "execution_count": 19,
   "id": "d8bcc969",
   "metadata": {
    "ExecuteTime": {
     "end_time": "2023-10-08T20:16:33.978934Z",
     "start_time": "2023-10-08T20:16:33.933935Z"
    }
   },
   "outputs": [],
   "source": [
    "data = (data_personal.merge(data_contract, how='right', on='customerID')\n",
    "        .merge(data_internet, how='left', on='customerID')\n",
    "        .merge(data_phone, how='left', on='customerID'))\n"
   ]
  },
  {
   "cell_type": "markdown",
   "id": "f63e4c26",
   "metadata": {},
   "source": [
    "Изменим регистр названия столбца `gender`:"
   ]
  },
  {
   "cell_type": "code",
   "execution_count": 20,
   "id": "2f222afb",
   "metadata": {
    "ExecuteTime": {
     "end_time": "2023-10-08T20:16:33.993643Z",
     "start_time": "2023-10-08T20:16:33.982258Z"
    }
   },
   "outputs": [],
   "source": [
    "data.rename(columns={'gender': 'Gender'}, inplace=True)"
   ]
  },
  {
   "cell_type": "code",
   "execution_count": 21,
   "id": "5e683165",
   "metadata": {
    "ExecuteTime": {
     "end_time": "2023-10-08T20:16:34.025088Z",
     "start_time": "2023-10-08T20:16:33.996091Z"
    }
   },
   "outputs": [
    {
     "data": {
      "text/html": [
       "<div>\n",
       "<style scoped>\n",
       "    .dataframe tbody tr th:only-of-type {\n",
       "        vertical-align: middle;\n",
       "    }\n",
       "\n",
       "    .dataframe tbody tr th {\n",
       "        vertical-align: top;\n",
       "    }\n",
       "\n",
       "    .dataframe thead th {\n",
       "        text-align: right;\n",
       "    }\n",
       "</style>\n",
       "<table border=\"1\" class=\"dataframe\">\n",
       "  <thead>\n",
       "    <tr style=\"text-align: right;\">\n",
       "      <th></th>\n",
       "      <th>customerID</th>\n",
       "      <th>Gender</th>\n",
       "      <th>SeniorCitizen</th>\n",
       "      <th>Partner</th>\n",
       "      <th>Dependents</th>\n",
       "      <th>BeginDate</th>\n",
       "      <th>EndDate</th>\n",
       "      <th>Type</th>\n",
       "      <th>PaperlessBilling</th>\n",
       "      <th>PaymentMethod</th>\n",
       "      <th>MonthlyCharges</th>\n",
       "      <th>TotalCharges</th>\n",
       "      <th>InternetService</th>\n",
       "      <th>OnlineSecurity</th>\n",
       "      <th>OnlineBackup</th>\n",
       "      <th>DeviceProtection</th>\n",
       "      <th>TechSupport</th>\n",
       "      <th>StreamingTV</th>\n",
       "      <th>StreamingMovies</th>\n",
       "      <th>MultipleLines</th>\n",
       "    </tr>\n",
       "  </thead>\n",
       "  <tbody>\n",
       "    <tr>\n",
       "      <th>0</th>\n",
       "      <td>7590-VHVEG</td>\n",
       "      <td>Female</td>\n",
       "      <td>0</td>\n",
       "      <td>Yes</td>\n",
       "      <td>No</td>\n",
       "      <td>2020-01-01</td>\n",
       "      <td>No</td>\n",
       "      <td>Month-to-month</td>\n",
       "      <td>Yes</td>\n",
       "      <td>Electronic check</td>\n",
       "      <td>29.85</td>\n",
       "      <td>31.04</td>\n",
       "      <td>DSL</td>\n",
       "      <td>No</td>\n",
       "      <td>Yes</td>\n",
       "      <td>No</td>\n",
       "      <td>No</td>\n",
       "      <td>No</td>\n",
       "      <td>No</td>\n",
       "      <td>NaN</td>\n",
       "    </tr>\n",
       "    <tr>\n",
       "      <th>1</th>\n",
       "      <td>5575-GNVDE</td>\n",
       "      <td>Male</td>\n",
       "      <td>0</td>\n",
       "      <td>No</td>\n",
       "      <td>No</td>\n",
       "      <td>2017-04-01</td>\n",
       "      <td>No</td>\n",
       "      <td>One year</td>\n",
       "      <td>No</td>\n",
       "      <td>Mailed check</td>\n",
       "      <td>56.95</td>\n",
       "      <td>2071.84</td>\n",
       "      <td>DSL</td>\n",
       "      <td>Yes</td>\n",
       "      <td>No</td>\n",
       "      <td>Yes</td>\n",
       "      <td>No</td>\n",
       "      <td>No</td>\n",
       "      <td>No</td>\n",
       "      <td>No</td>\n",
       "    </tr>\n",
       "    <tr>\n",
       "      <th>2</th>\n",
       "      <td>3668-QPYBK</td>\n",
       "      <td>Male</td>\n",
       "      <td>0</td>\n",
       "      <td>No</td>\n",
       "      <td>No</td>\n",
       "      <td>2019-10-01</td>\n",
       "      <td>No</td>\n",
       "      <td>Month-to-month</td>\n",
       "      <td>Yes</td>\n",
       "      <td>Mailed check</td>\n",
       "      <td>53.85</td>\n",
       "      <td>226.17</td>\n",
       "      <td>DSL</td>\n",
       "      <td>Yes</td>\n",
       "      <td>Yes</td>\n",
       "      <td>No</td>\n",
       "      <td>No</td>\n",
       "      <td>No</td>\n",
       "      <td>No</td>\n",
       "      <td>No</td>\n",
       "    </tr>\n",
       "    <tr>\n",
       "      <th>3</th>\n",
       "      <td>7795-CFOCW</td>\n",
       "      <td>Male</td>\n",
       "      <td>0</td>\n",
       "      <td>No</td>\n",
       "      <td>No</td>\n",
       "      <td>2016-05-01</td>\n",
       "      <td>No</td>\n",
       "      <td>One year</td>\n",
       "      <td>No</td>\n",
       "      <td>Bank transfer (automatic)</td>\n",
       "      <td>42.30</td>\n",
       "      <td>1960.6</td>\n",
       "      <td>DSL</td>\n",
       "      <td>Yes</td>\n",
       "      <td>No</td>\n",
       "      <td>Yes</td>\n",
       "      <td>Yes</td>\n",
       "      <td>No</td>\n",
       "      <td>No</td>\n",
       "      <td>NaN</td>\n",
       "    </tr>\n",
       "    <tr>\n",
       "      <th>4</th>\n",
       "      <td>9237-HQITU</td>\n",
       "      <td>Female</td>\n",
       "      <td>0</td>\n",
       "      <td>No</td>\n",
       "      <td>No</td>\n",
       "      <td>2019-09-01</td>\n",
       "      <td>No</td>\n",
       "      <td>Month-to-month</td>\n",
       "      <td>Yes</td>\n",
       "      <td>Electronic check</td>\n",
       "      <td>70.70</td>\n",
       "      <td>353.5</td>\n",
       "      <td>Fiber optic</td>\n",
       "      <td>No</td>\n",
       "      <td>No</td>\n",
       "      <td>No</td>\n",
       "      <td>No</td>\n",
       "      <td>No</td>\n",
       "      <td>No</td>\n",
       "      <td>No</td>\n",
       "    </tr>\n",
       "    <tr>\n",
       "      <th>5</th>\n",
       "      <td>9305-CDSKC</td>\n",
       "      <td>Female</td>\n",
       "      <td>0</td>\n",
       "      <td>No</td>\n",
       "      <td>No</td>\n",
       "      <td>2019-03-01</td>\n",
       "      <td>No</td>\n",
       "      <td>Month-to-month</td>\n",
       "      <td>Yes</td>\n",
       "      <td>Electronic check</td>\n",
       "      <td>99.65</td>\n",
       "      <td>1150.96</td>\n",
       "      <td>Fiber optic</td>\n",
       "      <td>No</td>\n",
       "      <td>No</td>\n",
       "      <td>Yes</td>\n",
       "      <td>No</td>\n",
       "      <td>Yes</td>\n",
       "      <td>Yes</td>\n",
       "      <td>Yes</td>\n",
       "    </tr>\n",
       "    <tr>\n",
       "      <th>6</th>\n",
       "      <td>1452-KIOVK</td>\n",
       "      <td>Male</td>\n",
       "      <td>0</td>\n",
       "      <td>No</td>\n",
       "      <td>Yes</td>\n",
       "      <td>2018-04-01</td>\n",
       "      <td>No</td>\n",
       "      <td>Month-to-month</td>\n",
       "      <td>Yes</td>\n",
       "      <td>Credit card (automatic)</td>\n",
       "      <td>89.10</td>\n",
       "      <td>2058.21</td>\n",
       "      <td>Fiber optic</td>\n",
       "      <td>No</td>\n",
       "      <td>Yes</td>\n",
       "      <td>No</td>\n",
       "      <td>No</td>\n",
       "      <td>Yes</td>\n",
       "      <td>No</td>\n",
       "      <td>Yes</td>\n",
       "    </tr>\n",
       "    <tr>\n",
       "      <th>7</th>\n",
       "      <td>6713-OKOMC</td>\n",
       "      <td>Female</td>\n",
       "      <td>0</td>\n",
       "      <td>No</td>\n",
       "      <td>No</td>\n",
       "      <td>2019-04-01</td>\n",
       "      <td>No</td>\n",
       "      <td>Month-to-month</td>\n",
       "      <td>No</td>\n",
       "      <td>Mailed check</td>\n",
       "      <td>29.75</td>\n",
       "      <td>300.48</td>\n",
       "      <td>DSL</td>\n",
       "      <td>Yes</td>\n",
       "      <td>No</td>\n",
       "      <td>No</td>\n",
       "      <td>No</td>\n",
       "      <td>No</td>\n",
       "      <td>No</td>\n",
       "      <td>NaN</td>\n",
       "    </tr>\n",
       "    <tr>\n",
       "      <th>8</th>\n",
       "      <td>7892-POOKP</td>\n",
       "      <td>Female</td>\n",
       "      <td>0</td>\n",
       "      <td>Yes</td>\n",
       "      <td>No</td>\n",
       "      <td>2017-07-01</td>\n",
       "      <td>No</td>\n",
       "      <td>Month-to-month</td>\n",
       "      <td>Yes</td>\n",
       "      <td>Electronic check</td>\n",
       "      <td>104.80</td>\n",
       "      <td>3573.68</td>\n",
       "      <td>Fiber optic</td>\n",
       "      <td>No</td>\n",
       "      <td>No</td>\n",
       "      <td>Yes</td>\n",
       "      <td>Yes</td>\n",
       "      <td>Yes</td>\n",
       "      <td>Yes</td>\n",
       "      <td>Yes</td>\n",
       "    </tr>\n",
       "    <tr>\n",
       "      <th>9</th>\n",
       "      <td>6388-TABGU</td>\n",
       "      <td>Male</td>\n",
       "      <td>0</td>\n",
       "      <td>No</td>\n",
       "      <td>Yes</td>\n",
       "      <td>2014-12-01</td>\n",
       "      <td>2017-05-01</td>\n",
       "      <td>One year</td>\n",
       "      <td>No</td>\n",
       "      <td>Bank transfer (automatic)</td>\n",
       "      <td>56.15</td>\n",
       "      <td>1628.35</td>\n",
       "      <td>DSL</td>\n",
       "      <td>Yes</td>\n",
       "      <td>Yes</td>\n",
       "      <td>No</td>\n",
       "      <td>No</td>\n",
       "      <td>No</td>\n",
       "      <td>No</td>\n",
       "      <td>No</td>\n",
       "    </tr>\n",
       "  </tbody>\n",
       "</table>\n",
       "</div>"
      ],
      "text/plain": [
       "   customerID  Gender  SeniorCitizen Partner Dependents   BeginDate  \\\n",
       "0  7590-VHVEG  Female              0     Yes         No  2020-01-01   \n",
       "1  5575-GNVDE    Male              0      No         No  2017-04-01   \n",
       "2  3668-QPYBK    Male              0      No         No  2019-10-01   \n",
       "3  7795-CFOCW    Male              0      No         No  2016-05-01   \n",
       "4  9237-HQITU  Female              0      No         No  2019-09-01   \n",
       "5  9305-CDSKC  Female              0      No         No  2019-03-01   \n",
       "6  1452-KIOVK    Male              0      No        Yes  2018-04-01   \n",
       "7  6713-OKOMC  Female              0      No         No  2019-04-01   \n",
       "8  7892-POOKP  Female              0     Yes         No  2017-07-01   \n",
       "9  6388-TABGU    Male              0      No        Yes  2014-12-01   \n",
       "\n",
       "      EndDate            Type PaperlessBilling              PaymentMethod  \\\n",
       "0          No  Month-to-month              Yes           Electronic check   \n",
       "1          No        One year               No               Mailed check   \n",
       "2          No  Month-to-month              Yes               Mailed check   \n",
       "3          No        One year               No  Bank transfer (automatic)   \n",
       "4          No  Month-to-month              Yes           Electronic check   \n",
       "5          No  Month-to-month              Yes           Electronic check   \n",
       "6          No  Month-to-month              Yes    Credit card (automatic)   \n",
       "7          No  Month-to-month               No               Mailed check   \n",
       "8          No  Month-to-month              Yes           Electronic check   \n",
       "9  2017-05-01        One year               No  Bank transfer (automatic)   \n",
       "\n",
       "   MonthlyCharges TotalCharges InternetService OnlineSecurity OnlineBackup  \\\n",
       "0           29.85        31.04             DSL             No          Yes   \n",
       "1           56.95      2071.84             DSL            Yes           No   \n",
       "2           53.85       226.17             DSL            Yes          Yes   \n",
       "3           42.30       1960.6             DSL            Yes           No   \n",
       "4           70.70        353.5     Fiber optic             No           No   \n",
       "5           99.65      1150.96     Fiber optic             No           No   \n",
       "6           89.10      2058.21     Fiber optic             No          Yes   \n",
       "7           29.75       300.48             DSL            Yes           No   \n",
       "8          104.80      3573.68     Fiber optic             No           No   \n",
       "9           56.15      1628.35             DSL            Yes          Yes   \n",
       "\n",
       "  DeviceProtection TechSupport StreamingTV StreamingMovies MultipleLines  \n",
       "0               No          No          No              No           NaN  \n",
       "1              Yes          No          No              No            No  \n",
       "2               No          No          No              No            No  \n",
       "3              Yes         Yes          No              No           NaN  \n",
       "4               No          No          No              No            No  \n",
       "5              Yes          No         Yes             Yes           Yes  \n",
       "6               No          No         Yes              No           Yes  \n",
       "7               No          No          No              No           NaN  \n",
       "8              Yes         Yes         Yes             Yes           Yes  \n",
       "9               No          No          No              No            No  "
      ]
     },
     "execution_count": 21,
     "metadata": {},
     "output_type": "execute_result"
    }
   ],
   "source": [
    "data.head(10)"
   ]
  },
  {
   "cell_type": "markdown",
   "id": "22c8ca5f",
   "metadata": {},
   "source": [
    "Проверим размер объединенного датафрейма:"
   ]
  },
  {
   "cell_type": "code",
   "execution_count": 22,
   "id": "e00ca044",
   "metadata": {
    "ExecuteTime": {
     "end_time": "2023-10-08T20:16:34.040468Z",
     "start_time": "2023-10-08T20:16:34.028086Z"
    }
   },
   "outputs": [
    {
     "data": {
      "text/plain": [
       "(7043, 20)"
      ]
     },
     "execution_count": 22,
     "metadata": {},
     "output_type": "execute_result"
    }
   ],
   "source": [
    "data.shape"
   ]
  },
  {
   "cell_type": "markdown",
   "id": "f048df9a",
   "metadata": {},
   "source": [
    "В общем датафрейме содержится 7043 строк и 20 столбцов."
   ]
  },
  {
   "cell_type": "markdown",
   "id": "9bc510fb",
   "metadata": {},
   "source": [
    "Т.к. мы знаем природу появления NaN в общей таблице (часть клиентов не используют некоторые услуги), устраним их, заполнив характерными для столбцов флагами:"
   ]
  },
  {
   "cell_type": "markdown",
   "id": "af9e2113",
   "metadata": {},
   "source": [
    "Список фичей с пропусками:"
   ]
  },
  {
   "cell_type": "code",
   "execution_count": 23,
   "id": "d48aa0f1",
   "metadata": {
    "ExecuteTime": {
     "end_time": "2023-10-08T20:16:34.087492Z",
     "start_time": "2023-10-08T20:16:34.042469Z"
    }
   },
   "outputs": [
    {
     "data": {
      "text/plain": [
       "['InternetService',\n",
       " 'OnlineSecurity',\n",
       " 'OnlineBackup',\n",
       " 'DeviceProtection',\n",
       " 'TechSupport',\n",
       " 'StreamingTV',\n",
       " 'StreamingMovies',\n",
       " 'MultipleLines']"
      ]
     },
     "execution_count": 23,
     "metadata": {},
     "output_type": "execute_result"
    }
   ],
   "source": [
    "columns_with_na = data.columns[data.isnull().any()].tolist()\n",
    "columns_with_na"
   ]
  },
  {
   "cell_type": "markdown",
   "id": "7a742818",
   "metadata": {},
   "source": [
    "Определим типы данных в столбцах с пропусками:"
   ]
  },
  {
   "cell_type": "code",
   "execution_count": 24,
   "id": "d983f953",
   "metadata": {
    "ExecuteTime": {
     "end_time": "2023-10-08T20:16:34.103159Z",
     "start_time": "2023-10-08T20:16:34.088492Z"
    }
   },
   "outputs": [
    {
     "name": "stdout",
     "output_type": "stream",
     "text": [
      "InternetService     object\n",
      "OnlineSecurity      object\n",
      "OnlineBackup        object\n",
      "DeviceProtection    object\n",
      "TechSupport         object\n",
      "StreamingTV         object\n",
      "StreamingMovies     object\n",
      "MultipleLines       object\n",
      "dtype: object\n"
     ]
    }
   ],
   "source": [
    "print(data[columns_with_na].dtypes)"
   ]
  },
  {
   "cell_type": "markdown",
   "id": "4cadaf3c",
   "metadata": {
    "ExecuteTime": {
     "end_time": "2023-10-01T14:51:23.210263Z",
     "start_time": "2023-10-01T14:51:23.199265Z"
    }
   },
   "source": [
    "Тип данных в столбцах с ропусками одинаков, следовательно можно заполнить все пропуски флагом `no info`:"
   ]
  },
  {
   "cell_type": "code",
   "execution_count": 25,
   "id": "7e2ddabc",
   "metadata": {
    "ExecuteTime": {
     "end_time": "2023-10-08T20:16:34.134675Z",
     "start_time": "2023-10-08T20:16:34.104084Z"
    },
    "scrolled": false
   },
   "outputs": [
    {
     "name": "stdout",
     "output_type": "stream",
     "text": [
      "customerID          False\n",
      "Gender              False\n",
      "SeniorCitizen       False\n",
      "Partner             False\n",
      "Dependents          False\n",
      "BeginDate           False\n",
      "EndDate             False\n",
      "Type                False\n",
      "PaperlessBilling    False\n",
      "PaymentMethod       False\n",
      "MonthlyCharges      False\n",
      "TotalCharges        False\n",
      "InternetService     False\n",
      "OnlineSecurity      False\n",
      "OnlineBackup        False\n",
      "DeviceProtection    False\n",
      "TechSupport         False\n",
      "StreamingTV         False\n",
      "StreamingMovies     False\n",
      "MultipleLines       False\n",
      "dtype: bool\n"
     ]
    }
   ],
   "source": [
    "replacement_value = 'No'\n",
    "\n",
    "for column in data[columns_with_na]:\n",
    "    data[column].fillna(replacement_value, inplace=True)\n",
    "\n",
    "print(data.isnull().any())"
   ]
  },
  {
   "cell_type": "markdown",
   "id": "5abdd4c0",
   "metadata": {
    "ExecuteTime": {
     "end_time": "2023-10-05T11:11:25.982435Z",
     "start_time": "2023-10-05T11:11:25.982435Z"
    }
   },
   "source": [
    "Изменим тип данных `TotalCharges` на числовой тип:"
   ]
  },
  {
   "cell_type": "code",
   "execution_count": 26,
   "id": "e4c95fb4",
   "metadata": {
    "ExecuteTime": {
     "end_time": "2023-10-08T20:16:34.150475Z",
     "start_time": "2023-10-08T20:16:34.136351Z"
    }
   },
   "outputs": [
    {
     "name": "stdout",
     "output_type": "stream",
     "text": [
      "Kind_of_error=ValueError('Unable to parse string \" \" at position 488'), type(error)=<class 'ValueError'>\n"
     ]
    }
   ],
   "source": [
    "try:\n",
    "    data['TotalCharges'] = pd.to_numeric(data['TotalCharges'], errors='raise')\n",
    "except Exception as error:\n",
    "    print(f'Kind_of_{error=}, {type(error)=}')"
   ]
  },
  {
   "cell_type": "markdown",
   "id": "1ff9b902",
   "metadata": {},
   "source": [
    "Ошибка говорит, что в столбце есть пустые строковые значения, поэтому не удалось преобразование"
   ]
  },
  {
   "cell_type": "code",
   "execution_count": 27,
   "id": "982263e6",
   "metadata": {
    "ExecuteTime": {
     "end_time": "2023-10-08T20:16:34.197649Z",
     "start_time": "2023-10-08T20:16:34.158475Z"
    }
   },
   "outputs": [
    {
     "data": {
      "text/html": [
       "<div>\n",
       "<style scoped>\n",
       "    .dataframe tbody tr th:only-of-type {\n",
       "        vertical-align: middle;\n",
       "    }\n",
       "\n",
       "    .dataframe tbody tr th {\n",
       "        vertical-align: top;\n",
       "    }\n",
       "\n",
       "    .dataframe thead th {\n",
       "        text-align: right;\n",
       "    }\n",
       "</style>\n",
       "<table border=\"1\" class=\"dataframe\">\n",
       "  <thead>\n",
       "    <tr style=\"text-align: right;\">\n",
       "      <th></th>\n",
       "      <th>customerID</th>\n",
       "      <th>Gender</th>\n",
       "      <th>SeniorCitizen</th>\n",
       "      <th>Partner</th>\n",
       "      <th>Dependents</th>\n",
       "      <th>BeginDate</th>\n",
       "      <th>EndDate</th>\n",
       "      <th>Type</th>\n",
       "      <th>PaperlessBilling</th>\n",
       "      <th>PaymentMethod</th>\n",
       "      <th>MonthlyCharges</th>\n",
       "      <th>TotalCharges</th>\n",
       "      <th>InternetService</th>\n",
       "      <th>OnlineSecurity</th>\n",
       "      <th>OnlineBackup</th>\n",
       "      <th>DeviceProtection</th>\n",
       "      <th>TechSupport</th>\n",
       "      <th>StreamingTV</th>\n",
       "      <th>StreamingMovies</th>\n",
       "      <th>MultipleLines</th>\n",
       "    </tr>\n",
       "  </thead>\n",
       "  <tbody>\n",
       "    <tr>\n",
       "      <th>488</th>\n",
       "      <td>4472-LVYGI</td>\n",
       "      <td>Female</td>\n",
       "      <td>0</td>\n",
       "      <td>Yes</td>\n",
       "      <td>Yes</td>\n",
       "      <td>2020-02-01</td>\n",
       "      <td>No</td>\n",
       "      <td>Two year</td>\n",
       "      <td>Yes</td>\n",
       "      <td>Bank transfer (automatic)</td>\n",
       "      <td>52.55</td>\n",
       "      <td></td>\n",
       "      <td>DSL</td>\n",
       "      <td>Yes</td>\n",
       "      <td>No</td>\n",
       "      <td>Yes</td>\n",
       "      <td>Yes</td>\n",
       "      <td>Yes</td>\n",
       "      <td>No</td>\n",
       "      <td>No</td>\n",
       "    </tr>\n",
       "    <tr>\n",
       "      <th>753</th>\n",
       "      <td>3115-CZMZD</td>\n",
       "      <td>Male</td>\n",
       "      <td>0</td>\n",
       "      <td>No</td>\n",
       "      <td>Yes</td>\n",
       "      <td>2020-02-01</td>\n",
       "      <td>No</td>\n",
       "      <td>Two year</td>\n",
       "      <td>No</td>\n",
       "      <td>Mailed check</td>\n",
       "      <td>20.25</td>\n",
       "      <td></td>\n",
       "      <td>No</td>\n",
       "      <td>No</td>\n",
       "      <td>No</td>\n",
       "      <td>No</td>\n",
       "      <td>No</td>\n",
       "      <td>No</td>\n",
       "      <td>No</td>\n",
       "      <td>No</td>\n",
       "    </tr>\n",
       "    <tr>\n",
       "      <th>936</th>\n",
       "      <td>5709-LVOEQ</td>\n",
       "      <td>Female</td>\n",
       "      <td>0</td>\n",
       "      <td>Yes</td>\n",
       "      <td>Yes</td>\n",
       "      <td>2020-02-01</td>\n",
       "      <td>No</td>\n",
       "      <td>Two year</td>\n",
       "      <td>No</td>\n",
       "      <td>Mailed check</td>\n",
       "      <td>80.85</td>\n",
       "      <td></td>\n",
       "      <td>DSL</td>\n",
       "      <td>Yes</td>\n",
       "      <td>Yes</td>\n",
       "      <td>Yes</td>\n",
       "      <td>No</td>\n",
       "      <td>Yes</td>\n",
       "      <td>Yes</td>\n",
       "      <td>No</td>\n",
       "    </tr>\n",
       "    <tr>\n",
       "      <th>1082</th>\n",
       "      <td>4367-NUYAO</td>\n",
       "      <td>Male</td>\n",
       "      <td>0</td>\n",
       "      <td>Yes</td>\n",
       "      <td>Yes</td>\n",
       "      <td>2020-02-01</td>\n",
       "      <td>No</td>\n",
       "      <td>Two year</td>\n",
       "      <td>No</td>\n",
       "      <td>Mailed check</td>\n",
       "      <td>25.75</td>\n",
       "      <td></td>\n",
       "      <td>No</td>\n",
       "      <td>No</td>\n",
       "      <td>No</td>\n",
       "      <td>No</td>\n",
       "      <td>No</td>\n",
       "      <td>No</td>\n",
       "      <td>No</td>\n",
       "      <td>Yes</td>\n",
       "    </tr>\n",
       "    <tr>\n",
       "      <th>1340</th>\n",
       "      <td>1371-DWPAZ</td>\n",
       "      <td>Female</td>\n",
       "      <td>0</td>\n",
       "      <td>Yes</td>\n",
       "      <td>Yes</td>\n",
       "      <td>2020-02-01</td>\n",
       "      <td>No</td>\n",
       "      <td>Two year</td>\n",
       "      <td>No</td>\n",
       "      <td>Credit card (automatic)</td>\n",
       "      <td>56.05</td>\n",
       "      <td></td>\n",
       "      <td>DSL</td>\n",
       "      <td>Yes</td>\n",
       "      <td>Yes</td>\n",
       "      <td>Yes</td>\n",
       "      <td>Yes</td>\n",
       "      <td>Yes</td>\n",
       "      <td>No</td>\n",
       "      <td>No</td>\n",
       "    </tr>\n",
       "    <tr>\n",
       "      <th>3331</th>\n",
       "      <td>7644-OMVMY</td>\n",
       "      <td>Male</td>\n",
       "      <td>0</td>\n",
       "      <td>Yes</td>\n",
       "      <td>Yes</td>\n",
       "      <td>2020-02-01</td>\n",
       "      <td>No</td>\n",
       "      <td>Two year</td>\n",
       "      <td>No</td>\n",
       "      <td>Mailed check</td>\n",
       "      <td>19.85</td>\n",
       "      <td></td>\n",
       "      <td>No</td>\n",
       "      <td>No</td>\n",
       "      <td>No</td>\n",
       "      <td>No</td>\n",
       "      <td>No</td>\n",
       "      <td>No</td>\n",
       "      <td>No</td>\n",
       "      <td>No</td>\n",
       "    </tr>\n",
       "    <tr>\n",
       "      <th>3826</th>\n",
       "      <td>3213-VVOLG</td>\n",
       "      <td>Male</td>\n",
       "      <td>0</td>\n",
       "      <td>Yes</td>\n",
       "      <td>Yes</td>\n",
       "      <td>2020-02-01</td>\n",
       "      <td>No</td>\n",
       "      <td>Two year</td>\n",
       "      <td>No</td>\n",
       "      <td>Mailed check</td>\n",
       "      <td>25.35</td>\n",
       "      <td></td>\n",
       "      <td>No</td>\n",
       "      <td>No</td>\n",
       "      <td>No</td>\n",
       "      <td>No</td>\n",
       "      <td>No</td>\n",
       "      <td>No</td>\n",
       "      <td>No</td>\n",
       "      <td>Yes</td>\n",
       "    </tr>\n",
       "    <tr>\n",
       "      <th>4380</th>\n",
       "      <td>2520-SGTTA</td>\n",
       "      <td>Female</td>\n",
       "      <td>0</td>\n",
       "      <td>Yes</td>\n",
       "      <td>Yes</td>\n",
       "      <td>2020-02-01</td>\n",
       "      <td>No</td>\n",
       "      <td>Two year</td>\n",
       "      <td>No</td>\n",
       "      <td>Mailed check</td>\n",
       "      <td>20.00</td>\n",
       "      <td></td>\n",
       "      <td>No</td>\n",
       "      <td>No</td>\n",
       "      <td>No</td>\n",
       "      <td>No</td>\n",
       "      <td>No</td>\n",
       "      <td>No</td>\n",
       "      <td>No</td>\n",
       "      <td>No</td>\n",
       "    </tr>\n",
       "    <tr>\n",
       "      <th>5218</th>\n",
       "      <td>2923-ARZLG</td>\n",
       "      <td>Male</td>\n",
       "      <td>0</td>\n",
       "      <td>Yes</td>\n",
       "      <td>Yes</td>\n",
       "      <td>2020-02-01</td>\n",
       "      <td>No</td>\n",
       "      <td>One year</td>\n",
       "      <td>Yes</td>\n",
       "      <td>Mailed check</td>\n",
       "      <td>19.70</td>\n",
       "      <td></td>\n",
       "      <td>No</td>\n",
       "      <td>No</td>\n",
       "      <td>No</td>\n",
       "      <td>No</td>\n",
       "      <td>No</td>\n",
       "      <td>No</td>\n",
       "      <td>No</td>\n",
       "      <td>No</td>\n",
       "    </tr>\n",
       "    <tr>\n",
       "      <th>6670</th>\n",
       "      <td>4075-WKNIU</td>\n",
       "      <td>Female</td>\n",
       "      <td>0</td>\n",
       "      <td>Yes</td>\n",
       "      <td>Yes</td>\n",
       "      <td>2020-02-01</td>\n",
       "      <td>No</td>\n",
       "      <td>Two year</td>\n",
       "      <td>No</td>\n",
       "      <td>Mailed check</td>\n",
       "      <td>73.35</td>\n",
       "      <td></td>\n",
       "      <td>DSL</td>\n",
       "      <td>No</td>\n",
       "      <td>Yes</td>\n",
       "      <td>Yes</td>\n",
       "      <td>Yes</td>\n",
       "      <td>Yes</td>\n",
       "      <td>No</td>\n",
       "      <td>Yes</td>\n",
       "    </tr>\n",
       "    <tr>\n",
       "      <th>6754</th>\n",
       "      <td>2775-SEFEE</td>\n",
       "      <td>Male</td>\n",
       "      <td>0</td>\n",
       "      <td>No</td>\n",
       "      <td>Yes</td>\n",
       "      <td>2020-02-01</td>\n",
       "      <td>No</td>\n",
       "      <td>Two year</td>\n",
       "      <td>Yes</td>\n",
       "      <td>Bank transfer (automatic)</td>\n",
       "      <td>61.90</td>\n",
       "      <td></td>\n",
       "      <td>DSL</td>\n",
       "      <td>Yes</td>\n",
       "      <td>Yes</td>\n",
       "      <td>No</td>\n",
       "      <td>Yes</td>\n",
       "      <td>No</td>\n",
       "      <td>No</td>\n",
       "      <td>Yes</td>\n",
       "    </tr>\n",
       "  </tbody>\n",
       "</table>\n",
       "</div>"
      ],
      "text/plain": [
       "      customerID  Gender  SeniorCitizen Partner Dependents   BeginDate  \\\n",
       "488   4472-LVYGI  Female              0     Yes        Yes  2020-02-01   \n",
       "753   3115-CZMZD    Male              0      No        Yes  2020-02-01   \n",
       "936   5709-LVOEQ  Female              0     Yes        Yes  2020-02-01   \n",
       "1082  4367-NUYAO    Male              0     Yes        Yes  2020-02-01   \n",
       "1340  1371-DWPAZ  Female              0     Yes        Yes  2020-02-01   \n",
       "3331  7644-OMVMY    Male              0     Yes        Yes  2020-02-01   \n",
       "3826  3213-VVOLG    Male              0     Yes        Yes  2020-02-01   \n",
       "4380  2520-SGTTA  Female              0     Yes        Yes  2020-02-01   \n",
       "5218  2923-ARZLG    Male              0     Yes        Yes  2020-02-01   \n",
       "6670  4075-WKNIU  Female              0     Yes        Yes  2020-02-01   \n",
       "6754  2775-SEFEE    Male              0      No        Yes  2020-02-01   \n",
       "\n",
       "     EndDate      Type PaperlessBilling              PaymentMethod  \\\n",
       "488       No  Two year              Yes  Bank transfer (automatic)   \n",
       "753       No  Two year               No               Mailed check   \n",
       "936       No  Two year               No               Mailed check   \n",
       "1082      No  Two year               No               Mailed check   \n",
       "1340      No  Two year               No    Credit card (automatic)   \n",
       "3331      No  Two year               No               Mailed check   \n",
       "3826      No  Two year               No               Mailed check   \n",
       "4380      No  Two year               No               Mailed check   \n",
       "5218      No  One year              Yes               Mailed check   \n",
       "6670      No  Two year               No               Mailed check   \n",
       "6754      No  Two year              Yes  Bank transfer (automatic)   \n",
       "\n",
       "      MonthlyCharges TotalCharges InternetService OnlineSecurity OnlineBackup  \\\n",
       "488            52.55                          DSL            Yes           No   \n",
       "753            20.25                           No             No           No   \n",
       "936            80.85                          DSL            Yes          Yes   \n",
       "1082           25.75                           No             No           No   \n",
       "1340           56.05                          DSL            Yes          Yes   \n",
       "3331           19.85                           No             No           No   \n",
       "3826           25.35                           No             No           No   \n",
       "4380           20.00                           No             No           No   \n",
       "5218           19.70                           No             No           No   \n",
       "6670           73.35                          DSL             No          Yes   \n",
       "6754           61.90                          DSL            Yes          Yes   \n",
       "\n",
       "     DeviceProtection TechSupport StreamingTV StreamingMovies MultipleLines  \n",
       "488               Yes         Yes         Yes              No            No  \n",
       "753                No          No          No              No            No  \n",
       "936               Yes          No         Yes             Yes            No  \n",
       "1082               No          No          No              No           Yes  \n",
       "1340              Yes         Yes         Yes              No            No  \n",
       "3331               No          No          No              No            No  \n",
       "3826               No          No          No              No           Yes  \n",
       "4380               No          No          No              No            No  \n",
       "5218               No          No          No              No            No  \n",
       "6670              Yes         Yes         Yes              No           Yes  \n",
       "6754               No         Yes          No              No           Yes  "
      ]
     },
     "execution_count": 27,
     "metadata": {},
     "output_type": "execute_result"
    }
   ],
   "source": [
    "data[data['TotalCharges'] == ' ']"
   ]
  },
  {
   "cell_type": "markdown",
   "id": "7fbe8a91",
   "metadata": {},
   "source": [
    "Заполним их значением `MonthlyCharges`:"
   ]
  },
  {
   "cell_type": "code",
   "execution_count": 28,
   "id": "aec71c75",
   "metadata": {
    "ExecuteTime": {
     "end_time": "2023-10-08T20:16:34.213042Z",
     "start_time": "2023-10-08T20:16:34.199209Z"
    }
   },
   "outputs": [
    {
     "data": {
      "text/html": [
       "<div>\n",
       "<style scoped>\n",
       "    .dataframe tbody tr th:only-of-type {\n",
       "        vertical-align: middle;\n",
       "    }\n",
       "\n",
       "    .dataframe tbody tr th {\n",
       "        vertical-align: top;\n",
       "    }\n",
       "\n",
       "    .dataframe thead th {\n",
       "        text-align: right;\n",
       "    }\n",
       "</style>\n",
       "<table border=\"1\" class=\"dataframe\">\n",
       "  <thead>\n",
       "    <tr style=\"text-align: right;\">\n",
       "      <th></th>\n",
       "      <th>customerID</th>\n",
       "      <th>Gender</th>\n",
       "      <th>SeniorCitizen</th>\n",
       "      <th>Partner</th>\n",
       "      <th>Dependents</th>\n",
       "      <th>BeginDate</th>\n",
       "      <th>EndDate</th>\n",
       "      <th>Type</th>\n",
       "      <th>PaperlessBilling</th>\n",
       "      <th>PaymentMethod</th>\n",
       "      <th>MonthlyCharges</th>\n",
       "      <th>TotalCharges</th>\n",
       "      <th>InternetService</th>\n",
       "      <th>OnlineSecurity</th>\n",
       "      <th>OnlineBackup</th>\n",
       "      <th>DeviceProtection</th>\n",
       "      <th>TechSupport</th>\n",
       "      <th>StreamingTV</th>\n",
       "      <th>StreamingMovies</th>\n",
       "      <th>MultipleLines</th>\n",
       "    </tr>\n",
       "  </thead>\n",
       "  <tbody>\n",
       "  </tbody>\n",
       "</table>\n",
       "</div>"
      ],
      "text/plain": [
       "Empty DataFrame\n",
       "Columns: [customerID, Gender, SeniorCitizen, Partner, Dependents, BeginDate, EndDate, Type, PaperlessBilling, PaymentMethod, MonthlyCharges, TotalCharges, InternetService, OnlineSecurity, OnlineBackup, DeviceProtection, TechSupport, StreamingTV, StreamingMovies, MultipleLines]\n",
       "Index: []"
      ]
     },
     "execution_count": 28,
     "metadata": {},
     "output_type": "execute_result"
    }
   ],
   "source": [
    "data.loc[data['TotalCharges'] == ' ', 'TotalCharges'] = data.loc[data['TotalCharges'] == ' ', 'MonthlyCharges']\n",
    "\n",
    "# проверка\n",
    "data[data['TotalCharges'] == ' ']\n"
   ]
  },
  {
   "cell_type": "code",
   "execution_count": 29,
   "id": "ed05c6dc",
   "metadata": {
    "ExecuteTime": {
     "end_time": "2023-10-08T20:16:34.244301Z",
     "start_time": "2023-10-08T20:16:34.216040Z"
    }
   },
   "outputs": [
    {
     "data": {
      "text/plain": [
       "dtype('float64')"
      ]
     },
     "execution_count": 29,
     "metadata": {},
     "output_type": "execute_result"
    }
   ],
   "source": [
    "data['TotalCharges'] = pd.to_numeric(data['TotalCharges'])\n",
    "data['TotalCharges'].dtypes\n"
   ]
  },
  {
   "cell_type": "markdown",
   "id": "80aae173",
   "metadata": {},
   "source": [
    "Округлим числовой столбец `TotalCharges` до второго знака после запятой:"
   ]
  },
  {
   "cell_type": "code",
   "execution_count": 30,
   "id": "fd8e1a16",
   "metadata": {
    "ExecuteTime": {
     "end_time": "2023-10-08T20:16:34.259640Z",
     "start_time": "2023-10-08T20:16:34.246265Z"
    },
    "scrolled": true
   },
   "outputs": [
    {
     "data": {
      "text/plain": [
       "5550     430.50\n",
       "3579    3248.00\n",
       "6088     221.60\n",
       "1338      40.30\n",
       "3719     521.22\n",
       "4269     750.46\n",
       "2011    4542.10\n",
       "3335     300.00\n",
       "4908    3386.19\n",
       "4061     743.48\n",
       "Name: TotalCharges, dtype: float64"
      ]
     },
     "execution_count": 30,
     "metadata": {},
     "output_type": "execute_result"
    }
   ],
   "source": [
    "data['TotalCharges'] = round(data['TotalCharges'], 2)\n",
    "\n",
    "data['TotalCharges'].sample(10)"
   ]
  },
  {
   "cell_type": "markdown",
   "id": "aecd510f",
   "metadata": {},
   "source": [
    "Построим гистограмму числовых признаков:"
   ]
  },
  {
   "cell_type": "code",
   "execution_count": 31,
   "id": "39e084c2",
   "metadata": {
    "ExecuteTime": {
     "end_time": "2023-10-08T20:16:34.967029Z",
     "start_time": "2023-10-08T20:16:34.261248Z"
    }
   },
   "outputs": [
    {
     "data": {
      "image/png": "[encoded data removed]",
      "text/plain": [
       "<Figure size 1800x360 with 4 Axes>"
      ]
     },
     "metadata": {
      "needs_background": "light"
     },
     "output_type": "display_data"
    }
   ],
   "source": [
    "data.hist(figsize=(25, 5), color='green', bins=20, layout=(1, 4));"
   ]
  },
  {
   "cell_type": "markdown",
   "id": "0a141d81",
   "metadata": {},
   "source": [
    "На гистограмме видна разница в распределении ежемесячного и общего платежей, но в обоих графиках есть пики оплат 25 долларов для ежемесячного и приблизительно до 150 долларов за все время пользования.\n",
    "\n",
    " Характер распределения оплат за месяц в целом неравномерное (чередуются пики и спады), а характер распределения оплат за все время пользования вполне равномерное (плавное убывание количества абонентов, по мере увеличения их общей суммы оплат). "
   ]
  },
  {
   "cell_type": "markdown",
   "id": "6bcb35d7",
   "metadata": {},
   "source": [
    "**Вывод**:\n",
    " - объединили все датасеты в общий\n",
    " - заполнили пропуски в общем датасете\n",
    " - привели тип данных в некоторых столбцах в соответствие\n",
    " - построили гистограмму для числовых признаков"
   ]
  },
  {
   "cell_type": "markdown",
   "id": "d50478ae",
   "metadata": {},
   "source": [
    "### Исследовательский анализ данных"
   ]
  },
  {
   "cell_type": "markdown",
   "id": "83508b83",
   "metadata": {},
   "source": [
    "#### исследование признаков"
   ]
  },
  {
   "cell_type": "markdown",
   "id": "3dfae8b4",
   "metadata": {},
   "source": [
    "Целевым признаком является уход/лояльность клиента(столбец `EndDate`), однако такой формат неудобен для работы моделей, поэтому создадим новый таргетный столбец `Target`, где уход клиента обозначим 1, а лояльность - 0:\n"
   ]
  },
  {
   "cell_type": "code",
   "execution_count": 32,
   "id": "9393f3c5",
   "metadata": {
    "ExecuteTime": {
     "end_time": "2023-10-08T20:16:35.015153Z",
     "start_time": "2023-10-08T20:16:34.969026Z"
    }
   },
   "outputs": [
    {
     "data": {
      "text/html": [
       "<div>\n",
       "<style scoped>\n",
       "    .dataframe tbody tr th:only-of-type {\n",
       "        vertical-align: middle;\n",
       "    }\n",
       "\n",
       "    .dataframe tbody tr th {\n",
       "        vertical-align: top;\n",
       "    }\n",
       "\n",
       "    .dataframe thead th {\n",
       "        text-align: right;\n",
       "    }\n",
       "</style>\n",
       "<table border=\"1\" class=\"dataframe\">\n",
       "  <thead>\n",
       "    <tr style=\"text-align: right;\">\n",
       "      <th></th>\n",
       "      <th>customerID</th>\n",
       "      <th>Gender</th>\n",
       "      <th>SeniorCitizen</th>\n",
       "      <th>Partner</th>\n",
       "      <th>Dependents</th>\n",
       "      <th>BeginDate</th>\n",
       "      <th>EndDate</th>\n",
       "      <th>Target</th>\n",
       "      <th>Type</th>\n",
       "      <th>PaperlessBilling</th>\n",
       "      <th>...</th>\n",
       "      <th>MonthlyCharges</th>\n",
       "      <th>TotalCharges</th>\n",
       "      <th>InternetService</th>\n",
       "      <th>OnlineSecurity</th>\n",
       "      <th>OnlineBackup</th>\n",
       "      <th>DeviceProtection</th>\n",
       "      <th>TechSupport</th>\n",
       "      <th>StreamingTV</th>\n",
       "      <th>StreamingMovies</th>\n",
       "      <th>MultipleLines</th>\n",
       "    </tr>\n",
       "  </thead>\n",
       "  <tbody>\n",
       "    <tr>\n",
       "      <th>0</th>\n",
       "      <td>7590-VHVEG</td>\n",
       "      <td>Female</td>\n",
       "      <td>0</td>\n",
       "      <td>Yes</td>\n",
       "      <td>No</td>\n",
       "      <td>2020-01-01</td>\n",
       "      <td>No</td>\n",
       "      <td>0</td>\n",
       "      <td>Month-to-month</td>\n",
       "      <td>Yes</td>\n",
       "      <td>...</td>\n",
       "      <td>29.85</td>\n",
       "      <td>31.04</td>\n",
       "      <td>DSL</td>\n",
       "      <td>No</td>\n",
       "      <td>Yes</td>\n",
       "      <td>No</td>\n",
       "      <td>No</td>\n",
       "      <td>No</td>\n",
       "      <td>No</td>\n",
       "      <td>No</td>\n",
       "    </tr>\n",
       "    <tr>\n",
       "      <th>1</th>\n",
       "      <td>5575-GNVDE</td>\n",
       "      <td>Male</td>\n",
       "      <td>0</td>\n",
       "      <td>No</td>\n",
       "      <td>No</td>\n",
       "      <td>2017-04-01</td>\n",
       "      <td>No</td>\n",
       "      <td>0</td>\n",
       "      <td>One year</td>\n",
       "      <td>No</td>\n",
       "      <td>...</td>\n",
       "      <td>56.95</td>\n",
       "      <td>2071.84</td>\n",
       "      <td>DSL</td>\n",
       "      <td>Yes</td>\n",
       "      <td>No</td>\n",
       "      <td>Yes</td>\n",
       "      <td>No</td>\n",
       "      <td>No</td>\n",
       "      <td>No</td>\n",
       "      <td>No</td>\n",
       "    </tr>\n",
       "    <tr>\n",
       "      <th>2</th>\n",
       "      <td>3668-QPYBK</td>\n",
       "      <td>Male</td>\n",
       "      <td>0</td>\n",
       "      <td>No</td>\n",
       "      <td>No</td>\n",
       "      <td>2019-10-01</td>\n",
       "      <td>No</td>\n",
       "      <td>0</td>\n",
       "      <td>Month-to-month</td>\n",
       "      <td>Yes</td>\n",
       "      <td>...</td>\n",
       "      <td>53.85</td>\n",
       "      <td>226.17</td>\n",
       "      <td>DSL</td>\n",
       "      <td>Yes</td>\n",
       "      <td>Yes</td>\n",
       "      <td>No</td>\n",
       "      <td>No</td>\n",
       "      <td>No</td>\n",
       "      <td>No</td>\n",
       "      <td>No</td>\n",
       "    </tr>\n",
       "    <tr>\n",
       "      <th>3</th>\n",
       "      <td>7795-CFOCW</td>\n",
       "      <td>Male</td>\n",
       "      <td>0</td>\n",
       "      <td>No</td>\n",
       "      <td>No</td>\n",
       "      <td>2016-05-01</td>\n",
       "      <td>No</td>\n",
       "      <td>0</td>\n",
       "      <td>One year</td>\n",
       "      <td>No</td>\n",
       "      <td>...</td>\n",
       "      <td>42.30</td>\n",
       "      <td>1960.60</td>\n",
       "      <td>DSL</td>\n",
       "      <td>Yes</td>\n",
       "      <td>No</td>\n",
       "      <td>Yes</td>\n",
       "      <td>Yes</td>\n",
       "      <td>No</td>\n",
       "      <td>No</td>\n",
       "      <td>No</td>\n",
       "    </tr>\n",
       "    <tr>\n",
       "      <th>4</th>\n",
       "      <td>9237-HQITU</td>\n",
       "      <td>Female</td>\n",
       "      <td>0</td>\n",
       "      <td>No</td>\n",
       "      <td>No</td>\n",
       "      <td>2019-09-01</td>\n",
       "      <td>No</td>\n",
       "      <td>0</td>\n",
       "      <td>Month-to-month</td>\n",
       "      <td>Yes</td>\n",
       "      <td>...</td>\n",
       "      <td>70.70</td>\n",
       "      <td>353.50</td>\n",
       "      <td>Fiber optic</td>\n",
       "      <td>No</td>\n",
       "      <td>No</td>\n",
       "      <td>No</td>\n",
       "      <td>No</td>\n",
       "      <td>No</td>\n",
       "      <td>No</td>\n",
       "      <td>No</td>\n",
       "    </tr>\n",
       "    <tr>\n",
       "      <th>5</th>\n",
       "      <td>9305-CDSKC</td>\n",
       "      <td>Female</td>\n",
       "      <td>0</td>\n",
       "      <td>No</td>\n",
       "      <td>No</td>\n",
       "      <td>2019-03-01</td>\n",
       "      <td>No</td>\n",
       "      <td>0</td>\n",
       "      <td>Month-to-month</td>\n",
       "      <td>Yes</td>\n",
       "      <td>...</td>\n",
       "      <td>99.65</td>\n",
       "      <td>1150.96</td>\n",
       "      <td>Fiber optic</td>\n",
       "      <td>No</td>\n",
       "      <td>No</td>\n",
       "      <td>Yes</td>\n",
       "      <td>No</td>\n",
       "      <td>Yes</td>\n",
       "      <td>Yes</td>\n",
       "      <td>Yes</td>\n",
       "    </tr>\n",
       "    <tr>\n",
       "      <th>6</th>\n",
       "      <td>1452-KIOVK</td>\n",
       "      <td>Male</td>\n",
       "      <td>0</td>\n",
       "      <td>No</td>\n",
       "      <td>Yes</td>\n",
       "      <td>2018-04-01</td>\n",
       "      <td>No</td>\n",
       "      <td>0</td>\n",
       "      <td>Month-to-month</td>\n",
       "      <td>Yes</td>\n",
       "      <td>...</td>\n",
       "      <td>89.10</td>\n",
       "      <td>2058.21</td>\n",
       "      <td>Fiber optic</td>\n",
       "      <td>No</td>\n",
       "      <td>Yes</td>\n",
       "      <td>No</td>\n",
       "      <td>No</td>\n",
       "      <td>Yes</td>\n",
       "      <td>No</td>\n",
       "      <td>Yes</td>\n",
       "    </tr>\n",
       "    <tr>\n",
       "      <th>7</th>\n",
       "      <td>6713-OKOMC</td>\n",
       "      <td>Female</td>\n",
       "      <td>0</td>\n",
       "      <td>No</td>\n",
       "      <td>No</td>\n",
       "      <td>2019-04-01</td>\n",
       "      <td>No</td>\n",
       "      <td>0</td>\n",
       "      <td>Month-to-month</td>\n",
       "      <td>No</td>\n",
       "      <td>...</td>\n",
       "      <td>29.75</td>\n",
       "      <td>300.48</td>\n",
       "      <td>DSL</td>\n",
       "      <td>Yes</td>\n",
       "      <td>No</td>\n",
       "      <td>No</td>\n",
       "      <td>No</td>\n",
       "      <td>No</td>\n",
       "      <td>No</td>\n",
       "      <td>No</td>\n",
       "    </tr>\n",
       "    <tr>\n",
       "      <th>8</th>\n",
       "      <td>7892-POOKP</td>\n",
       "      <td>Female</td>\n",
       "      <td>0</td>\n",
       "      <td>Yes</td>\n",
       "      <td>No</td>\n",
       "      <td>2017-07-01</td>\n",
       "      <td>No</td>\n",
       "      <td>0</td>\n",
       "      <td>Month-to-month</td>\n",
       "      <td>Yes</td>\n",
       "      <td>...</td>\n",
       "      <td>104.80</td>\n",
       "      <td>3573.68</td>\n",
       "      <td>Fiber optic</td>\n",
       "      <td>No</td>\n",
       "      <td>No</td>\n",
       "      <td>Yes</td>\n",
       "      <td>Yes</td>\n",
       "      <td>Yes</td>\n",
       "      <td>Yes</td>\n",
       "      <td>Yes</td>\n",
       "    </tr>\n",
       "    <tr>\n",
       "      <th>9</th>\n",
       "      <td>6388-TABGU</td>\n",
       "      <td>Male</td>\n",
       "      <td>0</td>\n",
       "      <td>No</td>\n",
       "      <td>Yes</td>\n",
       "      <td>2014-12-01</td>\n",
       "      <td>2017-05-01</td>\n",
       "      <td>1</td>\n",
       "      <td>One year</td>\n",
       "      <td>No</td>\n",
       "      <td>...</td>\n",
       "      <td>56.15</td>\n",
       "      <td>1628.35</td>\n",
       "      <td>DSL</td>\n",
       "      <td>Yes</td>\n",
       "      <td>Yes</td>\n",
       "      <td>No</td>\n",
       "      <td>No</td>\n",
       "      <td>No</td>\n",
       "      <td>No</td>\n",
       "      <td>No</td>\n",
       "    </tr>\n",
       "  </tbody>\n",
       "</table>\n",
       "<p>10 rows × 21 columns</p>\n",
       "</div>"
      ],
      "text/plain": [
       "   customerID  Gender  SeniorCitizen Partner Dependents   BeginDate  \\\n",
       "0  7590-VHVEG  Female              0     Yes         No  2020-01-01   \n",
       "1  5575-GNVDE    Male              0      No         No  2017-04-01   \n",
       "2  3668-QPYBK    Male              0      No         No  2019-10-01   \n",
       "3  7795-CFOCW    Male              0      No         No  2016-05-01   \n",
       "4  9237-HQITU  Female              0      No         No  2019-09-01   \n",
       "5  9305-CDSKC  Female              0      No         No  2019-03-01   \n",
       "6  1452-KIOVK    Male              0      No        Yes  2018-04-01   \n",
       "7  6713-OKOMC  Female              0      No         No  2019-04-01   \n",
       "8  7892-POOKP  Female              0     Yes         No  2017-07-01   \n",
       "9  6388-TABGU    Male              0      No        Yes  2014-12-01   \n",
       "\n",
       "      EndDate  Target            Type PaperlessBilling  ... MonthlyCharges  \\\n",
       "0          No       0  Month-to-month              Yes  ...          29.85   \n",
       "1          No       0        One year               No  ...          56.95   \n",
       "2          No       0  Month-to-month              Yes  ...          53.85   \n",
       "3          No       0        One year               No  ...          42.30   \n",
       "4          No       0  Month-to-month              Yes  ...          70.70   \n",
       "5          No       0  Month-to-month              Yes  ...          99.65   \n",
       "6          No       0  Month-to-month              Yes  ...          89.10   \n",
       "7          No       0  Month-to-month               No  ...          29.75   \n",
       "8          No       0  Month-to-month              Yes  ...         104.80   \n",
       "9  2017-05-01       1        One year               No  ...          56.15   \n",
       "\n",
       "   TotalCharges  InternetService OnlineSecurity OnlineBackup DeviceProtection  \\\n",
       "0         31.04              DSL             No          Yes               No   \n",
       "1       2071.84              DSL            Yes           No              Yes   \n",
       "2        226.17              DSL            Yes          Yes               No   \n",
       "3       1960.60              DSL            Yes           No              Yes   \n",
       "4        353.50      Fiber optic             No           No               No   \n",
       "5       1150.96      Fiber optic             No           No              Yes   \n",
       "6       2058.21      Fiber optic             No          Yes               No   \n",
       "7        300.48              DSL            Yes           No               No   \n",
       "8       3573.68      Fiber optic             No           No              Yes   \n",
       "9       1628.35              DSL            Yes          Yes               No   \n",
       "\n",
       "  TechSupport StreamingTV StreamingMovies MultipleLines  \n",
       "0          No          No              No            No  \n",
       "1          No          No              No            No  \n",
       "2          No          No              No            No  \n",
       "3         Yes          No              No            No  \n",
       "4          No          No              No            No  \n",
       "5          No         Yes             Yes           Yes  \n",
       "6          No         Yes              No           Yes  \n",
       "7          No          No              No            No  \n",
       "8         Yes         Yes             Yes           Yes  \n",
       "9          No          No              No            No  \n",
       "\n",
       "[10 rows x 21 columns]"
      ]
     },
     "execution_count": 32,
     "metadata": {},
     "output_type": "execute_result"
    }
   ],
   "source": [
    "data['Target'] = data['EndDate'].apply(lambda x: 0 if x == 'No' else 1)\n",
    "\n",
    "# Вставляем новый столбец 'Target' после столбца 'EndDate'\n",
    "position = data.columns.get_loc('EndDate') + 1\n",
    "data.insert(position, 'Target', data.pop('Target'))\n",
    "\n",
    "data.head(10)"
   ]
  },
  {
   "cell_type": "markdown",
   "id": "43538a2f",
   "metadata": {},
   "source": [
    "Столбцы `BeginDate` и `EndDate` можно заменить одним `Duration` : число дней пользования услугами провайдера, округленное в большую сторону:"
   ]
  },
  {
   "cell_type": "code",
   "execution_count": 33,
   "id": "4911017e",
   "metadata": {
    "ExecuteTime": {
     "end_time": "2023-10-08T20:16:35.948352Z",
     "start_time": "2023-10-08T20:16:35.016187Z"
    },
    "scrolled": true
   },
   "outputs": [
    {
     "data": {
      "text/html": [
       "<div>\n",
       "<style scoped>\n",
       "    .dataframe tbody tr th:only-of-type {\n",
       "        vertical-align: middle;\n",
       "    }\n",
       "\n",
       "    .dataframe tbody tr th {\n",
       "        vertical-align: top;\n",
       "    }\n",
       "\n",
       "    .dataframe thead th {\n",
       "        text-align: right;\n",
       "    }\n",
       "</style>\n",
       "<table border=\"1\" class=\"dataframe\">\n",
       "  <thead>\n",
       "    <tr style=\"text-align: right;\">\n",
       "      <th></th>\n",
       "      <th>Gender</th>\n",
       "      <th>SeniorCitizen</th>\n",
       "      <th>Partner</th>\n",
       "      <th>Dependents</th>\n",
       "      <th>Target</th>\n",
       "      <th>Type</th>\n",
       "      <th>PaperlessBilling</th>\n",
       "      <th>PaymentMethod</th>\n",
       "      <th>MonthlyCharges</th>\n",
       "      <th>TotalCharges</th>\n",
       "      <th>InternetService</th>\n",
       "      <th>OnlineSecurity</th>\n",
       "      <th>OnlineBackup</th>\n",
       "      <th>DeviceProtection</th>\n",
       "      <th>TechSupport</th>\n",
       "      <th>StreamingTV</th>\n",
       "      <th>StreamingMovies</th>\n",
       "      <th>MultipleLines</th>\n",
       "      <th>Duration</th>\n",
       "    </tr>\n",
       "  </thead>\n",
       "  <tbody>\n",
       "    <tr>\n",
       "      <th>0</th>\n",
       "      <td>Female</td>\n",
       "      <td>0</td>\n",
       "      <td>Yes</td>\n",
       "      <td>No</td>\n",
       "      <td>0</td>\n",
       "      <td>Month-to-month</td>\n",
       "      <td>Yes</td>\n",
       "      <td>Electronic check</td>\n",
       "      <td>29.85</td>\n",
       "      <td>31.04</td>\n",
       "      <td>DSL</td>\n",
       "      <td>No</td>\n",
       "      <td>Yes</td>\n",
       "      <td>No</td>\n",
       "      <td>No</td>\n",
       "      <td>No</td>\n",
       "      <td>No</td>\n",
       "      <td>No</td>\n",
       "      <td>31</td>\n",
       "    </tr>\n",
       "    <tr>\n",
       "      <th>1</th>\n",
       "      <td>Male</td>\n",
       "      <td>0</td>\n",
       "      <td>No</td>\n",
       "      <td>No</td>\n",
       "      <td>0</td>\n",
       "      <td>One year</td>\n",
       "      <td>No</td>\n",
       "      <td>Mailed check</td>\n",
       "      <td>56.95</td>\n",
       "      <td>2071.84</td>\n",
       "      <td>DSL</td>\n",
       "      <td>Yes</td>\n",
       "      <td>No</td>\n",
       "      <td>Yes</td>\n",
       "      <td>No</td>\n",
       "      <td>No</td>\n",
       "      <td>No</td>\n",
       "      <td>No</td>\n",
       "      <td>1036</td>\n",
       "    </tr>\n",
       "    <tr>\n",
       "      <th>2</th>\n",
       "      <td>Male</td>\n",
       "      <td>0</td>\n",
       "      <td>No</td>\n",
       "      <td>No</td>\n",
       "      <td>0</td>\n",
       "      <td>Month-to-month</td>\n",
       "      <td>Yes</td>\n",
       "      <td>Mailed check</td>\n",
       "      <td>53.85</td>\n",
       "      <td>226.17</td>\n",
       "      <td>DSL</td>\n",
       "      <td>Yes</td>\n",
       "      <td>Yes</td>\n",
       "      <td>No</td>\n",
       "      <td>No</td>\n",
       "      <td>No</td>\n",
       "      <td>No</td>\n",
       "      <td>No</td>\n",
       "      <td>123</td>\n",
       "    </tr>\n",
       "    <tr>\n",
       "      <th>3</th>\n",
       "      <td>Male</td>\n",
       "      <td>0</td>\n",
       "      <td>No</td>\n",
       "      <td>No</td>\n",
       "      <td>0</td>\n",
       "      <td>One year</td>\n",
       "      <td>No</td>\n",
       "      <td>Bank transfer (automatic)</td>\n",
       "      <td>42.30</td>\n",
       "      <td>1960.60</td>\n",
       "      <td>DSL</td>\n",
       "      <td>Yes</td>\n",
       "      <td>No</td>\n",
       "      <td>Yes</td>\n",
       "      <td>Yes</td>\n",
       "      <td>No</td>\n",
       "      <td>No</td>\n",
       "      <td>No</td>\n",
       "      <td>1371</td>\n",
       "    </tr>\n",
       "    <tr>\n",
       "      <th>4</th>\n",
       "      <td>Female</td>\n",
       "      <td>0</td>\n",
       "      <td>No</td>\n",
       "      <td>No</td>\n",
       "      <td>0</td>\n",
       "      <td>Month-to-month</td>\n",
       "      <td>Yes</td>\n",
       "      <td>Electronic check</td>\n",
       "      <td>70.70</td>\n",
       "      <td>353.50</td>\n",
       "      <td>Fiber optic</td>\n",
       "      <td>No</td>\n",
       "      <td>No</td>\n",
       "      <td>No</td>\n",
       "      <td>No</td>\n",
       "      <td>No</td>\n",
       "      <td>No</td>\n",
       "      <td>No</td>\n",
       "      <td>153</td>\n",
       "    </tr>\n",
       "    <tr>\n",
       "      <th>5</th>\n",
       "      <td>Female</td>\n",
       "      <td>0</td>\n",
       "      <td>No</td>\n",
       "      <td>No</td>\n",
       "      <td>0</td>\n",
       "      <td>Month-to-month</td>\n",
       "      <td>Yes</td>\n",
       "      <td>Electronic check</td>\n",
       "      <td>99.65</td>\n",
       "      <td>1150.96</td>\n",
       "      <td>Fiber optic</td>\n",
       "      <td>No</td>\n",
       "      <td>No</td>\n",
       "      <td>Yes</td>\n",
       "      <td>No</td>\n",
       "      <td>Yes</td>\n",
       "      <td>Yes</td>\n",
       "      <td>Yes</td>\n",
       "      <td>337</td>\n",
       "    </tr>\n",
       "    <tr>\n",
       "      <th>6</th>\n",
       "      <td>Male</td>\n",
       "      <td>0</td>\n",
       "      <td>No</td>\n",
       "      <td>Yes</td>\n",
       "      <td>0</td>\n",
       "      <td>Month-to-month</td>\n",
       "      <td>Yes</td>\n",
       "      <td>Credit card (automatic)</td>\n",
       "      <td>89.10</td>\n",
       "      <td>2058.21</td>\n",
       "      <td>Fiber optic</td>\n",
       "      <td>No</td>\n",
       "      <td>Yes</td>\n",
       "      <td>No</td>\n",
       "      <td>No</td>\n",
       "      <td>Yes</td>\n",
       "      <td>No</td>\n",
       "      <td>Yes</td>\n",
       "      <td>671</td>\n",
       "    </tr>\n",
       "    <tr>\n",
       "      <th>7</th>\n",
       "      <td>Female</td>\n",
       "      <td>0</td>\n",
       "      <td>No</td>\n",
       "      <td>No</td>\n",
       "      <td>0</td>\n",
       "      <td>Month-to-month</td>\n",
       "      <td>No</td>\n",
       "      <td>Mailed check</td>\n",
       "      <td>29.75</td>\n",
       "      <td>300.48</td>\n",
       "      <td>DSL</td>\n",
       "      <td>Yes</td>\n",
       "      <td>No</td>\n",
       "      <td>No</td>\n",
       "      <td>No</td>\n",
       "      <td>No</td>\n",
       "      <td>No</td>\n",
       "      <td>No</td>\n",
       "      <td>306</td>\n",
       "    </tr>\n",
       "    <tr>\n",
       "      <th>8</th>\n",
       "      <td>Female</td>\n",
       "      <td>0</td>\n",
       "      <td>Yes</td>\n",
       "      <td>No</td>\n",
       "      <td>0</td>\n",
       "      <td>Month-to-month</td>\n",
       "      <td>Yes</td>\n",
       "      <td>Electronic check</td>\n",
       "      <td>104.80</td>\n",
       "      <td>3573.68</td>\n",
       "      <td>Fiber optic</td>\n",
       "      <td>No</td>\n",
       "      <td>No</td>\n",
       "      <td>Yes</td>\n",
       "      <td>Yes</td>\n",
       "      <td>Yes</td>\n",
       "      <td>Yes</td>\n",
       "      <td>Yes</td>\n",
       "      <td>945</td>\n",
       "    </tr>\n",
       "    <tr>\n",
       "      <th>9</th>\n",
       "      <td>Male</td>\n",
       "      <td>0</td>\n",
       "      <td>No</td>\n",
       "      <td>Yes</td>\n",
       "      <td>1</td>\n",
       "      <td>One year</td>\n",
       "      <td>No</td>\n",
       "      <td>Bank transfer (automatic)</td>\n",
       "      <td>56.15</td>\n",
       "      <td>1628.35</td>\n",
       "      <td>DSL</td>\n",
       "      <td>Yes</td>\n",
       "      <td>Yes</td>\n",
       "      <td>No</td>\n",
       "      <td>No</td>\n",
       "      <td>No</td>\n",
       "      <td>No</td>\n",
       "      <td>No</td>\n",
       "      <td>882</td>\n",
       "    </tr>\n",
       "  </tbody>\n",
       "</table>\n",
       "</div>"
      ],
      "text/plain": [
       "   Gender  SeniorCitizen Partner Dependents  Target            Type  \\\n",
       "0  Female              0     Yes         No       0  Month-to-month   \n",
       "1    Male              0      No         No       0        One year   \n",
       "2    Male              0      No         No       0  Month-to-month   \n",
       "3    Male              0      No         No       0        One year   \n",
       "4  Female              0      No         No       0  Month-to-month   \n",
       "5  Female              0      No         No       0  Month-to-month   \n",
       "6    Male              0      No        Yes       0  Month-to-month   \n",
       "7  Female              0      No         No       0  Month-to-month   \n",
       "8  Female              0     Yes         No       0  Month-to-month   \n",
       "9    Male              0      No        Yes       1        One year   \n",
       "\n",
       "  PaperlessBilling              PaymentMethod  MonthlyCharges  TotalCharges  \\\n",
       "0              Yes           Electronic check           29.85         31.04   \n",
       "1               No               Mailed check           56.95       2071.84   \n",
       "2              Yes               Mailed check           53.85        226.17   \n",
       "3               No  Bank transfer (automatic)           42.30       1960.60   \n",
       "4              Yes           Electronic check           70.70        353.50   \n",
       "5              Yes           Electronic check           99.65       1150.96   \n",
       "6              Yes    Credit card (automatic)           89.10       2058.21   \n",
       "7               No               Mailed check           29.75        300.48   \n",
       "8              Yes           Electronic check          104.80       3573.68   \n",
       "9               No  Bank transfer (automatic)           56.15       1628.35   \n",
       "\n",
       "  InternetService OnlineSecurity OnlineBackup DeviceProtection TechSupport  \\\n",
       "0             DSL             No          Yes               No          No   \n",
       "1             DSL            Yes           No              Yes          No   \n",
       "2             DSL            Yes          Yes               No          No   \n",
       "3             DSL            Yes           No              Yes         Yes   \n",
       "4     Fiber optic             No           No               No          No   \n",
       "5     Fiber optic             No           No              Yes          No   \n",
       "6     Fiber optic             No          Yes               No          No   \n",
       "7             DSL            Yes           No               No          No   \n",
       "8     Fiber optic             No           No              Yes         Yes   \n",
       "9             DSL            Yes          Yes               No          No   \n",
       "\n",
       "  StreamingTV StreamingMovies MultipleLines  Duration  \n",
       "0          No              No            No        31  \n",
       "1          No              No            No      1036  \n",
       "2          No              No            No       123  \n",
       "3          No              No            No      1371  \n",
       "4          No              No            No       153  \n",
       "5         Yes             Yes           Yes       337  \n",
       "6         Yes              No           Yes       671  \n",
       "7          No              No            No       306  \n",
       "8         Yes             Yes           Yes       945  \n",
       "9          No              No            No       882  "
      ]
     },
     "execution_count": 33,
     "metadata": {},
     "output_type": "execute_result"
    }
   ],
   "source": [
    "# Функция для вычисления продолжительности в месяцах\n",
    "\n",
    "def calculate_duration(row):\n",
    "    if row['EndDate'] == 'No':\n",
    "        end_date = data_load\n",
    "    else:\n",
    "        end_date = row['EndDate']\n",
    "    begin_date = row['BeginDate']\n",
    "    \n",
    "    # Преобразование в формат datetime\n",
    "    begin_date = pd.to_datetime(begin_date)\n",
    "    end_date = pd.to_datetime(end_date)\n",
    "    \n",
    "    # Кол-во дней:\n",
    "    duration = (end_date - begin_date).days   # приближенно кол-во дней\n",
    "    return round(duration) # округлим до ближайшего большего \n",
    "\n",
    "# Новый столбец 'Duration':\n",
    "data['Duration'] = data.apply(calculate_duration, axis=1)\n",
    "\n",
    "# Удалим столбцы 'BeginDate' и 'EndDate', а также столбец \"customerID\".т.к он не важен для обучения моделей:\n",
    "data.drop(['BeginDate', 'EndDate', 'customerID'], axis=1, inplace=True)\n",
    "\n",
    "\n",
    "data.head(10)"
   ]
  },
  {
   "cell_type": "markdown",
   "id": "32630ca7",
   "metadata": {},
   "source": [
    "#### изучение распределения признаков для ушедших и оставшихся клиентов"
   ]
  },
  {
   "cell_type": "markdown",
   "id": "539fec33",
   "metadata": {},
   "source": [
    "Построим попарные гистограммы для нескольких признаков для ушедших и оставшихся клиентов:"
   ]
  },
  {
   "cell_type": "code",
   "execution_count": 58,
   "id": "7842fd55",
   "metadata": {
    "ExecuteTime": {
     "end_time": "2023-10-08T20:29:37.336487Z",
     "start_time": "2023-10-08T20:29:36.262513Z"
    }
   },
   "outputs": [
    {
     "data": {
      "image/png": "[encoded data removed]",
      "text/plain": [
       "<Figure size 1080x360 with 4 Axes>"
      ]
     },
     "metadata": {},
     "output_type": "display_data"
    }
   ],
   "source": [
    "# список признаков:\n",
    "features = ['Gender', 'Duration', 'TotalCharges', 'SeniorCitizen']\n",
    "\n",
    "\n",
    "# общий график с несколькими подграфиками:\n",
    "# Один ряд, столько подграфиков, сколько признаков\n",
    "fig, axes = plt.subplots(1, len(features), figsize=(15, 5)) \n",
    "\n",
    "# цикл для построения гистограмм на каждом подграфике:\n",
    "for i, feature in enumerate(features):\n",
    "    sns.histplot(data=data, x=feature, hue=\"Target\", multiple=\"dodge\", shrink=0.8, ax=axes[i])\n",
    "    axes[i].set_title(f'Histogram for {feature}')\n",
    "\n",
    "# регулировка расположения и отступов подграфиков\n",
    "plt.tight_layout()\n",
    "\n",
    "plt.show()"
   ]
  },
  {
   "cell_type": "markdown",
   "id": "18d179f0",
   "metadata": {},
   "source": [
    "#### изучение корреляции признаков библиотекой phik:"
   ]
  },
  {
   "cell_type": "markdown",
   "id": "3d83ecb6",
   "metadata": {},
   "source": [
    "Исследуем корреляцию признаков посредством библиотетеки Phik, которая отображает ее и для категориальных признаков (которых  большинство в датасете): \n"
   ]
  },
  {
   "cell_type": "code",
   "execution_count": 35,
   "id": "9d2d2393",
   "metadata": {
    "ExecuteTime": {
     "end_time": "2023-10-08T20:16:39.430575Z",
     "start_time": "2023-10-08T20:16:36.788157Z"
    }
   },
   "outputs": [
    {
     "name": "stdout",
     "output_type": "stream",
     "text": [
      "interval columns not set, guessing: ['SeniorCitizen', 'Target', 'MonthlyCharges', 'TotalCharges', 'Duration']\n"
     ]
    },
    {
     "data": {
      "image/png": "[encoded data removed]",
      "text/plain": [
       "<Figure size 864x576 with 2 Axes>"
      ]
     },
     "metadata": {
      "needs_background": "light"
     },
     "output_type": "display_data"
    }
   ],
   "source": [
    "# Тепловая карта корреляции:\n",
    "\n",
    "plt.figure(figsize=(12,8))\n",
    "\n",
    "sns.heatmap(data.phik_matrix(),\n",
    "            cmap='YlGnBu',\n",
    "            center=0,\n",
    "            annot=True,\n",
    "            \n",
    "            );\n"
   ]
  },
  {
   "cell_type": "markdown",
   "id": "9362720f",
   "metadata": {},
   "source": [
    "Наблюдаем некоторые столбцы с высокой корреляцией 0.92:`MonthlyCharges` и `InternetService`. Данная корреляция может быть нелинейной и никак не влиять на Линейные модели, поэтому признаки оставим."
   ]
  },
  {
   "cell_type": "markdown",
   "id": "fb1e03e6",
   "metadata": {},
   "source": [
    "Оставим в датафрейме столбцы с высокой взаимной корреляцией 0.92 `MonthlyCharges` и `InternetService`, т.к. они несут разную информацию, один из них числовой признак, а второй категориальный,  и могут оказаться полезны при обучении модели."
   ]
  },
  {
   "cell_type": "markdown",
   "id": "76d6c245",
   "metadata": {},
   "source": [
    "**Вывод:**\n",
    " - таргетный признак преобразован в удобный для работы моделей формат и у него появилось явное название`Target`.\n",
    " - на основе неинформативных признаков `BeginDate` и `EndDate` создан новый информативный `Duration` с кол-вом дней пользования услугами данного оператора.\n",
    " - столбцы `BeginDate` и `EndDate` удалены.\n",
    " - после ислледования корреляции выявлены столбцы с очень высокой корреляцией (0,92 ) `InternetService` и `MonthlyCharges`но мы их оставляем, т.к между ними может не быть линейной связи, а значит они не повлияют на работу линейных моделей.\n",
    " - **исследованы различия некоторых важных характеристик поведения ушедших и оставшихся пользователей и выявлены следующие интересные закономерности:**\n",
    "   - среди ушедших чуть больше мужчин, чем женщин.\n",
    "   - срок пользования провайдером у ушедших клиентов в основном до 100 дней.\n",
    "   - общая потраченная сумма среди ушедших клиентов до 100$, высокий чек соответственно у оставшихся клиентов.\n",
    "   - возраст не влияет на уход/лояльность клиентов. Пропорция практически одинакова в двух группах.\n",
    " "
   ]
  },
  {
   "cell_type": "markdown",
   "id": "d83bf913",
   "metadata": {},
   "source": [
    "### Обучение моделей"
   ]
  },
  {
   "cell_type": "markdown",
   "id": "feedc0f7",
   "metadata": {},
   "source": [
    "Разделим датасет на тестовую и трейновую часть в соотношении test_size = 0.25:"
   ]
  },
  {
   "cell_type": "code",
   "execution_count": 59,
   "id": "e6dd5e7e",
   "metadata": {
    "ExecuteTime": {
     "end_time": "2023-10-08T20:35:37.472423Z",
     "start_time": "2023-10-08T20:35:37.458646Z"
    }
   },
   "outputs": [
    {
     "name": "stdout",
     "output_type": "stream",
     "text": [
      "Величина X_train = 75%\n",
      "Величина X_test = 25%\n"
     ]
    }
   ],
   "source": [
    "features = data.drop(['Target'], axis=1)\n",
    "target = data['Target']\n",
    "\n",
    "X_train, X_test, y_train, y_test = train_test_split(features, target, test_size=0.25, random_state=RANDOM_STATE)\n",
    "\n",
    "print(f'Величина X_train = {X_train.shape[0]/len(data):.0%}')\n",
    "print(f'Величина X_test = {X_test.shape[0]/len(data):.0%}')\n"
   ]
  },
  {
   "cell_type": "markdown",
   "id": "7507c71f",
   "metadata": {},
   "source": [
    "Размерность выборок:"
   ]
  },
  {
   "cell_type": "code",
   "execution_count": 60,
   "id": "34983389",
   "metadata": {
    "ExecuteTime": {
     "end_time": "2023-10-08T20:35:37.488558Z",
     "start_time": "2023-10-08T20:35:37.474423Z"
    }
   },
   "outputs": [
    {
     "name": "stdout",
     "output_type": "stream",
     "text": [
      "(5282, 12) (1761, 12)\n"
     ]
    }
   ],
   "source": [
    "print(X_train.shape, X_test.shape)"
   ]
  },
  {
   "cell_type": "code",
   "execution_count": 61,
   "id": "d97668bf",
   "metadata": {
    "ExecuteTime": {
     "end_time": "2023-10-08T20:35:37.504580Z",
     "start_time": "2023-10-08T20:35:37.489875Z"
    }
   },
   "outputs": [
    {
     "data": {
      "text/html": [
       "<div>\n",
       "<style scoped>\n",
       "    .dataframe tbody tr th:only-of-type {\n",
       "        vertical-align: middle;\n",
       "    }\n",
       "\n",
       "    .dataframe tbody tr th {\n",
       "        vertical-align: top;\n",
       "    }\n",
       "\n",
       "    .dataframe thead th {\n",
       "        text-align: right;\n",
       "    }\n",
       "</style>\n",
       "<table border=\"1\" class=\"dataframe\">\n",
       "  <thead>\n",
       "    <tr style=\"text-align: right;\">\n",
       "      <th></th>\n",
       "      <th>Gender</th>\n",
       "      <th>SeniorCitizen</th>\n",
       "      <th>Partner</th>\n",
       "      <th>Dependents</th>\n",
       "      <th>Type</th>\n",
       "      <th>PaperlessBilling</th>\n",
       "      <th>PaymentMethod</th>\n",
       "      <th>MonthlyCharges</th>\n",
       "      <th>TotalCharges</th>\n",
       "      <th>InternetService</th>\n",
       "      <th>MultipleLines</th>\n",
       "      <th>Duration</th>\n",
       "    </tr>\n",
       "  </thead>\n",
       "  <tbody>\n",
       "    <tr>\n",
       "      <th>1634</th>\n",
       "      <td>Male</td>\n",
       "      <td>0</td>\n",
       "      <td>Yes</td>\n",
       "      <td>Yes</td>\n",
       "      <td>Two year</td>\n",
       "      <td>No</td>\n",
       "      <td>Electronic check</td>\n",
       "      <td>59.00</td>\n",
       "      <td>3717.00</td>\n",
       "      <td>DSL</td>\n",
       "      <td>No</td>\n",
       "      <td>1918</td>\n",
       "    </tr>\n",
       "    <tr>\n",
       "      <th>6889</th>\n",
       "      <td>Male</td>\n",
       "      <td>0</td>\n",
       "      <td>No</td>\n",
       "      <td>No</td>\n",
       "      <td>Month-to-month</td>\n",
       "      <td>Yes</td>\n",
       "      <td>Mailed check</td>\n",
       "      <td>89.85</td>\n",
       "      <td>269.55</td>\n",
       "      <td>Fiber optic</td>\n",
       "      <td>No</td>\n",
       "      <td>92</td>\n",
       "    </tr>\n",
       "    <tr>\n",
       "      <th>6630</th>\n",
       "      <td>Male</td>\n",
       "      <td>1</td>\n",
       "      <td>No</td>\n",
       "      <td>No</td>\n",
       "      <td>Month-to-month</td>\n",
       "      <td>Yes</td>\n",
       "      <td>Electronic check</td>\n",
       "      <td>78.75</td>\n",
       "      <td>1260.00</td>\n",
       "      <td>Fiber optic</td>\n",
       "      <td>No</td>\n",
       "      <td>488</td>\n",
       "    </tr>\n",
       "    <tr>\n",
       "      <th>4261</th>\n",
       "      <td>Male</td>\n",
       "      <td>0</td>\n",
       "      <td>No</td>\n",
       "      <td>No</td>\n",
       "      <td>One year</td>\n",
       "      <td>Yes</td>\n",
       "      <td>Mailed check</td>\n",
       "      <td>54.65</td>\n",
       "      <td>3115.05</td>\n",
       "      <td>DSL</td>\n",
       "      <td>No</td>\n",
       "      <td>1737</td>\n",
       "    </tr>\n",
       "    <tr>\n",
       "      <th>6785</th>\n",
       "      <td>Male</td>\n",
       "      <td>0</td>\n",
       "      <td>No</td>\n",
       "      <td>No</td>\n",
       "      <td>Two year</td>\n",
       "      <td>Yes</td>\n",
       "      <td>Credit card (automatic)</td>\n",
       "      <td>111.60</td>\n",
       "      <td>2746.48</td>\n",
       "      <td>Fiber optic</td>\n",
       "      <td>Yes</td>\n",
       "      <td>701</td>\n",
       "    </tr>\n",
       "    <tr>\n",
       "      <th>6695</th>\n",
       "      <td>Female</td>\n",
       "      <td>0</td>\n",
       "      <td>Yes</td>\n",
       "      <td>Yes</td>\n",
       "      <td>Two year</td>\n",
       "      <td>No</td>\n",
       "      <td>Mailed check</td>\n",
       "      <td>71.10</td>\n",
       "      <td>5502.43</td>\n",
       "      <td>DSL</td>\n",
       "      <td>Yes</td>\n",
       "      <td>2163</td>\n",
       "    </tr>\n",
       "    <tr>\n",
       "      <th>5024</th>\n",
       "      <td>Male</td>\n",
       "      <td>0</td>\n",
       "      <td>Yes</td>\n",
       "      <td>No</td>\n",
       "      <td>Two year</td>\n",
       "      <td>No</td>\n",
       "      <td>Mailed check</td>\n",
       "      <td>25.40</td>\n",
       "      <td>1828.80</td>\n",
       "      <td>No</td>\n",
       "      <td>Yes</td>\n",
       "      <td>2191</td>\n",
       "    </tr>\n",
       "    <tr>\n",
       "      <th>2928</th>\n",
       "      <td>Male</td>\n",
       "      <td>0</td>\n",
       "      <td>Yes</td>\n",
       "      <td>Yes</td>\n",
       "      <td>Two year</td>\n",
       "      <td>No</td>\n",
       "      <td>Bank transfer (automatic)</td>\n",
       "      <td>95.10</td>\n",
       "      <td>7113.48</td>\n",
       "      <td>Fiber optic</td>\n",
       "      <td>No</td>\n",
       "      <td>2071</td>\n",
       "    </tr>\n",
       "    <tr>\n",
       "      <th>135</th>\n",
       "      <td>Female</td>\n",
       "      <td>0</td>\n",
       "      <td>No</td>\n",
       "      <td>No</td>\n",
       "      <td>Two year</td>\n",
       "      <td>Yes</td>\n",
       "      <td>Credit card (automatic)</td>\n",
       "      <td>25.70</td>\n",
       "      <td>1204.56</td>\n",
       "      <td>No</td>\n",
       "      <td>Yes</td>\n",
       "      <td>1310</td>\n",
       "    </tr>\n",
       "    <tr>\n",
       "      <th>5099</th>\n",
       "      <td>Female</td>\n",
       "      <td>0</td>\n",
       "      <td>No</td>\n",
       "      <td>Yes</td>\n",
       "      <td>Month-to-month</td>\n",
       "      <td>No</td>\n",
       "      <td>Credit card (automatic)</td>\n",
       "      <td>20.10</td>\n",
       "      <td>255.67</td>\n",
       "      <td>No</td>\n",
       "      <td>No</td>\n",
       "      <td>365</td>\n",
       "    </tr>\n",
       "  </tbody>\n",
       "</table>\n",
       "</div>"
      ],
      "text/plain": [
       "      Gender  SeniorCitizen Partner Dependents            Type  \\\n",
       "1634    Male              0     Yes        Yes        Two year   \n",
       "6889    Male              0      No         No  Month-to-month   \n",
       "6630    Male              1      No         No  Month-to-month   \n",
       "4261    Male              0      No         No        One year   \n",
       "6785    Male              0      No         No        Two year   \n",
       "6695  Female              0     Yes        Yes        Two year   \n",
       "5024    Male              0     Yes         No        Two year   \n",
       "2928    Male              0     Yes        Yes        Two year   \n",
       "135   Female              0      No         No        Two year   \n",
       "5099  Female              0      No        Yes  Month-to-month   \n",
       "\n",
       "     PaperlessBilling              PaymentMethod  MonthlyCharges  \\\n",
       "1634               No           Electronic check           59.00   \n",
       "6889              Yes               Mailed check           89.85   \n",
       "6630              Yes           Electronic check           78.75   \n",
       "4261              Yes               Mailed check           54.65   \n",
       "6785              Yes    Credit card (automatic)          111.60   \n",
       "6695               No               Mailed check           71.10   \n",
       "5024               No               Mailed check           25.40   \n",
       "2928               No  Bank transfer (automatic)           95.10   \n",
       "135               Yes    Credit card (automatic)           25.70   \n",
       "5099               No    Credit card (automatic)           20.10   \n",
       "\n",
       "      TotalCharges InternetService MultipleLines  Duration  \n",
       "1634       3717.00             DSL            No      1918  \n",
       "6889        269.55     Fiber optic            No        92  \n",
       "6630       1260.00     Fiber optic            No       488  \n",
       "4261       3115.05             DSL            No      1737  \n",
       "6785       2746.48     Fiber optic           Yes       701  \n",
       "6695       5502.43             DSL           Yes      2163  \n",
       "5024       1828.80              No           Yes      2191  \n",
       "2928       7113.48     Fiber optic            No      2071  \n",
       "135        1204.56              No           Yes      1310  \n",
       "5099        255.67              No            No       365  "
      ]
     },
     "execution_count": 61,
     "metadata": {},
     "output_type": "execute_result"
    }
   ],
   "source": [
    "X_train.head(10)"
   ]
  },
  {
   "cell_type": "markdown",
   "id": "033cad5b",
   "metadata": {},
   "source": [
    "#### кодирование признаков"
   ]
  },
  {
   "cell_type": "markdown",
   "id": "3b5abfea",
   "metadata": {
    "ExecuteTime": {
     "end_time": "2023-10-05T22:53:41.630563Z",
     "start_time": "2023-10-05T22:53:41.619563Z"
    }
   },
   "source": [
    "Выделим категориальные и числовые признаки для дальнейшей передачи их в пайплайн:\n"
   ]
  },
  {
   "cell_type": "code",
   "execution_count": 62,
   "id": "938808cd",
   "metadata": {
    "ExecuteTime": {
     "end_time": "2023-10-08T20:35:37.520550Z",
     "start_time": "2023-10-08T20:35:37.506580Z"
    }
   },
   "outputs": [
    {
     "data": {
      "text/plain": [
       "['Gender',\n",
       " 'Partner',\n",
       " 'Dependents',\n",
       " 'Type',\n",
       " 'PaperlessBilling',\n",
       " 'PaymentMethod',\n",
       " 'InternetService',\n",
       " 'MultipleLines',\n",
       " 'SeniorCitizen']"
      ]
     },
     "execution_count": 62,
     "metadata": {},
     "output_type": "execute_result"
    }
   ],
   "source": [
    "# категориальные признаки для кодирования:\n",
    "ohe_features = X_train.select_dtypes(include='object').columns.to_list()\n",
    "ohe_features.append('SeniorCitizen')\n",
    "ohe_features\n"
   ]
  },
  {
   "cell_type": "code",
   "execution_count": 63,
   "id": "3ea8ff8e",
   "metadata": {
    "ExecuteTime": {
     "end_time": "2023-10-08T20:35:37.536584Z",
     "start_time": "2023-10-08T20:35:37.523432Z"
    }
   },
   "outputs": [
    {
     "data": {
      "text/plain": [
       "['MonthlyCharges', 'TotalCharges', 'Duration']"
      ]
     },
     "execution_count": 63,
     "metadata": {},
     "output_type": "execute_result"
    }
   ],
   "source": [
    "# числовые признаки:\n",
    "num_features = X_train.select_dtypes(exclude='object').columns.to_list()\n",
    "num_features.remove('SeniorCitizen')\n",
    "num_features"
   ]
  },
  {
   "cell_type": "markdown",
   "id": "55e55b6b",
   "metadata": {},
   "source": [
    "#### модель LogisticRegression"
   ]
  },
  {
   "cell_type": "markdown",
   "id": "d7c26d05",
   "metadata": {},
   "source": [
    "Создадим объект трансформера для дальнейшего порядкового кодирования и масштабирования признаков:"
   ]
  },
  {
   "cell_type": "code",
   "execution_count": 64,
   "id": "96663938",
   "metadata": {
    "ExecuteTime": {
     "end_time": "2023-10-08T20:35:37.551853Z",
     "start_time": "2023-10-08T20:35:37.537583Z"
    }
   },
   "outputs": [],
   "source": [
    "col_transformer_lr = make_column_transformer(\n",
    "    (\n",
    "        OneHotEncoder(drop='first', handle_unknown='ignore'), \n",
    "        ohe_features\n",
    "    ),\n",
    "    (\n",
    "        StandardScaler(), \n",
    "        num_features\n",
    "    ),\n",
    "    remainder='passthrough'\n",
    ")"
   ]
  },
  {
   "cell_type": "markdown",
   "id": "c481fdfa",
   "metadata": {},
   "source": [
    "Применим pipeline во избежание утечки данных и RandomizedSearchCV для подбора наилучших гиперпараметров с помощью кросс-валидации:"
   ]
  },
  {
   "cell_type": "code",
   "execution_count": 65,
   "id": "29dc3256",
   "metadata": {
    "ExecuteTime": {
     "end_time": "2023-10-08T20:35:37.566663Z",
     "start_time": "2023-10-08T20:35:37.553784Z"
    }
   },
   "outputs": [],
   "source": [
    "model_lr = LogisticRegression(random_state=RANDOM_STATE,\n",
    "                              solver='liblinear',\n",
    "                              max_iter=1000)\n",
    "\n",
    "pipeline_lr = make_pipeline(col_transformer_lr, model_lr)\n",
    "\n",
    "parameters_lr = {\n",
    "    'logisticregression__C': range(1, 25)\n",
    "    \n",
    "}\n",
    "\n",
    "\n",
    "rs_lr = RandomizedSearchCV(\n",
    "    pipeline_lr, \n",
    "    param_distributions=parameters_lr, \n",
    "    scoring='roc_auc',\n",
    "    cv=5,\n",
    "    n_jobs=-1,\n",
    "    n_iter=5,\n",
    "    random_state=RANDOM_STATE,\n",
    "    verbose=2\n",
    ")"
   ]
  },
  {
   "cell_type": "markdown",
   "id": "e327e33f",
   "metadata": {
    "ExecuteTime": {
     "end_time": "2023-10-06T19:46:39.239208Z",
     "start_time": "2023-10-06T19:46:39.219116Z"
    }
   },
   "source": [
    "Обучим объект RandomizedSearchCV :"
   ]
  },
  {
   "cell_type": "code",
   "execution_count": 66,
   "id": "3e172473",
   "metadata": {
    "ExecuteTime": {
     "end_time": "2023-10-08T20:35:39.094235Z",
     "start_time": "2023-10-08T20:35:37.569009Z"
    }
   },
   "outputs": [
    {
     "name": "stdout",
     "output_type": "stream",
     "text": [
      "Fitting 5 folds for each of 5 candidates, totalling 25 fits\n",
      "Лучшие гиперпараметры LogisticRegression {'logisticregression__C': 18}\n",
      "Метрика ROC-AUC на лучших гиперпараметрах: 0.746233042393847\n"
     ]
    }
   ],
   "source": [
    "rs_lr.fit(X_train, y_train)\n",
    "\n",
    "print('Лучшие гиперпараметры LogisticRegression', rs_lr.best_params_)\n",
    "print('Метрика ROC-AUC на лучших гиперпараметрах:', rs_lr.best_score_)"
   ]
  },
  {
   "cell_type": "markdown",
   "id": "157cf3a8",
   "metadata": {},
   "source": [
    "#### модель CatBoostClassifier"
   ]
  },
  {
   "cell_type": "code",
   "execution_count": 67,
   "id": "ec19c70b",
   "metadata": {
    "ExecuteTime": {
     "end_time": "2023-10-08T20:35:39.109552Z",
     "start_time": "2023-10-08T20:35:39.098639Z"
    }
   },
   "outputs": [],
   "source": [
    "model_cb = CatBoostClassifier(random_state=RANDOM_STATE, cat_features=ohe_features)\n",
    "\n",
    "parameters_cb = {\n",
    "    'learning_rate': [0.05, 0.1, 0.2],\n",
    "    'depth': [2, 4, 6]\n",
    "    \n",
    "}\n",
    "\n",
    "rs_cb = RandomizedSearchCV(\n",
    "    model_cb, \n",
    "    param_distributions=parameters_cb, \n",
    "    scoring='roc_auc',\n",
    "    cv=5,\n",
    "    n_jobs=-1,\n",
    "    n_iter=5,\n",
    "    random_state=RANDOM_STATE,\n",
    "    verbose=100\n",
    ")"
   ]
  },
  {
   "cell_type": "markdown",
   "id": "057cf873",
   "metadata": {},
   "source": [
    "Обучим объект RandomizedSearchCV:"
   ]
  },
  {
   "cell_type": "code",
   "execution_count": 68,
   "id": "ca978d56",
   "metadata": {
    "ExecuteTime": {
     "end_time": "2023-10-08T20:37:58.110917Z",
     "start_time": "2023-10-08T20:35:39.113781Z"
    }
   },
   "outputs": [
    {
     "name": "stdout",
     "output_type": "stream",
     "text": [
      "Fitting 5 folds for each of 5 candidates, totalling 25 fits\n",
      "Лучшие гиперпараметры CatBoostClassifier {'learning_rate': 0.2, 'depth': 2}\n",
      "Метрика ROC-AUC на лучших гиперпараметрах: 0.923855557932999\n"
     ]
    }
   ],
   "source": [
    "rs_cb.fit(X_train, y_train)\n",
    "\n",
    "print('Лучшие гиперпараметры CatBoostClassifier', rs_cb.best_params_)\n",
    "print('Метрика ROC-AUC на лучших гиперпараметрах:', rs_cb.best_score_)"
   ]
  },
  {
   "cell_type": "markdown",
   "id": "f2de3f2e",
   "metadata": {},
   "source": [
    "#### модель LightGBMClassifier"
   ]
  },
  {
   "cell_type": "markdown",
   "id": "2b819cd7",
   "metadata": {},
   "source": [
    "Приведем признаки в тренировочной выборке к типу 'category'для более эффективной работы бустинговой модели LightGBM:"
   ]
  },
  {
   "cell_type": "code",
   "execution_count": 69,
   "id": "90d4fb63",
   "metadata": {
    "ExecuteTime": {
     "end_time": "2023-10-08T20:37:58.142274Z",
     "start_time": "2023-10-08T20:37:58.113916Z"
    }
   },
   "outputs": [],
   "source": [
    "for i in X_train.columns:\n",
    "    col_type = X_train[i].dtype\n",
    "    if col_type == 'object' or col_type.name == 'category':\n",
    "        X_train[i] = X_train[i].astype('category')\n",
    "        "
   ]
  },
  {
   "cell_type": "code",
   "execution_count": 70,
   "id": "de3e3f94",
   "metadata": {
    "ExecuteTime": {
     "end_time": "2023-10-08T20:37:58.158141Z",
     "start_time": "2023-10-08T20:37:58.145275Z"
    }
   },
   "outputs": [],
   "source": [
    "model_lgbm = LGBMClassifier(random_state=RANDOM_STATE)\n",
    "\n",
    "parameters_lgbm = {\n",
    "    'n_estimators': range(50, 251, 50),\n",
    "    'max_depth': range(10, 100, 10),\n",
    "    'num_leaves': range(2, 250, 10),\n",
    "    'learning_rate': (0.1, 0.2, 0.3)\n",
    "}\n",
    "\n",
    "rs_lgbm = RandomizedSearchCV(\n",
    "    model_lgbm, \n",
    "    param_distributions=parameters_lgbm, \n",
    "    scoring='roc_auc',\n",
    "    cv=5,\n",
    "    n_jobs=-1,\n",
    "    n_iter=5,\n",
    "    random_state=RANDOM_STATE\n",
    ")"
   ]
  },
  {
   "cell_type": "markdown",
   "id": "96af11ab",
   "metadata": {},
   "source": [
    "Обучим объект RandomizedSearchCV :"
   ]
  },
  {
   "cell_type": "code",
   "execution_count": 71,
   "id": "d5cb1589",
   "metadata": {
    "ExecuteTime": {
     "end_time": "2023-10-08T20:38:03.858444Z",
     "start_time": "2023-10-08T20:37:58.160070Z"
    },
    "scrolled": true
   },
   "outputs": [
    {
     "name": "stdout",
     "output_type": "stream",
     "text": [
      "[LightGBM] [Info] Number of positive: 820, number of negative: 4462\n",
      "[LightGBM] [Warning] Auto-choosing row-wise multi-threading, the overhead of testing was 0.000226 seconds.\n",
      "You can set `force_row_wise=true` to remove the overhead.\n",
      "And if memory is not enough, you can set `force_col_wise=true`.\n",
      "[LightGBM] [Info] Total Bins 718\n",
      "[LightGBM] [Info] Number of data points in the train set: 5282, number of used features: 12\n",
      "[LightGBM] [Info] [binary:BoostFromScore]: pavg=0.155244 -> initscore=-1.694048\n",
      "[LightGBM] [Info] Start training from score -1.694048\n",
      "Лучшие гиперпараметры LightGBMClassifier {'num_leaves': 12, 'n_estimators': 150, 'max_depth': 70, 'learning_rate': 0.1}\n",
      "Метрика ROC-AUC на лучших гиперпараметрах: 0.8764828256375405\n"
     ]
    }
   ],
   "source": [
    "rs_lgbm.fit(X_train, y_train)\n",
    "\n",
    "print('Лучшие гиперпараметры LightGBMClassifier', rs_lgbm.best_params_)\n",
    "print('Метрика ROC-AUC на лучших гиперпараметрах:', rs_lgbm.best_score_)"
   ]
  },
  {
   "cell_type": "markdown",
   "id": "60739ebe",
   "metadata": {},
   "source": [
    "#### модель RandomForestClassifier"
   ]
  },
  {
   "cell_type": "code",
   "execution_count": 81,
   "id": "cb5de6cb",
   "metadata": {
    "ExecuteTime": {
     "end_time": "2023-10-08T20:46:36.736965Z",
     "start_time": "2023-10-08T20:46:36.729804Z"
    }
   },
   "outputs": [],
   "source": [
    "model_rfc = RandomForestClassifier(random_state=RANDOM_STATE, class_weight='balanced')\n",
    "\n",
    "\n",
    "# применим col_transformer_lr из Логистической регрессии: \n",
    "pipeline_rfc = make_pipeline(col_transformer_lr, model_rfc)\n",
    "                                                                                        \n",
    "\n",
    "parameters_rfc = {\n",
    "    'randomforestclassifier__n_estimators': range(25, 251, 25),\n",
    "    'randomforestclassifier__max_depth': [10, 20, 30],\n",
    "    'randomforestclassifier__min_samples_leaf': range(1, 26, 2),\n",
    "    'randomforestclassifier__min_samples_split':range(2, 10, 2)\n",
    "     \n",
    "}\n",
    "    \n",
    "rs_rfc = RandomizedSearchCV(\n",
    "    pipeline_rfc,\n",
    "    param_distributions=parameters_rfc, \n",
    "    scoring='roc_auc',\n",
    "    cv=5,\n",
    "    n_jobs=-1,\n",
    "    n_iter=6,\n",
    "    random_state=RANDOM_STATE\n",
    ")    \n",
    "    \n"
   ]
  },
  {
   "cell_type": "code",
   "execution_count": 73,
   "id": "f67815a8",
   "metadata": {
    "ExecuteTime": {
     "end_time": "2023-10-08T20:38:08.278432Z",
     "start_time": "2023-10-08T20:38:03.876866Z"
    }
   },
   "outputs": [
    {
     "name": "stdout",
     "output_type": "stream",
     "text": [
      "Лучшие гиперпараметры RandomForestClassifier {'randomforestclassifier__n_estimators': 250, 'randomforestclassifier__min_samples_split': 4, 'randomforestclassifier__min_samples_leaf': 15, 'randomforestclassifier__max_depth': 10}\n",
      "Метрика ROC-AUC на лучших гиперпараметрах: 0.8173216244713982\n"
     ]
    }
   ],
   "source": [
    "rs_rfc.fit(X_train, y_train)\n",
    "\n",
    "print('Лучшие гиперпараметры RandomForestClassifier', rs_rfc.best_params_)\n",
    "print('Метрика ROC-AUC на лучших гиперпараметрах:', rs_rfc.best_score_)"
   ]
  },
  {
   "cell_type": "markdown",
   "id": "2433e8b4",
   "metadata": {},
   "source": [
    "#### сводная таблица целевой метрики auc-roc по каждой модели"
   ]
  },
  {
   "cell_type": "markdown",
   "id": "fb285d89",
   "metadata": {},
   "source": [
    "Поместим метрики в сводную таблицу для наглядности:"
   ]
  },
  {
   "cell_type": "code",
   "execution_count": 74,
   "id": "21edc0cb",
   "metadata": {
    "ExecuteTime": {
     "end_time": "2023-10-08T20:38:08.293760Z",
     "start_time": "2023-10-08T20:38:08.279701Z"
    }
   },
   "outputs": [
    {
     "data": {
      "text/html": [
       "<div>\n",
       "<style scoped>\n",
       "    .dataframe tbody tr th:only-of-type {\n",
       "        vertical-align: middle;\n",
       "    }\n",
       "\n",
       "    .dataframe tbody tr th {\n",
       "        vertical-align: top;\n",
       "    }\n",
       "\n",
       "    .dataframe thead th {\n",
       "        text-align: right;\n",
       "    }\n",
       "</style>\n",
       "<table border=\"1\" class=\"dataframe\">\n",
       "  <thead>\n",
       "    <tr style=\"text-align: right;\">\n",
       "      <th></th>\n",
       "      <th>ROC-AUC</th>\n",
       "    </tr>\n",
       "  </thead>\n",
       "  <tbody>\n",
       "    <tr>\n",
       "      <th>LogRegerssion</th>\n",
       "      <td>0.746</td>\n",
       "    </tr>\n",
       "    <tr>\n",
       "      <th>CatBoostClass</th>\n",
       "      <td>0.924</td>\n",
       "    </tr>\n",
       "    <tr>\n",
       "      <th>LGBMClassifier</th>\n",
       "      <td>0.876</td>\n",
       "    </tr>\n",
       "    <tr>\n",
       "      <th>RFClassifier</th>\n",
       "      <td>0.817</td>\n",
       "    </tr>\n",
       "  </tbody>\n",
       "</table>\n",
       "</div>"
      ],
      "text/plain": [
       "                ROC-AUC\n",
       "LogRegerssion     0.746\n",
       "CatBoostClass     0.924\n",
       "LGBMClassifier    0.876\n",
       "RFClassifier      0.817"
      ]
     },
     "execution_count": 74,
     "metadata": {},
     "output_type": "execute_result"
    }
   ],
   "source": [
    "df = {'ROC-AUC': [rs_lr.best_score_, rs_cb.best_score_, rs_lgbm.best_score_, rs_rfc.best_score_]}\n",
    "      \n",
    "\n",
    "result = pd.DataFrame(df,  index=['LogRegerssion', 'CatBoostClass','LGBMClassifier', 'RFClassifier'])\n",
    "\n",
    "round(result, 3)\n"
   ]
  },
  {
   "cell_type": "markdown",
   "id": "4f750b7d",
   "metadata": {},
   "source": [
    "Лучшая модель на кросс-валидации CatBoostClassifier."
   ]
  },
  {
   "cell_type": "markdown",
   "id": "69f61314",
   "metadata": {},
   "source": [
    "### Тестирование лучшей модели CatBoostClassifier"
   ]
  },
  {
   "cell_type": "code",
   "execution_count": 75,
   "id": "3f845c78",
   "metadata": {
    "ExecuteTime": {
     "end_time": "2023-10-08T20:38:08.325324Z",
     "start_time": "2023-10-08T20:38:08.295763Z"
    }
   },
   "outputs": [
    {
     "name": "stdout",
     "output_type": "stream",
     "text": [
      "Лучшее значение AUC-ROC: 0.9357555063960757\n"
     ]
    }
   ],
   "source": [
    "predictions_test = rs_cb.predict(X_test)\n",
    "\n",
    "probabilities_test = rs_cb.predict_proba(X_test)\n",
    "\n",
    "# вероятность класса 1 (целевого класса)\n",
    "probabilities_one_test = probabilities_test[:, 1]\n",
    "\n",
    "auc_roc_test = roc_auc_score(y_test, probabilities_one_test)\n",
    "\n",
    "print('Лучшее значение AUC-ROC:', auc_roc_test)"
   ]
  },
  {
   "cell_type": "markdown",
   "id": "775a94e4",
   "metadata": {},
   "source": [
    "Проанализируем важность признаков:"
   ]
  },
  {
   "cell_type": "code",
   "execution_count": 76,
   "id": "e285346a",
   "metadata": {
    "ExecuteTime": {
     "end_time": "2023-10-08T20:38:08.340695Z",
     "start_time": "2023-10-08T20:38:08.326366Z"
    }
   },
   "outputs": [
    {
     "data": {
      "text/html": [
       "<div>\n",
       "<style scoped>\n",
       "    .dataframe tbody tr th:only-of-type {\n",
       "        vertical-align: middle;\n",
       "    }\n",
       "\n",
       "    .dataframe tbody tr th {\n",
       "        vertical-align: top;\n",
       "    }\n",
       "\n",
       "    .dataframe thead th {\n",
       "        text-align: right;\n",
       "    }\n",
       "</style>\n",
       "<table border=\"1\" class=\"dataframe\">\n",
       "  <thead>\n",
       "    <tr style=\"text-align: right;\">\n",
       "      <th></th>\n",
       "      <th>Feature Id</th>\n",
       "      <th>Importances</th>\n",
       "    </tr>\n",
       "  </thead>\n",
       "  <tbody>\n",
       "    <tr>\n",
       "      <th>0</th>\n",
       "      <td>Duration</td>\n",
       "      <td>74.746292</td>\n",
       "    </tr>\n",
       "    <tr>\n",
       "      <th>1</th>\n",
       "      <td>MonthlyCharges</td>\n",
       "      <td>7.841823</td>\n",
       "    </tr>\n",
       "    <tr>\n",
       "      <th>2</th>\n",
       "      <td>TotalCharges</td>\n",
       "      <td>5.711120</td>\n",
       "    </tr>\n",
       "    <tr>\n",
       "      <th>3</th>\n",
       "      <td>Type</td>\n",
       "      <td>4.829133</td>\n",
       "    </tr>\n",
       "    <tr>\n",
       "      <th>4</th>\n",
       "      <td>PaymentMethod</td>\n",
       "      <td>1.917895</td>\n",
       "    </tr>\n",
       "    <tr>\n",
       "      <th>5</th>\n",
       "      <td>MultipleLines</td>\n",
       "      <td>1.683328</td>\n",
       "    </tr>\n",
       "    <tr>\n",
       "      <th>6</th>\n",
       "      <td>Partner</td>\n",
       "      <td>1.672618</td>\n",
       "    </tr>\n",
       "    <tr>\n",
       "      <th>7</th>\n",
       "      <td>InternetService</td>\n",
       "      <td>0.810364</td>\n",
       "    </tr>\n",
       "    <tr>\n",
       "      <th>8</th>\n",
       "      <td>PaperlessBilling</td>\n",
       "      <td>0.330022</td>\n",
       "    </tr>\n",
       "    <tr>\n",
       "      <th>9</th>\n",
       "      <td>SeniorCitizen</td>\n",
       "      <td>0.256419</td>\n",
       "    </tr>\n",
       "    <tr>\n",
       "      <th>10</th>\n",
       "      <td>Dependents</td>\n",
       "      <td>0.168574</td>\n",
       "    </tr>\n",
       "    <tr>\n",
       "      <th>11</th>\n",
       "      <td>Gender</td>\n",
       "      <td>0.032412</td>\n",
       "    </tr>\n",
       "  </tbody>\n",
       "</table>\n",
       "</div>"
      ],
      "text/plain": [
       "          Feature Id  Importances\n",
       "0           Duration    74.746292\n",
       "1     MonthlyCharges     7.841823\n",
       "2       TotalCharges     5.711120\n",
       "3               Type     4.829133\n",
       "4      PaymentMethod     1.917895\n",
       "5      MultipleLines     1.683328\n",
       "6            Partner     1.672618\n",
       "7    InternetService     0.810364\n",
       "8   PaperlessBilling     0.330022\n",
       "9      SeniorCitizen     0.256419\n",
       "10        Dependents     0.168574\n",
       "11            Gender     0.032412"
      ]
     },
     "execution_count": 76,
     "metadata": {},
     "output_type": "execute_result"
    }
   ],
   "source": [
    "rs_cb.best_estimator_.get_feature_importance(prettified=True)"
   ]
  },
  {
   "cell_type": "markdown",
   "id": "8e82471c",
   "metadata": {},
   "source": [
    "Самым важным признаком для предсказания уйдет клиент или нет оказалась продолжительность `Duration`.\n",
    "На втором месте - `TotalCharges` и `MonthlyCharges`."
   ]
  },
  {
   "cell_type": "markdown",
   "id": "bf918107",
   "metadata": {},
   "source": [
    "Визуально отобразим Roc-кривую:"
   ]
  },
  {
   "cell_type": "code",
   "execution_count": 77,
   "id": "df1b7d9a",
   "metadata": {
    "ExecuteTime": {
     "end_time": "2023-10-08T20:38:08.577228Z",
     "start_time": "2023-10-08T20:38:08.342696Z"
    }
   },
   "outputs": [
    {
     "data": {
      "image/png": "[encoded data removed]",
      "text/plain": [
       "<Figure size 1800x504 with 1 Axes>"
      ]
     },
     "metadata": {},
     "output_type": "display_data"
    }
   ],
   "source": [
    "fpr, tpr, thresholds = roc_curve(y_test, probabilities_one_test)\n",
    "\n",
    "plt.figure(figsize=(25, 7))\n",
    "\n",
    "plt.plot([0, 1], [0, 1], linewidth=4, linestyle='--', color='magenta')\n",
    "\n",
    "plt.plot(fpr, tpr, linewidth=4, linestyle='-', color='blue')\n",
    "\n",
    "plt.xlim([0.0, 1.0])\n",
    "plt.ylim([0.0, 1.0])\n",
    "\n",
    "plt.xlabel('доля False Positive-ответов', fontsize=16)\n",
    "plt.ylabel('доля True Positive-ответов', fontsize=16)\n",
    "plt.title('ROC-кривая', fontsize=16)\n",
    "plt.xticks(fontsize=16)\n",
    "plt.yticks(fontsize=16);"
   ]
  },
  {
   "cell_type": "markdown",
   "id": "ac8efc97",
   "metadata": {},
   "source": [
    "Построим матрицу ошибок:"
   ]
  },
  {
   "cell_type": "code",
   "execution_count": 78,
   "id": "83488987",
   "metadata": {
    "ExecuteTime": {
     "end_time": "2023-10-08T20:38:08.781402Z",
     "start_time": "2023-10-08T20:38:08.579228Z"
    }
   },
   "outputs": [
    {
     "data": {
      "image/png": "[encoded data removed]",
      "text/plain": [
       "<Figure size 432x288 with 2 Axes>"
      ]
     },
     "metadata": {},
     "output_type": "display_data"
    }
   ],
   "source": [
    "sns.set_style('white')\n",
    "\n",
    "ConfusionMatrixDisplay.from_estimator(rs_cb, X_test, y_test, cmap=plt.cm.Oranges)\n",
    "\n",
    "plt.title('Confusion Matrix', fontsize=16)\n",
    "plt.xlabel('Predictions', fontsize=14)\n",
    "plt.ylabel('Facts', fontsize=14);"
   ]
  },
  {
   "cell_type": "markdown",
   "id": "4f2014f8",
   "metadata": {},
   "source": [
    "### Общий вывод"
   ]
  },
  {
   "cell_type": "markdown",
   "id": "d8f60f46",
   "metadata": {},
   "source": [
    "**В результате работы проделано следующее:**\n",
    "\n",
    " - данные в виде 4-ех таблиц скомпонованы в одну.\n",
    " - общий датафрейм проверен на дубликаты и пропуски, пропуски устранены. \n",
    " - проведена работа с признаками, в результате чего созданы новые признаки на основе неинформативных, а неинформативные соответственно удалены.\n",
    " - проведен исследовательский анализ, в результате которого исследована корреляция признаков и удалены сильно коррелирующие во избежания усложнения работы модели.\n",
    " - исследовано распределение некоторых признаков между группой оставшихся и ушедших клиентов.\n",
    " - также проведена разбивка выборки на трейновую и тестовую в размере 75% трейновой и 25% тестовой.\n",
    " - посредством использования RandomizeSearch кросс-валидацией найдена лучшая модель:ей оказалась CatBoostClassifier c целевой метрикой на кросс-валидацией AUC-ROC  = 0.919.\n",
    " - далее лучшая модель проверена на тестовой выборке, в результате чего получилась метрика AUC-ROC=0,939, что больше заявленной 0,85.\n",
    " - также исследована важность признаков посредством метода `get_feature_importanc`, и по факту наиважнейшим признаком ухода либо лояльности клиента явилась его продолжительность пользования услугами данного провайдера.\n",
    " - для визуального понимания построена ROC-кривая, которая довольно неплохо показывет, что модель делает хорошее предсказание целевого признака.\n",
    " - и, вдобавок, построена матрица ошибок, показывающая точно количество положительных и ошибочных предсказания модели."
   ]
  },
  {
   "cell_type": "markdown",
   "id": "b7416fc2",
   "metadata": {},
   "source": [
    "### Отчет"
   ]
  },
  {
   "cell_type": "markdown",
   "id": "41621660",
   "metadata": {
    "ExecuteTime": {
     "end_time": "2023-10-09T10:44:33.550828Z",
     "start_time": "2023-10-09T10:44:33.535326Z"
    }
   },
   "source": [
    "**Отличие от исходного плана работ:**"
   ]
  },
  {
   "cell_type": "markdown",
   "id": "d10f7bf8",
   "metadata": {
    "ExecuteTime": {
     "end_time": "2023-10-09T11:08:10.190209Z",
     "start_time": "2023-10-09T11:08:10.171024Z"
    }
   },
   "source": [
    "В целом план работ соблюден. Были реализованы все пункты плана.\n",
    "  </br>Однако в плане предполагалось удалить сильно коррелированные признаки, но в итоге их оказалось только два `MonthlyCharges` и `InternetService`(с корреляцией 0.92), и мы не стали их удалять т.к. довольно разные признаки и их корреляция можжет не быть линейной и не повлияет на обучение линейных моделей.\n",
    "  </br>Вдобавок была исследована модель RandomForestClassifier,а также отображена визуально метрика ROC-AUC и построена матрица ошибок."
   ]
  },
  {
   "cell_type": "markdown",
   "id": "920e74e8",
   "metadata": {
    "ExecuteTime": {
     "end_time": "2023-10-09T11:23:16.925128Z",
     "start_time": "2023-10-09T11:23:16.909126Z"
    }
   },
   "source": [
    "**Список признаков, которые использовались для обучения:**"
   ]
  },
  {
   "cell_type": "markdown",
   "id": "8d92333b",
   "metadata": {
    "ExecuteTime": {
     "end_time": "2023-10-09T11:25:07.395436Z",
     "start_time": "2023-10-09T11:25:07.383437Z"
    }
   },
   "source": [
    "Для обучения лучшей модели CatBoostClassifier было ипользовано 12 признаков (т.е все из обработанного датасета), но по итогу исследования важности признаков можно было бы использовать лишь 6:\n",
    "\n",
    " - `Duration` -  (самый важный для обучения признак по факту)\n",
    " - `MonthlyCharges`\n",
    " - `TotalCharges`\n",
    " - `Type`\n",
    " - `PaymentMethod`\n",
    " - `MultipleLines`\n",
    " - `Partner`\n",
    "\n",
    "\n",
    "\n"
   ]
  },
  {
   "cell_type": "markdown",
   "id": "06de5fb2",
   "metadata": {},
   "source": [
    "**Параметры итоговой модели и величина разбиения данных:**"
   ]
  },
  {
   "cell_type": "markdown",
   "id": "c8a6780d",
   "metadata": {},
   "source": [
    "Лучшей моделью по итогу исследования оказалась модель CatBoostClassifier с метрикой AUC-ROC на тестовой модели: 0.935.\n",
    "Ее гиперпараметры:\n",
    "\n",
    "{'randomforestclassifier__n_estimators': 250, 'randomforestclassifier__min_samples_split': 4, 'randomforestclassifier__min_samples_leaf': 15, 'randomforestclassifier__max_depth': 10}\n",
    "Метрика ROC-AUC на лучших гиперпараметрах: 0.8173216244713982\n",
    "\n",
    "\n",
    " - `n_estimators`:250\n",
    " - `min_samples_split`: 4\n",
    " - `min_samples_leaf`: 15\n",
    " - `max_depth`: 10\n",
    " - Метрика ROC-AUC на лучших гиперпараметрах при кросс-валидации: 0.817\n",
    "\n",
    "Соотношение трейновой и тестовой выборок составило 75/25 %, что является стандартной и наиболее распространенной пропорцией в Машинном обучении.</br>\n",
    "За выбор начальных условий для генерации случайных чискл при работе с выборкой у нас была использована дата работы над финальным спринтом: RANDOM_STATE = 250923 (25 сентября 2023 года)."
   ]
  },
  {
   "cell_type": "markdown",
   "id": "4045f87c",
   "metadata": {
    "ExecuteTime": {
     "end_time": "2023-10-09T11:45:02.481035Z",
     "start_time": "2023-10-09T11:45:02.471020Z"
    }
   },
   "source": [
    "**Трудности в работе и ключевые этапы:**"
   ]
  },
  {
   "cell_type": "markdown",
   "id": "8d871335",
   "metadata": {},
   "source": [
    "</br> Трудностей в работе не было, задание было максимально понятным и логичным. С помощью внимательной работы с нашим Тимлидом, удалось без труда выделить целевой признак и осознать, какие из принаков являются ключевыми для грамотного составления финального датасета.</br> Ключевыми этапами в работе считаю предобработку данных, Feature Ingineering и выбор сначала ключевой метрики, соответствующей бизнес-запросу, а затем и лучшей модели."
   ]
  }
 ],
 "metadata": {
  "ExecuteTimeLog": [
   {
    "duration": 65980,
    "start_time": "2023-09-26T17:38:35.938Z"
   },
   {
    "duration": 225,
    "start_time": "2023-09-26T17:44:15.238Z"
   },
   {
    "duration": 17,
    "start_time": "2023-09-26T17:46:26.635Z"
   },
   {
    "duration": 18,
    "start_time": "2023-09-26T17:46:30.524Z"
   },
   {
    "duration": 151,
    "start_time": "2023-09-26T17:46:44.220Z"
   },
   {
    "duration": 43,
    "start_time": "2023-10-08T08:01:10.690Z"
   }
  ],
  "kernelspec": {
   "display_name": "Python 3 (ipykernel)",
   "language": "python",
   "name": "python3"
  },
  "language_info": {
   "codemirror_mode": {
    "name": "ipython",
    "version": 3
   },
   "file_extension": ".py",
   "mimetype": "text/x-python",
   "name": "python",
   "nbconvert_exporter": "python",
   "pygments_lexer": "ipython3",
   "version": "3.9.12"
  },
  "toc": {
   "base_numbering": 1,
   "nav_menu": {},
   "number_sections": true,
   "sideBar": true,
   "skip_h1_title": true,
   "title_cell": "Содержание",
   "title_sidebar": "Содержание",
   "toc_cell": true,
   "toc_position": {
    "height": "748.889px",
    "left": "41px",
    "top": "66.8056px",
    "width": "479.8px"
   },
   "toc_section_display": true,
   "toc_window_display": true
  }
 },
 "nbformat": 4,
 "nbformat_minor": 5
}
