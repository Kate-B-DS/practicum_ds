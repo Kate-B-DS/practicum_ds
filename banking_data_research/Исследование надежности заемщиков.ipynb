{
 "cells": [
  {
   "cell_type": "markdown",
   "id": "434767a4",
   "metadata": {
    "id": "c81daeeb"
   },
   "source": [
    "# Исследование надежности заемщиков\n"
   ]
  },
  {
   "cell_type": "markdown",
   "id": "af8daf7c",
   "metadata": {
    "id": "744d7639"
   },
   "source": [
    "## Загрузка данных"
   ]
  },
  {
   "cell_type": "markdown",
   "id": "75ac8482",
   "metadata": {
    "id": "e7a14c31"
   },
   "source": [
    "Импортируем библиотеку pandas. Считаем данные из csv-файла в датафрейм и сохраним в переменную `data`. "
   ]
  },
  {
   "cell_type": "code",
   "execution_count": 35,
   "id": "0123c474",
   "metadata": {
    "ExecuteTime": {
     "end_time": "2023-10-28T01:13:00.539439Z",
     "start_time": "2023-10-28T01:13:00.523174Z"
    },
    "id": "7bcf75c9"
   },
   "outputs": [],
   "source": [
    "import pandas as pd"
   ]
  },
  {
   "cell_type": "markdown",
   "id": "cf510ae5",
   "metadata": {
    "ExecuteTime": {
     "end_time": "2023-10-28T00:42:38.766767Z",
     "start_time": "2023-10-28T00:42:37.848873Z"
    },
    "id": "7bcf75c9"
   },
   "source": [
    "Не показан импорт рабочего датасета в соответствии с политикой конфиденциальности ЯП."
   ]
  },
  {
   "cell_type": "markdown",
   "id": "9632f0d9",
   "metadata": {
    "id": "b8038fe3"
   },
   "source": [
    "Первые 20 строчек датафрейма `data`:"
   ]
  },
  {
   "cell_type": "code",
   "execution_count": 4,
   "id": "3aac0590",
   "metadata": {
    "id": "2a7cab99",
    "outputId": "1a8f3ef2-d323-4ec2-ddf7-89670b5944c4",
    "scrolled": false
   },
   "outputs": [
    {
     "data": {
      "text/html": [
       "<div>\n",
       "<style scoped>\n",
       "    .dataframe tbody tr th:only-of-type {\n",
       "        vertical-align: middle;\n",
       "    }\n",
       "\n",
       "    .dataframe tbody tr th {\n",
       "        vertical-align: top;\n",
       "    }\n",
       "\n",
       "    .dataframe thead th {\n",
       "        text-align: right;\n",
       "    }\n",
       "</style>\n",
       "<table border=\"1\" class=\"dataframe\">\n",
       "  <thead>\n",
       "    <tr style=\"text-align: right;\">\n",
       "      <th></th>\n",
       "      <th>children</th>\n",
       "      <th>days_employed</th>\n",
       "      <th>dob_years</th>\n",
       "      <th>education</th>\n",
       "      <th>education_id</th>\n",
       "      <th>family_status</th>\n",
       "      <th>family_status_id</th>\n",
       "      <th>gender</th>\n",
       "      <th>income_type</th>\n",
       "      <th>debt</th>\n",
       "      <th>total_income</th>\n",
       "      <th>purpose</th>\n",
       "    </tr>\n",
       "  </thead>\n",
       "  <tbody>\n",
       "    <tr>\n",
       "      <th>0</th>\n",
       "      <td>1</td>\n",
       "      <td>-8437.673028</td>\n",
       "      <td>42</td>\n",
       "      <td>высшее</td>\n",
       "      <td>0</td>\n",
       "      <td>женат / замужем</td>\n",
       "      <td>0</td>\n",
       "      <td>F</td>\n",
       "      <td>сотрудник</td>\n",
       "      <td>0</td>\n",
       "      <td>253875.639453</td>\n",
       "      <td>покупка жилья</td>\n",
       "    </tr>\n",
       "    <tr>\n",
       "      <th>1</th>\n",
       "      <td>1</td>\n",
       "      <td>-4024.803754</td>\n",
       "      <td>36</td>\n",
       "      <td>среднее</td>\n",
       "      <td>1</td>\n",
       "      <td>женат / замужем</td>\n",
       "      <td>0</td>\n",
       "      <td>F</td>\n",
       "      <td>сотрудник</td>\n",
       "      <td>0</td>\n",
       "      <td>112080.014102</td>\n",
       "      <td>приобретение автомобиля</td>\n",
       "    </tr>\n",
       "    <tr>\n",
       "      <th>2</th>\n",
       "      <td>0</td>\n",
       "      <td>-5623.422610</td>\n",
       "      <td>33</td>\n",
       "      <td>Среднее</td>\n",
       "      <td>1</td>\n",
       "      <td>женат / замужем</td>\n",
       "      <td>0</td>\n",
       "      <td>M</td>\n",
       "      <td>сотрудник</td>\n",
       "      <td>0</td>\n",
       "      <td>145885.952297</td>\n",
       "      <td>покупка жилья</td>\n",
       "    </tr>\n",
       "    <tr>\n",
       "      <th>3</th>\n",
       "      <td>3</td>\n",
       "      <td>-4124.747207</td>\n",
       "      <td>32</td>\n",
       "      <td>среднее</td>\n",
       "      <td>1</td>\n",
       "      <td>женат / замужем</td>\n",
       "      <td>0</td>\n",
       "      <td>M</td>\n",
       "      <td>сотрудник</td>\n",
       "      <td>0</td>\n",
       "      <td>267628.550329</td>\n",
       "      <td>дополнительное образование</td>\n",
       "    </tr>\n",
       "    <tr>\n",
       "      <th>4</th>\n",
       "      <td>0</td>\n",
       "      <td>340266.072047</td>\n",
       "      <td>53</td>\n",
       "      <td>среднее</td>\n",
       "      <td>1</td>\n",
       "      <td>гражданский брак</td>\n",
       "      <td>1</td>\n",
       "      <td>F</td>\n",
       "      <td>пенсионер</td>\n",
       "      <td>0</td>\n",
       "      <td>158616.077870</td>\n",
       "      <td>сыграть свадьбу</td>\n",
       "    </tr>\n",
       "    <tr>\n",
       "      <th>5</th>\n",
       "      <td>0</td>\n",
       "      <td>-926.185831</td>\n",
       "      <td>27</td>\n",
       "      <td>высшее</td>\n",
       "      <td>0</td>\n",
       "      <td>гражданский брак</td>\n",
       "      <td>1</td>\n",
       "      <td>M</td>\n",
       "      <td>компаньон</td>\n",
       "      <td>0</td>\n",
       "      <td>255763.565419</td>\n",
       "      <td>покупка жилья</td>\n",
       "    </tr>\n",
       "    <tr>\n",
       "      <th>6</th>\n",
       "      <td>0</td>\n",
       "      <td>-2879.202052</td>\n",
       "      <td>43</td>\n",
       "      <td>высшее</td>\n",
       "      <td>0</td>\n",
       "      <td>женат / замужем</td>\n",
       "      <td>0</td>\n",
       "      <td>F</td>\n",
       "      <td>компаньон</td>\n",
       "      <td>0</td>\n",
       "      <td>240525.971920</td>\n",
       "      <td>операции с жильем</td>\n",
       "    </tr>\n",
       "    <tr>\n",
       "      <th>7</th>\n",
       "      <td>0</td>\n",
       "      <td>-152.779569</td>\n",
       "      <td>50</td>\n",
       "      <td>СРЕДНЕЕ</td>\n",
       "      <td>1</td>\n",
       "      <td>женат / замужем</td>\n",
       "      <td>0</td>\n",
       "      <td>M</td>\n",
       "      <td>сотрудник</td>\n",
       "      <td>0</td>\n",
       "      <td>135823.934197</td>\n",
       "      <td>образование</td>\n",
       "    </tr>\n",
       "    <tr>\n",
       "      <th>8</th>\n",
       "      <td>2</td>\n",
       "      <td>-6929.865299</td>\n",
       "      <td>35</td>\n",
       "      <td>ВЫСШЕЕ</td>\n",
       "      <td>0</td>\n",
       "      <td>гражданский брак</td>\n",
       "      <td>1</td>\n",
       "      <td>F</td>\n",
       "      <td>сотрудник</td>\n",
       "      <td>0</td>\n",
       "      <td>95856.832424</td>\n",
       "      <td>на проведение свадьбы</td>\n",
       "    </tr>\n",
       "    <tr>\n",
       "      <th>9</th>\n",
       "      <td>0</td>\n",
       "      <td>-2188.756445</td>\n",
       "      <td>41</td>\n",
       "      <td>среднее</td>\n",
       "      <td>1</td>\n",
       "      <td>женат / замужем</td>\n",
       "      <td>0</td>\n",
       "      <td>M</td>\n",
       "      <td>сотрудник</td>\n",
       "      <td>0</td>\n",
       "      <td>144425.938277</td>\n",
       "      <td>покупка жилья для семьи</td>\n",
       "    </tr>\n",
       "    <tr>\n",
       "      <th>10</th>\n",
       "      <td>2</td>\n",
       "      <td>-4171.483647</td>\n",
       "      <td>36</td>\n",
       "      <td>высшее</td>\n",
       "      <td>0</td>\n",
       "      <td>женат / замужем</td>\n",
       "      <td>0</td>\n",
       "      <td>M</td>\n",
       "      <td>компаньон</td>\n",
       "      <td>0</td>\n",
       "      <td>113943.491460</td>\n",
       "      <td>покупка недвижимости</td>\n",
       "    </tr>\n",
       "    <tr>\n",
       "      <th>11</th>\n",
       "      <td>0</td>\n",
       "      <td>-792.701887</td>\n",
       "      <td>40</td>\n",
       "      <td>среднее</td>\n",
       "      <td>1</td>\n",
       "      <td>женат / замужем</td>\n",
       "      <td>0</td>\n",
       "      <td>F</td>\n",
       "      <td>сотрудник</td>\n",
       "      <td>0</td>\n",
       "      <td>77069.234271</td>\n",
       "      <td>покупка коммерческой недвижимости</td>\n",
       "    </tr>\n",
       "    <tr>\n",
       "      <th>12</th>\n",
       "      <td>0</td>\n",
       "      <td>NaN</td>\n",
       "      <td>65</td>\n",
       "      <td>среднее</td>\n",
       "      <td>1</td>\n",
       "      <td>гражданский брак</td>\n",
       "      <td>1</td>\n",
       "      <td>M</td>\n",
       "      <td>пенсионер</td>\n",
       "      <td>0</td>\n",
       "      <td>NaN</td>\n",
       "      <td>сыграть свадьбу</td>\n",
       "    </tr>\n",
       "    <tr>\n",
       "      <th>13</th>\n",
       "      <td>0</td>\n",
       "      <td>-1846.641941</td>\n",
       "      <td>54</td>\n",
       "      <td>неоконченное высшее</td>\n",
       "      <td>2</td>\n",
       "      <td>женат / замужем</td>\n",
       "      <td>0</td>\n",
       "      <td>F</td>\n",
       "      <td>сотрудник</td>\n",
       "      <td>0</td>\n",
       "      <td>130458.228857</td>\n",
       "      <td>приобретение автомобиля</td>\n",
       "    </tr>\n",
       "    <tr>\n",
       "      <th>14</th>\n",
       "      <td>0</td>\n",
       "      <td>-1844.956182</td>\n",
       "      <td>56</td>\n",
       "      <td>высшее</td>\n",
       "      <td>0</td>\n",
       "      <td>гражданский брак</td>\n",
       "      <td>1</td>\n",
       "      <td>F</td>\n",
       "      <td>компаньон</td>\n",
       "      <td>1</td>\n",
       "      <td>165127.911772</td>\n",
       "      <td>покупка жилой недвижимости</td>\n",
       "    </tr>\n",
       "    <tr>\n",
       "      <th>15</th>\n",
       "      <td>1</td>\n",
       "      <td>-972.364419</td>\n",
       "      <td>26</td>\n",
       "      <td>среднее</td>\n",
       "      <td>1</td>\n",
       "      <td>женат / замужем</td>\n",
       "      <td>0</td>\n",
       "      <td>F</td>\n",
       "      <td>сотрудник</td>\n",
       "      <td>0</td>\n",
       "      <td>116820.904450</td>\n",
       "      <td>строительство собственной недвижимости</td>\n",
       "    </tr>\n",
       "    <tr>\n",
       "      <th>16</th>\n",
       "      <td>0</td>\n",
       "      <td>-1719.934226</td>\n",
       "      <td>35</td>\n",
       "      <td>среднее</td>\n",
       "      <td>1</td>\n",
       "      <td>женат / замужем</td>\n",
       "      <td>0</td>\n",
       "      <td>F</td>\n",
       "      <td>сотрудник</td>\n",
       "      <td>0</td>\n",
       "      <td>289202.704229</td>\n",
       "      <td>недвижимость</td>\n",
       "    </tr>\n",
       "    <tr>\n",
       "      <th>17</th>\n",
       "      <td>0</td>\n",
       "      <td>-2369.999720</td>\n",
       "      <td>33</td>\n",
       "      <td>высшее</td>\n",
       "      <td>0</td>\n",
       "      <td>гражданский брак</td>\n",
       "      <td>1</td>\n",
       "      <td>M</td>\n",
       "      <td>сотрудник</td>\n",
       "      <td>0</td>\n",
       "      <td>90410.586745</td>\n",
       "      <td>строительство недвижимости</td>\n",
       "    </tr>\n",
       "    <tr>\n",
       "      <th>18</th>\n",
       "      <td>0</td>\n",
       "      <td>400281.136913</td>\n",
       "      <td>53</td>\n",
       "      <td>среднее</td>\n",
       "      <td>1</td>\n",
       "      <td>вдовец / вдова</td>\n",
       "      <td>2</td>\n",
       "      <td>F</td>\n",
       "      <td>пенсионер</td>\n",
       "      <td>0</td>\n",
       "      <td>56823.777243</td>\n",
       "      <td>на покупку подержанного автомобиля</td>\n",
       "    </tr>\n",
       "    <tr>\n",
       "      <th>19</th>\n",
       "      <td>0</td>\n",
       "      <td>-10038.818549</td>\n",
       "      <td>48</td>\n",
       "      <td>СРЕДНЕЕ</td>\n",
       "      <td>1</td>\n",
       "      <td>в разводе</td>\n",
       "      <td>3</td>\n",
       "      <td>F</td>\n",
       "      <td>сотрудник</td>\n",
       "      <td>0</td>\n",
       "      <td>242831.107982</td>\n",
       "      <td>на покупку своего автомобиля</td>\n",
       "    </tr>\n",
       "  </tbody>\n",
       "</table>\n",
       "</div>"
      ],
      "text/plain": [
       "    children  days_employed  dob_years            education  education_id  \\\n",
       "0          1   -8437.673028         42               высшее             0   \n",
       "1          1   -4024.803754         36              среднее             1   \n",
       "2          0   -5623.422610         33              Среднее             1   \n",
       "3          3   -4124.747207         32              среднее             1   \n",
       "4          0  340266.072047         53              среднее             1   \n",
       "5          0    -926.185831         27               высшее             0   \n",
       "6          0   -2879.202052         43               высшее             0   \n",
       "7          0    -152.779569         50              СРЕДНЕЕ             1   \n",
       "8          2   -6929.865299         35               ВЫСШЕЕ             0   \n",
       "9          0   -2188.756445         41              среднее             1   \n",
       "10         2   -4171.483647         36               высшее             0   \n",
       "11         0    -792.701887         40              среднее             1   \n",
       "12         0            NaN         65              среднее             1   \n",
       "13         0   -1846.641941         54  неоконченное высшее             2   \n",
       "14         0   -1844.956182         56               высшее             0   \n",
       "15         1    -972.364419         26              среднее             1   \n",
       "16         0   -1719.934226         35              среднее             1   \n",
       "17         0   -2369.999720         33               высшее             0   \n",
       "18         0  400281.136913         53              среднее             1   \n",
       "19         0  -10038.818549         48              СРЕДНЕЕ             1   \n",
       "\n",
       "       family_status  family_status_id gender income_type  debt  \\\n",
       "0    женат / замужем                 0      F   сотрудник     0   \n",
       "1    женат / замужем                 0      F   сотрудник     0   \n",
       "2    женат / замужем                 0      M   сотрудник     0   \n",
       "3    женат / замужем                 0      M   сотрудник     0   \n",
       "4   гражданский брак                 1      F   пенсионер     0   \n",
       "5   гражданский брак                 1      M   компаньон     0   \n",
       "6    женат / замужем                 0      F   компаньон     0   \n",
       "7    женат / замужем                 0      M   сотрудник     0   \n",
       "8   гражданский брак                 1      F   сотрудник     0   \n",
       "9    женат / замужем                 0      M   сотрудник     0   \n",
       "10   женат / замужем                 0      M   компаньон     0   \n",
       "11   женат / замужем                 0      F   сотрудник     0   \n",
       "12  гражданский брак                 1      M   пенсионер     0   \n",
       "13   женат / замужем                 0      F   сотрудник     0   \n",
       "14  гражданский брак                 1      F   компаньон     1   \n",
       "15   женат / замужем                 0      F   сотрудник     0   \n",
       "16   женат / замужем                 0      F   сотрудник     0   \n",
       "17  гражданский брак                 1      M   сотрудник     0   \n",
       "18    вдовец / вдова                 2      F   пенсионер     0   \n",
       "19         в разводе                 3      F   сотрудник     0   \n",
       "\n",
       "     total_income                                 purpose  \n",
       "0   253875.639453                           покупка жилья  \n",
       "1   112080.014102                 приобретение автомобиля  \n",
       "2   145885.952297                           покупка жилья  \n",
       "3   267628.550329              дополнительное образование  \n",
       "4   158616.077870                         сыграть свадьбу  \n",
       "5   255763.565419                           покупка жилья  \n",
       "6   240525.971920                       операции с жильем  \n",
       "7   135823.934197                             образование  \n",
       "8    95856.832424                   на проведение свадьбы  \n",
       "9   144425.938277                 покупка жилья для семьи  \n",
       "10  113943.491460                    покупка недвижимости  \n",
       "11   77069.234271       покупка коммерческой недвижимости  \n",
       "12            NaN                         сыграть свадьбу  \n",
       "13  130458.228857                 приобретение автомобиля  \n",
       "14  165127.911772              покупка жилой недвижимости  \n",
       "15  116820.904450  строительство собственной недвижимости  \n",
       "16  289202.704229                            недвижимость  \n",
       "17   90410.586745              строительство недвижимости  \n",
       "18   56823.777243      на покупку подержанного автомобиля  \n",
       "19  242831.107982            на покупку своего автомобиля  "
      ]
     },
     "execution_count": 4,
     "metadata": {},
     "output_type": "execute_result"
    }
   ],
   "source": [
    "data.head(20)"
   ]
  },
  {
   "cell_type": "markdown",
   "id": "80753134",
   "metadata": {
    "id": "1c12e233"
   },
   "source": [
    "Выведем основную информацию о датафрейме с помощью метода `info()`:"
   ]
  },
  {
   "cell_type": "code",
   "execution_count": 4,
   "id": "d0f39c18",
   "metadata": {
    "ExecuteTime": {
     "end_time": "2023-10-28T00:43:26.509803Z",
     "start_time": "2023-10-28T00:43:26.469935Z"
    },
    "id": "2b757bca",
    "outputId": "15376089-8dad-46c9-b520-c05248d43158"
   },
   "outputs": [
    {
     "name": "stdout",
     "output_type": "stream",
     "text": [
      "<class 'pandas.core.frame.DataFrame'>\n",
      "RangeIndex: 21525 entries, 0 to 21524\n",
      "Data columns (total 12 columns):\n",
      " #   Column            Non-Null Count  Dtype  \n",
      "---  ------            --------------  -----  \n",
      " 0   children          21525 non-null  int64  \n",
      " 1   days_employed     19351 non-null  float64\n",
      " 2   dob_years         21525 non-null  int64  \n",
      " 3   education         21525 non-null  object \n",
      " 4   education_id      21525 non-null  int64  \n",
      " 5   family_status     21525 non-null  object \n",
      " 6   family_status_id  21525 non-null  int64  \n",
      " 7   gender            21525 non-null  object \n",
      " 8   income_type       21525 non-null  object \n",
      " 9   debt              21525 non-null  int64  \n",
      " 10  total_income      19351 non-null  float64\n",
      " 11  purpose           21525 non-null  object \n",
      "dtypes: float64(2), int64(5), object(5)\n",
      "memory usage: 2.0+ MB\n"
     ]
    }
   ],
   "source": [
    "data.info()"
   ]
  },
  {
   "cell_type": "markdown",
   "id": "a8ede2e1",
   "metadata": {
    "id": "333ec665"
   },
   "source": [
    "## Предобработка данных"
   ]
  },
  {
   "cell_type": "markdown",
   "id": "a71d66b0",
   "metadata": {
    "id": "02d92d53"
   },
   "source": [
    "### Удаление пропусков"
   ]
  },
  {
   "cell_type": "markdown",
   "id": "eb9c4f9d",
   "metadata": {
    "id": "cd84967c"
   },
   "source": [
    "Выведем количество пропущенных значений для каждого столбца:"
   ]
  },
  {
   "cell_type": "code",
   "execution_count": 5,
   "id": "d3bf5bb9",
   "metadata": {
    "ExecuteTime": {
     "end_time": "2023-10-28T00:43:56.018828Z",
     "start_time": "2023-10-28T00:43:55.988858Z"
    },
    "id": "7f9b2309",
    "outputId": "81f4d817-781c-465c-ed15-91ce4446810d"
   },
   "outputs": [
    {
     "data": {
      "text/plain": [
       "children               0\n",
       "days_employed       2174\n",
       "dob_years              0\n",
       "education              0\n",
       "education_id           0\n",
       "family_status          0\n",
       "family_status_id       0\n",
       "gender                 0\n",
       "income_type            0\n",
       "debt                   0\n",
       "total_income        2174\n",
       "purpose                0\n",
       "dtype: int64"
      ]
     },
     "execution_count": 5,
     "metadata": {},
     "output_type": "execute_result"
    }
   ],
   "source": [
    "data.isna().sum()"
   ]
  },
  {
   "cell_type": "markdown",
   "id": "4c662c83",
   "metadata": {
    "id": "db86e27b"
   },
   "source": [
    "В двух столбцах есть пропущенные значения. Один из них — `days_employed`. Пропуски в этом столбце мы обработаем на следующем этапе. Другой столбец с пропущенными значениями — `total_income` — хранит данные о доходах. На сумму дохода сильнее всего влияет тип занятости, поэтому заполнить пропуски в этом столбце нужно медианным значением по каждому типу из столбца `income_type`. Например, у человека с типом занятости `сотрудник` пропуск в столбце `total_income` должен быть заполнен медианным доходом среди всех записей с тем же типом:"
   ]
  },
  {
   "cell_type": "code",
   "execution_count": 6,
   "id": "72e48c72",
   "metadata": {
    "ExecuteTime": {
     "end_time": "2023-10-28T00:44:40.929008Z",
     "start_time": "2023-10-28T00:44:40.886306Z"
    },
    "id": "42006a93"
   },
   "outputs": [],
   "source": [
    "for t in data['income_type'].unique():\n",
    "    data.loc[(data['income_type'] == t) & (data['total_income'].isna()), 'total_income'] = \\\n",
    "    data.loc[(data['income_type'] == t), 'total_income'].median()"
   ]
  },
  {
   "cell_type": "markdown",
   "id": "0980ddac",
   "metadata": {
    "id": "89da5ece"
   },
   "source": [
    "### Обработка аномальных значений"
   ]
  },
  {
   "cell_type": "markdown",
   "id": "9470a61d",
   "metadata": {
    "id": "57964554"
   },
   "source": [
    "В данных могут встречаться артефакты (аномалии) — значения, которые не отражают действительность и появились по какой-то ошибке. таким артефактом будет отрицательное количество дней трудового стажа в столбце `days_employed`. Для реальных данных это нормально. Обработаем значения в этом столбце: заменим все отрицательные значения положительными с помощью метода `abs()`:"
   ]
  },
  {
   "cell_type": "code",
   "execution_count": 7,
   "id": "3c8ee7e6",
   "metadata": {
    "ExecuteTime": {
     "end_time": "2023-10-28T00:45:16.823397Z",
     "start_time": "2023-10-28T00:45:16.813430Z"
    },
    "id": "f6f055bf"
   },
   "outputs": [],
   "source": [
    "data['days_employed'] = data['days_employed'].abs()"
   ]
  },
  {
   "cell_type": "markdown",
   "id": "601b56db",
   "metadata": {
    "id": "6107dd2f"
   },
   "source": [
    "Для каждого типа занятости выведем медианное значение трудового стажа `days_employed` в днях:"
   ]
  },
  {
   "cell_type": "code",
   "execution_count": 8,
   "id": "c506e897",
   "metadata": {
    "ExecuteTime": {
     "end_time": "2023-10-28T00:45:33.677564Z",
     "start_time": "2023-10-28T00:45:33.654912Z"
    },
    "id": "85a5faf6",
    "outputId": "801ef80e-522b-4668-f34e-565af7432bcf"
   },
   "outputs": [
    {
     "data": {
      "text/plain": [
       "income_type\n",
       "безработный        366413.652744\n",
       "в декрете            3296.759962\n",
       "госслужащий          2689.368353\n",
       "компаньон            1547.382223\n",
       "пенсионер          365213.306266\n",
       "предприниматель       520.848083\n",
       "сотрудник            1574.202821\n",
       "студент               578.751554\n",
       "Name: days_employed, dtype: float64"
      ]
     },
     "execution_count": 8,
     "metadata": {},
     "output_type": "execute_result"
    }
   ],
   "source": [
    "data.groupby('income_type')['days_employed'].agg('median')"
   ]
  },
  {
   "cell_type": "markdown",
   "id": "a455240b",
   "metadata": {
    "id": "38d1a030"
   },
   "source": [
    "У двух типов (безработные и пенсионеры) получатся аномально большие значения. Исправить такие значения сложно, поэтому оставим их как есть:"
   ]
  },
  {
   "cell_type": "markdown",
   "id": "b6a962a0",
   "metadata": {
    "id": "d8a9f147"
   },
   "source": [
    "Выведем перечень уникальных значений столбца `children`:"
   ]
  },
  {
   "cell_type": "code",
   "execution_count": 9,
   "id": "e36755f5",
   "metadata": {
    "ExecuteTime": {
     "end_time": "2023-10-28T00:46:17.227399Z",
     "start_time": "2023-10-28T00:46:17.208462Z"
    },
    "id": "ef5056eb",
    "outputId": "6975b15c-7f95-4697-d16d-a0c79b657b03"
   },
   "outputs": [
    {
     "data": {
      "text/plain": [
       "array([ 1,  0,  3,  2, -1,  4, 20,  5], dtype=int64)"
      ]
     },
     "execution_count": 9,
     "metadata": {},
     "output_type": "execute_result"
    }
   ],
   "source": [
    "data['children'].unique()"
   ]
  },
  {
   "cell_type": "markdown",
   "id": "30d98703",
   "metadata": {
    "id": "40b9ebf2"
   },
   "source": [
    "В столбце `children` есть два аномальных значения. Удалим строки, в которых встречаются такие аномальные значения из датафрейма `data`:"
   ]
  },
  {
   "cell_type": "code",
   "execution_count": 10,
   "id": "d9bef26c",
   "metadata": {
    "ExecuteTime": {
     "end_time": "2023-10-28T00:46:36.356881Z",
     "start_time": "2023-10-28T00:46:36.342019Z"
    },
    "id": "3ff9801d"
   },
   "outputs": [],
   "source": [
    "data = data[(data['children'] != -1) & (data['children'] != 20)]"
   ]
  },
  {
   "cell_type": "markdown",
   "id": "80272380",
   "metadata": {
    "id": "bbc4d0ce"
   },
   "source": [
    "Ещё раз выведем перечень уникальных значений столбца `children`, чтобы убедиться, что артефакты удалены:"
   ]
  },
  {
   "cell_type": "code",
   "execution_count": 11,
   "id": "2649f97f",
   "metadata": {
    "ExecuteTime": {
     "end_time": "2023-10-28T00:46:51.987753Z",
     "start_time": "2023-10-28T00:46:51.971807Z"
    },
    "id": "ad4fa8b7",
    "outputId": "b2097101-d49d-44d9-901b-32a65c9463d1"
   },
   "outputs": [
    {
     "data": {
      "text/plain": [
       "array([1, 0, 3, 2, 4, 5], dtype=int64)"
      ]
     },
     "execution_count": 11,
     "metadata": {},
     "output_type": "execute_result"
    }
   ],
   "source": [
    "data['children'].unique()"
   ]
  },
  {
   "cell_type": "markdown",
   "id": "399cadde",
   "metadata": {
    "id": "75440b63"
   },
   "source": [
    "### Удаление пропусков (продолжение)"
   ]
  },
  {
   "cell_type": "markdown",
   "id": "47f2a68a",
   "metadata": {
    "id": "f4ea573f"
   },
   "source": [
    "Заполним пропуски в столбце `days_employed` медианными значениями по каждому типу занятости `income_type`:"
   ]
  },
  {
   "cell_type": "code",
   "execution_count": 12,
   "id": "90749b30",
   "metadata": {
    "ExecuteTime": {
     "end_time": "2023-10-28T00:47:21.408417Z",
     "start_time": "2023-10-28T00:47:21.378174Z"
    },
    "id": "af6b1a7e"
   },
   "outputs": [],
   "source": [
    "for t in data['income_type'].unique():\n",
    "    data.loc[(data['income_type'] == t) & (data['days_employed'].isna()), 'days_employed'] = \\\n",
    "    data.loc[(data['income_type'] == t), 'days_employed'].median()"
   ]
  },
  {
   "cell_type": "markdown",
   "id": "4119db35",
   "metadata": {
    "id": "2753f40d"
   },
   "source": [
    "Убедимся, что все пропуски заполнены. Проверим себя и ещё раз выведем количество пропущенных значений для каждого столбца с помощью двух методов:"
   ]
  },
  {
   "cell_type": "code",
   "execution_count": 13,
   "id": "56372acc",
   "metadata": {
    "ExecuteTime": {
     "end_time": "2023-10-28T00:47:49.063726Z",
     "start_time": "2023-10-28T00:47:49.034935Z"
    },
    "id": "55f78bc2",
    "outputId": "8da1e4e1-358e-4e87-98c9-f261bce0a7b2"
   },
   "outputs": [
    {
     "data": {
      "text/plain": [
       "children            0\n",
       "days_employed       0\n",
       "dob_years           0\n",
       "education           0\n",
       "education_id        0\n",
       "family_status       0\n",
       "family_status_id    0\n",
       "gender              0\n",
       "income_type         0\n",
       "debt                0\n",
       "total_income        0\n",
       "purpose             0\n",
       "dtype: int64"
      ]
     },
     "execution_count": 13,
     "metadata": {},
     "output_type": "execute_result"
    }
   ],
   "source": [
    "data.isna().sum()"
   ]
  },
  {
   "cell_type": "markdown",
   "id": "ec9a1dc7",
   "metadata": {
    "id": "ddc81e43"
   },
   "source": [
    "### Изменение типов данных"
   ]
  },
  {
   "cell_type": "markdown",
   "id": "d639414a",
   "metadata": {
    "id": "42d19d24"
   },
   "source": [
    "Заменим вещественный тип данных в столбце `total_income` на целочисленный с помощью метода `astype()`:"
   ]
  },
  {
   "cell_type": "code",
   "execution_count": 14,
   "id": "fa3f5ed9",
   "metadata": {
    "ExecuteTime": {
     "end_time": "2023-10-28T00:48:07.991399Z",
     "start_time": "2023-10-28T00:48:07.986415Z"
    },
    "id": "920b65ad"
   },
   "outputs": [],
   "source": [
    "data['total_income'] = data['total_income'].astype(int)"
   ]
  },
  {
   "cell_type": "markdown",
   "id": "1314bc44",
   "metadata": {
    "id": "80c420ba"
   },
   "source": [
    "### Обработка дубликатов"
   ]
  },
  {
   "cell_type": "markdown",
   "id": "7f8c360c",
   "metadata": {},
   "source": [
    "Обработаем неявные дубликаты в столбце `education`. В этом столбце есть одни и те же значения, но записанные по-разному: с использованием заглавных и строчных букв. Приведем их к нижнему регистру. Проверим остальные столбцы:"
   ]
  },
  {
   "cell_type": "code",
   "execution_count": 15,
   "id": "0ca601de",
   "metadata": {
    "ExecuteTime": {
     "end_time": "2023-10-28T00:48:35.484379Z",
     "start_time": "2023-10-28T00:48:35.466462Z"
    }
   },
   "outputs": [],
   "source": [
    "data['education'] = data['education'].str.lower()"
   ]
  },
  {
   "cell_type": "markdown",
   "id": "1300bec3",
   "metadata": {
    "id": "dc587695"
   },
   "source": [
    "Выведем на экран количество строк-дубликатов в данных. Если такие строки присутствуют, удалим их:"
   ]
  },
  {
   "cell_type": "code",
   "execution_count": 16,
   "id": "b1701214",
   "metadata": {
    "ExecuteTime": {
     "end_time": "2023-10-28T00:49:00.904485Z",
     "start_time": "2023-10-28T00:49:00.887377Z"
    },
    "id": "3ee445e4",
    "outputId": "9684deba-1934-42d1-99e1-cda61740f822"
   },
   "outputs": [
    {
     "data": {
      "text/plain": [
       "71"
      ]
     },
     "execution_count": 16,
     "metadata": {},
     "output_type": "execute_result"
    }
   ],
   "source": [
    "data.duplicated().sum()"
   ]
  },
  {
   "cell_type": "code",
   "execution_count": 17,
   "id": "104e2cb0",
   "metadata": {
    "ExecuteTime": {
     "end_time": "2023-10-28T00:49:02.695315Z",
     "start_time": "2023-10-28T00:49:02.667921Z"
    },
    "id": "8575fe05"
   },
   "outputs": [],
   "source": [
    "data = data.drop_duplicates()"
   ]
  },
  {
   "cell_type": "markdown",
   "id": "7d3ffde1",
   "metadata": {
    "id": "9904cf55"
   },
   "source": [
    "### Категоризация данных"
   ]
  },
  {
   "cell_type": "markdown",
   "id": "6fb3ab45",
   "metadata": {
    "id": "72fcc8a2"
   },
   "source": [
    "На основании диапазонов, указанных ниже, создадим в датафрейме `data` столбец `total_income_category` с категориями:\n",
    "\n",
    "- 0–30000 — `'E'`;\n",
    "- 30001–50000 — `'D'`;\n",
    "- 50001–200000 — `'C'`;\n",
    "- 200001–1000000 — `'B'`;\n",
    "- 1000001 и выше — `'A'`.\n",
    "\n",
    "\n",
    "**Например, кредитополучателю с доходом 25000 нужно назначить категорию `'E'`, а клиенту, получающему 235000, — `'B'`. Создадим собственную функцию с именем `categorize_income()` и метод `apply()`.**"
   ]
  },
  {
   "cell_type": "code",
   "execution_count": 18,
   "id": "26501a27",
   "metadata": {
    "ExecuteTime": {
     "end_time": "2023-10-28T00:49:45.366277Z",
     "start_time": "2023-10-28T00:49:45.350689Z"
    },
    "id": "e1771346"
   },
   "outputs": [],
   "source": [
    "def categorize_income(income):\n",
    "    try:\n",
    "        if 0 <= income <= 30000:\n",
    "            return 'E'\n",
    "        elif 30001 <= income <= 50000:\n",
    "            return 'D'\n",
    "        elif 50001 <= income <= 200000:\n",
    "            return 'C'\n",
    "        elif 200001 <= income <= 1000000:\n",
    "            return 'B'\n",
    "        elif income >= 1000001:\n",
    "            return 'A'\n",
    "    except:\n",
    "        pass"
   ]
  },
  {
   "cell_type": "code",
   "execution_count": 19,
   "id": "0118a968",
   "metadata": {
    "ExecuteTime": {
     "end_time": "2023-10-28T00:49:47.137856Z",
     "start_time": "2023-10-28T00:49:47.116292Z"
    },
    "id": "d5f3586d"
   },
   "outputs": [],
   "source": [
    "data['total_income_category'] = data['total_income'].apply(categorize_income)"
   ]
  },
  {
   "cell_type": "markdown",
   "id": "87a692fc",
   "metadata": {
    "id": "dde49b5c"
   },
   "source": [
    "Выведем на экран перечень уникальных целей взятия кредита из столбца `purpose`:"
   ]
  },
  {
   "cell_type": "code",
   "execution_count": 20,
   "id": "fd47a0fc",
   "metadata": {
    "ExecuteTime": {
     "end_time": "2023-10-28T00:50:02.609283Z",
     "start_time": "2023-10-28T00:50:02.587016Z"
    },
    "id": "f67ce9b3",
    "outputId": "673c12d9-7d7e-4ae0-9812-c622c89dd244"
   },
   "outputs": [
    {
     "data": {
      "text/plain": [
       "array(['покупка жилья', 'приобретение автомобиля',\n",
       "       'дополнительное образование', 'сыграть свадьбу',\n",
       "       'операции с жильем', 'образование', 'на проведение свадьбы',\n",
       "       'покупка жилья для семьи', 'покупка недвижимости',\n",
       "       'покупка коммерческой недвижимости', 'покупка жилой недвижимости',\n",
       "       'строительство собственной недвижимости', 'недвижимость',\n",
       "       'строительство недвижимости', 'на покупку подержанного автомобиля',\n",
       "       'на покупку своего автомобиля',\n",
       "       'операции с коммерческой недвижимостью',\n",
       "       'строительство жилой недвижимости', 'жилье',\n",
       "       'операции со своей недвижимостью', 'автомобили',\n",
       "       'заняться образованием', 'сделка с подержанным автомобилем',\n",
       "       'получение образования', 'автомобиль', 'свадьба',\n",
       "       'получение дополнительного образования', 'покупка своего жилья',\n",
       "       'операции с недвижимостью', 'получение высшего образования',\n",
       "       'свой автомобиль', 'сделка с автомобилем',\n",
       "       'профильное образование', 'высшее образование',\n",
       "       'покупка жилья для сдачи', 'на покупку автомобиля', 'ремонт жилью',\n",
       "       'заняться высшим образованием'], dtype=object)"
      ]
     },
     "execution_count": 20,
     "metadata": {},
     "output_type": "execute_result"
    }
   ],
   "source": [
    "data['purpose'].unique()"
   ]
  },
  {
   "cell_type": "markdown",
   "id": "b964fe7d",
   "metadata": {
    "id": "85d0aef0"
   },
   "source": [
    "Создадим функцию, которая на основании данных из столбца `purpose` сформирует новый столбец `purpose_category`, в который войдут следующие категории:\n",
    "\n",
    "- `'операции с автомобилем'`,\n",
    "- `'операции с недвижимостью'`,\n",
    "- `'проведение свадьбы'`,\n",
    "- `'получение образования'`.\n",
    "\n",
    "**Например, если в столбце `purpose` находится подстрока `'на покупку автомобиля'`, то в столбце `purpose_category` должна появиться строка `'операции с автомобилем'`.**\n",
    "\n",
    "**Используем собственную функцию с именем `categorize_purpose()` и метод `apply()`. Изучим данные в столбце `purpose` и определим, какие подстроки помогут правильно определить категорию.**"
   ]
  },
  {
   "cell_type": "code",
   "execution_count": 21,
   "id": "fa798145",
   "metadata": {
    "ExecuteTime": {
     "end_time": "2023-10-28T00:50:59.840604Z",
     "start_time": "2023-10-28T00:50:59.825425Z"
    },
    "id": "e149fab4"
   },
   "outputs": [],
   "source": [
    "def categorize_purpose(row):\n",
    "    try:\n",
    "        if 'автом' in row:\n",
    "            return 'операции с автомобилем'\n",
    "        elif 'жил' in row or 'недвиж' in row:\n",
    "            return 'операции с недвижимостью'\n",
    "        elif 'свад' in row:\n",
    "            return 'проведение свадьбы'\n",
    "        elif 'образов' in row:\n",
    "            return 'получение образования'\n",
    "    except:\n",
    "        return 'нет категории'"
   ]
  },
  {
   "cell_type": "code",
   "execution_count": 22,
   "id": "6d36fbbc",
   "metadata": {
    "ExecuteTime": {
     "end_time": "2023-10-28T00:51:01.522482Z",
     "start_time": "2023-10-28T00:51:01.500849Z"
    },
    "id": "bf36e69b"
   },
   "outputs": [],
   "source": [
    "data['purpose_category'] = data['purpose'].apply(categorize_purpose)"
   ]
  },
  {
   "cell_type": "markdown",
   "id": "e4827801",
   "metadata": {
    "id": "09b242bf"
   },
   "source": [
    "### Исследуем данные и ответим на вопросы"
   ]
  },
  {
   "cell_type": "markdown",
   "id": "abf85479",
   "metadata": {
    "id": "c5d66278"
   },
   "source": [
    "#### Есть ли зависимость между количеством детей и возвратом кредита в срок?"
   ]
  },
  {
   "cell_type": "code",
   "execution_count": 23,
   "id": "219c1085",
   "metadata": {
    "ExecuteTime": {
     "end_time": "2023-10-28T00:52:21.873906Z",
     "start_time": "2023-10-28T00:52:21.853631Z"
    },
    "id": "2cacfc4a"
   },
   "outputs": [
    {
     "data": {
      "text/html": [
       "<div>\n",
       "<style scoped>\n",
       "    .dataframe tbody tr th:only-of-type {\n",
       "        vertical-align: middle;\n",
       "    }\n",
       "\n",
       "    .dataframe tbody tr th {\n",
       "        vertical-align: top;\n",
       "    }\n",
       "\n",
       "    .dataframe thead th {\n",
       "        text-align: right;\n",
       "    }\n",
       "</style>\n",
       "<table border=\"1\" class=\"dataframe\">\n",
       "  <thead>\n",
       "    <tr style=\"text-align: right;\">\n",
       "      <th></th>\n",
       "      <th>children</th>\n",
       "      <th>debt</th>\n",
       "    </tr>\n",
       "    <tr>\n",
       "      <th>children</th>\n",
       "      <th></th>\n",
       "      <th></th>\n",
       "    </tr>\n",
       "  </thead>\n",
       "  <tbody>\n",
       "    <tr>\n",
       "      <th>0</th>\n",
       "      <td>14091</td>\n",
       "      <td>1063</td>\n",
       "    </tr>\n",
       "    <tr>\n",
       "      <th>1</th>\n",
       "      <td>4808</td>\n",
       "      <td>444</td>\n",
       "    </tr>\n",
       "    <tr>\n",
       "      <th>2</th>\n",
       "      <td>2052</td>\n",
       "      <td>194</td>\n",
       "    </tr>\n",
       "    <tr>\n",
       "      <th>3</th>\n",
       "      <td>330</td>\n",
       "      <td>27</td>\n",
       "    </tr>\n",
       "    <tr>\n",
       "      <th>4</th>\n",
       "      <td>41</td>\n",
       "      <td>4</td>\n",
       "    </tr>\n",
       "    <tr>\n",
       "      <th>5</th>\n",
       "      <td>9</td>\n",
       "      <td>0</td>\n",
       "    </tr>\n",
       "  </tbody>\n",
       "</table>\n",
       "</div>"
      ],
      "text/plain": [
       "          children  debt\n",
       "children                \n",
       "0            14091  1063\n",
       "1             4808   444\n",
       "2             2052   194\n",
       "3              330    27\n",
       "4               41     4\n",
       "5                9     0"
      ]
     },
     "metadata": {},
     "output_type": "display_data"
    }
   ],
   "source": [
    "children_grouped = data.groupby('children').agg({\n",
    "    'children': 'count',\n",
    "    'debt': 'sum'\n",
    "})\n",
    "\n",
    "display(children_grouped)"
   ]
  },
  {
   "cell_type": "code",
   "execution_count": 24,
   "id": "78d626df",
   "metadata": {
    "ExecuteTime": {
     "end_time": "2023-10-28T00:52:23.369979Z",
     "start_time": "2023-10-28T00:52:23.354844Z"
    }
   },
   "outputs": [
    {
     "data": {
      "text/html": [
       "<div>\n",
       "<style scoped>\n",
       "    .dataframe tbody tr th:only-of-type {\n",
       "        vertical-align: middle;\n",
       "    }\n",
       "\n",
       "    .dataframe tbody tr th {\n",
       "        vertical-align: top;\n",
       "    }\n",
       "\n",
       "    .dataframe thead th {\n",
       "        text-align: right;\n",
       "    }\n",
       "</style>\n",
       "<table border=\"1\" class=\"dataframe\">\n",
       "  <thead>\n",
       "    <tr style=\"text-align: right;\">\n",
       "      <th></th>\n",
       "      <th>children</th>\n",
       "      <th>debt</th>\n",
       "      <th>debt_persent</th>\n",
       "    </tr>\n",
       "    <tr>\n",
       "      <th>children</th>\n",
       "      <th></th>\n",
       "      <th></th>\n",
       "      <th></th>\n",
       "    </tr>\n",
       "  </thead>\n",
       "  <tbody>\n",
       "    <tr>\n",
       "      <th>0</th>\n",
       "      <td>14091</td>\n",
       "      <td>1063</td>\n",
       "      <td>7.543822</td>\n",
       "    </tr>\n",
       "    <tr>\n",
       "      <th>1</th>\n",
       "      <td>4808</td>\n",
       "      <td>444</td>\n",
       "      <td>9.234609</td>\n",
       "    </tr>\n",
       "    <tr>\n",
       "      <th>2</th>\n",
       "      <td>2052</td>\n",
       "      <td>194</td>\n",
       "      <td>9.454191</td>\n",
       "    </tr>\n",
       "    <tr>\n",
       "      <th>3</th>\n",
       "      <td>330</td>\n",
       "      <td>27</td>\n",
       "      <td>8.181818</td>\n",
       "    </tr>\n",
       "    <tr>\n",
       "      <th>4</th>\n",
       "      <td>41</td>\n",
       "      <td>4</td>\n",
       "      <td>9.756098</td>\n",
       "    </tr>\n",
       "    <tr>\n",
       "      <th>5</th>\n",
       "      <td>9</td>\n",
       "      <td>0</td>\n",
       "      <td>0.000000</td>\n",
       "    </tr>\n",
       "  </tbody>\n",
       "</table>\n",
       "</div>"
      ],
      "text/plain": [
       "          children  debt  debt_persent\n",
       "children                              \n",
       "0            14091  1063      7.543822\n",
       "1             4808   444      9.234609\n",
       "2             2052   194      9.454191\n",
       "3              330    27      8.181818\n",
       "4               41     4      9.756098\n",
       "5                9     0      0.000000"
      ]
     },
     "metadata": {},
     "output_type": "display_data"
    }
   ],
   "source": [
    "children_grouped['debt_persent'] = children_grouped['debt'] / children_grouped[\n",
    "    'children'] * 100\n",
    "\n",
    "display(children_grouped)"
   ]
  },
  {
   "cell_type": "code",
   "execution_count": 25,
   "id": "88ddb6f9",
   "metadata": {
    "ExecuteTime": {
     "end_time": "2023-10-28T00:52:25.390789Z",
     "start_time": "2023-10-28T00:52:25.376934Z"
    }
   },
   "outputs": [
    {
     "data": {
      "text/html": [
       "<div>\n",
       "<style scoped>\n",
       "    .dataframe tbody tr th:only-of-type {\n",
       "        vertical-align: middle;\n",
       "    }\n",
       "\n",
       "    .dataframe tbody tr th {\n",
       "        vertical-align: top;\n",
       "    }\n",
       "\n",
       "    .dataframe thead th {\n",
       "        text-align: right;\n",
       "    }\n",
       "</style>\n",
       "<table border=\"1\" class=\"dataframe\">\n",
       "  <thead>\n",
       "    <tr style=\"text-align: right;\">\n",
       "      <th></th>\n",
       "      <th>children_amount</th>\n",
       "      <th>debt_sum</th>\n",
       "      <th>debt_persent</th>\n",
       "    </tr>\n",
       "    <tr>\n",
       "      <th>children</th>\n",
       "      <th></th>\n",
       "      <th></th>\n",
       "      <th></th>\n",
       "    </tr>\n",
       "  </thead>\n",
       "  <tbody>\n",
       "    <tr>\n",
       "      <th>4</th>\n",
       "      <td>41</td>\n",
       "      <td>4</td>\n",
       "      <td>9.756098</td>\n",
       "    </tr>\n",
       "    <tr>\n",
       "      <th>2</th>\n",
       "      <td>2052</td>\n",
       "      <td>194</td>\n",
       "      <td>9.454191</td>\n",
       "    </tr>\n",
       "    <tr>\n",
       "      <th>1</th>\n",
       "      <td>4808</td>\n",
       "      <td>444</td>\n",
       "      <td>9.234609</td>\n",
       "    </tr>\n",
       "    <tr>\n",
       "      <th>3</th>\n",
       "      <td>330</td>\n",
       "      <td>27</td>\n",
       "      <td>8.181818</td>\n",
       "    </tr>\n",
       "    <tr>\n",
       "      <th>0</th>\n",
       "      <td>14091</td>\n",
       "      <td>1063</td>\n",
       "      <td>7.543822</td>\n",
       "    </tr>\n",
       "    <tr>\n",
       "      <th>5</th>\n",
       "      <td>9</td>\n",
       "      <td>0</td>\n",
       "      <td>0.000000</td>\n",
       "    </tr>\n",
       "  </tbody>\n",
       "</table>\n",
       "</div>"
      ],
      "text/plain": [
       "          children_amount  debt_sum  debt_persent\n",
       "children                                         \n",
       "4                      41         4      9.756098\n",
       "2                    2052       194      9.454191\n",
       "1                    4808       444      9.234609\n",
       "3                     330        27      8.181818\n",
       "0                   14091      1063      7.543822\n",
       "5                       9         0      0.000000"
      ]
     },
     "execution_count": 25,
     "metadata": {},
     "output_type": "execute_result"
    }
   ],
   "source": [
    "children_grouped.columns = ['children_amount', 'debt_sum',\n",
    "                            'debt_persent']  #Переименовала столбцы\n",
    "\n",
    "children_grouped.sort_values(\n",
    "    by='debt_persent', ascending=False\n",
    ")  #сортировка по убыванию процента невозврата кредита в срок"
   ]
  },
  {
   "cell_type": "markdown",
   "id": "fd6b81d1",
   "metadata": {
    "id": "3a6b99ec"
   },
   "source": [
    "**Вывод:** \n",
    "\n",
    " - Процент **невозврата** кредита **повышается** с увеличением **количества детей**\n",
    " - По категории с 5-ю детьми недостаточно данных для анализа"
   ]
  },
  {
   "cell_type": "markdown",
   "id": "544d776f",
   "metadata": {
    "id": "97be82ca"
   },
   "source": [
    "####  Есть ли зависимость между семейным положением и возвратом кредита в срок?"
   ]
  },
  {
   "cell_type": "code",
   "execution_count": 26,
   "id": "f0cd33ac",
   "metadata": {
    "ExecuteTime": {
     "end_time": "2023-10-28T00:53:43.561465Z",
     "start_time": "2023-10-28T00:53:43.542281Z"
    },
    "id": "dc3f7ee8"
   },
   "outputs": [
    {
     "data": {
      "text/html": [
       "<div>\n",
       "<style scoped>\n",
       "    .dataframe tbody tr th:only-of-type {\n",
       "        vertical-align: middle;\n",
       "    }\n",
       "\n",
       "    .dataframe tbody tr th {\n",
       "        vertical-align: top;\n",
       "    }\n",
       "\n",
       "    .dataframe thead th {\n",
       "        text-align: right;\n",
       "    }\n",
       "</style>\n",
       "<table border=\"1\" class=\"dataframe\">\n",
       "  <thead>\n",
       "    <tr style=\"text-align: right;\">\n",
       "      <th></th>\n",
       "      <th>debt</th>\n",
       "      <th>family_status</th>\n",
       "    </tr>\n",
       "    <tr>\n",
       "      <th>family_status</th>\n",
       "      <th></th>\n",
       "      <th></th>\n",
       "    </tr>\n",
       "  </thead>\n",
       "  <tbody>\n",
       "    <tr>\n",
       "      <th>Не женат / не замужем</th>\n",
       "      <td>273</td>\n",
       "      <td>2796</td>\n",
       "    </tr>\n",
       "    <tr>\n",
       "      <th>в разводе</th>\n",
       "      <td>84</td>\n",
       "      <td>1189</td>\n",
       "    </tr>\n",
       "    <tr>\n",
       "      <th>вдовец / вдова</th>\n",
       "      <td>63</td>\n",
       "      <td>951</td>\n",
       "    </tr>\n",
       "    <tr>\n",
       "      <th>гражданский брак</th>\n",
       "      <td>385</td>\n",
       "      <td>4134</td>\n",
       "    </tr>\n",
       "    <tr>\n",
       "      <th>женат / замужем</th>\n",
       "      <td>927</td>\n",
       "      <td>12261</td>\n",
       "    </tr>\n",
       "  </tbody>\n",
       "</table>\n",
       "</div>"
      ],
      "text/plain": [
       "                       debt  family_status\n",
       "family_status                             \n",
       "Не женат / не замужем   273           2796\n",
       "в разводе                84           1189\n",
       "вдовец / вдова           63            951\n",
       "гражданский брак        385           4134\n",
       "женат / замужем         927          12261"
      ]
     },
     "metadata": {},
     "output_type": "display_data"
    }
   ],
   "source": [
    "family_status_connection = data.groupby('family_status').agg({\n",
    "    'debt':\n",
    "    'sum',\n",
    "    'family_status':\n",
    "    'count'\n",
    "})\n",
    "display(family_status_connection)"
   ]
  },
  {
   "cell_type": "code",
   "execution_count": 28,
   "id": "5f6c08b9",
   "metadata": {
    "ExecuteTime": {
     "end_time": "2023-10-28T00:53:47.603044Z",
     "start_time": "2023-10-28T00:53:47.589098Z"
    }
   },
   "outputs": [
    {
     "data": {
      "text/html": [
       "<div>\n",
       "<style scoped>\n",
       "    .dataframe tbody tr th:only-of-type {\n",
       "        vertical-align: middle;\n",
       "    }\n",
       "\n",
       "    .dataframe tbody tr th {\n",
       "        vertical-align: top;\n",
       "    }\n",
       "\n",
       "    .dataframe thead th {\n",
       "        text-align: right;\n",
       "    }\n",
       "</style>\n",
       "<table border=\"1\" class=\"dataframe\">\n",
       "  <thead>\n",
       "    <tr style=\"text-align: right;\">\n",
       "      <th></th>\n",
       "      <th>debt</th>\n",
       "      <th>family_status</th>\n",
       "      <th>debt_persent</th>\n",
       "    </tr>\n",
       "    <tr>\n",
       "      <th>family_status</th>\n",
       "      <th></th>\n",
       "      <th></th>\n",
       "      <th></th>\n",
       "    </tr>\n",
       "  </thead>\n",
       "  <tbody>\n",
       "    <tr>\n",
       "      <th>Не женат / не замужем</th>\n",
       "      <td>273</td>\n",
       "      <td>2796</td>\n",
       "      <td>9.763948</td>\n",
       "    </tr>\n",
       "    <tr>\n",
       "      <th>в разводе</th>\n",
       "      <td>84</td>\n",
       "      <td>1189</td>\n",
       "      <td>7.064760</td>\n",
       "    </tr>\n",
       "    <tr>\n",
       "      <th>вдовец / вдова</th>\n",
       "      <td>63</td>\n",
       "      <td>951</td>\n",
       "      <td>6.624606</td>\n",
       "    </tr>\n",
       "    <tr>\n",
       "      <th>гражданский брак</th>\n",
       "      <td>385</td>\n",
       "      <td>4134</td>\n",
       "      <td>9.313014</td>\n",
       "    </tr>\n",
       "    <tr>\n",
       "      <th>женат / замужем</th>\n",
       "      <td>927</td>\n",
       "      <td>12261</td>\n",
       "      <td>7.560558</td>\n",
       "    </tr>\n",
       "  </tbody>\n",
       "</table>\n",
       "</div>"
      ],
      "text/plain": [
       "                       debt  family_status  debt_persent\n",
       "family_status                                           \n",
       "Не женат / не замужем   273           2796      9.763948\n",
       "в разводе                84           1189      7.064760\n",
       "вдовец / вдова           63            951      6.624606\n",
       "гражданский брак        385           4134      9.313014\n",
       "женат / замужем         927          12261      7.560558"
      ]
     },
     "metadata": {},
     "output_type": "display_data"
    }
   ],
   "source": [
    "family_status_connection['debt_persent'] = family_status_connection[\n",
    "    'debt'] / family_status_connection['family_status'] * 100\n",
    "display(family_status_connection)"
   ]
  },
  {
   "cell_type": "code",
   "execution_count": 29,
   "id": "cf71d856",
   "metadata": {
    "ExecuteTime": {
     "end_time": "2023-10-28T00:53:49.331971Z",
     "start_time": "2023-10-28T00:53:49.315161Z"
    }
   },
   "outputs": [
    {
     "data": {
      "text/html": [
       "<div>\n",
       "<style scoped>\n",
       "    .dataframe tbody tr th:only-of-type {\n",
       "        vertical-align: middle;\n",
       "    }\n",
       "\n",
       "    .dataframe tbody tr th {\n",
       "        vertical-align: top;\n",
       "    }\n",
       "\n",
       "    .dataframe thead th {\n",
       "        text-align: right;\n",
       "    }\n",
       "</style>\n",
       "<table border=\"1\" class=\"dataframe\">\n",
       "  <thead>\n",
       "    <tr style=\"text-align: right;\">\n",
       "      <th></th>\n",
       "      <th>debt</th>\n",
       "      <th>family_status</th>\n",
       "      <th>debt_persent</th>\n",
       "    </tr>\n",
       "    <tr>\n",
       "      <th>family_status</th>\n",
       "      <th></th>\n",
       "      <th></th>\n",
       "      <th></th>\n",
       "    </tr>\n",
       "  </thead>\n",
       "  <tbody>\n",
       "    <tr>\n",
       "      <th>Не женат / не замужем</th>\n",
       "      <td>273</td>\n",
       "      <td>2796</td>\n",
       "      <td>9.763948</td>\n",
       "    </tr>\n",
       "    <tr>\n",
       "      <th>гражданский брак</th>\n",
       "      <td>385</td>\n",
       "      <td>4134</td>\n",
       "      <td>9.313014</td>\n",
       "    </tr>\n",
       "    <tr>\n",
       "      <th>женат / замужем</th>\n",
       "      <td>927</td>\n",
       "      <td>12261</td>\n",
       "      <td>7.560558</td>\n",
       "    </tr>\n",
       "    <tr>\n",
       "      <th>в разводе</th>\n",
       "      <td>84</td>\n",
       "      <td>1189</td>\n",
       "      <td>7.064760</td>\n",
       "    </tr>\n",
       "    <tr>\n",
       "      <th>вдовец / вдова</th>\n",
       "      <td>63</td>\n",
       "      <td>951</td>\n",
       "      <td>6.624606</td>\n",
       "    </tr>\n",
       "  </tbody>\n",
       "</table>\n",
       "</div>"
      ],
      "text/plain": [
       "                       debt  family_status  debt_persent\n",
       "family_status                                           \n",
       "Не женат / не замужем   273           2796      9.763948\n",
       "гражданский брак        385           4134      9.313014\n",
       "женат / замужем         927          12261      7.560558\n",
       "в разводе                84           1189      7.064760\n",
       "вдовец / вдова           63            951      6.624606"
      ]
     },
     "metadata": {},
     "output_type": "display_data"
    }
   ],
   "source": [
    "display(\n",
    "    family_status_connection.sort_values(by='debt_persent', ascending=False))\n",
    "#сортировка по убыванию процента невозврата кредита в срок"
   ]
  },
  {
   "cell_type": "markdown",
   "id": "89d7c5d5",
   "metadata": {
    "id": "1cef7837"
   },
   "source": [
    "**Вывод:** \n",
    "\n",
    "- У официально **не семейных** людей процент **невозврата** выше"
   ]
  },
  {
   "cell_type": "markdown",
   "id": "5aabbba7",
   "metadata": {
    "id": "1e8b2fca"
   },
   "source": [
    "####  Есть ли зависимость между уровнем дохода и возвратом кредита в срок?"
   ]
  },
  {
   "cell_type": "code",
   "execution_count": 30,
   "id": "ddeee4c3",
   "metadata": {
    "ExecuteTime": {
     "end_time": "2023-10-28T00:55:56.420512Z",
     "start_time": "2023-10-28T00:55:56.407556Z"
    }
   },
   "outputs": [
    {
     "data": {
      "text/html": [
       "<div>\n",
       "<style scoped>\n",
       "    .dataframe tbody tr th:only-of-type {\n",
       "        vertical-align: middle;\n",
       "    }\n",
       "\n",
       "    .dataframe tbody tr th {\n",
       "        vertical-align: top;\n",
       "    }\n",
       "\n",
       "    .dataframe thead th {\n",
       "        text-align: right;\n",
       "    }\n",
       "</style>\n",
       "<table border=\"1\" class=\"dataframe\">\n",
       "  <thead>\n",
       "    <tr style=\"text-align: right;\">\n",
       "      <th></th>\n",
       "      <th>debt</th>\n",
       "      <th>total_income</th>\n",
       "    </tr>\n",
       "    <tr>\n",
       "      <th>total_income_category</th>\n",
       "      <th></th>\n",
       "      <th></th>\n",
       "    </tr>\n",
       "  </thead>\n",
       "  <tbody>\n",
       "    <tr>\n",
       "      <th>A</th>\n",
       "      <td>2</td>\n",
       "      <td>25</td>\n",
       "    </tr>\n",
       "    <tr>\n",
       "      <th>B</th>\n",
       "      <td>354</td>\n",
       "      <td>5014</td>\n",
       "    </tr>\n",
       "    <tr>\n",
       "      <th>C</th>\n",
       "      <td>1353</td>\n",
       "      <td>15921</td>\n",
       "    </tr>\n",
       "    <tr>\n",
       "      <th>D</th>\n",
       "      <td>21</td>\n",
       "      <td>349</td>\n",
       "    </tr>\n",
       "    <tr>\n",
       "      <th>E</th>\n",
       "      <td>2</td>\n",
       "      <td>22</td>\n",
       "    </tr>\n",
       "  </tbody>\n",
       "</table>\n",
       "</div>"
      ],
      "text/plain": [
       "                       debt  total_income\n",
       "total_income_category                    \n",
       "A                         2            25\n",
       "B                       354          5014\n",
       "C                      1353         15921\n",
       "D                        21           349\n",
       "E                         2            22"
      ]
     },
     "metadata": {},
     "output_type": "display_data"
    }
   ],
   "source": [
    "total_income_grouped = data.groupby('total_income_category').agg({\n",
    "    'debt':\n",
    "    'sum',\n",
    "    'total_income':\n",
    "    'count'\n",
    "})\n",
    "display(total_income_grouped)"
   ]
  },
  {
   "cell_type": "code",
   "execution_count": 33,
   "id": "dee921df",
   "metadata": {
    "ExecuteTime": {
     "end_time": "2023-10-28T01:02:52.086146Z",
     "start_time": "2023-10-28T01:02:52.076107Z"
    }
   },
   "outputs": [
    {
     "data": {
      "text/html": [
       "<div>\n",
       "<style scoped>\n",
       "    .dataframe tbody tr th:only-of-type {\n",
       "        vertical-align: middle;\n",
       "    }\n",
       "\n",
       "    .dataframe tbody tr th {\n",
       "        vertical-align: top;\n",
       "    }\n",
       "\n",
       "    .dataframe thead th {\n",
       "        text-align: right;\n",
       "    }\n",
       "</style>\n",
       "<table border=\"1\" class=\"dataframe\">\n",
       "  <thead>\n",
       "    <tr style=\"text-align: right;\">\n",
       "      <th></th>\n",
       "      <th>debt</th>\n",
       "      <th>total_income</th>\n",
       "      <th>debt_persent</th>\n",
       "    </tr>\n",
       "    <tr>\n",
       "      <th>total_income_category</th>\n",
       "      <th></th>\n",
       "      <th></th>\n",
       "      <th></th>\n",
       "    </tr>\n",
       "  </thead>\n",
       "  <tbody>\n",
       "    <tr>\n",
       "      <th>E</th>\n",
       "      <td>2</td>\n",
       "      <td>22</td>\n",
       "      <td>9.090909</td>\n",
       "    </tr>\n",
       "    <tr>\n",
       "      <th>C</th>\n",
       "      <td>1353</td>\n",
       "      <td>15921</td>\n",
       "      <td>8.498210</td>\n",
       "    </tr>\n",
       "    <tr>\n",
       "      <th>A</th>\n",
       "      <td>2</td>\n",
       "      <td>25</td>\n",
       "      <td>8.000000</td>\n",
       "    </tr>\n",
       "    <tr>\n",
       "      <th>B</th>\n",
       "      <td>354</td>\n",
       "      <td>5014</td>\n",
       "      <td>7.060231</td>\n",
       "    </tr>\n",
       "    <tr>\n",
       "      <th>D</th>\n",
       "      <td>21</td>\n",
       "      <td>349</td>\n",
       "      <td>6.017192</td>\n",
       "    </tr>\n",
       "  </tbody>\n",
       "</table>\n",
       "</div>"
      ],
      "text/plain": [
       "                       debt  total_income  debt_persent\n",
       "total_income_category                                  \n",
       "E                         2            22      9.090909\n",
       "C                      1353         15921      8.498210\n",
       "A                         2            25      8.000000\n",
       "B                       354          5014      7.060231\n",
       "D                        21           349      6.017192"
      ]
     },
     "metadata": {},
     "output_type": "display_data"
    }
   ],
   "source": [
    "total_income_grouped['debt_persent'] = total_income_grouped[\n",
    "    'debt'] / total_income_grouped['total_income'] * 100\n",
    "display(total_income_grouped.sort_values(by='debt_persent', ascending=False))"
   ]
  },
  {
   "cell_type": "markdown",
   "id": "e2959a3d",
   "metadata": {
    "id": "e8593def"
   },
   "source": [
    "**Вывод :** \n",
    "\n",
    "- Процент невозврата приблизительно одинаков у категорий Е и С, хотя категория E очень малочислена. Возможно банку следует обратить внимание и на эту группу заемщиков и повысить их количество(что возможно увеличит популярность банка среди населения).\n",
    "\n",
    "- Также малочисленной группой заемщиков является группа D, но у них самый низкий процент задолженности.\n",
    "\n",
    "\n"
   ]
  },
  {
   "cell_type": "markdown",
   "id": "a0109913",
   "metadata": {
    "id": "99ecbd1f"
   },
   "source": [
    "#### Как разные цели кредита влияют на его возврат в срок?"
   ]
  },
  {
   "cell_type": "code",
   "execution_count": 34,
   "id": "7d485ebe",
   "metadata": {
    "ExecuteTime": {
     "end_time": "2023-10-28T01:03:35.894899Z",
     "start_time": "2023-10-28T01:03:35.869240Z"
    },
    "id": "2b687290"
   },
   "outputs": [
    {
     "data": {
      "text/html": [
       "<div>\n",
       "<style scoped>\n",
       "    .dataframe tbody tr th:only-of-type {\n",
       "        vertical-align: middle;\n",
       "    }\n",
       "\n",
       "    .dataframe tbody tr th {\n",
       "        vertical-align: top;\n",
       "    }\n",
       "\n",
       "    .dataframe thead th {\n",
       "        text-align: right;\n",
       "    }\n",
       "</style>\n",
       "<table border=\"1\" class=\"dataframe\">\n",
       "  <thead>\n",
       "    <tr style=\"text-align: right;\">\n",
       "      <th></th>\n",
       "      <th>debt</th>\n",
       "      <th>purpose_category</th>\n",
       "      <th>debt_persent</th>\n",
       "    </tr>\n",
       "    <tr>\n",
       "      <th>purpose_category</th>\n",
       "      <th></th>\n",
       "      <th></th>\n",
       "      <th></th>\n",
       "    </tr>\n",
       "  </thead>\n",
       "  <tbody>\n",
       "    <tr>\n",
       "      <th>операции с автомобилем</th>\n",
       "      <td>400</td>\n",
       "      <td>4279</td>\n",
       "      <td>9.347978</td>\n",
       "    </tr>\n",
       "    <tr>\n",
       "      <th>получение образования</th>\n",
       "      <td>369</td>\n",
       "      <td>3988</td>\n",
       "      <td>9.252758</td>\n",
       "    </tr>\n",
       "    <tr>\n",
       "      <th>проведение свадьбы</th>\n",
       "      <td>183</td>\n",
       "      <td>2313</td>\n",
       "      <td>7.911803</td>\n",
       "    </tr>\n",
       "    <tr>\n",
       "      <th>операции с недвижимостью</th>\n",
       "      <td>780</td>\n",
       "      <td>10751</td>\n",
       "      <td>7.255139</td>\n",
       "    </tr>\n",
       "  </tbody>\n",
       "</table>\n",
       "</div>"
      ],
      "text/plain": [
       "                          debt  purpose_category  debt_persent\n",
       "purpose_category                                              \n",
       "операции с автомобилем     400              4279      9.347978\n",
       "получение образования      369              3988      9.252758\n",
       "проведение свадьбы         183              2313      7.911803\n",
       "операции с недвижимостью   780             10751      7.255139"
      ]
     },
     "metadata": {},
     "output_type": "display_data"
    }
   ],
   "source": [
    "purpose_grouped = data.groupby('purpose_category').agg({\n",
    "    'debt':\n",
    "    'sum',\n",
    "    'purpose_category':\n",
    "    'count'\n",
    "})\n",
    "purpose_grouped['debt_persent'] = purpose_grouped['debt'] / purpose_grouped[\n",
    "    'purpose_category'] * 100\n",
    "display(purpose_grouped.sort_values(by='debt_persent', ascending=False))"
   ]
  },
  {
   "cell_type": "markdown",
   "id": "38d06127",
   "metadata": {
    "id": "b4bb2ce6"
   },
   "source": [
    "**Вывод:** \n",
    "\n",
    "- Самый большой процент невозврата кредита при операциях с автомобилем.\n",
    "- Самый маленький процент невозврата кредита при операциях с недвижимостью.\n",
    "- Рисковой категорией по возврату кредита наряду с автомобилями является категория получения образования.\n"
   ]
  },
  {
   "cell_type": "markdown",
   "id": "6a791e15",
   "metadata": {
    "id": "09c3ac4c"
   },
   "source": [
    "####  Приведите возможные причины появления пропусков в исходных данных."
   ]
  },
  {
   "cell_type": "markdown",
   "id": "0767bf28",
   "metadata": {
    "id": "9da2ceda"
   },
   "source": [
    "*Ответ:* \n",
    "\n",
    "Пропуски в исходных данных появляются по нескольким причинам:\n",
    "+ Пользователь намеренно не указывает каких-либо данных о себе.\n",
    "+ Система дает cбой при чтении файла с данными.\n",
    "+ Пропуски оставляют намеренно, чтобы после заполнить их какими либо спецсимволами автоматически.\n"
   ]
  },
  {
   "cell_type": "markdown",
   "id": "65e3c28e",
   "metadata": {
    "id": "7b0487d6"
   },
   "source": [
    "#### Объясните, почему заполнить пропуски медианным значением — лучшее решение для количественных переменных."
   ]
  },
  {
   "cell_type": "markdown",
   "id": "e23eb5b9",
   "metadata": {
    "id": "7ecf2b8e"
   },
   "source": [
    "*Ответ:* \n",
    "```\n",
    "Заполнять пропуски медианным значением в количественных переменных - лучший вариант, т.к на значение медианы \n",
    "не влияют выдающиеся числовые значения, если они присутствуют в выборке.\n",
    "```"
   ]
  },
  {
   "cell_type": "markdown",
   "id": "dc62f453",
   "metadata": {
    "id": "6db5255a"
   },
   "source": [
    "## Общий вывод"
   ]
  },
  {
   "cell_type": "markdown",
   "id": "830fbe8a",
   "metadata": {
    "id": "bad65432"
   },
   "source": [
    "**В процессе исследования и обработки данных от кредитного отдела банка было установлено, что:**\n",
    "\n",
    "\n",
    "+ **Процент невозврата кредита повышается с увеличением количества детей.**\n",
    "+ **У официально не семейных людей выше процент невозврата кредита в срок.**\n",
    "\n",
    "+ **Процент возвращения кредита в срок следует рассматривать с учетом количества заемщиков в каждой группе. Например для адекватной оценки процента возврата кредита по группам Е (доход <30 тыс.руб.) и А(доход > 1млн.руб.) в них слишком мало людей. Банку следует обратить внимание на группу E,т.к процент невозврата кредита у нее близок к проценту невозврата кредита у самой многочисленной группы С(доход 50-200 тыс.руб.). Возможно, если увеличить количество заемщиков в этой группе, которым банк будет выдавать кредит, увеличиться доход банка и популярность среди населения.**\n",
    "\n",
    "+ **Самый большой процент невозврата кредита при операциях с автомобилем и он сравним с показателем в группе кредитов на образование, а самый маленький - при операциях с недвижимостью.**\n"
   ]
  }
 ],
 "metadata": {
  "ExecuteTimeLog": [
   {
    "duration": 557,
    "start_time": "2022-10-29T10:25:29.474Z"
   },
   {
    "duration": 24,
    "start_time": "2022-10-29T10:25:30.033Z"
   },
   {
    "duration": 21,
    "start_time": "2022-10-29T10:25:30.059Z"
   },
   {
    "duration": 13,
    "start_time": "2022-10-29T10:25:30.082Z"
   },
   {
    "duration": 34,
    "start_time": "2022-10-29T10:25:30.098Z"
   },
   {
    "duration": 4,
    "start_time": "2022-10-29T10:25:30.133Z"
   },
   {
    "duration": 16,
    "start_time": "2022-10-29T10:25:30.138Z"
   },
   {
    "duration": 4,
    "start_time": "2022-10-29T10:25:30.156Z"
   },
   {
    "duration": 30,
    "start_time": "2022-10-29T10:25:30.161Z"
   },
   {
    "duration": 5,
    "start_time": "2022-10-29T10:25:30.193Z"
   },
   {
    "duration": 44,
    "start_time": "2022-10-29T10:25:30.199Z"
   },
   {
    "duration": 10,
    "start_time": "2022-10-29T10:25:30.245Z"
   },
   {
    "duration": 4,
    "start_time": "2022-10-29T10:25:30.257Z"
   },
   {
    "duration": 29,
    "start_time": "2022-10-29T10:25:30.263Z"
   },
   {
    "duration": 33,
    "start_time": "2022-10-29T10:25:30.294Z"
   },
   {
    "duration": 18,
    "start_time": "2022-10-29T10:25:30.329Z"
   },
   {
    "duration": 4,
    "start_time": "2022-10-29T10:25:30.349Z"
   },
   {
    "duration": 24,
    "start_time": "2022-10-29T10:25:30.355Z"
   },
   {
    "duration": 24,
    "start_time": "2022-10-29T10:25:30.380Z"
   },
   {
    "duration": 11,
    "start_time": "2022-10-29T10:25:30.405Z"
   },
   {
    "duration": 27,
    "start_time": "2022-10-29T10:25:30.418Z"
   },
   {
    "duration": 16,
    "start_time": "2022-10-29T10:25:30.447Z"
   },
   {
    "duration": 16,
    "start_time": "2022-10-29T10:25:30.465Z"
   },
   {
    "duration": 17,
    "start_time": "2022-10-29T10:25:30.482Z"
   },
   {
    "duration": 11,
    "start_time": "2022-10-29T10:25:30.501Z"
   },
   {
    "duration": 9,
    "start_time": "2022-10-29T10:27:51.080Z"
   },
   {
    "duration": 3,
    "start_time": "2022-10-29T10:27:53.091Z"
   },
   {
    "duration": 8,
    "start_time": "2022-10-29T10:27:56.031Z"
   },
   {
    "duration": 9,
    "start_time": "2022-10-29T10:32:06.466Z"
   },
   {
    "duration": 9,
    "start_time": "2022-10-29T10:32:34.878Z"
   },
   {
    "duration": 9,
    "start_time": "2022-10-29T10:32:59.221Z"
   },
   {
    "duration": 72,
    "start_time": "2022-10-29T10:33:31.309Z"
   },
   {
    "duration": 16,
    "start_time": "2022-10-29T10:33:31.383Z"
   },
   {
    "duration": 15,
    "start_time": "2022-10-29T10:33:31.401Z"
   },
   {
    "duration": 13,
    "start_time": "2022-10-29T10:33:31.419Z"
   },
   {
    "duration": 33,
    "start_time": "2022-10-29T10:33:31.433Z"
   },
   {
    "duration": 3,
    "start_time": "2022-10-29T10:33:31.468Z"
   },
   {
    "duration": 28,
    "start_time": "2022-10-29T10:33:31.473Z"
   },
   {
    "duration": 9,
    "start_time": "2022-10-29T10:33:31.503Z"
   },
   {
    "duration": 5,
    "start_time": "2022-10-29T10:33:31.513Z"
   },
   {
    "duration": 4,
    "start_time": "2022-10-29T10:33:31.521Z"
   },
   {
    "duration": 44,
    "start_time": "2022-10-29T10:33:31.526Z"
   },
   {
    "duration": 26,
    "start_time": "2022-10-29T10:33:31.572Z"
   },
   {
    "duration": 4,
    "start_time": "2022-10-29T10:33:31.600Z"
   },
   {
    "duration": 16,
    "start_time": "2022-10-29T10:33:31.606Z"
   },
   {
    "duration": 20,
    "start_time": "2022-10-29T10:33:31.624Z"
   },
   {
    "duration": 47,
    "start_time": "2022-10-29T10:33:31.645Z"
   },
   {
    "duration": 5,
    "start_time": "2022-10-29T10:33:31.694Z"
   },
   {
    "duration": 11,
    "start_time": "2022-10-29T10:33:31.701Z"
   },
   {
    "duration": 7,
    "start_time": "2022-10-29T10:33:31.713Z"
   },
   {
    "duration": 5,
    "start_time": "2022-10-29T10:33:31.722Z"
   },
   {
    "duration": 13,
    "start_time": "2022-10-29T10:33:31.728Z"
   },
   {
    "duration": 10,
    "start_time": "2022-10-29T10:33:31.742Z"
   },
   {
    "duration": 38,
    "start_time": "2022-10-29T10:33:31.754Z"
   },
   {
    "duration": 7,
    "start_time": "2022-10-29T10:33:31.794Z"
   },
   {
    "duration": 3,
    "start_time": "2022-10-29T10:33:31.803Z"
   },
   {
    "duration": 4,
    "start_time": "2022-10-29T10:33:50.441Z"
   },
   {
    "duration": 5,
    "start_time": "2022-10-29T10:34:07.775Z"
   },
   {
    "duration": 5,
    "start_time": "2022-10-29T10:34:13.849Z"
   },
   {
    "duration": 1315,
    "start_time": "2022-10-29T10:36:35.240Z"
   },
   {
    "duration": 1411,
    "start_time": "2022-10-29T10:36:37.236Z"
   },
   {
    "duration": 1312,
    "start_time": "2022-10-29T10:36:40.895Z"
   },
   {
    "duration": 17,
    "start_time": "2022-10-29T10:37:01.541Z"
   },
   {
    "duration": 5,
    "start_time": "2022-10-29T10:38:49.874Z"
   },
   {
    "duration": 86,
    "start_time": "2022-10-29T10:59:50.691Z"
   },
   {
    "duration": 78,
    "start_time": "2022-10-29T11:00:13.715Z"
   },
   {
    "duration": 83,
    "start_time": "2022-10-29T11:00:54.247Z"
   },
   {
    "duration": 47,
    "start_time": "2022-10-29T16:24:47.202Z"
   },
   {
    "duration": 6,
    "start_time": "2022-10-29T16:24:50.905Z"
   },
   {
    "duration": 761,
    "start_time": "2022-10-29T16:24:56.341Z"
   },
   {
    "duration": 22,
    "start_time": "2022-10-29T16:24:57.104Z"
   },
   {
    "duration": 16,
    "start_time": "2022-10-29T16:24:57.127Z"
   },
   {
    "duration": 10,
    "start_time": "2022-10-29T16:24:57.145Z"
   },
   {
    "duration": 35,
    "start_time": "2022-10-29T16:24:57.157Z"
   },
   {
    "duration": 4,
    "start_time": "2022-10-29T16:24:57.194Z"
   },
   {
    "duration": 10,
    "start_time": "2022-10-29T16:24:57.200Z"
   },
   {
    "duration": 4,
    "start_time": "2022-10-29T16:24:57.233Z"
   },
   {
    "duration": 11,
    "start_time": "2022-10-29T16:24:57.239Z"
   },
   {
    "duration": 4,
    "start_time": "2022-10-29T16:24:57.252Z"
   },
   {
    "duration": 40,
    "start_time": "2022-10-29T16:24:57.258Z"
   },
   {
    "duration": 35,
    "start_time": "2022-10-29T16:24:57.299Z"
   },
   {
    "duration": 4,
    "start_time": "2022-10-29T16:24:57.336Z"
   },
   {
    "duration": 15,
    "start_time": "2022-10-29T16:24:57.341Z"
   },
   {
    "duration": 22,
    "start_time": "2022-10-29T16:24:57.358Z"
   },
   {
    "duration": 16,
    "start_time": "2022-10-29T16:24:57.382Z"
   },
   {
    "duration": 4,
    "start_time": "2022-10-29T16:24:57.400Z"
   },
   {
    "duration": 31,
    "start_time": "2022-10-29T16:24:57.406Z"
   },
   {
    "duration": 9,
    "start_time": "2022-10-29T16:24:57.439Z"
   },
   {
    "duration": 6,
    "start_time": "2022-10-29T16:24:57.449Z"
   },
   {
    "duration": 14,
    "start_time": "2022-10-29T16:24:57.456Z"
   },
   {
    "duration": 8,
    "start_time": "2022-10-29T16:24:57.472Z"
   },
   {
    "duration": 4,
    "start_time": "2022-10-29T16:24:57.482Z"
   },
   {
    "duration": 4,
    "start_time": "2022-10-29T16:24:57.488Z"
   },
   {
    "duration": 9,
    "start_time": "2022-10-29T16:24:57.494Z"
   },
   {
    "duration": 5,
    "start_time": "2022-10-29T16:26:41.446Z"
   },
   {
    "duration": 6,
    "start_time": "2022-10-29T16:37:08.191Z"
   },
   {
    "duration": 5,
    "start_time": "2022-10-29T16:38:53.811Z"
   },
   {
    "duration": 5,
    "start_time": "2022-10-29T17:42:41.916Z"
   },
   {
    "duration": 3,
    "start_time": "2022-10-29T18:24:26.658Z"
   },
   {
    "duration": 3,
    "start_time": "2022-10-29T18:24:29.275Z"
   },
   {
    "duration": 5,
    "start_time": "2022-10-29T18:25:14.367Z"
   },
   {
    "duration": 5,
    "start_time": "2022-10-29T18:25:18.315Z"
   },
   {
    "duration": 93,
    "start_time": "2022-10-29T18:25:20.029Z"
   },
   {
    "duration": 15,
    "start_time": "2022-10-29T18:25:20.124Z"
   },
   {
    "duration": 21,
    "start_time": "2022-10-29T18:25:20.141Z"
   },
   {
    "duration": 12,
    "start_time": "2022-10-29T18:25:20.166Z"
   },
   {
    "duration": 36,
    "start_time": "2022-10-29T18:25:20.180Z"
   },
   {
    "duration": 16,
    "start_time": "2022-10-29T18:25:20.218Z"
   },
   {
    "duration": 12,
    "start_time": "2022-10-29T18:25:20.236Z"
   },
   {
    "duration": 8,
    "start_time": "2022-10-29T18:25:20.250Z"
   },
   {
    "duration": 7,
    "start_time": "2022-10-29T18:25:20.260Z"
   },
   {
    "duration": 5,
    "start_time": "2022-10-29T18:25:20.269Z"
   },
   {
    "duration": 59,
    "start_time": "2022-10-29T18:25:20.276Z"
   },
   {
    "duration": 10,
    "start_time": "2022-10-29T18:25:20.337Z"
   },
   {
    "duration": 5,
    "start_time": "2022-10-29T18:25:20.348Z"
   },
   {
    "duration": 13,
    "start_time": "2022-10-29T18:25:20.354Z"
   },
   {
    "duration": 20,
    "start_time": "2022-10-29T18:25:20.369Z"
   },
   {
    "duration": 55,
    "start_time": "2022-10-29T18:25:20.390Z"
   },
   {
    "duration": 4,
    "start_time": "2022-10-29T18:25:20.446Z"
   },
   {
    "duration": 15,
    "start_time": "2022-10-29T18:25:20.452Z"
   },
   {
    "duration": 6,
    "start_time": "2022-10-29T18:25:20.469Z"
   },
   {
    "duration": 7,
    "start_time": "2022-10-29T18:25:20.477Z"
   },
   {
    "duration": 15,
    "start_time": "2022-10-29T18:25:20.486Z"
   },
   {
    "duration": 6,
    "start_time": "2022-10-29T18:25:20.503Z"
   },
   {
    "duration": 3,
    "start_time": "2022-10-29T18:25:20.534Z"
   },
   {
    "duration": 6,
    "start_time": "2022-10-29T18:25:20.539Z"
   },
   {
    "duration": 25,
    "start_time": "2022-10-29T18:25:20.547Z"
   },
   {
    "duration": 4,
    "start_time": "2022-10-29T18:25:36.804Z"
   },
   {
    "duration": 10,
    "start_time": "2022-10-29T18:28:21.753Z"
   },
   {
    "duration": 532,
    "start_time": "2022-10-29T18:55:19.064Z"
   },
   {
    "duration": 543,
    "start_time": "2022-10-29T18:56:40.878Z"
   },
   {
    "duration": 626,
    "start_time": "2022-10-29T18:57:29.980Z"
   },
   {
    "duration": 509,
    "start_time": "2022-10-29T18:57:46.064Z"
   },
   {
    "duration": 474,
    "start_time": "2022-10-29T18:58:11.470Z"
   },
   {
    "duration": 11,
    "start_time": "2022-10-29T19:03:37.406Z"
   },
   {
    "duration": 15,
    "start_time": "2022-10-29T19:04:26.140Z"
   },
   {
    "duration": 15,
    "start_time": "2022-10-29T19:04:46.805Z"
   },
   {
    "duration": 17,
    "start_time": "2022-10-29T19:06:14.672Z"
   },
   {
    "duration": 13,
    "start_time": "2022-10-29T19:06:34.684Z"
   },
   {
    "duration": 45,
    "start_time": "2022-10-30T11:30:51.906Z"
   },
   {
    "duration": 9,
    "start_time": "2022-10-30T11:30:54.866Z"
   },
   {
    "duration": 480,
    "start_time": "2022-10-30T11:30:58.851Z"
   },
   {
    "duration": 22,
    "start_time": "2022-10-30T11:30:59.333Z"
   },
   {
    "duration": 14,
    "start_time": "2022-10-30T11:30:59.357Z"
   },
   {
    "duration": 13,
    "start_time": "2022-10-30T11:30:59.372Z"
   },
   {
    "duration": 40,
    "start_time": "2022-10-30T11:30:59.387Z"
   },
   {
    "duration": 3,
    "start_time": "2022-10-30T11:30:59.428Z"
   },
   {
    "duration": 10,
    "start_time": "2022-10-30T11:30:59.432Z"
   },
   {
    "duration": 4,
    "start_time": "2022-10-30T11:30:59.443Z"
   },
   {
    "duration": 8,
    "start_time": "2022-10-30T11:30:59.448Z"
   },
   {
    "duration": 3,
    "start_time": "2022-10-30T11:30:59.457Z"
   },
   {
    "duration": 29,
    "start_time": "2022-10-30T11:30:59.462Z"
   },
   {
    "duration": 34,
    "start_time": "2022-10-30T11:30:59.492Z"
   },
   {
    "duration": 6,
    "start_time": "2022-10-30T11:30:59.528Z"
   },
   {
    "duration": 14,
    "start_time": "2022-10-30T11:30:59.537Z"
   },
   {
    "duration": 17,
    "start_time": "2022-10-30T11:30:59.552Z"
   },
   {
    "duration": 13,
    "start_time": "2022-10-30T11:30:59.571Z"
   },
   {
    "duration": 3,
    "start_time": "2022-10-30T11:30:59.586Z"
   },
   {
    "duration": 37,
    "start_time": "2022-10-30T11:30:59.591Z"
   },
   {
    "duration": 5,
    "start_time": "2022-10-30T11:30:59.630Z"
   },
   {
    "duration": 4,
    "start_time": "2022-10-30T11:30:59.637Z"
   },
   {
    "duration": 12,
    "start_time": "2022-10-30T11:30:59.642Z"
   },
   {
    "duration": 7,
    "start_time": "2022-10-30T11:30:59.655Z"
   },
   {
    "duration": 3,
    "start_time": "2022-10-30T11:30:59.663Z"
   },
   {
    "duration": 5,
    "start_time": "2022-10-30T11:30:59.667Z"
   },
   {
    "duration": 6,
    "start_time": "2022-10-30T11:30:59.674Z"
   },
   {
    "duration": 7,
    "start_time": "2022-10-30T11:31:03.430Z"
   },
   {
    "duration": 7,
    "start_time": "2022-10-30T11:31:05.518Z"
   },
   {
    "duration": 8,
    "start_time": "2022-10-30T11:31:21.969Z"
   },
   {
    "duration": 691,
    "start_time": "2022-10-30T15:29:50.154Z"
   },
   {
    "duration": 22,
    "start_time": "2022-10-30T15:29:50.847Z"
   },
   {
    "duration": 14,
    "start_time": "2022-10-30T15:29:50.870Z"
   },
   {
    "duration": 13,
    "start_time": "2022-10-30T15:29:50.885Z"
   },
   {
    "duration": 37,
    "start_time": "2022-10-30T15:29:50.899Z"
   },
   {
    "duration": 3,
    "start_time": "2022-10-30T15:29:50.938Z"
   },
   {
    "duration": 40,
    "start_time": "2022-10-30T15:29:50.942Z"
   },
   {
    "duration": 57,
    "start_time": "2022-10-30T15:29:50.983Z"
   },
   {
    "duration": 25,
    "start_time": "2022-10-30T15:29:51.042Z"
   },
   {
    "duration": 23,
    "start_time": "2022-10-30T15:29:51.068Z"
   },
   {
    "duration": 42,
    "start_time": "2022-10-30T15:29:51.093Z"
   },
   {
    "duration": 9,
    "start_time": "2022-10-30T15:29:51.136Z"
   },
   {
    "duration": 29,
    "start_time": "2022-10-30T15:29:51.146Z"
   },
   {
    "duration": 11,
    "start_time": "2022-10-30T15:29:51.178Z"
   },
   {
    "duration": 33,
    "start_time": "2022-10-30T15:29:51.191Z"
   },
   {
    "duration": 18,
    "start_time": "2022-10-30T15:29:51.226Z"
   },
   {
    "duration": 7,
    "start_time": "2022-10-30T15:29:51.245Z"
   },
   {
    "duration": 25,
    "start_time": "2022-10-30T15:29:51.253Z"
   },
   {
    "duration": 10,
    "start_time": "2022-10-30T15:29:51.280Z"
   },
   {
    "duration": 36,
    "start_time": "2022-10-30T15:29:51.291Z"
   },
   {
    "duration": 20,
    "start_time": "2022-10-30T15:29:51.329Z"
   },
   {
    "duration": 29,
    "start_time": "2022-10-30T15:29:51.350Z"
   },
   {
    "duration": 7,
    "start_time": "2022-10-30T15:29:51.381Z"
   },
   {
    "duration": 6,
    "start_time": "2022-10-30T15:29:51.389Z"
   },
   {
    "duration": 5,
    "start_time": "2022-10-30T15:29:51.397Z"
   },
   {
    "duration": 61,
    "start_time": "2022-10-30T15:34:51.399Z"
   },
   {
    "duration": 10,
    "start_time": "2022-10-30T15:34:54.432Z"
   },
   {
    "duration": 72,
    "start_time": "2022-10-30T15:34:58.388Z"
   },
   {
    "duration": 16,
    "start_time": "2022-10-30T15:34:58.462Z"
   },
   {
    "duration": 16,
    "start_time": "2022-10-30T15:34:58.480Z"
   },
   {
    "duration": 25,
    "start_time": "2022-10-30T15:34:58.499Z"
   },
   {
    "duration": 34,
    "start_time": "2022-10-30T15:34:58.526Z"
   },
   {
    "duration": 4,
    "start_time": "2022-10-30T15:34:58.561Z"
   },
   {
    "duration": 10,
    "start_time": "2022-10-30T15:34:58.567Z"
   },
   {
    "duration": 12,
    "start_time": "2022-10-30T15:34:58.578Z"
   },
   {
    "duration": 29,
    "start_time": "2022-10-30T15:34:58.592Z"
   },
   {
    "duration": 8,
    "start_time": "2022-10-30T15:34:58.623Z"
   },
   {
    "duration": 34,
    "start_time": "2022-10-30T15:34:58.633Z"
   },
   {
    "duration": 9,
    "start_time": "2022-10-30T15:34:58.669Z"
   },
   {
    "duration": 3,
    "start_time": "2022-10-30T15:34:58.680Z"
   },
   {
    "duration": 36,
    "start_time": "2022-10-30T15:34:58.685Z"
   },
   {
    "duration": 19,
    "start_time": "2022-10-30T15:34:58.723Z"
   },
   {
    "duration": 19,
    "start_time": "2022-10-30T15:34:58.744Z"
   },
   {
    "duration": 3,
    "start_time": "2022-10-30T15:34:58.765Z"
   },
   {
    "duration": 11,
    "start_time": "2022-10-30T15:34:58.770Z"
   },
   {
    "duration": 6,
    "start_time": "2022-10-30T15:34:58.783Z"
   },
   {
    "duration": 4,
    "start_time": "2022-10-30T15:34:58.820Z"
   },
   {
    "duration": 12,
    "start_time": "2022-10-30T15:34:58.825Z"
   },
   {
    "duration": 15,
    "start_time": "2022-10-30T15:34:58.839Z"
   },
   {
    "duration": 9,
    "start_time": "2022-10-30T15:34:58.856Z"
   },
   {
    "duration": 0,
    "start_time": "2022-10-30T15:34:58.867Z"
   },
   {
    "duration": 0,
    "start_time": "2022-10-30T15:34:58.869Z"
   },
   {
    "duration": 7,
    "start_time": "2022-10-30T15:35:06.864Z"
   },
   {
    "duration": 8,
    "start_time": "2022-10-30T15:36:00.824Z"
   },
   {
    "duration": 8,
    "start_time": "2022-10-30T15:36:44.701Z"
   },
   {
    "duration": 8,
    "start_time": "2022-10-30T15:36:47.502Z"
   },
   {
    "duration": 8,
    "start_time": "2022-10-30T15:36:54.628Z"
   },
   {
    "duration": 18,
    "start_time": "2022-10-30T15:53:49.514Z"
   },
   {
    "duration": 15,
    "start_time": "2022-10-30T15:54:01.468Z"
   },
   {
    "duration": 15,
    "start_time": "2022-10-30T15:54:03.460Z"
   },
   {
    "duration": 21,
    "start_time": "2022-10-30T15:55:17.106Z"
   },
   {
    "duration": 4,
    "start_time": "2022-10-30T15:57:27.204Z"
   },
   {
    "duration": 18,
    "start_time": "2022-10-30T15:59:19.611Z"
   },
   {
    "duration": 12,
    "start_time": "2022-10-30T16:08:38.243Z"
   },
   {
    "duration": 12,
    "start_time": "2022-10-30T16:09:53.804Z"
   },
   {
    "duration": 12,
    "start_time": "2022-10-30T16:10:12.778Z"
   },
   {
    "duration": 11,
    "start_time": "2022-10-30T16:12:45.629Z"
   },
   {
    "duration": 9,
    "start_time": "2022-10-30T16:15:40.941Z"
   },
   {
    "duration": 7,
    "start_time": "2022-10-30T16:18:16.493Z"
   },
   {
    "duration": 54,
    "start_time": "2022-10-30T16:18:42.710Z"
   },
   {
    "duration": 9,
    "start_time": "2022-10-30T16:23:44.867Z"
   },
   {
    "duration": 8,
    "start_time": "2022-10-30T16:24:20.804Z"
   },
   {
    "duration": 11,
    "start_time": "2022-10-30T16:24:23.250Z"
   },
   {
    "duration": 10,
    "start_time": "2022-10-30T16:24:52.965Z"
   },
   {
    "duration": 8,
    "start_time": "2022-10-30T16:24:57.442Z"
   },
   {
    "duration": 10,
    "start_time": "2022-10-30T16:26:47.822Z"
   },
   {
    "duration": 8,
    "start_time": "2022-10-30T16:27:08.465Z"
   },
   {
    "duration": 8,
    "start_time": "2022-10-30T16:27:26.009Z"
   },
   {
    "duration": 8,
    "start_time": "2022-10-30T16:27:34.154Z"
   },
   {
    "duration": 12,
    "start_time": "2022-10-30T16:28:36.702Z"
   },
   {
    "duration": 8,
    "start_time": "2022-10-30T16:28:38.692Z"
   },
   {
    "duration": 4,
    "start_time": "2022-10-30T16:35:32.858Z"
   },
   {
    "duration": 4,
    "start_time": "2022-10-30T16:47:50.294Z"
   },
   {
    "duration": 4,
    "start_time": "2022-10-30T16:48:01.216Z"
   },
   {
    "duration": 4,
    "start_time": "2022-10-30T16:48:08.215Z"
   },
   {
    "duration": 3,
    "start_time": "2022-10-30T16:48:19.226Z"
   },
   {
    "duration": 7,
    "start_time": "2022-10-30T16:48:25.488Z"
   },
   {
    "duration": 3,
    "start_time": "2022-10-30T17:01:18.955Z"
   },
   {
    "duration": 2,
    "start_time": "2022-10-30T17:01:20.905Z"
   },
   {
    "duration": 3,
    "start_time": "2022-10-30T17:01:34.233Z"
   },
   {
    "duration": 9,
    "start_time": "2022-10-30T19:33:31.644Z"
   },
   {
    "duration": 8,
    "start_time": "2022-10-30T19:33:59.034Z"
   },
   {
    "duration": 17,
    "start_time": "2022-10-30T19:35:46.198Z"
   },
   {
    "duration": 20,
    "start_time": "2022-10-30T19:44:40.667Z"
   },
   {
    "duration": 17,
    "start_time": "2022-10-30T19:45:34.444Z"
   },
   {
    "duration": 1024,
    "start_time": "2022-10-31T09:01:34.354Z"
   },
   {
    "duration": 22,
    "start_time": "2022-10-31T09:01:35.380Z"
   },
   {
    "duration": 14,
    "start_time": "2022-10-31T09:01:35.404Z"
   },
   {
    "duration": 10,
    "start_time": "2022-10-31T09:01:35.419Z"
   },
   {
    "duration": 33,
    "start_time": "2022-10-31T09:01:35.431Z"
   },
   {
    "duration": 4,
    "start_time": "2022-10-31T09:01:35.465Z"
   },
   {
    "duration": 17,
    "start_time": "2022-10-31T09:01:35.470Z"
   },
   {
    "duration": 8,
    "start_time": "2022-10-31T09:01:35.488Z"
   },
   {
    "duration": 9,
    "start_time": "2022-10-31T09:01:35.498Z"
   },
   {
    "duration": 15,
    "start_time": "2022-10-31T09:01:35.509Z"
   },
   {
    "duration": 38,
    "start_time": "2022-10-31T09:01:35.526Z"
   },
   {
    "duration": 9,
    "start_time": "2022-10-31T09:01:35.565Z"
   },
   {
    "duration": 5,
    "start_time": "2022-10-31T09:01:35.576Z"
   },
   {
    "duration": 12,
    "start_time": "2022-10-31T09:01:35.584Z"
   },
   {
    "duration": 35,
    "start_time": "2022-10-31T09:01:35.597Z"
   },
   {
    "duration": 19,
    "start_time": "2022-10-31T09:01:35.633Z"
   },
   {
    "duration": 4,
    "start_time": "2022-10-31T09:01:35.654Z"
   },
   {
    "duration": 17,
    "start_time": "2022-10-31T09:01:35.659Z"
   },
   {
    "duration": 14,
    "start_time": "2022-10-31T09:01:35.678Z"
   },
   {
    "duration": 5,
    "start_time": "2022-10-31T09:01:35.694Z"
   },
   {
    "duration": 24,
    "start_time": "2022-10-31T09:01:35.700Z"
   },
   {
    "duration": 11,
    "start_time": "2022-10-31T09:01:35.726Z"
   },
   {
    "duration": 19,
    "start_time": "2022-10-31T09:01:35.739Z"
   },
   {
    "duration": 12,
    "start_time": "2022-10-31T09:01:35.759Z"
   },
   {
    "duration": 25,
    "start_time": "2022-10-31T09:01:35.773Z"
   },
   {
    "duration": 7,
    "start_time": "2022-10-31T09:01:35.800Z"
   },
   {
    "duration": 14,
    "start_time": "2022-10-31T09:01:35.809Z"
   },
   {
    "duration": 29,
    "start_time": "2022-10-31T09:01:35.824Z"
   },
   {
    "duration": 3,
    "start_time": "2022-10-31T09:01:35.854Z"
   },
   {
    "duration": 4,
    "start_time": "2022-10-31T09:03:01.259Z"
   },
   {
    "duration": 6,
    "start_time": "2022-10-31T09:03:34.527Z"
   },
   {
    "duration": 8,
    "start_time": "2022-10-31T09:03:50.352Z"
   },
   {
    "duration": 9,
    "start_time": "2022-10-31T09:05:13.480Z"
   },
   {
    "duration": 6,
    "start_time": "2022-10-31T09:06:05.292Z"
   },
   {
    "duration": 7,
    "start_time": "2022-10-31T09:06:11.052Z"
   },
   {
    "duration": 17,
    "start_time": "2022-10-31T09:08:21.222Z"
   },
   {
    "duration": 6,
    "start_time": "2022-10-31T09:51:33.782Z"
   },
   {
    "duration": 6,
    "start_time": "2022-10-31T09:51:55.758Z"
   },
   {
    "duration": 7,
    "start_time": "2022-10-31T09:52:30.039Z"
   },
   {
    "duration": 9,
    "start_time": "2022-10-31T09:54:57.929Z"
   },
   {
    "duration": 12,
    "start_time": "2022-10-31T09:56:11.739Z"
   },
   {
    "duration": 16,
    "start_time": "2022-10-31T09:56:52.670Z"
   },
   {
    "duration": 29,
    "start_time": "2022-10-31T09:57:11.519Z"
   },
   {
    "duration": 26,
    "start_time": "2022-10-31T09:57:43.270Z"
   },
   {
    "duration": 26,
    "start_time": "2022-10-31T09:57:53.995Z"
   },
   {
    "duration": 54,
    "start_time": "2022-10-31T10:22:38.246Z"
   },
   {
    "duration": 30,
    "start_time": "2022-10-31T10:23:47.452Z"
   },
   {
    "duration": 11,
    "start_time": "2022-10-31T10:24:16.700Z"
   },
   {
    "duration": 12,
    "start_time": "2022-10-31T10:25:18.803Z"
   },
   {
    "duration": 39,
    "start_time": "2022-10-31T10:39:59.178Z"
   },
   {
    "duration": 32,
    "start_time": "2022-10-31T10:41:37.208Z"
   },
   {
    "duration": 50,
    "start_time": "2022-10-31T11:12:06.283Z"
   },
   {
    "duration": 42,
    "start_time": "2022-10-31T11:12:42.915Z"
   },
   {
    "duration": 59,
    "start_time": "2022-10-31T11:13:34.116Z"
   },
   {
    "duration": 54,
    "start_time": "2022-10-31T11:13:45.380Z"
   },
   {
    "duration": 48,
    "start_time": "2022-10-31T11:13:49.831Z"
   },
   {
    "duration": 51,
    "start_time": "2022-10-31T11:14:13.289Z"
   },
   {
    "duration": 7,
    "start_time": "2022-10-31T11:14:16.264Z"
   },
   {
    "duration": 65,
    "start_time": "2022-10-31T11:14:21.861Z"
   },
   {
    "duration": 14,
    "start_time": "2022-10-31T11:14:21.928Z"
   },
   {
    "duration": 17,
    "start_time": "2022-10-31T11:14:21.944Z"
   },
   {
    "duration": 9,
    "start_time": "2022-10-31T11:14:21.963Z"
   },
   {
    "duration": 31,
    "start_time": "2022-10-31T11:14:21.974Z"
   },
   {
    "duration": 3,
    "start_time": "2022-10-31T11:14:22.021Z"
   },
   {
    "duration": 9,
    "start_time": "2022-10-31T11:14:22.025Z"
   },
   {
    "duration": 6,
    "start_time": "2022-10-31T11:14:22.035Z"
   },
   {
    "duration": 6,
    "start_time": "2022-10-31T11:14:22.042Z"
   },
   {
    "duration": 6,
    "start_time": "2022-10-31T11:14:22.050Z"
   },
   {
    "duration": 32,
    "start_time": "2022-10-31T11:14:22.058Z"
   },
   {
    "duration": 9,
    "start_time": "2022-10-31T11:14:22.091Z"
   },
   {
    "duration": 22,
    "start_time": "2022-10-31T11:14:22.101Z"
   },
   {
    "duration": 12,
    "start_time": "2022-10-31T11:14:22.126Z"
   },
   {
    "duration": 18,
    "start_time": "2022-10-31T11:14:22.140Z"
   },
   {
    "duration": 16,
    "start_time": "2022-10-31T11:14:22.159Z"
   },
   {
    "duration": 4,
    "start_time": "2022-10-31T11:14:22.177Z"
   },
   {
    "duration": 12,
    "start_time": "2022-10-31T11:14:22.182Z"
   },
   {
    "duration": 28,
    "start_time": "2022-10-31T11:14:22.195Z"
   },
   {
    "duration": 3,
    "start_time": "2022-10-31T11:14:22.225Z"
   },
   {
    "duration": 14,
    "start_time": "2022-10-31T11:14:22.229Z"
   },
   {
    "duration": 9,
    "start_time": "2022-10-31T11:14:22.244Z"
   },
   {
    "duration": 8,
    "start_time": "2022-10-31T11:14:22.254Z"
   },
   {
    "duration": 13,
    "start_time": "2022-10-31T11:14:22.263Z"
   },
   {
    "duration": 30,
    "start_time": "2022-10-31T11:14:22.277Z"
   },
   {
    "duration": 26,
    "start_time": "2022-10-31T11:14:22.309Z"
   },
   {
    "duration": 12,
    "start_time": "2022-10-31T11:14:22.337Z"
   },
   {
    "duration": 88,
    "start_time": "2022-10-31T11:14:22.350Z"
   },
   {
    "duration": 84,
    "start_time": "2022-10-31T11:14:25.796Z"
   },
   {
    "duration": 48,
    "start_time": "2022-10-31T11:14:52.173Z"
   },
   {
    "duration": 80,
    "start_time": "2022-10-31T11:14:57.286Z"
   },
   {
    "duration": 197,
    "start_time": "2022-10-31T11:15:04.298Z"
   },
   {
    "duration": 27,
    "start_time": "2022-10-31T11:17:00.810Z"
   },
   {
    "duration": 45,
    "start_time": "2022-10-31T11:17:54.537Z"
   },
   {
    "duration": 75,
    "start_time": "2022-10-31T11:18:50.864Z"
   },
   {
    "duration": 24,
    "start_time": "2022-10-31T11:19:12.759Z"
   },
   {
    "duration": 24,
    "start_time": "2022-10-31T11:19:30.384Z"
   },
   {
    "duration": 28,
    "start_time": "2022-10-31T11:21:49.565Z"
   },
   {
    "duration": 38,
    "start_time": "2022-10-31T11:22:22.357Z"
   },
   {
    "duration": 22,
    "start_time": "2022-10-31T11:22:32.355Z"
   },
   {
    "duration": 22,
    "start_time": "2022-10-31T11:22:52.492Z"
   },
   {
    "duration": 22,
    "start_time": "2022-10-31T11:23:30.841Z"
   },
   {
    "duration": 12,
    "start_time": "2022-10-31T11:24:17.772Z"
   },
   {
    "duration": 18,
    "start_time": "2022-10-31T11:28:42.771Z"
   },
   {
    "duration": 16,
    "start_time": "2022-10-31T11:28:50.789Z"
   },
   {
    "duration": 22,
    "start_time": "2022-10-31T11:29:15.539Z"
   },
   {
    "duration": 23,
    "start_time": "2022-10-31T11:29:46.853Z"
   },
   {
    "duration": 65,
    "start_time": "2022-10-31T11:30:45.110Z"
   },
   {
    "duration": 14,
    "start_time": "2022-10-31T11:30:45.177Z"
   },
   {
    "duration": 15,
    "start_time": "2022-10-31T11:30:45.192Z"
   },
   {
    "duration": 16,
    "start_time": "2022-10-31T11:30:45.209Z"
   },
   {
    "duration": 30,
    "start_time": "2022-10-31T11:30:45.227Z"
   },
   {
    "duration": 2,
    "start_time": "2022-10-31T11:30:45.259Z"
   },
   {
    "duration": 10,
    "start_time": "2022-10-31T11:30:45.263Z"
   },
   {
    "duration": 5,
    "start_time": "2022-10-31T11:30:45.274Z"
   },
   {
    "duration": 7,
    "start_time": "2022-10-31T11:30:45.281Z"
   },
   {
    "duration": 7,
    "start_time": "2022-10-31T11:30:45.291Z"
   },
   {
    "duration": 32,
    "start_time": "2022-10-31T11:30:45.321Z"
   },
   {
    "duration": 9,
    "start_time": "2022-10-31T11:30:45.355Z"
   },
   {
    "duration": 5,
    "start_time": "2022-10-31T11:30:45.365Z"
   },
   {
    "duration": 14,
    "start_time": "2022-10-31T11:30:45.371Z"
   },
   {
    "duration": 36,
    "start_time": "2022-10-31T11:30:45.387Z"
   },
   {
    "duration": 16,
    "start_time": "2022-10-31T11:30:45.424Z"
   },
   {
    "duration": 3,
    "start_time": "2022-10-31T11:30:45.441Z"
   },
   {
    "duration": 17,
    "start_time": "2022-10-31T11:30:45.446Z"
   },
   {
    "duration": 11,
    "start_time": "2022-10-31T11:30:45.464Z"
   },
   {
    "duration": 7,
    "start_time": "2022-10-31T11:30:45.477Z"
   },
   {
    "duration": 10,
    "start_time": "2022-10-31T11:30:45.485Z"
   },
   {
    "duration": 9,
    "start_time": "2022-10-31T11:30:45.496Z"
   },
   {
    "duration": 20,
    "start_time": "2022-10-31T11:30:45.506Z"
   },
   {
    "duration": 14,
    "start_time": "2022-10-31T11:30:45.527Z"
   },
   {
    "duration": 12,
    "start_time": "2022-10-31T11:30:45.542Z"
   },
   {
    "duration": 7,
    "start_time": "2022-10-31T11:30:45.556Z"
   },
   {
    "duration": 11,
    "start_time": "2022-10-31T11:30:45.565Z"
   },
   {
    "duration": 46,
    "start_time": "2022-10-31T11:30:45.579Z"
   },
   {
    "duration": 59,
    "start_time": "2022-10-31T11:58:22.747Z"
   },
   {
    "duration": 48,
    "start_time": "2022-10-31T11:58:25.333Z"
   },
   {
    "duration": 8,
    "start_time": "2022-10-31T12:00:55.861Z"
   },
   {
    "duration": 7,
    "start_time": "2022-10-31T12:01:12.615Z"
   },
   {
    "duration": 22,
    "start_time": "2022-10-31T12:02:16.453Z"
   },
   {
    "duration": 7,
    "start_time": "2022-10-31T12:02:23.375Z"
   },
   {
    "duration": 23,
    "start_time": "2022-10-31T12:02:26.075Z"
   },
   {
    "duration": 22,
    "start_time": "2022-10-31T12:02:47.114Z"
   },
   {
    "duration": 24,
    "start_time": "2022-10-31T12:03:00.128Z"
   },
   {
    "duration": 14,
    "start_time": "2022-10-31T12:04:12.396Z"
   },
   {
    "duration": 13,
    "start_time": "2022-10-31T12:04:13.926Z"
   },
   {
    "duration": 13,
    "start_time": "2022-10-31T12:04:42.010Z"
   },
   {
    "duration": 13,
    "start_time": "2022-10-31T12:04:47.637Z"
   },
   {
    "duration": 16,
    "start_time": "2022-10-31T12:05:03.102Z"
   },
   {
    "duration": 13,
    "start_time": "2022-10-31T12:05:10.568Z"
   },
   {
    "duration": 13,
    "start_time": "2022-10-31T12:06:23.244Z"
   },
   {
    "duration": 12,
    "start_time": "2022-10-31T12:06:37.215Z"
   },
   {
    "duration": 13,
    "start_time": "2022-10-31T12:06:41.237Z"
   },
   {
    "duration": 14,
    "start_time": "2022-10-31T12:06:51.998Z"
   },
   {
    "duration": 18,
    "start_time": "2022-10-31T12:06:54.180Z"
   },
   {
    "duration": 23,
    "start_time": "2022-10-31T12:07:01.995Z"
   },
   {
    "duration": 22,
    "start_time": "2022-10-31T12:07:19.248Z"
   },
   {
    "duration": 46,
    "start_time": "2022-10-31T12:07:35.232Z"
   },
   {
    "duration": 426,
    "start_time": "2022-10-31T12:07:40.443Z"
   },
   {
    "duration": 19,
    "start_time": "2022-10-31T12:07:40.871Z"
   },
   {
    "duration": 30,
    "start_time": "2022-10-31T12:07:40.892Z"
   },
   {
    "duration": 11,
    "start_time": "2022-10-31T12:07:40.924Z"
   },
   {
    "duration": 58,
    "start_time": "2022-10-31T12:07:40.937Z"
   },
   {
    "duration": 3,
    "start_time": "2022-10-31T12:07:40.996Z"
   },
   {
    "duration": 23,
    "start_time": "2022-10-31T12:07:41.001Z"
   },
   {
    "duration": 13,
    "start_time": "2022-10-31T12:07:41.026Z"
   },
   {
    "duration": 26,
    "start_time": "2022-10-31T12:07:41.040Z"
   },
   {
    "duration": 12,
    "start_time": "2022-10-31T12:07:41.068Z"
   },
   {
    "duration": 60,
    "start_time": "2022-10-31T12:07:41.081Z"
   },
   {
    "duration": 12,
    "start_time": "2022-10-31T12:07:41.142Z"
   },
   {
    "duration": 5,
    "start_time": "2022-10-31T12:07:41.155Z"
   },
   {
    "duration": 34,
    "start_time": "2022-10-31T12:07:41.162Z"
   },
   {
    "duration": 41,
    "start_time": "2022-10-31T12:07:41.197Z"
   },
   {
    "duration": 15,
    "start_time": "2022-10-31T12:07:41.239Z"
   },
   {
    "duration": 14,
    "start_time": "2022-10-31T12:07:41.255Z"
   },
   {
    "duration": 18,
    "start_time": "2022-10-31T12:07:41.270Z"
   },
   {
    "duration": 29,
    "start_time": "2022-10-31T12:07:41.290Z"
   },
   {
    "duration": 6,
    "start_time": "2022-10-31T12:07:41.320Z"
   },
   {
    "duration": 10,
    "start_time": "2022-10-31T12:07:41.327Z"
   },
   {
    "duration": 10,
    "start_time": "2022-10-31T12:07:41.338Z"
   },
   {
    "duration": 7,
    "start_time": "2022-10-31T12:07:41.349Z"
   },
   {
    "duration": 8,
    "start_time": "2022-10-31T12:07:41.357Z"
   },
   {
    "duration": 17,
    "start_time": "2022-10-31T12:07:41.366Z"
   },
   {
    "duration": 11,
    "start_time": "2022-10-31T12:07:41.384Z"
   },
   {
    "duration": 29,
    "start_time": "2022-10-31T12:07:41.397Z"
   },
   {
    "duration": 29,
    "start_time": "2022-10-31T12:07:41.428Z"
   },
   {
    "duration": 25,
    "start_time": "2022-10-31T12:07:46.733Z"
   },
   {
    "duration": 18,
    "start_time": "2022-10-31T12:08:59.345Z"
   },
   {
    "duration": 12,
    "start_time": "2022-10-31T12:10:39.779Z"
   },
   {
    "duration": 34,
    "start_time": "2022-10-31T12:10:52.499Z"
   },
   {
    "duration": 32,
    "start_time": "2022-10-31T12:11:04.938Z"
   },
   {
    "duration": 15,
    "start_time": "2022-10-31T12:11:07.108Z"
   },
   {
    "duration": 18,
    "start_time": "2022-10-31T12:11:09.104Z"
   },
   {
    "duration": 24,
    "start_time": "2022-10-31T12:11:53.830Z"
   },
   {
    "duration": 13,
    "start_time": "2022-10-31T12:12:03.267Z"
   },
   {
    "duration": 29,
    "start_time": "2022-10-31T12:13:01.217Z"
   },
   {
    "duration": 13,
    "start_time": "2022-10-31T12:13:09.802Z"
   },
   {
    "duration": 13,
    "start_time": "2022-10-31T12:13:11.905Z"
   },
   {
    "duration": 4,
    "start_time": "2022-10-31T12:13:26.506Z"
   },
   {
    "duration": 5,
    "start_time": "2022-10-31T12:13:29.034Z"
   },
   {
    "duration": 65,
    "start_time": "2022-10-31T12:13:33.397Z"
   },
   {
    "duration": 14,
    "start_time": "2022-10-31T12:13:33.463Z"
   },
   {
    "duration": 14,
    "start_time": "2022-10-31T12:13:33.479Z"
   },
   {
    "duration": 10,
    "start_time": "2022-10-31T12:13:33.495Z"
   },
   {
    "duration": 31,
    "start_time": "2022-10-31T12:13:33.521Z"
   },
   {
    "duration": 4,
    "start_time": "2022-10-31T12:13:33.553Z"
   },
   {
    "duration": 9,
    "start_time": "2022-10-31T12:13:33.558Z"
   },
   {
    "duration": 4,
    "start_time": "2022-10-31T12:13:33.569Z"
   },
   {
    "duration": 6,
    "start_time": "2022-10-31T12:13:33.575Z"
   },
   {
    "duration": 7,
    "start_time": "2022-10-31T12:13:33.583Z"
   },
   {
    "duration": 55,
    "start_time": "2022-10-31T12:13:33.591Z"
   },
   {
    "duration": 9,
    "start_time": "2022-10-31T12:13:33.647Z"
   },
   {
    "duration": 3,
    "start_time": "2022-10-31T12:13:33.658Z"
   },
   {
    "duration": 13,
    "start_time": "2022-10-31T12:13:33.663Z"
   },
   {
    "duration": 23,
    "start_time": "2022-10-31T12:13:33.678Z"
   },
   {
    "duration": 33,
    "start_time": "2022-10-31T12:13:33.702Z"
   },
   {
    "duration": 4,
    "start_time": "2022-10-31T12:13:33.736Z"
   },
   {
    "duration": 14,
    "start_time": "2022-10-31T12:13:33.741Z"
   },
   {
    "duration": 5,
    "start_time": "2022-10-31T12:13:33.756Z"
   },
   {
    "duration": 6,
    "start_time": "2022-10-31T12:13:33.762Z"
   },
   {
    "duration": 10,
    "start_time": "2022-10-31T12:13:33.769Z"
   },
   {
    "duration": 9,
    "start_time": "2022-10-31T12:13:33.780Z"
   },
   {
    "duration": 33,
    "start_time": "2022-10-31T12:13:33.790Z"
   },
   {
    "duration": 12,
    "start_time": "2022-10-31T12:13:33.824Z"
   },
   {
    "duration": 13,
    "start_time": "2022-10-31T12:13:33.837Z"
   },
   {
    "duration": 8,
    "start_time": "2022-10-31T12:13:33.852Z"
   },
   {
    "duration": 8,
    "start_time": "2022-10-31T12:13:33.862Z"
   },
   {
    "duration": 5,
    "start_time": "2022-10-31T12:13:33.874Z"
   },
   {
    "duration": 3,
    "start_time": "2022-10-31T12:13:37.700Z"
   },
   {
    "duration": 3,
    "start_time": "2022-10-31T12:15:10.634Z"
   },
   {
    "duration": 3,
    "start_time": "2022-10-31T12:15:12.315Z"
   },
   {
    "duration": 5,
    "start_time": "2022-10-31T12:15:20.727Z"
   },
   {
    "duration": 5,
    "start_time": "2022-10-31T12:15:22.431Z"
   },
   {
    "duration": 40,
    "start_time": "2022-10-31T12:15:30.165Z"
   },
   {
    "duration": 19,
    "start_time": "2022-10-31T12:16:11.115Z"
   },
   {
    "duration": 9,
    "start_time": "2022-10-31T12:17:07.463Z"
   },
   {
    "duration": 16,
    "start_time": "2022-10-31T12:17:24.983Z"
   },
   {
    "duration": 14,
    "start_time": "2022-10-31T12:17:27.809Z"
   },
   {
    "duration": 13,
    "start_time": "2022-10-31T12:17:53.697Z"
   },
   {
    "duration": 13,
    "start_time": "2022-10-31T12:18:00.594Z"
   },
   {
    "duration": 16,
    "start_time": "2022-10-31T12:18:32.425Z"
   },
   {
    "duration": 13,
    "start_time": "2022-10-31T12:18:40.802Z"
   },
   {
    "duration": 17,
    "start_time": "2022-10-31T12:18:44.344Z"
   },
   {
    "duration": 63,
    "start_time": "2022-10-31T12:23:08.638Z"
   },
   {
    "duration": 13,
    "start_time": "2022-10-31T12:23:08.703Z"
   },
   {
    "duration": 20,
    "start_time": "2022-10-31T12:23:08.717Z"
   },
   {
    "duration": 9,
    "start_time": "2022-10-31T12:23:08.738Z"
   },
   {
    "duration": 30,
    "start_time": "2022-10-31T12:23:08.748Z"
   },
   {
    "duration": 3,
    "start_time": "2022-10-31T12:23:08.779Z"
   },
   {
    "duration": 12,
    "start_time": "2022-10-31T12:23:08.783Z"
   },
   {
    "duration": 4,
    "start_time": "2022-10-31T12:23:08.796Z"
   },
   {
    "duration": 21,
    "start_time": "2022-10-31T12:23:08.801Z"
   },
   {
    "duration": 5,
    "start_time": "2022-10-31T12:23:08.823Z"
   },
   {
    "duration": 37,
    "start_time": "2022-10-31T12:23:08.829Z"
   },
   {
    "duration": 10,
    "start_time": "2022-10-31T12:23:08.867Z"
   },
   {
    "duration": 4,
    "start_time": "2022-10-31T12:23:08.878Z"
   },
   {
    "duration": 14,
    "start_time": "2022-10-31T12:23:08.884Z"
   },
   {
    "duration": 38,
    "start_time": "2022-10-31T12:23:08.900Z"
   },
   {
    "duration": 20,
    "start_time": "2022-10-31T12:23:08.940Z"
   },
   {
    "duration": 5,
    "start_time": "2022-10-31T12:23:08.961Z"
   },
   {
    "duration": 17,
    "start_time": "2022-10-31T12:23:08.967Z"
   },
   {
    "duration": 12,
    "start_time": "2022-10-31T12:23:08.986Z"
   },
   {
    "duration": 24,
    "start_time": "2022-10-31T12:23:09.000Z"
   },
   {
    "duration": 23,
    "start_time": "2022-10-31T12:23:09.026Z"
   },
   {
    "duration": 16,
    "start_time": "2022-10-31T12:23:09.051Z"
   },
   {
    "duration": 14,
    "start_time": "2022-10-31T12:23:09.068Z"
   },
   {
    "duration": 31,
    "start_time": "2022-10-31T12:23:09.084Z"
   },
   {
    "duration": 21,
    "start_time": "2022-10-31T12:23:09.117Z"
   },
   {
    "duration": 15,
    "start_time": "2022-10-31T12:23:09.140Z"
   },
   {
    "duration": 8,
    "start_time": "2022-10-31T12:23:09.157Z"
   },
   {
    "duration": 14,
    "start_time": "2022-10-31T12:23:09.166Z"
   },
   {
    "duration": 14,
    "start_time": "2022-10-31T12:23:09.182Z"
   },
   {
    "duration": 67,
    "start_time": "2022-10-31T12:23:13.568Z"
   },
   {
    "duration": 14,
    "start_time": "2022-10-31T12:23:13.637Z"
   },
   {
    "duration": 18,
    "start_time": "2022-10-31T12:23:13.653Z"
   },
   {
    "duration": 8,
    "start_time": "2022-10-31T12:23:13.673Z"
   },
   {
    "duration": 46,
    "start_time": "2022-10-31T12:23:13.683Z"
   },
   {
    "duration": 3,
    "start_time": "2022-10-31T12:23:13.731Z"
   },
   {
    "duration": 26,
    "start_time": "2022-10-31T12:23:13.735Z"
   },
   {
    "duration": 15,
    "start_time": "2022-10-31T12:23:13.762Z"
   },
   {
    "duration": 23,
    "start_time": "2022-10-31T12:23:13.779Z"
   },
   {
    "duration": 28,
    "start_time": "2022-10-31T12:23:13.803Z"
   },
   {
    "duration": 41,
    "start_time": "2022-10-31T12:23:13.833Z"
   },
   {
    "duration": 8,
    "start_time": "2022-10-31T12:23:13.876Z"
   },
   {
    "duration": 6,
    "start_time": "2022-10-31T12:23:13.886Z"
   },
   {
    "duration": 31,
    "start_time": "2022-10-31T12:23:13.894Z"
   },
   {
    "duration": 27,
    "start_time": "2022-10-31T12:23:13.926Z"
   },
   {
    "duration": 17,
    "start_time": "2022-10-31T12:23:13.954Z"
   },
   {
    "duration": 7,
    "start_time": "2022-10-31T12:23:13.973Z"
   },
   {
    "duration": 16,
    "start_time": "2022-10-31T12:23:13.981Z"
   },
   {
    "duration": 18,
    "start_time": "2022-10-31T12:23:13.999Z"
   },
   {
    "duration": 6,
    "start_time": "2022-10-31T12:23:14.018Z"
   },
   {
    "duration": 20,
    "start_time": "2022-10-31T12:23:14.026Z"
   },
   {
    "duration": 13,
    "start_time": "2022-10-31T12:23:14.047Z"
   },
   {
    "duration": 17,
    "start_time": "2022-10-31T12:23:14.062Z"
   },
   {
    "duration": 13,
    "start_time": "2022-10-31T12:23:14.080Z"
   },
   {
    "duration": 30,
    "start_time": "2022-10-31T12:23:14.094Z"
   },
   {
    "duration": 16,
    "start_time": "2022-10-31T12:23:14.126Z"
   },
   {
    "duration": 15,
    "start_time": "2022-10-31T12:23:14.144Z"
   },
   {
    "duration": 16,
    "start_time": "2022-10-31T12:23:14.160Z"
   },
   {
    "duration": 23,
    "start_time": "2022-10-31T12:23:14.177Z"
   },
   {
    "duration": 15,
    "start_time": "2022-10-31T12:23:35.365Z"
   },
   {
    "duration": 75,
    "start_time": "2022-10-31T12:24:28.983Z"
   },
   {
    "duration": 19,
    "start_time": "2022-10-31T12:24:29.060Z"
   },
   {
    "duration": 22,
    "start_time": "2022-10-31T12:24:29.081Z"
   },
   {
    "duration": 20,
    "start_time": "2022-10-31T12:24:29.106Z"
   },
   {
    "duration": 39,
    "start_time": "2022-10-31T12:24:29.129Z"
   },
   {
    "duration": 3,
    "start_time": "2022-10-31T12:24:29.169Z"
   },
   {
    "duration": 12,
    "start_time": "2022-10-31T12:24:29.174Z"
   },
   {
    "duration": 4,
    "start_time": "2022-10-31T12:24:29.187Z"
   },
   {
    "duration": 5,
    "start_time": "2022-10-31T12:24:29.192Z"
   },
   {
    "duration": 5,
    "start_time": "2022-10-31T12:24:29.223Z"
   },
   {
    "duration": 32,
    "start_time": "2022-10-31T12:24:29.229Z"
   },
   {
    "duration": 9,
    "start_time": "2022-10-31T12:24:29.262Z"
   },
   {
    "duration": 6,
    "start_time": "2022-10-31T12:24:29.272Z"
   },
   {
    "duration": 15,
    "start_time": "2022-10-31T12:24:29.279Z"
   },
   {
    "duration": 32,
    "start_time": "2022-10-31T12:24:29.295Z"
   },
   {
    "duration": 16,
    "start_time": "2022-10-31T12:24:29.328Z"
   },
   {
    "duration": 3,
    "start_time": "2022-10-31T12:24:29.345Z"
   },
   {
    "duration": 14,
    "start_time": "2022-10-31T12:24:29.349Z"
   },
   {
    "duration": 5,
    "start_time": "2022-10-31T12:24:29.364Z"
   },
   {
    "duration": 10,
    "start_time": "2022-10-31T12:24:29.370Z"
   },
   {
    "duration": 13,
    "start_time": "2022-10-31T12:24:29.381Z"
   },
   {
    "duration": 28,
    "start_time": "2022-10-31T12:24:29.395Z"
   },
   {
    "duration": 8,
    "start_time": "2022-10-31T12:24:29.425Z"
   },
   {
    "duration": 16,
    "start_time": "2022-10-31T12:24:29.434Z"
   },
   {
    "duration": 15,
    "start_time": "2022-10-31T12:24:29.452Z"
   },
   {
    "duration": 7,
    "start_time": "2022-10-31T12:24:29.469Z"
   },
   {
    "duration": 15,
    "start_time": "2022-10-31T12:24:29.478Z"
   },
   {
    "duration": 30,
    "start_time": "2022-10-31T12:24:29.495Z"
   },
   {
    "duration": 8,
    "start_time": "2022-10-31T12:25:40.375Z"
   },
   {
    "duration": 10,
    "start_time": "2022-10-31T12:26:04.002Z"
   },
   {
    "duration": 10,
    "start_time": "2022-10-31T12:34:02.442Z"
   },
   {
    "duration": 107,
    "start_time": "2022-10-31T12:43:33.100Z"
   },
   {
    "duration": 51,
    "start_time": "2022-10-31T12:43:35.508Z"
   },
   {
    "duration": 48,
    "start_time": "2022-10-31T12:43:43.594Z"
   },
   {
    "duration": 50,
    "start_time": "2022-10-31T12:43:45.439Z"
   },
   {
    "duration": 12,
    "start_time": "2022-10-31T12:43:56.832Z"
   },
   {
    "duration": 38,
    "start_time": "2022-10-31T12:43:59.397Z"
   },
   {
    "duration": 8,
    "start_time": "2022-10-31T12:44:33.247Z"
   },
   {
    "duration": 13,
    "start_time": "2022-10-31T12:59:04.527Z"
   },
   {
    "duration": 14,
    "start_time": "2022-10-31T13:00:23.663Z"
   },
   {
    "duration": 8,
    "start_time": "2022-10-31T13:00:43.287Z"
   },
   {
    "duration": 8,
    "start_time": "2022-10-31T13:00:45.022Z"
   },
   {
    "duration": 9,
    "start_time": "2022-10-31T13:01:32.367Z"
   },
   {
    "duration": 75,
    "start_time": "2022-10-31T13:06:35.246Z"
   },
   {
    "duration": 62,
    "start_time": "2022-10-31T13:06:37.367Z"
   },
   {
    "duration": 12,
    "start_time": "2022-10-31T13:07:46.157Z"
   },
   {
    "duration": 13,
    "start_time": "2022-10-31T13:08:07.166Z"
   },
   {
    "duration": 12,
    "start_time": "2022-10-31T13:08:09.537Z"
   },
   {
    "duration": 13,
    "start_time": "2022-10-31T13:08:19.726Z"
   },
   {
    "duration": 8,
    "start_time": "2022-10-31T13:08:57.441Z"
   },
   {
    "duration": 67,
    "start_time": "2022-10-31T13:42:42.778Z"
   },
   {
    "duration": 16,
    "start_time": "2022-10-31T13:42:42.848Z"
   },
   {
    "duration": 15,
    "start_time": "2022-10-31T13:42:42.866Z"
   },
   {
    "duration": 9,
    "start_time": "2022-10-31T13:42:42.882Z"
   },
   {
    "duration": 55,
    "start_time": "2022-10-31T13:42:42.893Z"
   },
   {
    "duration": 3,
    "start_time": "2022-10-31T13:42:42.950Z"
   },
   {
    "duration": 13,
    "start_time": "2022-10-31T13:42:42.954Z"
   },
   {
    "duration": 4,
    "start_time": "2022-10-31T13:42:42.969Z"
   },
   {
    "duration": 7,
    "start_time": "2022-10-31T13:42:42.974Z"
   },
   {
    "duration": 4,
    "start_time": "2022-10-31T13:42:42.983Z"
   },
   {
    "duration": 59,
    "start_time": "2022-10-31T13:42:42.989Z"
   },
   {
    "duration": 10,
    "start_time": "2022-10-31T13:42:43.049Z"
   },
   {
    "duration": 5,
    "start_time": "2022-10-31T13:42:43.060Z"
   },
   {
    "duration": 15,
    "start_time": "2022-10-31T13:42:43.068Z"
   },
   {
    "duration": 40,
    "start_time": "2022-10-31T13:42:43.084Z"
   },
   {
    "duration": 16,
    "start_time": "2022-10-31T13:42:43.125Z"
   },
   {
    "duration": 3,
    "start_time": "2022-10-31T13:42:43.143Z"
   },
   {
    "duration": 25,
    "start_time": "2022-10-31T13:42:43.148Z"
   },
   {
    "duration": 16,
    "start_time": "2022-10-31T13:42:43.175Z"
   },
   {
    "duration": 15,
    "start_time": "2022-10-31T13:42:43.192Z"
   },
   {
    "duration": 17,
    "start_time": "2022-10-31T13:42:43.209Z"
   },
   {
    "duration": 22,
    "start_time": "2022-10-31T13:42:43.227Z"
   },
   {
    "duration": 28,
    "start_time": "2022-10-31T13:42:43.250Z"
   },
   {
    "duration": 17,
    "start_time": "2022-10-31T13:42:43.280Z"
   },
   {
    "duration": 23,
    "start_time": "2022-10-31T13:42:43.298Z"
   },
   {
    "duration": 8,
    "start_time": "2022-10-31T13:42:43.322Z"
   },
   {
    "duration": 23,
    "start_time": "2022-10-31T13:42:43.331Z"
   },
   {
    "duration": 21,
    "start_time": "2022-10-31T13:42:43.355Z"
   },
   {
    "duration": 20,
    "start_time": "2022-10-31T13:42:43.377Z"
   },
   {
    "duration": 9,
    "start_time": "2022-10-31T13:42:43.399Z"
   },
   {
    "duration": 30,
    "start_time": "2022-10-31T13:42:43.409Z"
   },
   {
    "duration": 35,
    "start_time": "2022-10-31T13:42:43.441Z"
   },
   {
    "duration": 121,
    "start_time": "2022-11-01T21:27:16.969Z"
   },
   {
    "duration": 80,
    "start_time": "2022-11-01T21:27:23.486Z"
   },
   {
    "duration": 47,
    "start_time": "2022-11-01T22:17:25.002Z"
   },
   {
    "duration": 6,
    "start_time": "2022-11-01T22:17:27.078Z"
   },
   {
    "duration": 538,
    "start_time": "2022-11-01T22:17:29.763Z"
   },
   {
    "duration": 25,
    "start_time": "2022-11-01T22:17:30.304Z"
   },
   {
    "duration": 24,
    "start_time": "2022-11-01T22:17:30.331Z"
   },
   {
    "duration": 12,
    "start_time": "2022-11-01T22:17:30.357Z"
   },
   {
    "duration": 61,
    "start_time": "2022-11-01T22:17:30.371Z"
   },
   {
    "duration": 4,
    "start_time": "2022-11-01T22:17:30.434Z"
   },
   {
    "duration": 15,
    "start_time": "2022-11-01T22:17:30.441Z"
   },
   {
    "duration": 14,
    "start_time": "2022-11-01T22:17:30.458Z"
   },
   {
    "duration": 39,
    "start_time": "2022-11-01T22:17:30.474Z"
   },
   {
    "duration": 19,
    "start_time": "2022-11-01T22:17:30.515Z"
   },
   {
    "duration": 74,
    "start_time": "2022-11-01T22:17:30.536Z"
   },
   {
    "duration": 11,
    "start_time": "2022-11-01T22:17:30.612Z"
   },
   {
    "duration": 14,
    "start_time": "2022-11-01T22:17:30.625Z"
   },
   {
    "duration": 35,
    "start_time": "2022-11-01T22:17:30.641Z"
   },
   {
    "duration": 40,
    "start_time": "2022-11-01T22:17:30.678Z"
   },
   {
    "duration": 28,
    "start_time": "2022-11-01T22:17:30.720Z"
   },
   {
    "duration": 5,
    "start_time": "2022-11-01T22:17:30.750Z"
   },
   {
    "duration": 42,
    "start_time": "2022-11-01T22:17:30.756Z"
   },
   {
    "duration": 25,
    "start_time": "2022-11-01T22:17:30.800Z"
   },
   {
    "duration": 42,
    "start_time": "2022-11-01T22:17:30.827Z"
   },
   {
    "duration": 44,
    "start_time": "2022-11-01T22:17:30.871Z"
   },
   {
    "duration": 33,
    "start_time": "2022-11-01T22:17:30.917Z"
   },
   {
    "duration": 25,
    "start_time": "2022-11-01T22:17:30.952Z"
   },
   {
    "duration": 24,
    "start_time": "2022-11-01T22:17:30.979Z"
   },
   {
    "duration": 75,
    "start_time": "2022-11-01T22:17:31.004Z"
   },
   {
    "duration": 0,
    "start_time": "2022-11-01T22:17:31.082Z"
   },
   {
    "duration": 0,
    "start_time": "2022-11-01T22:17:31.083Z"
   },
   {
    "duration": 0,
    "start_time": "2022-11-01T22:17:31.084Z"
   },
   {
    "duration": 0,
    "start_time": "2022-11-01T22:17:31.086Z"
   },
   {
    "duration": 0,
    "start_time": "2022-11-01T22:17:31.087Z"
   },
   {
    "duration": 0,
    "start_time": "2022-11-01T22:17:31.089Z"
   },
   {
    "duration": 0,
    "start_time": "2022-11-01T22:17:31.090Z"
   },
   {
    "duration": 0,
    "start_time": "2022-11-01T22:17:31.091Z"
   },
   {
    "duration": 17,
    "start_time": "2022-11-01T22:18:02.748Z"
   },
   {
    "duration": 16,
    "start_time": "2022-11-01T22:18:32.105Z"
   },
   {
    "duration": 13,
    "start_time": "2022-11-01T22:19:18.690Z"
   },
   {
    "duration": 2,
    "start_time": "2022-11-01T22:19:28.917Z"
   },
   {
    "duration": 2,
    "start_time": "2022-11-01T22:20:28.611Z"
   },
   {
    "duration": 19,
    "start_time": "2022-11-01T22:24:15.384Z"
   },
   {
    "duration": 16,
    "start_time": "2022-11-01T22:24:17.649Z"
   },
   {
    "duration": 82,
    "start_time": "2022-11-01T22:24:21.217Z"
   },
   {
    "duration": 18,
    "start_time": "2022-11-01T22:24:21.302Z"
   },
   {
    "duration": 53,
    "start_time": "2022-11-01T22:24:21.332Z"
   },
   {
    "duration": 15,
    "start_time": "2022-11-01T22:24:21.388Z"
   },
   {
    "duration": 62,
    "start_time": "2022-11-01T22:24:21.405Z"
   },
   {
    "duration": 4,
    "start_time": "2022-11-01T22:24:21.468Z"
   },
   {
    "duration": 22,
    "start_time": "2022-11-01T22:24:21.473Z"
   },
   {
    "duration": 5,
    "start_time": "2022-11-01T22:24:21.497Z"
   },
   {
    "duration": 9,
    "start_time": "2022-11-01T22:24:21.503Z"
   },
   {
    "duration": 18,
    "start_time": "2022-11-01T22:24:21.515Z"
   },
   {
    "duration": 37,
    "start_time": "2022-11-01T22:24:21.534Z"
   },
   {
    "duration": 10,
    "start_time": "2022-11-01T22:24:21.573Z"
   },
   {
    "duration": 6,
    "start_time": "2022-11-01T22:24:21.585Z"
   },
   {
    "duration": 45,
    "start_time": "2022-11-01T22:24:21.592Z"
   },
   {
    "duration": 22,
    "start_time": "2022-11-01T22:24:21.639Z"
   },
   {
    "duration": 20,
    "start_time": "2022-11-01T22:24:21.662Z"
   },
   {
    "duration": 4,
    "start_time": "2022-11-01T22:24:21.683Z"
   },
   {
    "duration": 12,
    "start_time": "2022-11-01T22:24:21.688Z"
   },
   {
    "duration": 30,
    "start_time": "2022-11-01T22:24:21.702Z"
   },
   {
    "duration": 3,
    "start_time": "2022-11-01T22:24:21.734Z"
   },
   {
    "duration": 16,
    "start_time": "2022-11-01T22:24:21.739Z"
   },
   {
    "duration": 16,
    "start_time": "2022-11-01T22:24:21.757Z"
   },
   {
    "duration": 0,
    "start_time": "2022-11-01T22:24:21.775Z"
   },
   {
    "duration": 0,
    "start_time": "2022-11-01T22:24:21.777Z"
   },
   {
    "duration": 0,
    "start_time": "2022-11-01T22:24:21.779Z"
   },
   {
    "duration": 0,
    "start_time": "2022-11-01T22:24:21.780Z"
   },
   {
    "duration": 0,
    "start_time": "2022-11-01T22:24:21.782Z"
   },
   {
    "duration": 0,
    "start_time": "2022-11-01T22:24:21.783Z"
   },
   {
    "duration": 0,
    "start_time": "2022-11-01T22:24:21.785Z"
   },
   {
    "duration": 0,
    "start_time": "2022-11-01T22:24:21.786Z"
   },
   {
    "duration": 0,
    "start_time": "2022-11-01T22:24:21.787Z"
   },
   {
    "duration": 0,
    "start_time": "2022-11-01T22:24:21.789Z"
   },
   {
    "duration": 0,
    "start_time": "2022-11-01T22:24:21.790Z"
   },
   {
    "duration": 19,
    "start_time": "2022-11-01T22:24:35.629Z"
   },
   {
    "duration": 13,
    "start_time": "2022-11-01T22:25:24.107Z"
   },
   {
    "duration": 14,
    "start_time": "2022-11-01T22:29:50.580Z"
   },
   {
    "duration": 14,
    "start_time": "2022-11-01T22:29:52.305Z"
   },
   {
    "duration": 10,
    "start_time": "2022-11-01T22:32:27.437Z"
   },
   {
    "duration": 14,
    "start_time": "2022-11-01T22:38:59.822Z"
   },
   {
    "duration": 10,
    "start_time": "2022-11-01T22:39:14.937Z"
   },
   {
    "duration": 12,
    "start_time": "2022-11-01T22:46:01.227Z"
   },
   {
    "duration": 16,
    "start_time": "2022-11-01T22:46:02.982Z"
   },
   {
    "duration": 13,
    "start_time": "2022-11-01T22:46:07.384Z"
   },
   {
    "duration": 12,
    "start_time": "2022-11-01T22:46:09.431Z"
   },
   {
    "duration": 9,
    "start_time": "2022-11-01T22:46:59.561Z"
   },
   {
    "duration": 14,
    "start_time": "2022-11-01T23:05:20.793Z"
   },
   {
    "duration": 649,
    "start_time": "2022-11-02T10:22:49.558Z"
   },
   {
    "duration": 24,
    "start_time": "2022-11-02T10:22:50.209Z"
   },
   {
    "duration": 45,
    "start_time": "2022-11-02T10:22:50.235Z"
   },
   {
    "duration": 29,
    "start_time": "2022-11-02T10:22:50.282Z"
   },
   {
    "duration": 48,
    "start_time": "2022-11-02T10:22:50.312Z"
   },
   {
    "duration": 3,
    "start_time": "2022-11-02T10:22:50.361Z"
   },
   {
    "duration": 25,
    "start_time": "2022-11-02T10:22:50.366Z"
   },
   {
    "duration": 16,
    "start_time": "2022-11-02T10:22:50.393Z"
   },
   {
    "duration": 30,
    "start_time": "2022-11-02T10:22:50.411Z"
   },
   {
    "duration": 35,
    "start_time": "2022-11-02T10:22:50.445Z"
   },
   {
    "duration": 55,
    "start_time": "2022-11-02T10:22:50.481Z"
   },
   {
    "duration": 9,
    "start_time": "2022-11-02T10:22:50.538Z"
   },
   {
    "duration": 21,
    "start_time": "2022-11-02T10:22:50.549Z"
   },
   {
    "duration": 13,
    "start_time": "2022-11-02T10:22:50.572Z"
   },
   {
    "duration": 26,
    "start_time": "2022-11-02T10:22:50.587Z"
   },
   {
    "duration": 16,
    "start_time": "2022-11-02T10:22:50.615Z"
   },
   {
    "duration": 3,
    "start_time": "2022-11-02T10:22:50.633Z"
   },
   {
    "duration": 16,
    "start_time": "2022-11-02T10:22:50.638Z"
   },
   {
    "duration": 21,
    "start_time": "2022-11-02T10:22:50.655Z"
   },
   {
    "duration": 5,
    "start_time": "2022-11-02T10:22:50.677Z"
   },
   {
    "duration": 17,
    "start_time": "2022-11-02T10:22:50.684Z"
   },
   {
    "duration": 15,
    "start_time": "2022-11-02T10:22:50.702Z"
   },
   {
    "duration": 15,
    "start_time": "2022-11-02T10:22:50.720Z"
   },
   {
    "duration": 20,
    "start_time": "2022-11-02T10:22:50.736Z"
   },
   {
    "duration": 12,
    "start_time": "2022-11-02T10:22:50.758Z"
   },
   {
    "duration": 24,
    "start_time": "2022-11-02T10:22:50.772Z"
   },
   {
    "duration": 19,
    "start_time": "2022-11-02T10:22:50.798Z"
   },
   {
    "duration": 27,
    "start_time": "2022-11-02T10:22:50.820Z"
   },
   {
    "duration": 23,
    "start_time": "2022-11-02T10:22:50.848Z"
   },
   {
    "duration": 20,
    "start_time": "2022-11-02T10:22:50.872Z"
   },
   {
    "duration": 43,
    "start_time": "2022-11-02T10:22:50.893Z"
   },
   {
    "duration": 288,
    "start_time": "2022-11-02T10:34:49.798Z"
   },
   {
    "duration": 234,
    "start_time": "2022-11-02T10:34:52.476Z"
   },
   {
    "duration": 4,
    "start_time": "2022-11-02T10:35:16.976Z"
   },
   {
    "duration": 5,
    "start_time": "2022-11-02T10:35:18.538Z"
   },
   {
    "duration": 8,
    "start_time": "2022-11-02T10:35:38.560Z"
   },
   {
    "duration": 201,
    "start_time": "2022-11-02T10:35:59.345Z"
   },
   {
    "duration": 9,
    "start_time": "2022-11-02T10:36:13.482Z"
   },
   {
    "duration": 9,
    "start_time": "2022-11-02T10:36:48.608Z"
   },
   {
    "duration": 9,
    "start_time": "2022-11-02T10:43:41.258Z"
   },
   {
    "duration": 766,
    "start_time": "2022-11-02T10:43:52.828Z"
   },
   {
    "duration": 829,
    "start_time": "2022-11-02T10:43:55.145Z"
   },
   {
    "duration": 11,
    "start_time": "2022-11-02T10:44:05.934Z"
   },
   {
    "duration": 9,
    "start_time": "2022-11-02T10:44:12.211Z"
   },
   {
    "duration": 9,
    "start_time": "2022-11-02T10:44:14.745Z"
   },
   {
    "duration": 554,
    "start_time": "2022-11-02T18:45:04.612Z"
   },
   {
    "duration": 47,
    "start_time": "2022-11-02T18:45:17.222Z"
   },
   {
    "duration": 151,
    "start_time": "2022-11-02T18:48:50.216Z"
   },
   {
    "duration": 75,
    "start_time": "2022-11-02T18:48:55.726Z"
   },
   {
    "duration": 32,
    "start_time": "2022-11-02T18:48:55.803Z"
   },
   {
    "duration": 15,
    "start_time": "2022-11-02T18:48:55.837Z"
   },
   {
    "duration": 10,
    "start_time": "2022-11-02T18:48:55.854Z"
   },
   {
    "duration": 36,
    "start_time": "2022-11-02T18:48:55.865Z"
   },
   {
    "duration": 30,
    "start_time": "2022-11-02T18:48:55.903Z"
   },
   {
    "duration": 22,
    "start_time": "2022-11-02T18:48:55.935Z"
   },
   {
    "duration": 6,
    "start_time": "2022-11-02T18:48:55.959Z"
   },
   {
    "duration": 17,
    "start_time": "2022-11-02T18:48:55.967Z"
   },
   {
    "duration": 5,
    "start_time": "2022-11-02T18:48:55.987Z"
   },
   {
    "duration": 49,
    "start_time": "2022-11-02T18:48:55.994Z"
   },
   {
    "duration": 10,
    "start_time": "2022-11-02T18:48:56.045Z"
   },
   {
    "duration": 7,
    "start_time": "2022-11-02T18:48:56.057Z"
   },
   {
    "duration": 15,
    "start_time": "2022-11-02T18:48:56.066Z"
   },
   {
    "duration": 26,
    "start_time": "2022-11-02T18:48:56.083Z"
   },
   {
    "duration": 37,
    "start_time": "2022-11-02T18:48:56.110Z"
   },
   {
    "duration": 10,
    "start_time": "2022-11-02T18:48:56.149Z"
   },
   {
    "duration": 17,
    "start_time": "2022-11-02T18:48:56.161Z"
   },
   {
    "duration": 9,
    "start_time": "2022-11-02T18:48:56.180Z"
   },
   {
    "duration": 12,
    "start_time": "2022-11-02T18:48:56.191Z"
   },
   {
    "duration": 30,
    "start_time": "2022-11-02T18:48:56.205Z"
   },
   {
    "duration": 42,
    "start_time": "2022-11-02T18:48:56.236Z"
   },
   {
    "duration": 28,
    "start_time": "2022-11-02T18:48:56.280Z"
   },
   {
    "duration": 33,
    "start_time": "2022-11-02T18:48:56.309Z"
   },
   {
    "duration": 25,
    "start_time": "2022-11-02T18:48:56.344Z"
   },
   {
    "duration": 35,
    "start_time": "2022-11-02T18:48:56.371Z"
   },
   {
    "duration": 11,
    "start_time": "2022-11-02T18:48:56.408Z"
   },
   {
    "duration": 36,
    "start_time": "2022-11-02T18:48:56.422Z"
   },
   {
    "duration": 23,
    "start_time": "2022-11-02T18:48:56.460Z"
   },
   {
    "duration": 289,
    "start_time": "2022-11-02T18:48:56.484Z"
   },
   {
    "duration": 0,
    "start_time": "2022-11-02T18:48:56.775Z"
   },
   {
    "duration": 8,
    "start_time": "2022-11-02T20:14:03.134Z"
   },
   {
    "duration": 9,
    "start_time": "2022-11-02T20:14:05.048Z"
   },
   {
    "duration": 18,
    "start_time": "2022-11-02T20:15:30.156Z"
   },
   {
    "duration": 9,
    "start_time": "2022-11-02T20:15:45.945Z"
   },
   {
    "duration": 122,
    "start_time": "2022-11-02T20:44:30.449Z"
   },
   {
    "duration": 785,
    "start_time": "2022-11-03T10:11:44.232Z"
   },
   {
    "duration": 0,
    "start_time": "2022-11-03T10:11:45.020Z"
   },
   {
    "duration": 0,
    "start_time": "2022-11-03T10:11:45.021Z"
   },
   {
    "duration": 0,
    "start_time": "2022-11-03T10:11:45.022Z"
   },
   {
    "duration": 0,
    "start_time": "2022-11-03T10:11:45.023Z"
   },
   {
    "duration": 0,
    "start_time": "2022-11-03T10:11:45.024Z"
   },
   {
    "duration": 0,
    "start_time": "2022-11-03T10:11:45.025Z"
   },
   {
    "duration": 0,
    "start_time": "2022-11-03T10:11:45.026Z"
   },
   {
    "duration": 0,
    "start_time": "2022-11-03T10:11:45.027Z"
   },
   {
    "duration": 0,
    "start_time": "2022-11-03T10:11:45.028Z"
   },
   {
    "duration": 0,
    "start_time": "2022-11-03T10:11:45.029Z"
   },
   {
    "duration": 0,
    "start_time": "2022-11-03T10:11:45.030Z"
   },
   {
    "duration": 0,
    "start_time": "2022-11-03T10:11:45.031Z"
   },
   {
    "duration": 0,
    "start_time": "2022-11-03T10:11:45.032Z"
   },
   {
    "duration": 0,
    "start_time": "2022-11-03T10:11:45.033Z"
   },
   {
    "duration": 0,
    "start_time": "2022-11-03T10:11:45.034Z"
   },
   {
    "duration": 0,
    "start_time": "2022-11-03T10:11:45.035Z"
   },
   {
    "duration": 0,
    "start_time": "2022-11-03T10:11:45.036Z"
   },
   {
    "duration": 0,
    "start_time": "2022-11-03T10:11:45.037Z"
   },
   {
    "duration": 0,
    "start_time": "2022-11-03T10:11:45.038Z"
   },
   {
    "duration": 0,
    "start_time": "2022-11-03T10:11:45.038Z"
   },
   {
    "duration": 0,
    "start_time": "2022-11-03T10:11:45.040Z"
   },
   {
    "duration": 0,
    "start_time": "2022-11-03T10:11:45.041Z"
   },
   {
    "duration": 0,
    "start_time": "2022-11-03T10:11:45.042Z"
   },
   {
    "duration": 0,
    "start_time": "2022-11-03T10:11:45.042Z"
   },
   {
    "duration": 0,
    "start_time": "2022-11-03T10:11:45.043Z"
   },
   {
    "duration": 0,
    "start_time": "2022-11-03T10:11:45.044Z"
   },
   {
    "duration": 0,
    "start_time": "2022-11-03T10:11:45.046Z"
   },
   {
    "duration": 0,
    "start_time": "2022-11-03T10:11:45.047Z"
   },
   {
    "duration": 0,
    "start_time": "2022-11-03T10:11:45.048Z"
   },
   {
    "duration": 0,
    "start_time": "2022-11-03T10:11:45.049Z"
   },
   {
    "duration": 1114,
    "start_time": "2022-11-03T13:13:19.813Z"
   },
   {
    "duration": 314,
    "start_time": "2022-11-03T13:13:33.116Z"
   },
   {
    "duration": 348,
    "start_time": "2022-11-03T13:13:36.548Z"
   },
   {
    "duration": 23,
    "start_time": "2022-11-03T13:13:36.899Z"
   },
   {
    "duration": 20,
    "start_time": "2022-11-03T13:13:36.924Z"
   },
   {
    "duration": 10,
    "start_time": "2022-11-03T13:13:36.946Z"
   },
   {
    "duration": 34,
    "start_time": "2022-11-03T13:13:36.957Z"
   },
   {
    "duration": 4,
    "start_time": "2022-11-03T13:13:36.993Z"
   },
   {
    "duration": 16,
    "start_time": "2022-11-03T13:13:36.998Z"
   },
   {
    "duration": 4,
    "start_time": "2022-11-03T13:13:37.016Z"
   },
   {
    "duration": 14,
    "start_time": "2022-11-03T13:13:37.021Z"
   },
   {
    "duration": 4,
    "start_time": "2022-11-03T13:13:37.054Z"
   },
   {
    "duration": 40,
    "start_time": "2022-11-03T13:13:37.060Z"
   },
   {
    "duration": 9,
    "start_time": "2022-11-03T13:13:37.102Z"
   },
   {
    "duration": 6,
    "start_time": "2022-11-03T13:13:37.113Z"
   },
   {
    "duration": 15,
    "start_time": "2022-11-03T13:13:37.121Z"
   },
   {
    "duration": 32,
    "start_time": "2022-11-03T13:13:37.137Z"
   },
   {
    "duration": 18,
    "start_time": "2022-11-03T13:13:37.170Z"
   },
   {
    "duration": 4,
    "start_time": "2022-11-03T13:13:37.189Z"
   },
   {
    "duration": 18,
    "start_time": "2022-11-03T13:13:37.194Z"
   },
   {
    "duration": 13,
    "start_time": "2022-11-03T13:13:37.213Z"
   },
   {
    "duration": 5,
    "start_time": "2022-11-03T13:13:37.227Z"
   },
   {
    "duration": 27,
    "start_time": "2022-11-03T13:13:37.233Z"
   },
   {
    "duration": 10,
    "start_time": "2022-11-03T13:13:37.261Z"
   },
   {
    "duration": 19,
    "start_time": "2022-11-03T13:13:37.273Z"
   },
   {
    "duration": 11,
    "start_time": "2022-11-03T13:13:37.293Z"
   },
   {
    "duration": 14,
    "start_time": "2022-11-03T13:13:37.305Z"
   },
   {
    "duration": 24,
    "start_time": "2022-11-03T13:13:37.321Z"
   },
   {
    "duration": 14,
    "start_time": "2022-11-03T13:13:37.346Z"
   },
   {
    "duration": 17,
    "start_time": "2022-11-03T13:13:37.363Z"
   },
   {
    "duration": 22,
    "start_time": "2022-11-03T13:13:37.381Z"
   },
   {
    "duration": 244,
    "start_time": "2022-11-03T13:13:37.405Z"
   },
   {
    "duration": 0,
    "start_time": "2022-11-03T13:13:37.651Z"
   },
   {
    "duration": 195,
    "start_time": "2022-11-03T13:13:44.397Z"
   },
   {
    "duration": 345,
    "start_time": "2022-11-03T13:34:23.334Z"
   },
   {
    "duration": 75,
    "start_time": "2022-11-03T13:47:57.547Z"
   },
   {
    "duration": 71,
    "start_time": "2022-11-03T13:47:59.317Z"
   }
  ],
  "colab": {
   "name": "dpp_template_part2.ipynb",
   "provenance": []
  },
  "kernelspec": {
   "display_name": "Python 3 (ipykernel)",
   "language": "python",
   "name": "python3"
  },
  "language_info": {
   "codemirror_mode": {
    "name": "ipython",
    "version": 3
   },
   "file_extension": ".py",
   "mimetype": "text/x-python",
   "name": "python",
   "nbconvert_exporter": "python",
   "pygments_lexer": "ipython3",
   "version": "3.9.12"
  },
  "toc": {
   "base_numbering": 1,
   "nav_menu": {},
   "number_sections": true,
   "sideBar": true,
   "skip_h1_title": true,
   "title_cell": "Table of Contents",
   "title_sidebar": "Contents",
   "toc_cell": false,
   "toc_position": {},
   "toc_section_display": true,
   "toc_window_display": false
  }
 },
 "nbformat": 4,
 "nbformat_minor": 5
}
