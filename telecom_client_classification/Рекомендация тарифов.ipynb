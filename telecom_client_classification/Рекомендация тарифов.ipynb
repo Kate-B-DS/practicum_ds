{
 "cells": [
  {
   "cell_type": "markdown",
   "id": "ef2ea19f",
   "metadata": {
    "toc": true
   },
   "source": [
    "<h1>Содержание<span class=\"tocSkip\"></span></h1>\n",
    "<div class=\"toc\"><ul class=\"toc-item\"><li><span><a href=\"#Импорт-и-изучение-данных\" data-toc-modified-id=\"Импорт-и-изучение-данных-1\"><span class=\"toc-item-num\">1&nbsp;&nbsp;</span>Импорт и изучение данных</a></span></li><li><span><a href=\"#Деление-данных-на-выборки\" data-toc-modified-id=\"Деление-данных-на-выборки-2\"><span class=\"toc-item-num\">2&nbsp;&nbsp;</span>Деление данных на выборки</a></span></li><li><span><a href=\"#Исследование-моделей\" data-toc-modified-id=\"Исследование-моделей-3\"><span class=\"toc-item-num\">3&nbsp;&nbsp;</span>Исследование моделей</a></span><ul class=\"toc-item\"><li><span><a href=\"#Проверка-точности-моделей-с-параметрами-&quot;по-умолчанию&quot;-на-валидационной-выборке\" data-toc-modified-id=\"Проверка-точности-моделей-с-параметрами-&quot;по-умолчанию&quot;-на-валидационной-выборке-3.1\"><span class=\"toc-item-num\">3.1&nbsp;&nbsp;</span>Проверка точности моделей с параметрами \"по умолчанию\" на валидационной выборке</a></span></li><li><span><a href=\"#Подбор-гиперпараметров-Решающего-дерева\" data-toc-modified-id=\"Подбор-гиперпараметров-Решающего-дерева-3.2\"><span class=\"toc-item-num\">3.2&nbsp;&nbsp;</span>Подбор гиперпараметров Решающего дерева</a></span></li><li><span><a href=\"#Подбор-гиперпараметров-Случайного-леса\" data-toc-modified-id=\"Подбор-гиперпараметров-Случайного-леса-3.3\"><span class=\"toc-item-num\">3.3&nbsp;&nbsp;</span>Подбор гиперпараметров Случайного леса</a></span></li><li><span><a href=\"#Подбор-гиперпараметиров-Логистической-регрессии\" data-toc-modified-id=\"Подбор-гиперпараметиров-Логистической-регрессии-3.4\"><span class=\"toc-item-num\">3.4&nbsp;&nbsp;</span>Подбор гиперпараметиров Логистической регрессии</a></span></li></ul></li><li><span><a href=\"#Проверка-лучшей-модели-на-тестовой-выборке\" data-toc-modified-id=\"Проверка-лучшей-модели-на-тестовой-выборке-4\"><span class=\"toc-item-num\">4&nbsp;&nbsp;</span>Проверка лучшей модели на тестовой выборке</a></span></li><li><span><a href=\"#Проверка-модели-на-адекватность\" data-toc-modified-id=\"Проверка-модели-на-адекватность-5\"><span class=\"toc-item-num\">5&nbsp;&nbsp;</span>Проверка модели на адекватность</a></span></li><li><span><a href=\"#Общий-вывод\" data-toc-modified-id=\"Общий-вывод-6\"><span class=\"toc-item-num\">6&nbsp;&nbsp;</span>Общий вывод</a></span></li></ul></div>"
   ]
  },
  {
   "cell_type": "markdown",
   "id": "3ca6e46a",
   "metadata": {},
   "source": [
    "# Рекомендация тарифов"
   ]
  },
  {
   "cell_type": "markdown",
   "id": "9d6e28db",
   "metadata": {},
   "source": [
    "**Описание проекта:**\n",
    "В ходе выполнения проекта предлагается решить задачу классификации с учителем.</br> Суть обучения модели - научить определять, какой тариф предпочтет новый пользователь на основании существующих данных о других клиентах.</br>\n",
    "Тарифов два: \"Ультра\" и \"Смарт\" от оператора мобильной связи \"Мегалайн\". \n",
    "В качестве исходных данный есть датасет с информацией о пользователях, уже перешедших на эти тарифы.\n",
    "</br>В ходе проекта мы выберем и обучим подходящую модель для задачи классификации и доведем ее точность (Accuracy) не менее, чем до 0.75."
   ]
  },
  {
   "cell_type": "markdown",
   "id": "d1971e2b",
   "metadata": {},
   "source": [
    "## Импорт и изучение данных"
   ]
  },
  {
   "cell_type": "code",
   "execution_count": 19,
   "id": "8b099183",
   "metadata": {
    "ExecuteTime": {
     "end_time": "2023-10-15T12:31:33.354102Z",
     "start_time": "2023-10-15T12:31:33.341103Z"
    }
   },
   "outputs": [],
   "source": [
    "import pandas as pd\n",
    "from sklearn.tree import DecisionTreeClassifier\n",
    "from sklearn.ensemble import RandomForestClassifier\n",
    "from sklearn.linear_model import LogisticRegression\n",
    "from sklearn.dummy import DummyClassifier\n",
    "\n",
    "\n",
    "from sklearn.metrics import accuracy_score\n",
    "from sklearn.model_selection import train_test_split"
   ]
  },
  {
   "cell_type": "markdown",
   "id": "00905fe4",
   "metadata": {
    "ExecuteTime": {
     "end_time": "2023-10-15T12:15:03.738193Z",
     "start_time": "2023-10-15T12:15:03.050584Z"
    }
   },
   "source": [
    "Импорт рабочего датасета не показан в соответствии с политикой конфиденциальности ЯП."
   ]
  },
  {
   "cell_type": "code",
   "execution_count": 2,
   "id": "381b6f58",
   "metadata": {
    "ExecuteTime": {
     "end_time": "2023-10-15T12:15:03.768943Z",
     "start_time": "2023-10-15T12:15:03.739239Z"
    }
   },
   "outputs": [
    {
     "name": "stdout",
     "output_type": "stream",
     "text": [
      "      calls  minutes  messages   mb_used  is_ultra\n",
      "1207   57.0   478.31      98.0  30343.76         1\n",
      "1469  115.0   747.58      98.0  12912.97         1\n",
      "2996   67.0   499.29      10.0  23124.48         0\n",
      "698    16.0   105.46       3.0      0.01         1\n",
      "418    15.0    96.36       3.0   2827.29         0\n",
      "1261   80.0   552.33      23.0  18457.85         0\n",
      "508   129.0   909.65      79.0  38939.12         1\n",
      "1687  106.0   713.44      46.0   7093.61         1\n",
      "252    50.0   308.48      51.0  21387.26         0\n",
      "168    50.0   366.78      14.0  18151.86         0\n",
      "(3214, 5)\n",
      "Количесвто явных дубликатов: 0\n",
      "Количесвто пропусков: calls       0\n",
      "minutes     0\n",
      "messages    0\n",
      "mb_used     0\n",
      "is_ultra    0\n",
      "dtype: int64\n"
     ]
    }
   ],
   "source": [
    "#Проверим данные на наличие/отсутствие пропусков и явных дубликатов:\n",
    "print(df.sample(10))\n",
    "print(df.shape)\n",
    "print('Количесвто явных дубликатов:', df.duplicated().sum())\n",
    "print('Количесвто пропусков:', df.isna().sum())\n"
   ]
  },
  {
   "cell_type": "markdown",
   "id": "a1e58150",
   "metadata": {},
   "source": [
    "**Вывод:** импортировали данные, посмотрели общую структуру данных. В результате проверки проблемы\n",
    "    в данных (пропуски и явные дубликаты) обнаружены не были. Можно продолжить работу дальше."
   ]
  },
  {
   "cell_type": "markdown",
   "id": "732aae6a",
   "metadata": {},
   "source": [
    "## Деление данных на выборки"
   ]
  },
  {
   "cell_type": "code",
   "execution_count": 3,
   "id": "c19d8bba",
   "metadata": {
    "ExecuteTime": {
     "end_time": "2023-10-15T12:15:03.784941Z",
     "start_time": "2023-10-15T12:15:03.770941Z"
    }
   },
   "outputs": [
    {
     "data": {
      "text/plain": [
       "0    0.693528\n",
       "1    0.306472\n",
       "Name: is_ultra, dtype: float64"
      ]
     },
     "execution_count": 3,
     "metadata": {},
     "output_type": "execute_result"
    }
   ],
   "source": [
    "#Посмотрим на распределение классов в целевом признаке is_ultra:\n",
    "df.is_ultra.value_counts(normalize=True)"
   ]
  },
  {
   "cell_type": "markdown",
   "id": "c6a3a366",
   "metadata": {},
   "source": [
    "Видим, что почти 70% - это тариф \"Смарт\" и 30% - тариф \"Ультра\"."
   ]
  },
  {
   "cell_type": "code",
   "execution_count": 4,
   "id": "e89f7ec3",
   "metadata": {
    "ExecuteTime": {
     "end_time": "2023-10-15T12:15:03.801021Z",
     "start_time": "2023-10-15T12:15:03.785941Z"
    }
   },
   "outputs": [],
   "source": [
    "#Разобъем данные на 3 выборки обучающую, тестовую и валидационную:\n",
    "df_train, df_intermediate = train_test_split(df, test_size=0.4, random_state=12345)\n",
    "\n",
    "df_test, df_valid = train_test_split(df_intermediate, test_size =0.5, random_state=12345)"
   ]
  },
  {
   "cell_type": "markdown",
   "id": "cd1e30b6",
   "metadata": {},
   "source": [
    "После разбиения общего датафрейма на выборки, целесообразно проверить их размеры:\n"
   ]
  },
  {
   "cell_type": "code",
   "execution_count": 5,
   "id": "2c1f9021",
   "metadata": {
    "ExecuteTime": {
     "end_time": "2023-10-15T12:15:03.817021Z",
     "start_time": "2023-10-15T12:15:03.802022Z"
    }
   },
   "outputs": [
    {
     "name": "stdout",
     "output_type": "stream",
     "text": [
      "Размер обучающей выборки составляет: 60.0%\n",
      "Размер валидационной выборки составляет: 20.0%\n",
      "Размер тестовой выборки составляет: 20.0%\n"
     ]
    }
   ],
   "source": [
    "print(f'Размер обучающей выборки составляет: {df_train.shape[0] / len(df):.1%}')\n",
    "print(f'Размер валидационной выборки составляет: {df_valid.shape[0] / len(df):.1%}')\n",
    "print(f'Размер тестовой выборки составляет: {df_test.shape[0] / len(df):.1%}')"
   ]
  },
  {
   "cell_type": "markdown",
   "id": "24261ef9",
   "metadata": {},
   "source": [
    "Видим, что пропорции выборок соответствуют 3:1:1. Следовательно все готово для дальнейшего решения задачи."
   ]
  },
  {
   "cell_type": "code",
   "execution_count": 6,
   "id": "11612b9f",
   "metadata": {
    "ExecuteTime": {
     "end_time": "2023-10-15T12:15:03.833162Z",
     "start_time": "2023-10-15T12:15:03.818021Z"
    }
   },
   "outputs": [],
   "source": [
    "#Создадим переменные для признаков и для целевого признака для каждой из получившихся выборок: \n",
    "\n",
    "features_train = df_train.drop(['is_ultra'], axis=1)\n",
    "target_train = df_train['is_ultra']\n",
    "\n",
    "features_valid = df_valid.drop(['is_ultra'], axis=1)\n",
    "target_valid = df_valid['is_ultra']\n",
    "\n",
    "features_test = df_test.drop(['is_ultra'], axis=1)\n",
    "target_test = df_test['is_ultra']\n"
   ]
  },
  {
   "cell_type": "markdown",
   "id": "2075aad6",
   "metadata": {},
   "source": [
    "## Исследование моделей "
   ]
  },
  {
   "cell_type": "markdown",
   "id": "3afb7082",
   "metadata": {},
   "source": [
    "### Проверка точности моделей с параметрами \"по умолчанию\" на валидационной выборке"
   ]
  },
  {
   "cell_type": "code",
   "execution_count": 15,
   "id": "316e953f",
   "metadata": {
    "ExecuteTime": {
     "end_time": "2023-10-15T12:22:34.427986Z",
     "start_time": "2023-10-15T12:22:34.155125Z"
    },
    "scrolled": false
   },
   "outputs": [
    {
     "name": "stdout",
     "output_type": "stream",
     "text": [
      "Accuracy модели `random forest` на валидационной выборке: 0.79\n",
      "Accuracy модели `logistic regression` на валидационной выборке: 0.68\n",
      "Accuracy модели `desigion tree` на валидационной выборке: 0.73\n"
     ]
    }
   ],
   "source": [
    "# Найдем качество моделей решающего дерева, случайного леса и логистической регрессии на валидационной\n",
    "# выборке с гиперпараметрами \"по умолчанию\" \n",
    "\n",
    "model_forest = RandomForestClassifier(random_state=12345)\n",
    "model_forest.fit(features_train, target_train)\n",
    "predictions = model_forest.predict(features_valid)\n",
    "accuracy = accuracy_score(target_valid, predictions)\n",
    "print('Accuracy модели `random forest` на валидационной выборке:', round(accuracy, 2))\n",
    "\n",
    "model_logistic = LogisticRegression(random_state=12345)\n",
    "model_logistic.fit(features_train, target_train)\n",
    "predictions = model_logistic.predict(features_valid)\n",
    "accuracy = accuracy_score(target_valid, predictions)\n",
    "print('Accuracy модели `logistic regression` на валидационной выборке:', round(accuracy, 2))\n",
    "\n",
    "model_tree = DecisionTreeClassifier(random_state=12345)\n",
    "model_tree.fit(features_train, target_train)\n",
    "predictions = model_tree.predict(features_valid)\n",
    "accuracy = accuracy_score(target_valid, predictions)\n",
    "print('Accuracy модели `desigion tree` на валидационной выборке:', round(accuracy, 2))\n",
    "\n"
   ]
  },
  {
   "cell_type": "markdown",
   "id": "32e642c1",
   "metadata": {},
   "source": [
    "**Вывод:** Самая низкая точность на валидационной выборке у модели Логистической регрессии, а самая высокая - у Решающего дерева.\n",
    "Посмотрим, как поведут себя модели при сообщении им гиперпараметров, отличных от default."
   ]
  },
  {
   "cell_type": "markdown",
   "id": "7d91276d",
   "metadata": {},
   "source": [
    "### Подбор гиперпараметров Решающего дерева "
   ]
  },
  {
   "cell_type": "code",
   "execution_count": 13,
   "id": "54005213",
   "metadata": {
    "ExecuteTime": {
     "end_time": "2023-10-15T12:21:49.688274Z",
     "start_time": "2023-10-15T12:21:49.627729Z"
    }
   },
   "outputs": [
    {
     "name": "stdout",
     "output_type": "stream",
     "text": [
      "Лучшая модель: DecisionTreeClassifier(max_depth=7, random_state=12345)  с наилучшим качеством: 0.8\n"
     ]
    }
   ],
   "source": [
    "#Найдем точность предсказания решающего дерева для разного значения max_depth от 1 до 10:\n",
    "\n",
    "best_model = None\n",
    "best_accuracy = 0\n",
    "\n",
    "for depth in range(1, 11):\n",
    "    model = DecisionTreeClassifier(random_state = 12345, max_depth=depth) #Инициализация модели решающего дерева\n",
    "    model.fit(features_train, target_train) # ОБучаем модель на тренировочной выборке\n",
    "    \n",
    "    predictions_valid = model.predict(features_valid) #модель предсказывает на валидационной выборке\n",
    "    accuracy = accuracy_score(target_valid, predictions_valid)\n",
    "    \n",
    "    if accuracy > best_accuracy:\n",
    "        best_model = model\n",
    "        best_accuracy = accuracy\n",
    "    \n",
    "\n",
    "print('Лучшая модель:', best_model,'', 'с наилучшим качеством:', round(best_accuracy, 2))\n"
   ]
  },
  {
   "cell_type": "markdown",
   "id": "8c45de82",
   "metadata": {},
   "source": [
    "### Подбор гиперпараметров Случайного леса "
   ]
  },
  {
   "cell_type": "code",
   "execution_count": 18,
   "id": "a3a8978a",
   "metadata": {
    "ExecuteTime": {
     "end_time": "2023-10-15T12:25:01.215474Z",
     "start_time": "2023-10-15T12:25:00.314346Z"
    }
   },
   "outputs": [
    {
     "name": "stdout",
     "output_type": "stream",
     "text": [
      "Лучшая модель = RandomForestClassifier(max_depth=10, n_estimators=7, random_state=12345)\n",
      "Лучшая accuracy = 0.81\n",
      "RandomForestClassifier(max_depth=10, n_estimators=7, random_state=12345)\n"
     ]
    }
   ],
   "source": [
    "# Случайный лес помогает улучшить результат предсказания и избежать переобучения\n",
    "# Обучим модели случайного леса с количеством деревьев от 1 до 10:\n",
    "# При max_depth от 1 до 10:\n",
    "\n",
    "best_model = None\n",
    "best_accuracy = 0\n",
    "\n",
    "for est in range(1, 11):\n",
    "    for depth in range(1, 11):\n",
    "        model = RandomForestClassifier(random_state = 12345, max_depth = depth, n_estimators = est) #Инициализация модели случайного леса \n",
    "        model.fit(features_train, target_train)\n",
    "        predictions_valid = model.predict(features_valid) #предсказание модели на валидационной выборке\n",
    "        accuracy = accuracy_score(target_valid, predictions_valid) #расчет точности на валидационной выборке\n",
    "    \n",
    "    if accuracy > best_accuracy :\n",
    "        best_model = model\n",
    "        best_accuracy = accuracy\n",
    "        \n",
    "print('Лучшая модель =', best_model)\n",
    "print('Лучшая accuracy =',round(best_accuracy, 2))\n",
    "\n",
    "\n",
    "\n",
    "#Сохраним лучшую модель random forest:\n",
    "best_model_rf = best_model\n",
    "print(best_model_rf)\n",
    " "
   ]
  },
  {
   "cell_type": "markdown",
   "id": "d28e9607",
   "metadata": {},
   "source": [
    "### Подбор гиперпараметиров Логистической регрессии "
   ]
  },
  {
   "cell_type": "code",
   "execution_count": 17,
   "id": "7c55b9b7",
   "metadata": {
    "ExecuteTime": {
     "end_time": "2023-10-15T12:24:19.218990Z",
     "start_time": "2023-10-15T12:24:19.053067Z"
    }
   },
   "outputs": [
    {
     "name": "stdout",
     "output_type": "stream",
     "text": [
      "Лучшая модель = LogisticRegression(max_iter=1100, random_state=12345)\n",
      "Лучшая accuracy = 0.68\n"
     ]
    }
   ],
   "source": [
    "best_model = None #Лучшая модель\n",
    "best_accuracy = 0 #Лучшая точность модели \n",
    "\n",
    "for it in range(100, 1101, 50):\n",
    "    model = LogisticRegression(random_state=12345, solver='lbfgs', max_iter=it)\n",
    "    model.fit(features_train, target_train)\n",
    "    predictions_valid = model.predict(features_valid) #предсказание модели на валидационной выборке\n",
    "    accuracy = accuracy_score(target_valid, predictions_valid) #расчет точности на валидационной выборке\n",
    "    \n",
    "if accuracy > best_accuracy :\n",
    "        best_model = model\n",
    "        best_accuracy = accuracy    \n",
    "    \n",
    "print('Лучшая модель =', best_model)\n",
    "print('Лучшая accuracy =',round(best_accuracy, 2))\n"
   ]
  },
  {
   "cell_type": "markdown",
   "id": "8187a193",
   "metadata": {},
   "source": [
    "**Вывод:** Лучшая точность на валидационной выборке 0.81 - у модели Случайного леса и она выше требуемой в задании точности 0,75.\n",
    "    Поэтому будем использовать ее, а остальные модели нас более не интересуют."
   ]
  },
  {
   "cell_type": "markdown",
   "id": "9587ca96",
   "metadata": {},
   "source": [
    "## Проверка лучшей модели на тестовой выборке"
   ]
  },
  {
   "cell_type": "code",
   "execution_count": 16,
   "id": "8812b9e0",
   "metadata": {
    "ExecuteTime": {
     "end_time": "2023-10-15T12:23:29.018671Z",
     "start_time": "2023-10-15T12:23:28.978636Z"
    }
   },
   "outputs": [
    {
     "name": "stdout",
     "output_type": "stream",
     "text": [
      "   calls  minutes  messages   mb_used  is_ultra\n",
      "0   60.0   431.56      26.0  14751.26         0\n",
      "1   33.0   265.17      59.0  17398.02         0\n",
      "2   52.0   341.83      68.0  15462.38         0\n",
      "3   42.0   226.18      21.0  13243.48         0\n",
      "4   30.0   198.42       0.0   8189.53         0\n",
      "5   68.0   403.58      28.0  19210.63         0\n",
      "6   48.0   346.19     103.0  27346.62         1\n",
      "7    0.0     0.00      29.0  21289.28         1\n",
      "8   87.0   500.78      63.0  26115.19         0\n",
      "9   31.0   269.94      48.0  13340.59         0\n",
      "Accuracy лучшей модели случайного дерева на тестовой выборке:  0.79\n"
     ]
    }
   ],
   "source": [
    "#Проверим модель Случайного леса на тестовой выборке:\n",
    "\n",
    "# Сейчас, когда гиперпараметры подобраны и валидационная выборка уже не нужна, мы можем обучить модель на большой выборке\n",
    "# (обучающая + валидационная), а тестирование новой модели произвести уже на тестовой выборке.\n",
    "\n",
    "# Объединим выборки с помощью pd.concat\n",
    "\n",
    "df_concat = pd.concat([df_train, df_valid], ignore_index=True)\n",
    "print(df_concat.head(10))\n",
    "\n",
    "df_concat_features = df_concat.drop(['is_ultra'], axis=1)\n",
    "df_concat_target = df_concat['is_ultra']\n",
    "\n",
    "best_model_rf.fit(df_concat_features, df_concat_target) #Обучение лучшей модели на большой выборке \n",
    "\n",
    "\n",
    "print('Accuracy лучшей модели случайного дерева на тестовой выборке: ',round(best_model_rf.score(features_test, target_test),2))"
   ]
  },
  {
   "cell_type": "markdown",
   "id": "64124a24",
   "metadata": {},
   "source": [
    "**Вывод:** Точность модели случайного леса составляет 0.79, что больше требуемой 0,75."
   ]
  },
  {
   "cell_type": "markdown",
   "id": "1cebc4a6",
   "metadata": {},
   "source": [
    "## Проверка модели на адекватность"
   ]
  },
  {
   "cell_type": "markdown",
   "id": "c0728efd",
   "metadata": {},
   "source": [
    "Проведем проверку выбранной модели на адекватность с помощью классификатора DummyClassifier из библиотеки scikit-learn:"
   ]
  },
  {
   "cell_type": "code",
   "execution_count": 21,
   "id": "1f6303ec",
   "metadata": {
    "ExecuteTime": {
     "end_time": "2023-10-15T12:45:45.472644Z",
     "start_time": "2023-10-15T12:45:45.453644Z"
    }
   },
   "outputs": [
    {
     "name": "stdout",
     "output_type": "stream",
     "text": [
      "Accuracy случайной модели на тестовой выборке:  0.56\n"
     ]
    }
   ],
   "source": [
    "clf = DummyClassifier(strategy='stratified')\n",
    "\n",
    "\n",
    "# обучение дамми-модели на большой выборке: \n",
    "clf.fit(df_concat_features, df_concat_target)\n",
    "\n",
    "print('Accuracy случайной модели на тестовой выборке: ', \\\n",
    "      round(clf.score(features_test, target_test),2))"
   ]
  },
  {
   "cell_type": "markdown",
   "id": "5b90a3c4",
   "metadata": {},
   "source": [
    "Видим, что точность случайной модели на тестовой выборке = 0,56, что сильно отличается от точности нашей выбранной модели. Это говорит, что наша модель адекватна."
   ]
  },
  {
   "cell_type": "markdown",
   "id": "4953ab3b",
   "metadata": {},
   "source": [
    "## Общий вывод"
   ]
  },
  {
   "cell_type": "markdown",
   "id": "70685236",
   "metadata": {},
   "source": [
    "В ходе поиска лучшей модели классификации для предсказания выбора тарифа клиентом, было сделано следующее: \n",
    "\n",
    "- Загрузили и исследовали датасет на пропуски и дубликаты.\n",
    "- Разделили датасет на тренировочную, валидационную и тестовую выборку в пропорции 3:1:1.\n",
    "- Исследовали точность моделей Решающего дерева, Случайного леса и Логистической регрессии на валидационной выборке.\n",
    "- Провели подбор гиперпараметров моделей. \n",
    "- Лучшей моделью оказалась модель Случайного леса с  accuracy = 0,79 (что больше заявленного 0,75) на тестовой выборке.\n",
    "- Проверили лучшую модель на адекватность c использованием DummyClassifier.\n"
   ]
  }
 ],
 "metadata": {
  "ExecuteTimeLog": [
   {
    "duration": 1965,
    "start_time": "2023-02-11T06:30:35.179Z"
   },
   {
    "duration": 7,
    "start_time": "2023-02-11T06:30:37.146Z"
   },
   {
    "duration": 16,
    "start_time": "2023-02-11T06:30:37.155Z"
   },
   {
    "duration": 476,
    "start_time": "2023-02-11T06:30:37.173Z"
   },
   {
    "duration": 71,
    "start_time": "2023-02-11T06:30:37.653Z"
   },
   {
    "duration": 1800,
    "start_time": "2023-02-11T06:30:37.738Z"
   },
   {
    "duration": 424,
    "start_time": "2023-02-11T06:30:39.540Z"
   },
   {
    "duration": 43,
    "start_time": "2023-02-11T06:30:39.966Z"
   },
   {
    "duration": 32,
    "start_time": "2023-02-11T06:30:40.012Z"
   }
  ],
  "kernelspec": {
   "display_name": "Python 3 (ipykernel)",
   "language": "python",
   "name": "python3"
  },
  "language_info": {
   "codemirror_mode": {
    "name": "ipython",
    "version": 3
   },
   "file_extension": ".py",
   "mimetype": "text/x-python",
   "name": "python",
   "nbconvert_exporter": "python",
   "pygments_lexer": "ipython3",
   "version": "3.9.12"
  },
  "toc": {
   "base_numbering": 1,
   "nav_menu": {},
   "number_sections": true,
   "sideBar": true,
   "skip_h1_title": true,
   "title_cell": "Содержание",
   "title_sidebar": "Contents",
   "toc_cell": true,
   "toc_position": {
    "height": "612.719px",
    "left": "21px",
    "top": "0px",
    "width": "314.438px"
   },
   "toc_section_display": true,
   "toc_window_display": true
  }
 },
 "nbformat": 4,
 "nbformat_minor": 5
}
